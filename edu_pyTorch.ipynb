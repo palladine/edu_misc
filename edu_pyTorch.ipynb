{
 "cells": [
  {
   "cell_type": "markdown",
   "id": "ddd54383",
   "metadata": {},
   "source": [
    "### **Основные модули PyTorch:**\n",
    "* torch.nn\n",
    "    * torch.nn.DataParallel\n",
    "* torch.distributed\n",
    "* torch.optim\n",
    "* torch.utils\n",
    "    * torch.utils.data\n",
    "        * Классы: DataSet, DataLoader\n",
    "* torch.autograd\n",
    "* torchvision"
   ]
  },
  {
   "cell_type": "code",
   "execution_count": 2,
   "id": "43fda3a8",
   "metadata": {},
   "outputs": [],
   "source": [
    "%matplotlib inline\n",
    "import matplotlib\n",
    "import numpy as np\n",
    "import matplotlib.pyplot as plt"
   ]
  },
  {
   "cell_type": "code",
   "execution_count": 3,
   "id": "d0e25f87",
   "metadata": {},
   "outputs": [
    {
     "data": {
      "text/plain": [
       "'1.10.2'"
      ]
     },
     "execution_count": 3,
     "metadata": {},
     "output_type": "execute_result"
    }
   ],
   "source": [
    "import torch\n",
    "torch.__version__"
   ]
  },
  {
   "cell_type": "markdown",
   "id": "e225f7d8",
   "metadata": {},
   "source": [
    "### **Тензоры**"
   ]
  },
  {
   "cell_type": "code",
   "execution_count": 4,
   "id": "59e43311",
   "metadata": {},
   "outputs": [
    {
     "name": "stdout",
     "output_type": "stream",
     "text": [
      "tensor(7)\n"
     ]
    }
   ],
   "source": [
    "a = torch.tensor(7) # скаляр, 0-dimensions\n",
    "print(a)"
   ]
  },
  {
   "cell_type": "code",
   "execution_count": 38,
   "id": "6dc19aa8",
   "metadata": {},
   "outputs": [
    {
     "name": "stdout",
     "output_type": "stream",
     "text": [
      "9\n"
     ]
    }
   ],
   "source": [
    "a2 = torch.tensor(9).item()  # получение значения скаляра\n",
    "print(a2)"
   ]
  },
  {
   "cell_type": "code",
   "execution_count": 5,
   "id": "09141032",
   "metadata": {},
   "outputs": [
    {
     "name": "stdout",
     "output_type": "stream",
     "text": [
      "tensor([1, 3, 5, 7])\n"
     ]
    }
   ],
   "source": [
    "b = torch.tensor([1,3,5,7]) # 1-dimension\n",
    "print(b)"
   ]
  },
  {
   "cell_type": "code",
   "execution_count": 6,
   "id": "e9dd25bf",
   "metadata": {},
   "outputs": [
    {
     "name": "stdout",
     "output_type": "stream",
     "text": [
      "tensor([[1, 3, 5, 7, 9],\n",
      "        [2, 4, 6, 8, 0]])\n"
     ]
    }
   ],
   "source": [
    "c = torch.tensor([[1,3,5,7,9], [2,4,6,8,0]]) # 2-dimensions\n",
    "print(c)"
   ]
  },
  {
   "cell_type": "code",
   "execution_count": 7,
   "id": "b57c1131",
   "metadata": {},
   "outputs": [
    {
     "name": "stdout",
     "output_type": "stream",
     "text": [
      "tensor([[[ 1,  2,  3],\n",
      "         [ 4,  5,  6]],\n",
      "\n",
      "        [[11, 12, 13],\n",
      "         [14, 15, 16]]])\n"
     ]
    }
   ],
   "source": [
    "d = torch.tensor([[[1,2,3],[4,5,6]],[[11,12,13],[14,15,16]]]) # 3-dimensions\n",
    "print(d)"
   ]
  },
  {
   "cell_type": "code",
   "execution_count": 8,
   "id": "11635714",
   "metadata": {},
   "outputs": [
    {
     "name": "stdout",
     "output_type": "stream",
     "text": [
      "tensor([1., 1., 1., 1.])\n"
     ]
    }
   ],
   "source": [
    "a = torch.ones(4)\n",
    "print(a)"
   ]
  },
  {
   "cell_type": "code",
   "execution_count": 9,
   "id": "68728f2e",
   "metadata": {},
   "outputs": [
    {
     "name": "stdout",
     "output_type": "stream",
     "text": [
      "tensor([0., 0., 0., 0., 0., 0.])\n"
     ]
    }
   ],
   "source": [
    "b = torch.zeros(6)\n",
    "print(b)"
   ]
  },
  {
   "cell_type": "code",
   "execution_count": 40,
   "id": "16991e36",
   "metadata": {},
   "outputs": [
    {
     "name": "stdout",
     "output_type": "stream",
     "text": [
      "tensor([1, 2, 3, 4, 5])\n"
     ]
    }
   ],
   "source": [
    "c = torch.tensor([1,2,3,4,5])\n",
    "print(c)"
   ]
  },
  {
   "cell_type": "code",
   "execution_count": 11,
   "id": "be899c3f",
   "metadata": {},
   "outputs": [
    {
     "name": "stdout",
     "output_type": "stream",
     "text": [
      "tensor([[0.0373, 0.5573],\n",
      "        [0.3250, 0.7951]])\n"
     ]
    }
   ],
   "source": [
    "d1 = torch.rand(2,2) # тензор случайных чисел размерности 2x2\n",
    "print(d1)"
   ]
  },
  {
   "cell_type": "code",
   "execution_count": 12,
   "id": "71aa0bc9",
   "metadata": {},
   "outputs": [
    {
     "name": "stdout",
     "output_type": "stream",
     "text": [
      "tensor([[ 1.6478,  0.9908,  0.6877],\n",
      "        [-3.0446, -1.5172, -0.3388],\n",
      "        [ 1.9928, -1.2252,  1.8098]])\n"
     ]
    }
   ],
   "source": [
    "d = torch.randn(3,3)   # тензор случайных чисел (нормальное распределение) размерности 3x3\n",
    "print(d)"
   ]
  },
  {
   "cell_type": "code",
   "execution_count": 13,
   "id": "01c5c744",
   "metadata": {},
   "outputs": [
    {
     "name": "stdout",
     "output_type": "stream",
     "text": [
      "tensor([10.0000, 11.4286, 12.8571, 14.2857, 15.7143, 17.1429, 18.5714, 20.0000,\n",
      "        21.4286, 22.8571, 24.2857, 25.7143, 27.1429, 28.5714, 30.0000])\n"
     ]
    }
   ],
   "source": [
    "e = torch.linspace(10,30,15)  # тензор от 10 до 30 из 15 чисел, между числами равное расстояние\n",
    "print(e)"
   ]
  },
  {
   "cell_type": "code",
   "execution_count": 14,
   "id": "75ac9e3d",
   "metadata": {},
   "outputs": [
    {
     "name": "stdout",
     "output_type": "stream",
     "text": [
      "tensor([[[1., 1., 1., 1., 1.],\n",
      "         [1., 1., 1., 1., 1.],\n",
      "         [1., 1., 1., 1., 1.]],\n",
      "\n",
      "        [[1., 1., 1., 1., 1.],\n",
      "         [1., 1., 1., 1., 1.],\n",
      "         [1., 1., 1., 1., 1.]]])\n"
     ]
    }
   ],
   "source": [
    "a = torch.ones(2,3,5)  # размерность 2x3x5\n",
    "print(a) "
   ]
  },
  {
   "cell_type": "code",
   "execution_count": 15,
   "id": "8e60af2d",
   "metadata": {},
   "outputs": [
    {
     "name": "stdout",
     "output_type": "stream",
     "text": [
      "tensor([[1., 0., 0., 0., 0.],\n",
      "        [0., 1., 0., 0., 0.],\n",
      "        [0., 0., 1., 0., 0.],\n",
      "        [0., 0., 0., 1., 0.],\n",
      "        [0., 0., 0., 0., 1.]])\n"
     ]
    }
   ],
   "source": [
    "i = torch.eye(5)   # матрица идентичности\n",
    "print(i)"
   ]
  },
  {
   "cell_type": "code",
   "execution_count": 16,
   "id": "90aee9eb",
   "metadata": {},
   "outputs": [],
   "source": [
    "a = torch.tensor([[[1,2,3,4,5],[6,7,8,9,10],[11,12,13,14,15]],[[21,22,23,24,25],[26,27,28,29,30],[31,32,33,34,35]]])"
   ]
  },
  {
   "cell_type": "code",
   "execution_count": 17,
   "id": "58e859f0",
   "metadata": {},
   "outputs": [
    {
     "name": "stdout",
     "output_type": "stream",
     "text": [
      "torch.Size([2, 3, 5])\n"
     ]
    }
   ],
   "source": [
    "print(a.shape)  # размерность тензора"
   ]
  },
  {
   "cell_type": "code",
   "execution_count": 57,
   "id": "fe2b681b",
   "metadata": {},
   "outputs": [
    {
     "name": "stdout",
     "output_type": "stream",
     "text": [
      "tensor([[1, 2, 3],\n",
      "        [4, 5, 6]])\n",
      "tensor([[1, 2, 3, 4, 5, 6]])\n"
     ]
    }
   ],
   "source": [
    "r = torch.tensor([[1, 2, 3], [4, 5, 6]])\n",
    "print(r)\n",
    "print(r.reshape(1, 6))   # изменение размерностей"
   ]
  },
  {
   "cell_type": "code",
   "execution_count": 58,
   "id": "400e237b",
   "metadata": {},
   "outputs": [
    {
     "name": "stdout",
     "output_type": "stream",
     "text": [
      "tensor([[1, 2],\n",
      "        [3, 4],\n",
      "        [5, 6]])\n"
     ]
    }
   ],
   "source": [
    "print(r.reshape(-1, 2))  # -1 указывает на авто подбор количества элементов в первой размерности, сравни пример ниже!"
   ]
  },
  {
   "cell_type": "code",
   "execution_count": 59,
   "id": "f98f8962",
   "metadata": {},
   "outputs": [
    {
     "ename": "RuntimeError",
     "evalue": "shape '[1, 2]' is invalid for input of size 6",
     "output_type": "error",
     "traceback": [
      "\u001b[1;31m---------------------------------------------------------------------------\u001b[0m",
      "\u001b[1;31mRuntimeError\u001b[0m                              Traceback (most recent call last)",
      "\u001b[1;32mC:\\Users\\MAXIM~1.DUR\\AppData\\Local\\Temp/ipykernel_7780/3936626806.py\u001b[0m in \u001b[0;36m<module>\u001b[1;34m\u001b[0m\n\u001b[1;32m----> 1\u001b[1;33m \u001b[0mprint\u001b[0m\u001b[1;33m(\u001b[0m\u001b[0mr\u001b[0m\u001b[1;33m.\u001b[0m\u001b[0mreshape\u001b[0m\u001b[1;33m(\u001b[0m\u001b[1;36m1\u001b[0m\u001b[1;33m,\u001b[0m \u001b[1;36m2\u001b[0m\u001b[1;33m)\u001b[0m\u001b[1;33m)\u001b[0m\u001b[1;33m\u001b[0m\u001b[1;33m\u001b[0m\u001b[0m\n\u001b[0m",
      "\u001b[1;31mRuntimeError\u001b[0m: shape '[1, 2]' is invalid for input of size 6"
     ]
    }
   ],
   "source": [
    "print(r.reshape(1, 2))   # здесь ошибка, 1 - явно указана первая размерность, итог (1*2 = 2 элемента) должно быть 6!"
   ]
  },
  {
   "cell_type": "code",
   "execution_count": 18,
   "id": "fbe042cb",
   "metadata": {},
   "outputs": [
    {
     "name": "stdout",
     "output_type": "stream",
     "text": [
      "tensor(3)\n"
     ]
    }
   ],
   "source": [
    "print(c[2])"
   ]
  },
  {
   "cell_type": "code",
   "execution_count": 19,
   "id": "f47de6c5",
   "metadata": {},
   "outputs": [
    {
     "name": "stdout",
     "output_type": "stream",
     "text": [
      "tensor([[21, 22, 23, 24, 25],\n",
      "        [26, 27, 28, 29, 30],\n",
      "        [31, 32, 33, 34, 35]])\n"
     ]
    }
   ],
   "source": [
    "print(a[1])"
   ]
  },
  {
   "cell_type": "code",
   "execution_count": 20,
   "id": "e17a5e71",
   "metadata": {},
   "outputs": [
    {
     "name": "stdout",
     "output_type": "stream",
     "text": [
      "tensor(25)\n"
     ]
    }
   ],
   "source": [
    "print(a[1,0,4])"
   ]
  },
  {
   "cell_type": "code",
   "execution_count": 21,
   "id": "2518d538",
   "metadata": {},
   "outputs": [
    {
     "name": "stdout",
     "output_type": "stream",
     "text": [
      "tensor([[[ 1,  2,  3,  4,  5],\n",
      "         [ 6,  7,  8,  9, 10],\n",
      "         [11, 12, 13, 14, 15]],\n",
      "\n",
      "        [[21, 22, 23, 24, 25],\n",
      "         [26, 27, 28, 29, 30],\n",
      "         [31, 32, 33, 34, 35]]])\n"
     ]
    }
   ],
   "source": [
    "print(a[:])"
   ]
  },
  {
   "cell_type": "code",
   "execution_count": 22,
   "id": "5d15c7b4",
   "metadata": {},
   "outputs": [
    {
     "name": "stdout",
     "output_type": "stream",
     "text": [
      "tensor([[ 8,  9],\n",
      "        [13, 14]])\n"
     ]
    }
   ],
   "source": [
    "print(a[0,1:,2:4])   # срезы для трех размерностей"
   ]
  },
  {
   "cell_type": "code",
   "execution_count": 23,
   "id": "956d2cc4",
   "metadata": {},
   "outputs": [
    {
     "name": "stdout",
     "output_type": "stream",
     "text": [
      "tensor([1., 2., 3., 4., 5.], dtype=torch.float64)\n"
     ]
    }
   ],
   "source": [
    "t = torch.tensor([1,2,3,4,5], dtype=torch.float64)   # указание типа данных\n",
    "print(t)"
   ]
  },
  {
   "cell_type": "code",
   "execution_count": 24,
   "id": "3c73e9ed",
   "metadata": {},
   "outputs": [],
   "source": [
    "t_cpu = torch.tensor([[1.0, 2.0], [3.0, 4.0], [5.0, 6.0]], device='cpu')  # тензор для CPU\n",
    "# tensor_gpu = torch.tensor([[1.0, 2.0], [3.0, 4.0], [5.0, 6.0]], device='cuda')  # тензор для GPU"
   ]
  },
  {
   "cell_type": "markdown",
   "id": "c368bdd8",
   "metadata": {},
   "source": [
    "#### Арифметические операции над тензорами"
   ]
  },
  {
   "cell_type": "code",
   "execution_count": 25,
   "id": "ac7d66cb",
   "metadata": {},
   "outputs": [],
   "source": [
    "t1 = torch.tensor([1,2,3,4,5])\n",
    "t2 = torch.tensor([11,12,13,14,15])"
   ]
  },
  {
   "cell_type": "code",
   "execution_count": 26,
   "id": "48eef99e",
   "metadata": {},
   "outputs": [
    {
     "name": "stdout",
     "output_type": "stream",
     "text": [
      "tensor([12, 14, 16, 18, 20])\n"
     ]
    }
   ],
   "source": [
    "print(t1+t2)"
   ]
  },
  {
   "cell_type": "code",
   "execution_count": 27,
   "id": "bbc6a0ee",
   "metadata": {},
   "outputs": [
    {
     "name": "stdout",
     "output_type": "stream",
     "text": [
      "tensor([10, 10, 10, 10, 10])\n"
     ]
    }
   ],
   "source": [
    "print(t2-t1)"
   ]
  },
  {
   "cell_type": "code",
   "execution_count": 28,
   "id": "cab64157",
   "metadata": {},
   "outputs": [
    {
     "name": "stdout",
     "output_type": "stream",
     "text": [
      "tensor([ 2,  4,  6,  8, 10])\n"
     ]
    }
   ],
   "source": [
    "print(t1*2)"
   ]
  },
  {
   "cell_type": "code",
   "execution_count": 29,
   "id": "0eede43e",
   "metadata": {},
   "outputs": [
    {
     "name": "stdout",
     "output_type": "stream",
     "text": [
      "tensor([[ 5, 10, 15],\n",
      "        [20, 25, 30]])\n"
     ]
    }
   ],
   "source": [
    "t5 = torch.tensor([[1,2,3],[4,5,6]])\n",
    "t6 = torch.tensor(5)\n",
    "print(t5*t6)"
   ]
  },
  {
   "cell_type": "code",
   "execution_count": 30,
   "id": "df46a2d5",
   "metadata": {},
   "outputs": [
    {
     "name": "stdout",
     "output_type": "stream",
     "text": [
      "tensor([3.6667, 4.0000, 4.3333, 4.6667, 5.0000])\n"
     ]
    }
   ],
   "source": [
    "print(t2 / 3)"
   ]
  },
  {
   "cell_type": "code",
   "execution_count": 31,
   "id": "9373c0a2",
   "metadata": {},
   "outputs": [
    {
     "name": "stdout",
     "output_type": "stream",
     "text": [
      "tensor([11.0000,  6.0000,  4.3333,  3.5000,  3.0000])\n"
     ]
    }
   ],
   "source": [
    "print(t2 / t1)"
   ]
  },
  {
   "cell_type": "code",
   "execution_count": 32,
   "id": "c2e190a4",
   "metadata": {},
   "outputs": [
    {
     "name": "stdout",
     "output_type": "stream",
     "text": [
      "tensor([2, 0, 1, 2, 0])\n"
     ]
    }
   ],
   "source": [
    "print(t2 % 3)"
   ]
  },
  {
   "cell_type": "code",
   "execution_count": 33,
   "id": "ebb53370",
   "metadata": {},
   "outputs": [
    {
     "name": "stdout",
     "output_type": "stream",
     "text": [
      "tensor([[ 2,  4,  6,  8, 10],\n",
      "        [ 4,  8, 12, 16, 20],\n",
      "        [ 6, 12, 18, 24, 30],\n",
      "        [ 8, 16, 24, 32, 40],\n",
      "        [ 0,  0,  0,  0,  0]])\n"
     ]
    }
   ],
   "source": [
    "# Умножение матриц\n",
    "t3 = torch.tensor([[2],[4],[6],[8],[0]])\n",
    "t4 = torch.tensor([[1,2,3,4,5]])\n",
    "print(torch.mm(t3, t4))                 # (5x1)*(1x5) = 5x5"
   ]
  },
  {
   "cell_type": "code",
   "execution_count": 34,
   "id": "76d2a178",
   "metadata": {},
   "outputs": [
    {
     "name": "stdout",
     "output_type": "stream",
     "text": [
      "tensor([ 0.8415,  0.9093,  0.1411, -0.7568, -0.9589])\n"
     ]
    }
   ],
   "source": [
    "print(torch.sin(t1))     # также cos, tan"
   ]
  },
  {
   "cell_type": "code",
   "execution_count": 35,
   "id": "44756d42",
   "metadata": {},
   "outputs": [
    {
     "name": "stdout",
     "output_type": "stream",
     "text": [
      "tensor([3.])\n"
     ]
    }
   ],
   "source": [
    "# расчет производной в точке x\n",
    "x = torch.tensor([1.5], requires_grad=True).float()  # точка x, отслеживание градиентов в тензоре \n",
    "y = x**2   # парабола\n",
    "y.backward()\n",
    "print(x.grad)"
   ]
  },
  {
   "cell_type": "code",
   "execution_count": 36,
   "id": "0b67172d",
   "metadata": {},
   "outputs": [
    {
     "data": {
      "text/plain": [
       "[<matplotlib.lines.Line2D at 0x22f6fb83f40>]"
      ]
     },
     "execution_count": 36,
     "metadata": {},
     "output_type": "execute_result"
    },
    {
     "data": {
      "image/png": "[encoded data removed]",
      "text/plain": [
       "<Figure size 432x288 with 1 Axes>"
      ]
     },
     "metadata": {
      "needs_background": "light"
     },
     "output_type": "display_data"
    }
   ],
   "source": [
    "# расчет производной в точках\n",
    "x = torch.linspace(-5,5,100,  requires_grad=True).float()\n",
    "y = x**2\n",
    "xn = x.detach().numpy()\n",
    "yn = xn**2\n",
    "\n",
    "# function\n",
    "fig, ax = plt.subplots()\n",
    "ax.plot(xn, yn)\n",
    "# derivative function\n",
    "y.backward(torch.ones_like(y))\n",
    "xd = x.grad.detach().numpy()\n",
    "ax.plot(xn, xd)"
   ]
  },
  {
   "cell_type": "markdown",
   "id": "e1575fc4",
   "metadata": {},
   "source": [
    "### Функции применимые к тензорам"
   ]
  },
  {
   "cell_type": "code",
   "execution_count": 44,
   "id": "bc68edc4",
   "metadata": {},
   "outputs": [
    {
     "name": "stdout",
     "output_type": "stream",
     "text": [
      "tensor([[0.6935, 0.0416, 0.2711, 0.8617, 0.5135, 0.1037],\n",
      "        [0.7548, 0.3679, 0.7392, 0.1543, 0.6249, 0.7748],\n",
      "        [0.1994, 0.8422, 0.2610, 0.0664, 0.6224, 0.6686],\n",
      "        [0.0170, 0.2343, 0.6072, 0.5088, 0.2412, 0.9335],\n",
      "        [0.6409, 0.6917, 0.9349, 0.0330, 0.2880, 0.3101],\n",
      "        [0.7597, 0.5446, 0.9669, 0.2313, 0.6460, 0.3247]])\n",
      "tensor(0.9669)\n",
      "0.9669411778450012\n",
      "32\n"
     ]
    }
   ],
   "source": [
    "a = torch.rand(6,6)\n",
    "print(a)\n",
    "print(a.max())           # максимальный элемент\n",
    "print(a.max().item())    # значение\n",
    "print(a.argmax().item()) # значение индекса максимального элемента"
   ]
  },
  {
   "cell_type": "code",
   "execution_count": 48,
   "id": "a54d57ef",
   "metadata": {},
   "outputs": [
    {
     "name": "stdout",
     "output_type": "stream",
     "text": [
      "tensor([[[ 0.1763, -1.3824],\n",
      "         [-0.0982,  0.2172],\n",
      "         [-0.7888,  0.0776],\n",
      "         [ 0.1917, -1.3143]],\n",
      "\n",
      "        [[-0.0239,  1.6421],\n",
      "         [ 0.0026, -0.4804],\n",
      "         [ 1.1101,  0.3640],\n",
      "         [ 0.7545,  0.9978]],\n",
      "\n",
      "        [[ 0.0741,  0.9124],\n",
      "         [-0.5444, -1.9301],\n",
      "         [-1.6596, -1.7160],\n",
      "         [ 0.1296, -0.8660]],\n",
      "\n",
      "        [[ 0.1991,  0.9172],\n",
      "         [ 2.1126, -0.5568],\n",
      "         [-0.2204, -0.1752],\n",
      "         [-0.1131,  0.1206]],\n",
      "\n",
      "        [[ 1.5923,  2.0426],\n",
      "         [ 0.7942,  0.4707],\n",
      "         [ 1.0939,  0.1272],\n",
      "         [ 0.2721,  0.1248]]])\n",
      "tensor([[[ 0.1763, -0.0239,  0.0741,  0.1991,  1.5923],\n",
      "         [-0.0982,  0.0026, -0.5444,  2.1126,  0.7942],\n",
      "         [-0.7888,  1.1101, -1.6596, -0.2204,  1.0939],\n",
      "         [ 0.1917,  0.7545,  0.1296, -0.1131,  0.2721]],\n",
      "\n",
      "        [[-1.3824,  1.6421,  0.9124,  0.9172,  2.0426],\n",
      "         [ 0.2172, -0.4804, -1.9301, -0.5568,  0.4707],\n",
      "         [ 0.0776,  0.3640, -1.7160, -0.1752,  0.1272],\n",
      "         [-1.3143,  0.9978, -0.8660,  0.1206,  0.1248]]])\n"
     ]
    }
   ],
   "source": [
    "# изменение размера\n",
    "b = torch.randn(5,4,2)\n",
    "print(b)\n",
    "b = b.permute(2,1,0)   # указать по индексам\n",
    "print(b)"
   ]
  },
  {
   "cell_type": "markdown",
   "id": "509f2dd8",
   "metadata": {},
   "source": [
    "## Однослойная нейронная сеть"
   ]
  },
  {
   "cell_type": "code",
   "execution_count": 37,
   "id": "667f6581",
   "metadata": {},
   "outputs": [
    {
     "name": "stdout",
     "output_type": "stream",
     "text": [
      "tensor([[0.4051]])\n"
     ]
    }
   ],
   "source": [
    "def sigmoid(x):\n",
    "    return 1/(1+torch.exp(-x))\n",
    "\n",
    "inputs_layer = torch.randn((1,10)) # входной слой - матрица 1x10\n",
    "weights = torch.randn((1,10))      # веса - матрица 1x10\n",
    "b = 1   # смещение\n",
    "\n",
    "weights_reshape = weights.reshape(10,1)  # изменение формы матрицы к 10x1 для следующего умножения, \n",
    "                                         # либо транспонирование матрицы weights.T\n",
    "\n",
    "output = sigmoid(torch.mm(inputs_layer, weights_reshape)+b) # выходной нейрон\n",
    "print(output)"
   ]
  },
  {
   "cell_type": "markdown",
   "id": "90859dcd",
   "metadata": {},
   "source": [
    "## Шаг 1. Набор данных"
   ]
  },
  {
   "cell_type": "code",
   "execution_count": null,
   "id": "7e09feed",
   "metadata": {},
   "outputs": [],
   "source": [
    "import torchvision\n",
    "from torchvision import transforms\n",
    "train_data_path = \"./train/\"              # путь к тренировочным изображениям \n",
    "test_data_path = \"./test/\"                # путь к тестовым изображениям\n",
    "\n",
    "transforms = transforms.Compose([\n",
    "    transforms.Resize(64),      # масштабирование всех изображений в 64x64\n",
    "    transforms.ToTensor(),      # перевод в тензор\n",
    "    transforms.Normalize(mean=[0.485, 0.456, 0.405], std=[0.229, 0.224, 0.225])  # нормализация\n",
    "])\n",
    "\n",
    "train_data = torchvision.datasets.ImageFolder(root=train_data_path, transform=transform)\n",
    "test_data = torchvision.datasets.ImageFolder(root=test_data_path, transform=transform)"
   ]
  },
  {
   "cell_type": "markdown",
   "id": "57e4c474",
   "metadata": {},
   "source": [
    "## Шаг 2. Загрузчик данных"
   ]
  },
  {
   "cell_type": "code",
   "execution_count": null,
   "id": "451eae42",
   "metadata": {},
   "outputs": [],
   "source": [
    "batch_size = 64\n",
    "train_data_loader = data.DataLoader(train_data, batch_size=batch_size)\n",
    "test_data_loader = data.DataLoader(test_data, batch_size=batch_size)"
   ]
  },
  {
   "cell_type": "markdown",
   "id": "400e533d",
   "metadata": {},
   "source": [
    "## Шаг 3. Нейронная сеть со слоями"
   ]
  },
  {
   "cell_type": "code",
   "execution_count": null,
   "id": "3f91b717",
   "metadata": {},
   "outputs": [],
   "source": [
    "class NeuNet(nn.Module):\n",
    "    def __init__(self):\n",
    "        super(Net, self).__init__()       # конструктор суперкласса\n",
    "                                          # создание слоев\n",
    "        self.fc1 = nn.Linear(12288, 84)   # 12288 = 64*64*3 (трехмерный ранее преобразовали в одномерный тензор)\n",
    "                                          # входной слой, на выходе 84 нейрона\n",
    "        self.fc2 = nn.Linear(84, 50)      # вход - 84 нейрона, выход - 50\n",
    "        self.fc3 = nn.Linear(50, 2)       # вход - 50 нейронов, выход - 2\n",
    "        \n",
    "    def forward(self):\n",
    "        x = x.view(-1, 12288)\n",
    "        x = F.relu(self.fc1(x))\n",
    "        x = F.relu(self.fc2(x))\n",
    "        x = F.softmax(self.fc3(x))\n",
    "        return x\n",
    "    \n",
    "exemple = NeuNet()"
   ]
  },
  {
   "cell_type": "markdown",
   "id": "3cc1d300",
   "metadata": {},
   "source": [
    "## Шаг 4. Оптимизатор"
   ]
  },
  {
   "cell_type": "markdown",
   "id": "a1ce2f5b",
   "metadata": {},
   "source": [
    "Обучение сети включает в себя передачу данных через сеть, использование функции потерь для определения \n",
    "разности между прогнозом и фактической маркировкой, а затем использование этой информации для обновления \n",
    "весов сети, чтобы возврат функции потерь был как можно меньше. Для выполнения обновлений в нейронной сети \n",
    "используется оптимизатор."
   ]
  },
  {
   "cell_type": "code",
   "execution_count": null,
   "id": "c9b86275",
   "metadata": {},
   "outputs": [],
   "source": [
    "import torch.optim as optim\n",
    "...\n",
    "optimizer = optim.Adam(exemple.parameters(), lr=0.001) # оптимизатор Adam, lr - скорость обучения\n",
    "..."
   ]
  },
  {
   "cell_type": "markdown",
   "id": "f9c0cd45",
   "metadata": {},
   "source": [
    "## Шаг 5. Обучение"
   ]
  },
  {
   "cell_type": "code",
   "execution_count": null,
   "id": "3d7a9ceb",
   "metadata": {},
   "outputs": [],
   "source": [
    "for epoch in range(epochs):               # по эпохам\n",
    "    for batch in train_loader:            # по частям (пакетами) обучающей выборки \n",
    "        optimizer.zero_grad()             # обнуление градиентов на каждой итерации\n",
    "        input, target = batch\n",
    "        output = model(input)             # через модель нейронной сети \n",
    "        loss = loss_fn(output, target)    # функция потерь (на вход полученные данные и целевые данные)\n",
    "        loss.backward()                   # расчет градиентов\n",
    "        optimizer.step()                  # расчет новых весов на основе полученных градиентов"
   ]
  },
  {
   "cell_type": "markdown",
   "id": "88c4ac82",
   "metadata": {},
   "source": [
    "### ШАГ 6. ИТОГ\n",
    "````python\n",
    "def train(model, optimizer, loss_fn, train_loader, val_loader, epochs=20, device=\"cpu\"): \n",
    "    for epoch in range(epochs): \n",
    "        training_loss = 0.0 \n",
    "        valid_loss = 0.0 \n",
    "        model.train() \n",
    "        for batch in train_loader: \n",
    "            optimizer.zero_grad() \n",
    "            inputs, target = batch \n",
    "            inputs = inputs.to(device) \n",
    "            target = targets.to(device) \n",
    "            output = model(inputs) \n",
    "            loss = loss_fn(output, target) \n",
    "            loss.backward() \n",
    "            optimizer.step() \n",
    "            training_loss += loss.data.item() \n",
    "            training_loss /= len(train_iterator) \n",
    "            model.eval() \n",
    "            num_correct = 0 \n",
    "            num_examples = 0 \n",
    "        for batch in val_loader: \n",
    "            inputs, targets = batch \n",
    "            inputs = inputs.to(device) \n",
    "            output = model(inputs) \n",
    "            targets = targets.to(device) \n",
    "            loss = loss_fn(output,targets) \n",
    "            valid_loss += loss.data.item() \n",
    "            correct = torch.eq(torch.max(F.softmax(output), dim=1)[1], target).view(-1) \n",
    "            num_correct += torch.sum(correct).item() \n",
    "            num_examples += correct.shape[0] \n",
    "            valid_loss /= len(valid_iterator) \n",
    "        print('Epoch: {}, Training Loss: {:.2f}, Validation Loss: {:.2f}, accuracy = {:.2f}'.\n",
    "        format(epoch, training_loss, valid_loss, num_correct / num_examples)) \n",
    "\n",
    "# torch.nn.CrossEntropyLoss() - сама функция потерь \n",
    "train(exemple, optimizer, torch.nn.CrossEntropyLoss(), train_data_loader, test_data_loader, device)\n",
    "````"
   ]
  },
  {
   "cell_type": "markdown",
   "id": "31f96090",
   "metadata": {},
   "source": [
    "## Шаг 7. Прогнозирование"
   ]
  },
  {
   "cell_type": "code",
   "execution_count": null,
   "id": "4b2d7171",
   "metadata": {},
   "outputs": [],
   "source": [
    "...\n",
    "img = transform(img)\n",
    "prediction = exemple(img)\n",
    "..."
   ]
  },
  {
   "cell_type": "markdown",
   "id": "2a3519b0",
   "metadata": {},
   "source": [
    "# Сверточные нейроные сети"
   ]
  },
  {
   "cell_type": "markdown",
   "id": "b702b938",
   "metadata": {},
   "source": [
    "Идея свёрточных нейронных сетей заключается в чередовании свёрточных слоёв (англ. convolution layers) и субдискретизирующих слоёв (англ. subsampling layers или англ. pooling layers, слоёв подвыборки). Структура сети — однонаправленная (без обратных связей), принципиально многослойная. Для обучения используются стандартные методы, чаще всего метод обратного распространения ошибки. Функция активации нейронов (передаточная функция) — любая, по выбору исследователя."
   ]
  },
  {
   "cell_type": "markdown",
   "id": "e4ddc8b1",
   "metadata": {},
   "source": [
    "#### Свертки в PyTorch"
   ]
  },
  {
   "cell_type": "markdown",
   "id": "37777e0d",
   "metadata": {},
   "source": [
    "___\n",
    "**Conv2d - двумерная свертка**  \n",
    "  \n",
    "Синтаксис: **nn.Conv2d(in_ch, out_ch, kern_size, stride, padding)**  \n",
    "**in_ch** - количество входных каналов (для RGB - это 3)   \n",
    "**out_ch** - количество выходных каналов (количество фильтров в слое)  \n",
    "**kern_size** - размер ядра (фильтра) (либо кортеж, либо скаляр задающий квадрат)  \n",
    "**stride** - на какое количество шагов продвигаться ядром при свертке, для создания карты признаков. Можно передать кортеж *(a, b)* - что позволяет перемещать ядро на *a* поперек и *b* вниз на каждой итерации  \n",
    "**padding** - отступ от краев, можно также передать кортеж (height, weight)"
   ]
  },
  {
   "cell_type": "markdown",
   "id": "6784aaf7",
   "metadata": {},
   "source": [
    "___\n",
    "**Слои пулинга (субдискретизации)**  \n",
    "Эти слои снижают разрешение сети от предыдущего входного слоя, что дает нам меньше параметров на нижних слоях.  \n",
    "Такое сжатие приводит к более быстрым вычислениям вначале и помогает предотвратить переобучение сети.  \n",
    "  \n",
    "Синтаксис: **nn.MaxPool2d(kern_size, stride)**  \n",
    "**kern_size** - размер ядра (фильтра) (либо кортеж, либо скаляр задающий квадрат)  \n",
    "**stride** - на какое количество шагов продвигаться ядром  \n",
    "Пример:  \n",
    "Вход 5x3 при размере ядра 3x3 и шага 2 на выходе получим два тензора 3x3, в *MaxPool* мы берем *максимальное* значение каждого из этих тензоров, что дает выходной тензор 1x2.  \n",
    "  \n",
    "Синтаксис: **nn.AvgPool()**  \n",
    "Синтаксис: **nn.AdaptiveMaxPool2d()**  \n",
    "Синтаксис: **nn.AdaptiveAvgPool2d()**  \n"
   ]
  },
  {
   "cell_type": "markdown",
   "id": "3ae6a2fa",
   "metadata": {},
   "source": [
    "___\n",
    "**Dropout (прореживание)**  \n",
    "Синтаксис: **nn.Dropout(p=0.2)**  \n",
    "При *p=0.2* 20% входного тензора обнуляется случайным образом.  \n"
   ]
  },
  {
   "cell_type": "markdown",
   "id": "45011141",
   "metadata": {},
   "source": [
    "___\n",
    "**BatchNorm (пакетная нормализация)**  \n",
    "Это простой слой с единственной задачей: убедиться, что каждый мини-пакет, проходящий через сеть, имеет нулевое математическое ожидание и единичную дисперсию. Для небольших сетей BatchNorm действительно менее полезен, но по мере их увеличения влияние любого слоя на другой слой, может быть значительным из-за многократного умножения, и вы можете получить либо исчезающие, либо взрывающиеся градиенты. Слои BatchNorm гарантируют, что умножения внутри вашей сети не выйдут из-под контроля.\n",
    " \n"
   ]
  },
  {
   "cell_type": "markdown",
   "id": "b106a995",
   "metadata": {},
   "source": [
    "## Работа со встроенными моделями нейронных сетей в PyTorch\n",
    "````python  \n",
    "import torch.nn as nn\n",
    "import torchvision.models as models\n",
    "import ssl\n",
    "ssl._create_default_https_context = ssl._create_unverified_context\n",
    "\n",
    "# модель resnet\n",
    "model = models.resnet50(pretrained=True)\n",
    "\n",
    "# заморозка слоев\n",
    "for name, param in model.named_parameters():\n",
    "    param.requires_grad = False\n",
    "\n",
    "# заморозка всех слоев кроме слоев BatchNorm\n",
    "# for name, param in transfer_model.named_parameters():\n",
    "#     if(\"bn\" not in name):\n",
    "#         param.requires_grad = False\n",
    "\n",
    "    \n",
    "# изменение слоя классификатора модели\n",
    "model.fc = nn.Sequential(\n",
    "    nn.Linear(model.fc.in_features, 500),\n",
    "    nn.ReLU(),\n",
    "    nn.Dropout(),\n",
    "    nn.Linear(500, 2)\n",
    ")\n",
    "\n",
    "print(model)\n",
    "````"
   ]
  },
  {
   "cell_type": "code",
   "execution_count": null,
   "id": "9b227d25",
   "metadata": {},
   "outputs": [],
   "source": []
  }
 ],
 "metadata": {
  "kernelspec": {
   "display_name": "Python 3 (ipykernel)",
   "language": "python",
   "name": "python3"
  },
  "language_info": {
   "codemirror_mode": {
    "name": "ipython",
    "version": 3
   },
   "file_extension": ".py",
   "mimetype": "text/x-python",
   "name": "python",
   "nbconvert_exporter": "python",
   "pygments_lexer": "ipython3",
   "version": "3.9.7"
  }
 },
 "nbformat": 4,
 "nbformat_minor": 5
}
