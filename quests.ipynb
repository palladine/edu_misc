{
 "cells": [
  {
   "cell_type": "markdown",
   "id": "6e037d53",
   "metadata": {},
   "source": [
    "### MRO"
   ]
  },
  {
   "cell_type": "markdown",
   "id": "4e05c840",
   "metadata": {},
   "source": [
    "> MRO — это порядок, в котором Python ищет методы и атрибуты при их вызове. Он особенно важен в контексте множественного наследования, где один класс может наследовать поведение от нескольких других классов. MRO позволяет Python решать, какой метод или атрибут использовать, если они определены в нескольких родительских классах. "
   ]
  },
  {
   "cell_type": "markdown",
   "id": "8fa1e229",
   "metadata": {},
   "source": [
    "> В Python для вычисления MRO используется алгоритм C3 Linearization (C3-линеаризация).  \n",
    ">>Два основных правила линеаризации:  \n",
    ">>__-дети идут раньше родителей;__  \n",
    ">>__-родители идут в порядке перечисления.__"
   ]
  },
  {
   "cell_type": "code",
   "execution_count": null,
   "id": "68f8f9b1",
   "metadata": {},
   "outputs": [],
   "source": [
    "def show(_mro):\n",
    "    c = [f'({v.__name__})' for v in _mro]\n",
    "    return ' -> '.join(c)"
   ]
  },
  {
   "cell_type": "code",
   "execution_count": null,
   "id": "071b92f7",
   "metadata": {},
   "outputs": [
    {
     "name": "stdout",
     "output_type": "stream",
     "text": [
      "(B) -> (A) -> (object)\n"
     ]
    }
   ],
   "source": [
    "class A1:\n",
    "    ...\n",
    "\n",
    "class B1(A1):\n",
    "    ...\n",
    "\n",
    "print(show(B1.__mro__))"
   ]
  },
  {
   "cell_type": "code",
   "execution_count": null,
   "id": "d7f1e03d",
   "metadata": {},
   "outputs": [
    {
     "name": "stdout",
     "output_type": "stream",
     "text": [
      "(C2) -> (B2) -> (A2) -> (object)\n"
     ]
    }
   ],
   "source": [
    "class A2:\n",
    "    ...\n",
    "\n",
    "class B2(A2):\n",
    "    ...\n",
    "\n",
    "class C2(B2):\n",
    "    ...\n",
    "\n",
    "print(show(C2.__mro__))"
   ]
  },
  {
   "cell_type": "code",
   "execution_count": null,
   "id": "b958a2bd",
   "metadata": {},
   "outputs": [
    {
     "name": "stdout",
     "output_type": "stream",
     "text": [
      "(D3) -> (B3) -> (C3) -> (A3) -> (object)\n",
      "(E3) -> (C3) -> (B3) -> (A3) -> (object)\n"
     ]
    }
   ],
   "source": [
    "# Diamond problem\n",
    "class A3:\n",
    "    ...\n",
    "\n",
    "class B3(A3):\n",
    "    ...\n",
    "\n",
    "class C3(A3):\n",
    "    ...\n",
    "\n",
    "class D3(B3, C3):\n",
    "    ...\n",
    "\n",
    "class E3(C3,  B3):\n",
    "    ...\n",
    "\n",
    "\n",
    "print(show(D3.__mro__))\n",
    "print(show(E3.__mro__))"
   ]
  },
  {
   "cell_type": "code",
   "execution_count": null,
   "id": "f847c565",
   "metadata": {},
   "outputs": [
    {
     "ename": "TypeError",
     "evalue": "Cannot create a consistent method resolution\norder (MRO) for bases B4, C4",
     "output_type": "error",
     "traceback": [
      "\u001b[1;31m---------------------------------------------------------------------------\u001b[0m",
      "\u001b[1;31mTypeError\u001b[0m                                 Traceback (most recent call last)",
      "Cell \u001b[1;32mIn[18], line 17\u001b[0m\n\u001b[0;32m     14\u001b[0m \u001b[38;5;28;01mclass\u001b[39;00m \u001b[38;5;21;01mE4\u001b[39;00m(C4,  B4):\n\u001b[0;32m     15\u001b[0m     \u001b[38;5;241m.\u001b[39m\u001b[38;5;241m.\u001b[39m\u001b[38;5;241m.\u001b[39m\n\u001b[1;32m---> 17\u001b[0m \u001b[38;5;28;01mclass\u001b[39;00m \u001b[38;5;21;01mF5\u001b[39;00m(D4, E4):\n\u001b[0;32m     18\u001b[0m     \u001b[38;5;241m.\u001b[39m\u001b[38;5;241m.\u001b[39m\u001b[38;5;241m.\u001b[39m\n\u001b[0;32m     20\u001b[0m \u001b[38;5;28mprint\u001b[39m(show(F5\u001b[38;5;241m.\u001b[39m\u001b[38;5;18m__mro__\u001b[39m))\n",
      "\u001b[1;31mTypeError\u001b[0m: Cannot create a consistent method resolution\norder (MRO) for bases B4, C4"
     ]
    }
   ],
   "source": [
    "class A4:\n",
    "    ...\n",
    "\n",
    "class B4(A4):\n",
    "    ...\n",
    "\n",
    "class C4(A4):\n",
    "    ...\n",
    "\n",
    "class D4(B4, C4):\n",
    "    ...\n",
    "\n",
    "class E4(C4,  B4):\n",
    "    ...\n",
    "\n",
    "class F5(D4, E4):\n",
    "    ...\n",
    "\n",
    "print(show(F5.__mro__))"
   ]
  },
  {
   "cell_type": "markdown",
   "id": "3c4bff05",
   "metadata": {},
   "source": [
    "> Одним из часто используемых механизмов, связанных с MRO, является функция `super()`. Она позволяет обращаться к методам родительских классов, что особенно полезно при переопределении методов в дочерних классах."
   ]
  },
  {
   "cell_type": "code",
   "execution_count": null,
   "id": "bd8feed4",
   "metadata": {},
   "outputs": [
    {
     "name": "stdout",
     "output_type": "stream",
     "text": [
      "I am A\n",
      "I am C\n",
      "I am B\n",
      "I am D\n",
      "(D6) -> (B6) -> (C6) -> (A6) -> (object)\n"
     ]
    }
   ],
   "source": [
    "class A6:\n",
    "    def who_am_i(self):\n",
    "        print(\"I am A\")\n",
    " \n",
    "class B6(A6):\n",
    "    def who_am_i(self):\n",
    "        super().who_am_i()\n",
    "        print(\"I am B\")\n",
    " \n",
    "class C6(A6):\n",
    "    def who_am_i(self):\n",
    "        super().who_am_i()\n",
    "        print(\"I am C\")\n",
    " \n",
    "class D6(B6, C6):\n",
    "    def who_am_i(self):\n",
    "        super().who_am_i()\n",
    "        print(\"I am D\")\n",
    " \n",
    "d = D6()\n",
    "d.who_am_i()\n",
    "print(show(D6.__mro__))"
   ]
  },
  {
   "cell_type": "markdown",
   "id": "519feb52",
   "metadata": {},
   "source": [
    "> при НЕромбовидной схеме, наследование производится классически (сначала в глубину, затем слева направо) "
   ]
  },
  {
   "cell_type": "code",
   "execution_count": null,
   "id": "e1f7a07a",
   "metadata": {},
   "outputs": [
    {
     "name": "stdout",
     "output_type": "stream",
     "text": [
      "(E7) -> (C7) -> (A7) -> (D7) -> (B7) -> (object)\n"
     ]
    }
   ],
   "source": [
    "class A7: pass\n",
    "class B7: pass\n",
    "class C7(A7): pass\n",
    "class D7(B7): pass\n",
    "class E7(C7, D7): pass\n",
    "print(show(E7.__mro__))"
   ]
  }
 ],
 "metadata": {
  "kernelspec": {
   "display_name": "base",
   "language": "python",
   "name": "python3"
  },
  "language_info": {
   "codemirror_mode": {
    "name": "ipython",
    "version": 3
   },
   "file_extension": ".py",
   "mimetype": "text/x-python",
   "name": "python",
   "nbconvert_exporter": "python",
   "pygments_lexer": "ipython3",
   "version": "3.12.7"
  }
 },
 "nbformat": 4,
 "nbformat_minor": 5
}
