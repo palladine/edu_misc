{
 "cells": [
  {
   "cell_type": "markdown",
   "id": "6e037d53",
   "metadata": {},
   "source": [
    "### MRO"
   ]
  },
  {
   "cell_type": "markdown",
   "id": "4e05c840",
   "metadata": {},
   "source": [
    "> MRO — это порядок, в котором Python ищет методы и атрибуты при их вызове. Он особенно важен в контексте множественного наследования, где один класс может наследовать поведение от нескольких других классов. MRO позволяет Python решать, какой метод или атрибут использовать, если они определены в нескольких родительских классах. "
   ]
  },
  {
   "cell_type": "markdown",
   "id": "8fa1e229",
   "metadata": {},
   "source": [
    "> В Python для вычисления MRO используется алгоритм C3 Linearization (C3-линеаризация).  \n",
    ">>Два основных правила линеаризации:  \n",
    ">>__-дети идут раньше родителей;__  \n",
    ">>__-родители идут в порядке перечисления.__"
   ]
  },
  {
   "cell_type": "code",
   "execution_count": null,
   "id": "68f8f9b1",
   "metadata": {},
   "outputs": [],
   "source": [
    "def show(_mro):\n",
    "    c = [f'({v.__name__})' for v in _mro]\n",
    "    return ' -> '.join(c)"
   ]
  },
  {
   "cell_type": "code",
   "execution_count": null,
   "id": "071b92f7",
   "metadata": {},
   "outputs": [
    {
     "name": "stdout",
     "output_type": "stream",
     "text": [
      "(B) -> (A) -> (object)\n"
     ]
    }
   ],
   "source": [
    "class A1:\n",
    "    ...\n",
    "\n",
    "class B1(A1):\n",
    "    ...\n",
    "\n",
    "print(show(B1.__mro__))"
   ]
  },
  {
   "cell_type": "code",
   "execution_count": null,
   "id": "d7f1e03d",
   "metadata": {},
   "outputs": [
    {
     "name": "stdout",
     "output_type": "stream",
     "text": [
      "(C2) -> (B2) -> (A2) -> (object)\n"
     ]
    }
   ],
   "source": [
    "class A2:\n",
    "    ...\n",
    "\n",
    "class B2(A2):\n",
    "    ...\n",
    "\n",
    "class C2(B2):\n",
    "    ...\n",
    "\n",
    "print(show(C2.__mro__))"
   ]
  },
  {
   "cell_type": "code",
   "execution_count": null,
   "id": "b958a2bd",
   "metadata": {},
   "outputs": [
    {
     "name": "stdout",
     "output_type": "stream",
     "text": [
      "(D3) -> (B3) -> (C3) -> (A3) -> (object)\n",
      "(E3) -> (C3) -> (B3) -> (A3) -> (object)\n"
     ]
    }
   ],
   "source": [
    "# Diamond problem\n",
    "class A3:\n",
    "    ...\n",
    "\n",
    "class B3(A3):\n",
    "    ...\n",
    "\n",
    "class C3(A3):\n",
    "    ...\n",
    "\n",
    "class D3(B3, C3):\n",
    "    ...\n",
    "\n",
    "class E3(C3,  B3):\n",
    "    ...\n",
    "\n",
    "\n",
    "print(show(D3.__mro__))\n",
    "print(show(E3.__mro__))"
   ]
  },
  {
   "cell_type": "code",
   "execution_count": null,
   "id": "f847c565",
   "metadata": {},
   "outputs": [
    {
     "ename": "TypeError",
     "evalue": "Cannot create a consistent method resolution\norder (MRO) for bases B4, C4",
     "output_type": "error",
     "traceback": [
      "\u001b[1;31m---------------------------------------------------------------------------\u001b[0m",
      "\u001b[1;31mTypeError\u001b[0m                                 Traceback (most recent call last)",
      "Cell \u001b[1;32mIn[18], line 17\u001b[0m\n\u001b[0;32m     14\u001b[0m \u001b[38;5;28;01mclass\u001b[39;00m \u001b[38;5;21;01mE4\u001b[39;00m(C4,  B4):\n\u001b[0;32m     15\u001b[0m     \u001b[38;5;241m.\u001b[39m\u001b[38;5;241m.\u001b[39m\u001b[38;5;241m.\u001b[39m\n\u001b[1;32m---> 17\u001b[0m \u001b[38;5;28;01mclass\u001b[39;00m \u001b[38;5;21;01mF5\u001b[39;00m(D4, E4):\n\u001b[0;32m     18\u001b[0m     \u001b[38;5;241m.\u001b[39m\u001b[38;5;241m.\u001b[39m\u001b[38;5;241m.\u001b[39m\n\u001b[0;32m     20\u001b[0m \u001b[38;5;28mprint\u001b[39m(show(F5\u001b[38;5;241m.\u001b[39m\u001b[38;5;18m__mro__\u001b[39m))\n",
      "\u001b[1;31mTypeError\u001b[0m: Cannot create a consistent method resolution\norder (MRO) for bases B4, C4"
     ]
    }
   ],
   "source": [
    "class A4:\n",
    "    ...\n",
    "\n",
    "class B4(A4):\n",
    "    ...\n",
    "\n",
    "class C4(A4):\n",
    "    ...\n",
    "\n",
    "class D4(B4, C4):\n",
    "    ...\n",
    "\n",
    "class E4(C4,  B4):\n",
    "    ...\n",
    "\n",
    "class F5(D4, E4):\n",
    "    ...\n",
    "\n",
    "print(show(F5.__mro__))"
   ]
  },
  {
   "cell_type": "markdown",
   "id": "3c4bff05",
   "metadata": {},
   "source": [
    "> Одним из часто используемых механизмов, связанных с MRO, является функция `super()`. Она позволяет обращаться к методам родительских классов, что особенно полезно при переопределении методов в дочерних классах."
   ]
  },
  {
   "cell_type": "code",
   "execution_count": null,
   "id": "bd8feed4",
   "metadata": {},
   "outputs": [
    {
     "name": "stdout",
     "output_type": "stream",
     "text": [
      "I am A\n",
      "I am C\n",
      "I am B\n",
      "I am D\n",
      "(D6) -> (B6) -> (C6) -> (A6) -> (object)\n"
     ]
    }
   ],
   "source": [
    "class A6:\n",
    "    def who_am_i(self):\n",
    "        print(\"I am A\")\n",
    " \n",
    "class B6(A6):\n",
    "    def who_am_i(self):\n",
    "        super().who_am_i()\n",
    "        print(\"I am B\")\n",
    " \n",
    "class C6(A6):\n",
    "    def who_am_i(self):\n",
    "        super().who_am_i()\n",
    "        print(\"I am C\")\n",
    " \n",
    "class D6(B6, C6):\n",
    "    def who_am_i(self):\n",
    "        super().who_am_i()\n",
    "        print(\"I am D\")\n",
    " \n",
    "d = D6()\n",
    "d.who_am_i()\n",
    "print(show(D6.__mro__))"
   ]
  },
  {
   "cell_type": "markdown",
   "id": "519feb52",
   "metadata": {},
   "source": [
    "> при НЕРОМБОВИДНОЙ схеме, наследование производится классически (сначала в глубину, затем слева направо) "
   ]
  },
  {
   "cell_type": "code",
   "execution_count": null,
   "id": "e1f7a07a",
   "metadata": {},
   "outputs": [
    {
     "name": "stdout",
     "output_type": "stream",
     "text": [
      "(E7) -> (C7) -> (A7) -> (D7) -> (B7) -> (object)\n"
     ]
    }
   ],
   "source": [
    "class A7: pass\n",
    "class B7: pass\n",
    "class C7(A7): pass\n",
    "class D7(B7): pass\n",
    "class E7(C7, D7): pass\n",
    "print(show(E7.__mro__))"
   ]
  },
  {
   "cell_type": "markdown",
   "id": "9861eb0d",
   "metadata": {},
   "source": [
    "### Генераторы"
   ]
  },
  {
   "cell_type": "markdown",
   "id": "f25d3173",
   "metadata": {},
   "source": [
    "> Генератор — это функция, которая возвращает итератор (объект-генератор).  \n",
    "> Функции-генераторы помогают получать значения по запросу.  \n",
    "> Объект-генератор можно обойти только один раз.  \n",
    "> Функции-генераторы экономят память.  \n",
    "> После возврата всех элементов(прохождения всего цикла), генератор вызовет исключение StopIteration.  \n",
    "> Инструкция yield возвращает следующее значение и приостанавливает работу функции-генератора.  \n",
    "> yield можно использовать несколько раз в коде функции-генератора.  \n",
    "> Помимо yield генератор может содержать и return. Встретив return генератор выбрасывает исключение  StopIteration, а возвращенное значение записывается в объект StopIteration в атрибут value (по умолчанию None)!  "
   ]
  },
  {
   "cell_type": "code",
   "execution_count": null,
   "id": "2635b009",
   "metadata": {},
   "outputs": [
    {
     "name": "stdout",
     "output_type": "stream",
     "text": [
      "2\n",
      "4\n"
     ]
    }
   ],
   "source": [
    "# пример функции-генератора\n",
    "def gen(n):\n",
    "    for i in range(1, n):\n",
    "        yield i*2\n",
    "\n",
    "a = gen(10)            # a - объект-генератор !\n",
    "print(next(a))\n",
    "print(next(a))"
   ]
  },
  {
   "cell_type": "code",
   "execution_count": 10,
   "id": "8b614b74",
   "metadata": {},
   "outputs": [
    {
     "name": "stdout",
     "output_type": "stream",
     "text": [
      "2\n",
      "4\n"
     ]
    }
   ],
   "source": [
    "# пример генераторного выражения\n",
    "a = (x*2 for x in range(1, 10))\n",
    "print(next(a))\n",
    "print(next(a))"
   ]
  },
  {
   "cell_type": "markdown",
   "id": "ca2f9e87",
   "metadata": {},
   "source": [
    "> У объекта-генератора есть три метода:  \n",
    "> - .close() - остановка выполнения генератора;  \n",
    "> - .throw() - поднятие исключения (генератор должен быть инициализирован вызовом next или send(None));  \n",
    "> - .send() - отправить значение генератору. Чтобы начать передачу значений в генератор его нужно сначала инициализировать с помощью вызова `next()` или отправив в генератор значение None."
   ]
  },
  {
   "cell_type": "code",
   "execution_count": 11,
   "id": "80e3614c",
   "metadata": {},
   "outputs": [
    {
     "name": "stdout",
     "output_type": "stream",
     "text": [
      "2\n",
      "4\n"
     ]
    },
    {
     "ename": "Exception",
     "evalue": "Val is 6!",
     "output_type": "error",
     "traceback": [
      "\u001b[1;31m---------------------------------------------------------------------------\u001b[0m",
      "\u001b[1;31mException\u001b[0m                                 Traceback (most recent call last)",
      "Cell \u001b[1;32mIn[11], line 9\u001b[0m\n\u001b[0;32m      7\u001b[0m \u001b[38;5;28;01mfor\u001b[39;00m val \u001b[38;5;129;01min\u001b[39;00m b:\n\u001b[0;32m      8\u001b[0m     \u001b[38;5;28;01mif\u001b[39;00m val \u001b[38;5;241m==\u001b[39m \u001b[38;5;241m6\u001b[39m:\n\u001b[1;32m----> 9\u001b[0m         b\u001b[38;5;241m.\u001b[39mthrow(\u001b[38;5;167;01mException\u001b[39;00m(\u001b[38;5;124m'\u001b[39m\u001b[38;5;124mVal is 6!\u001b[39m\u001b[38;5;124m'\u001b[39m))\n\u001b[0;32m     10\u001b[0m     \u001b[38;5;28mprint\u001b[39m(val)\n",
      "Cell \u001b[1;32mIn[11], line 4\u001b[0m, in \u001b[0;36mgen_exept\u001b[1;34m(n)\u001b[0m\n\u001b[0;32m      2\u001b[0m \u001b[38;5;28;01mdef\u001b[39;00m \u001b[38;5;21mgen_exept\u001b[39m(n):\n\u001b[0;32m      3\u001b[0m     \u001b[38;5;28;01mfor\u001b[39;00m i \u001b[38;5;129;01min\u001b[39;00m \u001b[38;5;28mrange\u001b[39m(\u001b[38;5;241m1\u001b[39m, \u001b[38;5;241m10\u001b[39m):\n\u001b[1;32m----> 4\u001b[0m         \u001b[38;5;28;01myield\u001b[39;00m i\u001b[38;5;241m*\u001b[39m\u001b[38;5;241m2\u001b[39m\n",
      "\u001b[1;31mException\u001b[0m: Val is 6!"
     ]
    }
   ],
   "source": [
    "# пример с исключением\n",
    "def gen_exept(n):\n",
    "    for i in range(1, 10):\n",
    "        yield i*2\n",
    "\n",
    "b = gen_exept(10)\n",
    "for val in b:\n",
    "    if val == 6:\n",
    "        b.throw(Exception('Val is 6!'))\n",
    "    print(val)"
   ]
  },
  {
   "cell_type": "markdown",
   "id": "063d3f9d",
   "metadata": {},
   "source": [
    "### Дескрипторы"
   ]
  },
  {
   "cell_type": "markdown",
   "id": "428c5e37",
   "metadata": {},
   "source": [
    "> Дескрипторы - объекты, которые реализуют методы `__get__`, `__set__`, `__delete__`, позволяют переопределять стандартное поведение при работе с атрибутами объекта, добавляют логику при чтении, записи или удалении значения атрибута.  \n",
    "> Существует необязательный метод `__set_name__`, который позволяет дескриптору узнавать имя атрибута, к которому он присвоен в классе.  "
   ]
  },
  {
   "cell_type": "markdown",
   "id": "7715ff8d",
   "metadata": {},
   "source": [
    "> Дескрипторы применяются при валидации данных, вычислениях значений, управлении доступом к атрибутам, реализации сложной логики.  "
   ]
  },
  {
   "cell_type": "markdown",
   "id": "2834796d",
   "metadata": {},
   "source": [
    "> Дескрипторы создаются в виде независимых классов, имеют собственное состояние, и присваиваются атрибутам классов в точности как функции методов.  "
   ]
  },
  {
   "cell_type": "code",
   "execution_count": null,
   "id": "b1cb7dbe",
   "metadata": {},
   "outputs": [],
   "source": [
    "class Descriptor:\n",
    "    \"\"\"docstring\"\"\"                             # Строка документации\n",
    "    def __get__(self, instance, owner): ...     # Возвращает значение атрибута\n",
    "    def __set__(self, instance, value): ...     # Ничего не возвращает (None)\n",
    "    def __delete__ (self, instance): ...        # Ничего не возвращает (None)"
   ]
  },
  {
   "cell_type": "markdown",
   "id": "2f6591d2",
   "metadata": {},
   "source": [
    "> *Всем трем методам дескриптора, передаются экземпляр класса дескриптора **(self)** и экземпляр клиентского класса **(instance)**, к которому присоединен экземпляр дескриптора. Метод доступа `__get__` также принимает аргумент **(owner)**, указывающий класс, к которому присоединен экземпляр дескриптора.*"
   ]
  },
  {
   "cell_type": "code",
   "execution_count": 41,
   "id": "acced78d",
   "metadata": {},
   "outputs": [
    {
     "name": "stdout",
     "output_type": "stream",
     "text": [
      "<__main__.DescriptorA object at 0x0000014A94F7BB60>, <__main__.DAMain object at 0x0000014A94F7B140>, <class '__main__.DAMain'>\n",
      "Hello!\n"
     ]
    }
   ],
   "source": [
    "class DescriptorA:\n",
    "    def __get__(self, inst, ow):\n",
    "        return f'{self}, {inst}, {ow}'\n",
    "    \n",
    "class DAMain:\n",
    "    ds = DescriptorA()\n",
    "\n",
    "\n",
    "dam = DAMain()\n",
    "print(dam.ds)"
   ]
  },
  {
   "cell_type": "markdown",
   "id": "65c599b9",
   "metadata": {},
   "source": [
    "> Если метод `__set__` не переопределен в дескрипторе то он работает по умолчанию."
   ]
  },
  {
   "cell_type": "code",
   "execution_count": null,
   "id": "2d754883",
   "metadata": {},
   "outputs": [],
   "source": [
    "dam.ds = 'Hello!'       # вызов dam.ds.__set__()\n",
    "print(dam.ds)"
   ]
  },
  {
   "cell_type": "code",
   "execution_count": 42,
   "id": "4bdd6c57",
   "metadata": {},
   "outputs": [
    {
     "name": "stdout",
     "output_type": "stream",
     "text": [
      "Hello, Maks\n",
      "Hello, John\n"
     ]
    }
   ],
   "source": [
    "# Пример\n",
    "class Name:\n",
    "    \"descriptor docs\"\n",
    "    def __get__(self, instance, owner):\n",
    "        return f'Hello, {instance._name}'\n",
    "    \n",
    "    def __set__(self, instance, value):\n",
    "        instance._name = value\n",
    "    \n",
    "    def __delete__(self, instance):\n",
    "        del instance._name\n",
    "\n",
    "        \n",
    "class Person:\n",
    "    def __init__(self, name):\n",
    "        self._name = name\n",
    "    name = Name()\n",
    "\n",
    "p = Person('Maks')\n",
    "print(p.name)\n",
    "p.name = 'John'\n",
    "print(p.name)"
   ]
  },
  {
   "cell_type": "markdown",
   "id": "cafd7121",
   "metadata": {},
   "source": [
    "> Связать конкретный дескриптор с конкретным атрибутом:"
   ]
  },
  {
   "cell_type": "code",
   "execution_count": 44,
   "id": "879f9f00",
   "metadata": {},
   "outputs": [
    {
     "data": {
      "text/plain": [
       "100"
      ]
     },
     "execution_count": 44,
     "metadata": {},
     "output_type": "execute_result"
    }
   ],
   "source": [
    "class DescriptorB:\n",
    "    def __set_name__(self, owner, attr_name: str) -> None:\n",
    "        self._attr_name = attr_name\n",
    "\n",
    "    def __get__(self, instance, owner=None):\n",
    "        return instance.__dict__[self._attr_name]\n",
    "\n",
    "    def __set__(self, instance, value) -> None:\n",
    "        instance.__dict__[self._attr_name] = value\n",
    "\n",
    "        \n",
    "class DBMain:\n",
    "    attr_1 = DescriptorB()\n",
    "\n",
    "    \n",
    "instance_object = DBMain()\n",
    "instance_object.attr_1 = 100\n",
    "instance_object.attr_1  # -> 100"
   ]
  },
  {
   "cell_type": "markdown",
   "id": "ddbd6e7f",
   "metadata": {},
   "source": [
    "> Если объект дескриптора определяет методы `__get__`, `__set__` или `__delete__`, то он считается data дескриптором;  \n",
    "> Если объект дескриптора определяет только метод `__get__`, то он является non-data дескриптором.  \n",
    "> Data и non-data дескрипторы отличаются по порядку поиска атрибутов и предоставлению доступа к ним."
   ]
  },
  {
   "cell_type": "markdown",
   "id": "bb024a94",
   "metadata": {},
   "source": []
  },
  {
   "cell_type": "markdown",
   "id": "f53e76b9",
   "metadata": {},
   "source": [
    "### Аннотация типов данных"
   ]
  },
  {
   "cell_type": "code",
   "execution_count": 46,
   "id": "1941ea7b",
   "metadata": {},
   "outputs": [
    {
     "name": "stdout",
     "output_type": "stream",
     "text": [
      "4\n",
      "4.57\n"
     ]
    }
   ],
   "source": [
    "# аннотация переменной\n",
    "a: int\n",
    "a = 4\n",
    "print(a)\n",
    "\n",
    "b: float = 4.57\n",
    "print(b)"
   ]
  },
  {
   "cell_type": "code",
   "execution_count": 47,
   "id": "abe86fd3",
   "metadata": {},
   "outputs": [
    {
     "name": "stdout",
     "output_type": "stream",
     "text": [
      "{'a': <class 'int'>, 'b': <class 'str'>, 'return': <class 'float'>}\n"
     ]
    }
   ],
   "source": [
    "# функции\n",
    "def funcA(a: int, b: str) -> float:\n",
    "    ...\n",
    "\n",
    "print(funcA.__annotations__)"
   ]
  },
  {
   "cell_type": "code",
   "execution_count": null,
   "id": "6ac9ca80",
   "metadata": {},
   "outputs": [],
   "source": [
    "# списка\n",
    "l: list[float] = [2.56, 6.1, 23.9]"
   ]
  },
  {
   "cell_type": "code",
   "execution_count": null,
   "id": "7994a8fd",
   "metadata": {},
   "outputs": [],
   "source": [
    "# кортежа, для каждого элемента обозначить тип !\n",
    "t: tuple[int, str, bool] = (3, 'three', True)\n",
    "# кортеж с произвольным числом элементов\n",
    "t2: tuple[int, ...]"
   ]
  },
  {
   "cell_type": "code",
   "execution_count": null,
   "id": "b2fd82fd",
   "metadata": {},
   "outputs": [],
   "source": [
    "# словаря\n",
    "d: dict[int, float] = {1: 3.145}"
   ]
  },
  {
   "cell_type": "code",
   "execution_count": null,
   "id": "2ee6d060",
   "metadata": {},
   "outputs": [],
   "source": [
    "# множества\n",
    "st: set[int] = {2, 6, 1, 9, 0}"
   ]
  },
  {
   "cell_type": "markdown",
   "id": "e66e4107",
   "metadata": {},
   "source": [
    "> Для версий языка Python ниже 3.9 используют типы List, Tuple, Dict, Set из модуля typing"
   ]
  },
  {
   "cell_type": "markdown",
   "id": "47ff46f2",
   "metadata": {},
   "source": [
    "#### Модуль typing и типы Union, Optional, Any, Callable"
   ]
  },
  {
   "cell_type": "code",
   "execution_count": 51,
   "id": "8b8e9d29",
   "metadata": {},
   "outputs": [],
   "source": [
    "from typing import Union, Optional, Any, Callable"
   ]
  },
  {
   "cell_type": "markdown",
   "id": "aefa8e75",
   "metadata": {},
   "source": [
    "> Union позволяет комбинировать несколько разных типов в один, образуя составной тип."
   ]
  },
  {
   "cell_type": "code",
   "execution_count": null,
   "id": "d63d869c",
   "metadata": {},
   "outputs": [],
   "source": [
    "a: Union[int, float]\n",
    "# или\n",
    "b: int | float"
   ]
  },
  {
   "cell_type": "markdown",
   "id": "59a7ab99",
   "metadata": {},
   "source": [
    "> Optional позволяет указать один какой-либо тип данных и еще автоматически добавляется тип None."
   ]
  },
  {
   "cell_type": "code",
   "execution_count": null,
   "id": "539e3943",
   "metadata": {},
   "outputs": [],
   "source": [
    "s: Optional[str]       # эквивалентно s: Union[str, None]"
   ]
  },
  {
   "cell_type": "markdown",
   "id": "57c73ecd",
   "metadata": {},
   "source": [
    "> Any означает буквально любой тип данных."
   ]
  },
  {
   "cell_type": "code",
   "execution_count": null,
   "id": "610cc8b2",
   "metadata": {},
   "outputs": [],
   "source": [
    "c: Any"
   ]
  },
  {
   "cell_type": "markdown",
   "id": "89275ae1",
   "metadata": {},
   "source": [
    "> Callable позволяет аннотировать вызываемые объекты. Часто это обычные функции, которые передаются как параметры.  \n",
    "> В общем случае тип Callable описывается по синтаксису: `Callable[[TypeArg1, TypeArg2, …], ReturnType]`  "
   ]
  },
  {
   "cell_type": "code",
   "execution_count": 53,
   "id": "04d97869",
   "metadata": {},
   "outputs": [
    {
     "name": "stdout",
     "output_type": "stream",
     "text": [
      "21.5\n"
     ]
    }
   ],
   "source": [
    "def calculate(i: int) -> float:\n",
    "    return 0.5 * i\n",
    "\n",
    "def main_func(call_func: Callable[[int], Union[int, float]], \n",
    "              n: Union[int, float]) -> Union[int, float]:\n",
    "    return call_func(n)\n",
    "\n",
    "print(main_func(calculate, 43))"
   ]
  },
  {
   "cell_type": "code",
   "execution_count": null,
   "id": "053a388d",
   "metadata": {},
   "outputs": [],
   "source": [
    "# комбинирование\n",
    "co: list[Union[int, float, bool]]\n",
    "co2: Optional[list[Union[int, float]], tuple[int, ...]]"
   ]
  },
  {
   "cell_type": "markdown",
   "id": "2cbd0167",
   "metadata": {},
   "source": [
    "#### Аннотация с помощью Type и TypeVar"
   ]
  },
  {
   "cell_type": "markdown",
   "id": "2cc49f75",
   "metadata": {},
   "source": [
    "> С помощью класса TypeVar можно описать некий общий тип.  "
   ]
  },
  {
   "cell_type": "code",
   "execution_count": 66,
   "id": "d65ec041",
   "metadata": {},
   "outputs": [],
   "source": [
    "from typing import Type, TypeVar, Generic"
   ]
  },
  {
   "cell_type": "code",
   "execution_count": 64,
   "id": "4dbd600b",
   "metadata": {},
   "outputs": [
    {
     "name": "stdout",
     "output_type": "stream",
     "text": [
      "1\n",
      "1\n"
     ]
    }
   ],
   "source": [
    "T = TypeVar('T')\n",
    "\n",
    "def mirror(value: list[Type[T]]) -> Type[T]:\n",
    "    return value[0]\n",
    "\n",
    "print(mirror([1, 2, 3]))\n",
    "print(mirror(['1', '2', '3']))"
   ]
  },
  {
   "cell_type": "code",
   "execution_count": null,
   "id": "958aa260",
   "metadata": {},
   "outputs": [
    {
     "name": "stdout",
     "output_type": "stream",
     "text": [
      "Main\n",
      "Child\n",
      "Fictive\n"
     ]
    }
   ],
   "source": [
    "class MainT:\n",
    "    var = 'Main'\n",
    "\n",
    "class ChildT(MainT):\n",
    "    var = 'Child'\n",
    "\n",
    "class Fictive:\n",
    "    var = 'Fictive'\n",
    "\n",
    "# здесь объявление универсального типа с именем T\n",
    "# bound указывает что он должен быть или классом MainT или любым его дочерним классом\n",
    "T = TypeVar('T', bound=MainT)\n",
    "\n",
    "def factory(obj: Type[T]) -> str:\n",
    "    return obj.var\n",
    "\n",
    "print(factory(MainT))\n",
    "print(factory(ChildT))\n",
    "print(factory(Fictive))  # здесь подсказка анализатору, код выполнится "
   ]
  },
  {
   "cell_type": "code",
   "execution_count": null,
   "id": "07b13c15",
   "metadata": {},
   "outputs": [
    {
     "name": "stdout",
     "output_type": "stream",
     "text": [
      "1\n",
      "one\n"
     ]
    }
   ],
   "source": [
    "# обобщенный тип\n",
    "T1 = TypeVar('T1')\n",
    "T2 = TypeVar('T2')\n",
    "\n",
    "class Pair(Generic[T1, T2]):\n",
    "    def __init__(self, first: T1, second: T2):\n",
    "        self.first = first\n",
    "        self.second = second\n",
    "\n",
    "    def get_first(self) -> T1:\n",
    "        return self.first\n",
    "\n",
    "    def get_second(self) -> T2:\n",
    "        return self.second\n",
    "    \n",
    "pair = Pair(1, \"one\")\n",
    "print(pair.get_first())     # выведет 1\n",
    "print(pair.get_second())    # выведет one"
   ]
  },
  {
   "cell_type": "markdown",
   "id": "934dec29",
   "metadata": {},
   "source": [
    "#### typing.Annotated"
   ]
  },
  {
   "cell_type": "markdown",
   "id": "9e2b990a",
   "metadata": {},
   "source": [
    "> typing.Annotated — это аннотация, позволяющая расширить тип дополнительными метаданными."
   ]
  },
  {
   "cell_type": "markdown",
   "id": "b51fd61f",
   "metadata": {},
   "source": [
    "> Первым аргументом в Annotated всегда указывается валидный тип (например: int), все последующие аргументы являются метаданными.  \n",
    "> Метаданными могут являться любые объекты python. Они могут использоваться либо для статического анализа, либо во время выполнения.  \n",
    "> Если инструмент проверки типизации сталкивается с подсказкой типа Annotated[T, x] и не имеет специальной логики для метаданных x, то он должен игнорировать его и просто рассматривать как тип T."
   ]
  },
  {
   "cell_type": "code",
   "execution_count": 70,
   "id": "6efe0b4f",
   "metadata": {},
   "outputs": [],
   "source": [
    "from typing import Annotated\n",
    "x: Annotated[int, 'need integer'] = 45"
   ]
  },
  {
   "cell_type": "markdown",
   "id": "6654c724",
   "metadata": {},
   "source": [
    "> Для получения аннотаций типов из объектов (функций, методов, классов или модулей) с метаданными можно использовать функцию `get_type_hints` из модуля typing с указанием аргумента `include_extras=True`.  Метаданные хранятся в атрибуте `__metadata__`.  "
   ]
  },
  {
   "cell_type": "code",
   "execution_count": 75,
   "id": "4d5a885c",
   "metadata": {},
   "outputs": [
    {
     "name": "stdout",
     "output_type": "stream",
     "text": [
      "{'x': <class 'int'>, 'y': <class 'str'>, 'z': <class 'float'>, 'return': <class 'bool'>}\n",
      "{'x': <class 'int'>, 'y': <class 'str'>, 'z': typing.Annotated[float, 'need float'], 'return': <class 'bool'>}\n",
      "('need float',)\n"
     ]
    }
   ],
   "source": [
    "from typing import get_type_hints\n",
    "\n",
    "def func_annot(x: int, y: str, z: Annotated[float, 'need float']) -> bool:\n",
    "    ...\n",
    "    return True\n",
    "\n",
    "print(get_type_hints(func_annot))\n",
    "print(get_type_hints(func_annot, include_extras=True))                      # включение Annotated\n",
    "print(get_type_hints(func_annot, include_extras=True)['z'].__metadata__)    # метаданные параметра z"
   ]
  },
  {
   "cell_type": "markdown",
   "id": "aa144fc5",
   "metadata": {},
   "source": [
    "### Метаклассы"
   ]
  },
  {
   "cell_type": "markdown",
   "id": "c5185067",
   "metadata": {},
   "source": [
    "> Класс создает объект:  "
   ]
  },
  {
   "cell_type": "code",
   "execution_count": 2,
   "id": "23b2fe94",
   "metadata": {},
   "outputs": [
    {
     "name": "stdout",
     "output_type": "stream",
     "text": [
      "<__main__.MClass object at 0x000002186BC6D0D0>\n"
     ]
    }
   ],
   "source": [
    "class MClass:\n",
    "    ...\n",
    "\n",
    "mc = MClass()\n",
    "print(mc)"
   ]
  },
  {
   "cell_type": "markdown",
   "id": "e16356d1",
   "metadata": {},
   "source": [
    "> Класс сам является объектом.  \n",
    "> Функция `type` может создавать классы, она принимает на вход описание класса и создает класс.  \n",
    "```\n",
    "    type(\n",
    "        <имя класса>, \n",
    "        <кортеж родительских классов>, # для наследования, может быть пустым\n",
    "        <словарь, содержащий атрибуты и их значения>\n",
    "    )\n",
    "```"
   ]
  },
  {
   "cell_type": "code",
   "execution_count": 3,
   "id": "ac73e439",
   "metadata": {},
   "outputs": [
    {
     "name": "stdout",
     "output_type": "stream",
     "text": [
      "<class '__main__.MClass2'>\n",
      "<__main__.MClass2 object at 0x000002186BC6CBC0>\n"
     ]
    }
   ],
   "source": [
    "MClass2 = type('MClass2', (), {})\n",
    "print(MClass2)\n",
    "mc2 = MClass2()\n",
    "print(mc2)"
   ]
  },
  {
   "cell_type": "code",
   "execution_count": 6,
   "id": "3230661b",
   "metadata": {},
   "outputs": [
    {
     "name": "stdout",
     "output_type": "stream",
     "text": [
      "<class '__main__.MClass3'>\n",
      "(<class '__main__.MClass'>, <class '__main__.MClass2'>)\n",
      "23\n",
      "<function meth at 0x000002186BE6F600>\n",
      "<__main__.MClass3 object at 0x000002186BDCE1B0>\n",
      "23\n",
      "meth\n"
     ]
    }
   ],
   "source": [
    "# класс с наследованием и атрибутом и методом\n",
    "def meth(self):\n",
    "    return 'meth'\n",
    "\n",
    "MClass3 = type('MClass3', (MClass, MClass2,), {'a': 23, 'meth': meth})\n",
    "print(MClass3)\n",
    "print(MClass3.__bases__) # от каких классов наследуемся\n",
    "print(MClass3.a)\n",
    "print(MClass3.meth)\n",
    "mc3 = MClass3()\n",
    "print(mc3)\n",
    "print(mc3.a)\n",
    "print(mc3.meth())"
   ]
  },
  {
   "cell_type": "markdown",
   "id": "4ae7bf80",
   "metadata": {},
   "source": [
    "> Метакласс это сущность, создающая объекты-классы.  \n",
    "> Функция `type` это встроенный метакласс, который использует python для создания всех классов.  "
   ]
  },
  {
   "cell_type": "code",
   "execution_count": 11,
   "id": "d1d35525",
   "metadata": {},
   "outputs": [
    {
     "name": "stdout",
     "output_type": "stream",
     "text": [
      "<class 'type'>\n"
     ]
    }
   ],
   "source": [
    "class MClass4:\n",
    "    ...\n",
    "\n",
    "print(MClass4.__class__)"
   ]
  },
  {
   "cell_type": "markdown",
   "id": "e33bceec",
   "metadata": {},
   "source": [
    "> Метаклассы представляют собой подклассы класса `type`."
   ]
  },
  {
   "cell_type": "markdown",
   "id": "4144b3f3",
   "metadata": {},
   "source": [
    "#### metaclass"
   ]
  },
  {
   "cell_type": "markdown",
   "id": "2351c399",
   "metadata": {},
   "source": [
    "*&nbsp;&nbsp;&nbsp;&nbsp;Метаклассы это глубокая магия, о которой 99% пользователей даже не нужно задумываться. Если вы думаете, нужно ли вам их использовать — вам не нужно.*"
   ]
  },
  {
   "cell_type": "markdown",
   "id": "c0060f39",
   "metadata": {},
   "source": [
    "> При написании класса можно добавить атрибут `metaclass`, он указывает что будет использоваться указанный метакласс при создании класса.  \n",
    "> При создании класса python ищет `metaclass` в определении класса, в родительских классах, на уровне модуля. Если не находит то использует `type`.  \n"
   ]
  },
  {
   "cell_type": "code",
   "execution_count": null,
   "id": "b57e8a29",
   "metadata": {},
   "outputs": [],
   "source": [
    "class MClass5(metaclass=type):\n",
    "    ..."
   ]
  },
  {
   "cell_type": "markdown",
   "id": "e37002e4",
   "metadata": {},
   "source": [
    "> `metaclass` может быть любым вызываемым объектом, не обязательно формальным классом.  "
   ]
  },
  {
   "cell_type": "markdown",
   "id": "b3cf042b",
   "metadata": {},
   "source": [
    "> Будучи подклассами `type`, они могут переопределять методы объекта `type`, настраивая их должным образом.  \n",
    "> Метаклассы, как правило, переопределяют методы `__new__` и `__init__` класса `type` для настройки создания и инициализации классов. Хотя и реже, они могут переопределять также метод `__call__`, если требуется напрямую перехватывать вызов создания класса в конце."
   ]
  },
  {
   "cell_type": "code",
   "execution_count": null,
   "id": "4060c937",
   "metadata": {},
   "outputs": [
    {
     "name": "stdout",
     "output_type": "stream",
     "text": [
      "<class '__main__.MClass6'>\n",
      "0\n",
      "100\n"
     ]
    }
   ],
   "source": [
    "# пример с функцией\n",
    "# при создании класса добавим по умолчанию атрибут A\n",
    "def meta_func(future_name: str, future_parents: tuple, future_attrs: dict):\n",
    "    future_attrs.update({'A': 0})\n",
    "    return type(future_name, future_parents, future_attrs)\n",
    "\n",
    "\n",
    "class MClass6(metaclass=meta_func):\n",
    "    B = 100\n",
    "\n",
    "print(MClass6)\n",
    "print(MClass6.A)    # 0 (добавлено метаклассом)\n",
    "print(MClass6.B)    # 100 (обычный атрибут класса)"
   ]
  },
  {
   "cell_type": "code",
   "execution_count": 2,
   "id": "16ab906d",
   "metadata": {},
   "outputs": [
    {
     "name": "stdout",
     "output_type": "stream",
     "text": [
      "0\n"
     ]
    }
   ],
   "source": [
    "# пример с классом\n",
    "class MetaClass1(type):\n",
    "    def __new__(cls, name, bases, attrs):\n",
    "        attrs['A'] = 0\n",
    "        return super().__new__(cls, name, bases, attrs)\n",
    "\n",
    "class MClass7(metaclass=MetaClass1):\n",
    "    B = 100\n",
    "\n",
    "print(MClass7.A)  # 0"
   ]
  },
  {
   "cell_type": "markdown",
   "id": "64fbe527",
   "metadata": {},
   "source": [
    "> В общем случае метод `__new__` создает и возвращает объект класса, а метод `__init__` инициализирует уже созданный класс, передаваемый в качестве аргумента. Метаклассы могут применять любую из двух или обе привязки для управления классом на стадии создания."
   ]
  },
  {
   "cell_type": "markdown",
   "id": "438bdd2d",
   "metadata": {},
   "source": [
    "> Атрибуты метаклассов не наследуются кастомными классами, и их экземплярами!"
   ]
  },
  {
   "cell_type": "code",
   "execution_count": null,
   "id": "d4e65e82",
   "metadata": {},
   "outputs": [
    {
     "name": "stdout",
     "output_type": "stream",
     "text": [
      "<class '__main__.MClass8'>\n",
      "200\n",
      "{'__module__': '__main__', '__dict__': <attribute '__dict__' of 'MClass8' objects>, '__weakref__': <attribute '__weakref__' of 'MClass8' objects>, '__doc__': None}\n"
     ]
    },
    {
     "ename": "AttributeError",
     "evalue": "'MClass8' object has no attribute 'attr'",
     "output_type": "error",
     "traceback": [
      "\u001b[1;31m---------------------------------------------------------------------------\u001b[0m",
      "\u001b[1;31mAttributeError\u001b[0m                            Traceback (most recent call last)",
      "Cell \u001b[1;32mIn[5], line 10\u001b[0m\n\u001b[0;32m      8\u001b[0m \u001b[38;5;28mprint\u001b[39m(MClass8\u001b[38;5;241m.\u001b[39mattr)\n\u001b[0;32m      9\u001b[0m \u001b[38;5;28mprint\u001b[39m(MClass8\u001b[38;5;241m.\u001b[39m\u001b[38;5;18m__dict__\u001b[39m)\n\u001b[1;32m---> 10\u001b[0m \u001b[38;5;28mprint\u001b[39m(MClass8()\u001b[38;5;241m.\u001b[39mattr)\n",
      "\u001b[1;31mAttributeError\u001b[0m: 'MClass8' object has no attribute 'attr'"
     ]
    }
   ],
   "source": [
    "class MetaClass2(type):\n",
    "    attr = 200\n",
    "\n",
    "class MClass8(metaclass=MetaClass2):\n",
    "    ...\n",
    "\n",
    "print(MClass8)\n",
    "print(MClass8.attr)         # 200 (берётся из метакласса, это не наследование, а fallback-поиск) \n",
    "print(MClass8.__dict__)     # {} (в самом классе attr нет)\n",
    "print(MClass8().attr)       # AttributeError: 'MClass8' object has no attribute 'attr'"
   ]
  },
  {
   "cell_type": "markdown",
   "id": "5e31f90f",
   "metadata": {},
   "source": [
    "> Методы, определённые в метаклассе, не становятся методами экземпляров, но могут быть методами классов."
   ]
  },
  {
   "cell_type": "code",
   "execution_count": 7,
   "id": "10e09418",
   "metadata": {},
   "outputs": [
    {
     "name": "stdout",
     "output_type": "stream",
     "text": [
      "... in meta ...\n"
     ]
    },
    {
     "ename": "AttributeError",
     "evalue": "'MClass9' object has no attribute 'meta_method'",
     "output_type": "error",
     "traceback": [
      "\u001b[1;31m---------------------------------------------------------------------------\u001b[0m",
      "\u001b[1;31mAttributeError\u001b[0m                            Traceback (most recent call last)",
      "Cell \u001b[1;32mIn[7], line 9\u001b[0m\n\u001b[0;32m      6\u001b[0m     \u001b[38;5;28;01mpass\u001b[39;00m\n\u001b[0;32m      8\u001b[0m MClass9\u001b[38;5;241m.\u001b[39mmeta_method()       \u001b[38;5;66;03m# Работает (метод класса)\u001b[39;00m\n\u001b[1;32m----> 9\u001b[0m MClass9()\u001b[38;5;241m.\u001b[39mmeta_method()\n",
      "\u001b[1;31mAttributeError\u001b[0m: 'MClass9' object has no attribute 'meta_method'"
     ]
    }
   ],
   "source": [
    "class MetaClass3(type):\n",
    "    def meta_method(cls):\n",
    "        print(\"... in meta ...\")\n",
    "\n",
    "class MClass9(metaclass=MetaClass3):\n",
    "    pass\n",
    "\n",
    "MClass9.meta_method()       # Работает (метод класса)\n",
    "MClass9().meta_method()     # AttributeError (не доступен в экземпляре)"
   ]
  },
  {
   "cell_type": "markdown",
   "id": "48049115",
   "metadata": {},
   "source": [
    "### SOLID принципы"
   ]
  },
  {
   "cell_type": "markdown",
   "id": "956ae555",
   "metadata": {},
   "source": [
    "*При создании программных систем использование принципов SOLID способствует созданию такой системы, которую будет легко <ins>поддерживать и расширять</ins> в течение долгого времени.*"
   ]
  },
  {
   "cell_type": "markdown",
   "id": "d3498355",
   "metadata": {},
   "source": [
    "1. <ins>Принцип единственной ответственности (Single Responsibility Principle - SRP)</ins>  \n",
    "__Класс должен иметь только одну причину для изменения, то есть только одну ответственность.__  \n",
    "Класс отвечает за что-то одно (класс работы с БД, класс отправки и принятия писем, класс работы с файлом и тд.). Следование принципу заключается обычно в декомпозиции сложных классов, которые делают сразу много вещей, на простые, отвественность которых очень специализирована. Проектирование классов с направленностью на обеспечение единственной обязанности упрощает дальнейшие модификации и сопровождение, так как проще разобраться в одном блоке функциональности."
   ]
  },
  {
   "cell_type": "markdown",
   "id": "d39e2fa9",
   "metadata": {},
   "source": [
    "2. <ins>Принцип открытости/закрытости (Open/Closed Principle - OCP)</ins>  \n",
    "__Программные сущности должны быть открыты для расширения, но закрыты для модификации.__   \n",
    "Класс должен быть закрыт для изменения, но открыт для расширения (при наследовании). Это когда класс спроектирован так, что можно без труда поменять логику в унаследованном классе, не трогая базовый класс. Добавляем новый код не меняя старый."
   ]
  },
  {
   "cell_type": "markdown",
   "id": "59f83a36",
   "metadata": {},
   "source": [
    "3. <ins>Принцип подстановки Барбары Лисков (Liskov Substitution Principle - LSP)</ins>  \n",
    "__Объекты в программе должны быть заменяемыми на экземпляры их подтипов без изменения правильности программы.__  \n",
    "Если в коде программы Базовый класс заменить на его Наследника, то программа должна работать, так как в Наследнике есть все операции, которые были в Базовом. В Базовый класс нужно выносить только общую логику, которую наследники будут реализовывать."
   ]
  },
  {
   "cell_type": "markdown",
   "id": "5897fa76",
   "metadata": {},
   "source": [
    "4. <ins>Принцип разделения интерфейса (Interface Segregation Principle - ISP)</ins>  \n",
    "Клиенты не должны зависеть от методов, которые они не используют."
   ]
  },
  {
   "cell_type": "markdown",
   "id": "b5c4d1a9",
   "metadata": {},
   "source": [
    "5. <ins>Принцип инверсии зависимостей (Dependency Inversion Principle - DIP)</ins>  \n",
    "Модули верхнего уровня не должны зависеть от модулей нижнего уровня. Оба уровня должны зависеть от абстракций. Подобная архитектура достигается с помощью общих интерфейсов, скрывающих реализацию нижележащих объектов."
   ]
  }
 ],
 "metadata": {
  "kernelspec": {
   "display_name": "base",
   "language": "python",
   "name": "python3"
  },
  "language_info": {
   "codemirror_mode": {
    "name": "ipython",
    "version": 3
   },
   "file_extension": ".py",
   "mimetype": "text/x-python",
   "name": "python",
   "nbconvert_exporter": "python",
   "pygments_lexer": "ipython3",
   "version": "3.12.7"
  }
 },
 "nbformat": 4,
 "nbformat_minor": 5
}
