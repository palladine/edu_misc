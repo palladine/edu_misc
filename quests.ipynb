{
 "cells": [
  {
   "cell_type": "markdown",
   "id": "6e037d53",
   "metadata": {},
   "source": [
    "### MRO"
   ]
  },
  {
   "cell_type": "markdown",
   "id": "4e05c840",
   "metadata": {},
   "source": [
    "> MRO — это порядок, в котором Python ищет методы и атрибуты при их вызове. Он особенно важен в контексте множественного наследования, где один класс может наследовать поведение от нескольких других классов. MRO позволяет Python решать, какой метод или атрибут использовать, если они определены в нескольких родительских классах. "
   ]
  },
  {
   "cell_type": "markdown",
   "id": "8fa1e229",
   "metadata": {},
   "source": [
    "> В Python для вычисления MRO используется алгоритм C3 Linearization (C3-линеаризация).  \n",
    ">>Два основных правила линеаризации:  \n",
    ">>__-дети идут раньше родителей;__  \n",
    ">>__-родители идут в порядке перечисления.__"
   ]
  },
  {
   "cell_type": "code",
   "execution_count": null,
   "id": "68f8f9b1",
   "metadata": {},
   "outputs": [],
   "source": [
    "def show(_mro):\n",
    "    c = [f'({v.__name__})' for v in _mro]\n",
    "    return ' -> '.join(c)"
   ]
  },
  {
   "cell_type": "code",
   "execution_count": null,
   "id": "071b92f7",
   "metadata": {},
   "outputs": [
    {
     "name": "stdout",
     "output_type": "stream",
     "text": [
      "(B) -> (A) -> (object)\n"
     ]
    }
   ],
   "source": [
    "class A1:\n",
    "    ...\n",
    "\n",
    "class B1(A1):\n",
    "    ...\n",
    "\n",
    "print(show(B1.__mro__))"
   ]
  },
  {
   "cell_type": "code",
   "execution_count": null,
   "id": "d7f1e03d",
   "metadata": {},
   "outputs": [
    {
     "name": "stdout",
     "output_type": "stream",
     "text": [
      "(C2) -> (B2) -> (A2) -> (object)\n"
     ]
    }
   ],
   "source": [
    "class A2:\n",
    "    ...\n",
    "\n",
    "class B2(A2):\n",
    "    ...\n",
    "\n",
    "class C2(B2):\n",
    "    ...\n",
    "\n",
    "print(show(C2.__mro__))"
   ]
  },
  {
   "cell_type": "code",
   "execution_count": null,
   "id": "b958a2bd",
   "metadata": {},
   "outputs": [
    {
     "name": "stdout",
     "output_type": "stream",
     "text": [
      "(D3) -> (B3) -> (C3) -> (A3) -> (object)\n",
      "(E3) -> (C3) -> (B3) -> (A3) -> (object)\n"
     ]
    }
   ],
   "source": [
    "# Diamond problem\n",
    "class A3:\n",
    "    ...\n",
    "\n",
    "class B3(A3):\n",
    "    ...\n",
    "\n",
    "class C3(A3):\n",
    "    ...\n",
    "\n",
    "class D3(B3, C3):\n",
    "    ...\n",
    "\n",
    "class E3(C3,  B3):\n",
    "    ...\n",
    "\n",
    "\n",
    "print(show(D3.__mro__))\n",
    "print(show(E3.__mro__))"
   ]
  },
  {
   "cell_type": "code",
   "execution_count": null,
   "id": "f847c565",
   "metadata": {},
   "outputs": [
    {
     "ename": "TypeError",
     "evalue": "Cannot create a consistent method resolution\norder (MRO) for bases B4, C4",
     "output_type": "error",
     "traceback": [
      "\u001b[1;31m---------------------------------------------------------------------------\u001b[0m",
      "\u001b[1;31mTypeError\u001b[0m                                 Traceback (most recent call last)",
      "Cell \u001b[1;32mIn[18], line 17\u001b[0m\n\u001b[0;32m     14\u001b[0m \u001b[38;5;28;01mclass\u001b[39;00m \u001b[38;5;21;01mE4\u001b[39;00m(C4,  B4):\n\u001b[0;32m     15\u001b[0m     \u001b[38;5;241m.\u001b[39m\u001b[38;5;241m.\u001b[39m\u001b[38;5;241m.\u001b[39m\n\u001b[1;32m---> 17\u001b[0m \u001b[38;5;28;01mclass\u001b[39;00m \u001b[38;5;21;01mF5\u001b[39;00m(D4, E4):\n\u001b[0;32m     18\u001b[0m     \u001b[38;5;241m.\u001b[39m\u001b[38;5;241m.\u001b[39m\u001b[38;5;241m.\u001b[39m\n\u001b[0;32m     20\u001b[0m \u001b[38;5;28mprint\u001b[39m(show(F5\u001b[38;5;241m.\u001b[39m\u001b[38;5;18m__mro__\u001b[39m))\n",
      "\u001b[1;31mTypeError\u001b[0m: Cannot create a consistent method resolution\norder (MRO) for bases B4, C4"
     ]
    }
   ],
   "source": [
    "class A4:\n",
    "    ...\n",
    "\n",
    "class B4(A4):\n",
    "    ...\n",
    "\n",
    "class C4(A4):\n",
    "    ...\n",
    "\n",
    "class D4(B4, C4):\n",
    "    ...\n",
    "\n",
    "class E4(C4,  B4):\n",
    "    ...\n",
    "\n",
    "class F5(D4, E4):\n",
    "    ...\n",
    "\n",
    "print(show(F5.__mro__))"
   ]
  },
  {
   "cell_type": "markdown",
   "id": "3c4bff05",
   "metadata": {},
   "source": [
    "> Одним из часто используемых механизмов, связанных с MRO, является функция `super()`. Она позволяет обращаться к методам родительских классов, что особенно полезно при переопределении методов в дочерних классах."
   ]
  },
  {
   "cell_type": "code",
   "execution_count": null,
   "id": "bd8feed4",
   "metadata": {},
   "outputs": [
    {
     "name": "stdout",
     "output_type": "stream",
     "text": [
      "I am A\n",
      "I am C\n",
      "I am B\n",
      "I am D\n",
      "(D6) -> (B6) -> (C6) -> (A6) -> (object)\n"
     ]
    }
   ],
   "source": [
    "class A6:\n",
    "    def who_am_i(self):\n",
    "        print(\"I am A\")\n",
    " \n",
    "class B6(A6):\n",
    "    def who_am_i(self):\n",
    "        super().who_am_i()\n",
    "        print(\"I am B\")\n",
    " \n",
    "class C6(A6):\n",
    "    def who_am_i(self):\n",
    "        super().who_am_i()\n",
    "        print(\"I am C\")\n",
    " \n",
    "class D6(B6, C6):\n",
    "    def who_am_i(self):\n",
    "        super().who_am_i()\n",
    "        print(\"I am D\")\n",
    " \n",
    "d = D6()\n",
    "d.who_am_i()\n",
    "print(show(D6.__mro__))"
   ]
  },
  {
   "cell_type": "markdown",
   "id": "519feb52",
   "metadata": {},
   "source": [
    "> при НЕромбовидной схеме, наследование производится классически (сначала в глубину, затем слева направо) "
   ]
  },
  {
   "cell_type": "code",
   "execution_count": null,
   "id": "e1f7a07a",
   "metadata": {},
   "outputs": [
    {
     "name": "stdout",
     "output_type": "stream",
     "text": [
      "(E7) -> (C7) -> (A7) -> (D7) -> (B7) -> (object)\n"
     ]
    }
   ],
   "source": [
    "class A7: pass\n",
    "class B7: pass\n",
    "class C7(A7): pass\n",
    "class D7(B7): pass\n",
    "class E7(C7, D7): pass\n",
    "print(show(E7.__mro__))"
   ]
  },
  {
   "cell_type": "markdown",
   "id": "9861eb0d",
   "metadata": {},
   "source": [
    "### Генераторы"
   ]
  },
  {
   "cell_type": "markdown",
   "id": "f25d3173",
   "metadata": {},
   "source": [
    "> Генератор — это функция, которая возвращает итератор (объект-генератор).  \n",
    "> Функции-генераторы помогают получать значения по запросу.  \n",
    "> Объект-генератор можно обойти только один раз.  \n",
    "> Функции-генераторы экономят память.  \n",
    "> После возврата всех элементов(прохождения всего цикла), генератор вызовет исключение StopIteration.  \n",
    "> Инструкция yield возвращает следующее значение и приостанавливает работу функции-генератора.  \n",
    "> yield можно использовать несколько раз в коде функции-генератора.  \n",
    "> Помимо yield генератор может содержать и return. Встретив return генератор выбрасывает исключение  StopIteration, а возвращенное значение записывается в объект StopIteration в атрибут value (по умолчанию None)!  "
   ]
  },
  {
   "cell_type": "code",
   "execution_count": null,
   "id": "2635b009",
   "metadata": {},
   "outputs": [
    {
     "name": "stdout",
     "output_type": "stream",
     "text": [
      "2\n",
      "4\n"
     ]
    }
   ],
   "source": [
    "# пример функции-генератора\n",
    "def gen(n):\n",
    "    for i in range(1, n):\n",
    "        yield i*2\n",
    "\n",
    "a = gen(10)            # a - объект-генератор !\n",
    "print(next(a))\n",
    "print(next(a))"
   ]
  },
  {
   "cell_type": "code",
   "execution_count": 10,
   "id": "8b614b74",
   "metadata": {},
   "outputs": [
    {
     "name": "stdout",
     "output_type": "stream",
     "text": [
      "2\n",
      "4\n"
     ]
    }
   ],
   "source": [
    "# пример генераторного выражения\n",
    "a = (x*2 for x in range(1, 10))\n",
    "print(next(a))\n",
    "print(next(a))"
   ]
  },
  {
   "cell_type": "markdown",
   "id": "ca2f9e87",
   "metadata": {},
   "source": [
    "> Есть три метода у генератора:  \n",
    "> - .close() - остановка вырлднения генератора;  \n",
    "> - .throw() - поднятие исключения (генератор должен быть инициализирован вызовом next или send(None));  \n",
    "> - .send() - отпраить значение генератору. Чтобы начать передачу значений в генератор его нужно сначала инициализировать с помощью вызова `next()` или отправив в генератор значение None."
   ]
  },
  {
   "cell_type": "code",
   "execution_count": 11,
   "id": "80e3614c",
   "metadata": {},
   "outputs": [
    {
     "name": "stdout",
     "output_type": "stream",
     "text": [
      "2\n",
      "4\n"
     ]
    },
    {
     "ename": "Exception",
     "evalue": "Val is 6!",
     "output_type": "error",
     "traceback": [
      "\u001b[1;31m---------------------------------------------------------------------------\u001b[0m",
      "\u001b[1;31mException\u001b[0m                                 Traceback (most recent call last)",
      "Cell \u001b[1;32mIn[11], line 9\u001b[0m\n\u001b[0;32m      7\u001b[0m \u001b[38;5;28;01mfor\u001b[39;00m val \u001b[38;5;129;01min\u001b[39;00m b:\n\u001b[0;32m      8\u001b[0m     \u001b[38;5;28;01mif\u001b[39;00m val \u001b[38;5;241m==\u001b[39m \u001b[38;5;241m6\u001b[39m:\n\u001b[1;32m----> 9\u001b[0m         b\u001b[38;5;241m.\u001b[39mthrow(\u001b[38;5;167;01mException\u001b[39;00m(\u001b[38;5;124m'\u001b[39m\u001b[38;5;124mVal is 6!\u001b[39m\u001b[38;5;124m'\u001b[39m))\n\u001b[0;32m     10\u001b[0m     \u001b[38;5;28mprint\u001b[39m(val)\n",
      "Cell \u001b[1;32mIn[11], line 4\u001b[0m, in \u001b[0;36mgen_exept\u001b[1;34m(n)\u001b[0m\n\u001b[0;32m      2\u001b[0m \u001b[38;5;28;01mdef\u001b[39;00m \u001b[38;5;21mgen_exept\u001b[39m(n):\n\u001b[0;32m      3\u001b[0m     \u001b[38;5;28;01mfor\u001b[39;00m i \u001b[38;5;129;01min\u001b[39;00m \u001b[38;5;28mrange\u001b[39m(\u001b[38;5;241m1\u001b[39m, \u001b[38;5;241m10\u001b[39m):\n\u001b[1;32m----> 4\u001b[0m         \u001b[38;5;28;01myield\u001b[39;00m i\u001b[38;5;241m*\u001b[39m\u001b[38;5;241m2\u001b[39m\n",
      "\u001b[1;31mException\u001b[0m: Val is 6!"
     ]
    }
   ],
   "source": [
    "# пример с исключением\n",
    "def gen_exept(n):\n",
    "    for i in range(1, 10):\n",
    "        yield i*2\n",
    "\n",
    "b = gen_exept(10)\n",
    "for val in b:\n",
    "    if val == 6:\n",
    "        b.throw(Exception('Val is 6!'))\n",
    "    print(val)"
   ]
  },
  {
   "cell_type": "code",
   "execution_count": null,
   "id": "160f6690",
   "metadata": {},
   "outputs": [],
   "source": []
  }
 ],
 "metadata": {
  "kernelspec": {
   "display_name": "base",
   "language": "python",
   "name": "python3"
  },
  "language_info": {
   "codemirror_mode": {
    "name": "ipython",
    "version": 3
   },
   "file_extension": ".py",
   "mimetype": "text/x-python",
   "name": "python",
   "nbconvert_exporter": "python",
   "pygments_lexer": "ipython3",
   "version": "3.11.5"
  }
 },
 "nbformat": 4,
 "nbformat_minor": 5
}
