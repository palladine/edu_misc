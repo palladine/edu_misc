{
 "cells": [
  {
   "cell_type": "markdown",
   "metadata": {},
   "source": [
    "### Бинарный поиск"
   ]
  },
  {
   "cell_type": "code",
   "execution_count": 3,
   "metadata": {},
   "outputs": [
    {
     "name": "stdout",
     "output_type": "stream",
     "text": [
      "6\n",
      "None\n",
      "0\n",
      "4\n",
      "2\n",
      "0\n",
      "0\n",
      "None\n",
      "None\n",
      "2147483647\n"
     ]
    }
   ],
   "source": [
    "# O(log n)\n",
    "# Базовый бинарный поиск, если нет элемента возвращает None\n",
    "# Список должени быть отсортирован !\n",
    "def bs(arr, target):\n",
    "    left = 0\n",
    "    right = len(arr) - 1\n",
    "\n",
    "    while left <= right:\n",
    "        mid = (left + right) // 2\n",
    "\n",
    "        if arr[mid] == target:\n",
    "            return mid\n",
    "        elif arr[mid] < target:\n",
    "            left = mid + 1\n",
    "        else:\n",
    "            right = mid - 1\n",
    "\n",
    "    return None\n",
    "\n",
    "\n",
    "# tests\n",
    "print(bs([1, 3, 5, 7, 9, 12, 15, 24, 35, 46, 57, 89, 90], 15))\n",
    "print(bs([1, 3, 5, 6, 7, 9, 0], 2))\n",
    "print(bs([1, 2, 3, 6], 1))\n",
    "print(bs([1, 3, 4, 6, 7], 7))\n",
    "print(bs([1, 2, 3], 3))\n",
    "print(bs([2, 5], 2))\n",
    "print(bs([1], 1))\n",
    "print(bs([1], 2))\n",
    "print(bs([], 3))\n",
    "\n",
    "n = 2**31\n",
    "seq = range(1, n+1)\n",
    "print(bs(seq, n))"
   ]
  },
  {
   "cell_type": "code",
   "execution_count": null,
   "metadata": {},
   "outputs": [],
   "source": [
    "# левый бинарный поиск\n",
    "def lbs(arr, args):\n",
    "    l = 0\n",
    "    r = len(arr) - 1\n",
    "\n",
    "    while l < r:\n",
    "        mid = (l + r) // 2\n",
    "        res = ...\n",
    "        if res:\n",
    "            r = mid\n",
    "        else:\n",
    "            l = mid + 1\n",
    "    \n",
    "    return l"
   ]
  },
  {
   "cell_type": "code",
   "execution_count": null,
   "metadata": {},
   "outputs": [],
   "source": [
    "# правый бинарный поиск\n",
    "def lbs(arr, args):\n",
    "    l = 0\n",
    "    r = len(arr) - 1\n",
    "\n",
    "    while l < r:\n",
    "        mid = (l + r + 1) // 2\n",
    "        res = ...\n",
    "        if res:\n",
    "            l = mid\n",
    "        else:\n",
    "            r = mid - 1\n",
    "\n",
    "    return l"
   ]
  },
  {
   "cell_type": "code",
   "execution_count": 74,
   "metadata": {},
   "outputs": [],
   "source": [
    "# Базовый бинарный поиск, если нет элемента возвращает индекс где должен находиться элемент\n",
    "def bs_i(arr, target):\n",
    "    left = 0\n",
    "    right = len(arr) - 1\n",
    "\n",
    "    while left <= right:\n",
    "        mid = (left + right) // 2\n",
    "\n",
    "        if arr[mid] == target:\n",
    "            return mid\n",
    "        elif arr[mid] < target:\n",
    "            left = mid + 1\n",
    "        else:\n",
    "            right = mid - 1\n",
    "\n",
    "    return left\n",
    "\n",
    "\n",
    "# tests\n",
    "print(bs_i([1, 3, 5, 7, 9, 12, 15, 24, 35, 46, 57, 89, 90], 16))"
   ]
  },
  {
   "cell_type": "code",
   "execution_count": 43,
   "metadata": {},
   "outputs": [
    {
     "name": "stdout",
     "output_type": "stream",
     "text": [
      "4\n",
      "2\n",
      "0\n",
      "6\n",
      "0\n",
      "0\n",
      "0\n",
      "1\n",
      "1\n"
     ]
    }
   ],
   "source": [
    "'''\n",
    "    Поиск индекса где переворачивается список, обе части отсортированны.\n",
    "    For example, [0,1,2,4,5,6,7] might be rotated at pivot index 3 and become [4,5,6,7,0,1,2].\n",
    "'''\n",
    "def find_pivot(seq):\n",
    "    left = 0\n",
    "    right = len(seq) - 1\n",
    "\n",
    "    while (left < right):\n",
    "        mid = (left + right)//2\n",
    "        if seq[mid] > seq[right]:\n",
    "            left = mid + 1\n",
    "        else:\n",
    "            right = mid\n",
    "    return left\n",
    "\n",
    "# tests \n",
    "print(find_pivot([4, 5, 6, 7, 0, 1, 2]))          # 4\n",
    "print(find_pivot([8, 9, 0, 1, 2, 3, 4, 5, 6, 7])) # 2\n",
    "print(find_pivot([0, 1, 2, 3, 4, 5, 6, 7]))       # 0\n",
    "print(find_pivot([4, 5, 6, 7, 8, 9, 3]))          # 6\n",
    "print(find_pivot([4, 5, 6, 7, 8, 9]))             # 0\n",
    "print(find_pivot([1]))                            # 0\n",
    "print(find_pivot([]))                             # 0\n",
    "print(find_pivot([3, 1]))                         # 1\n",
    "print(find_pivot([5, 1, 3]))                      # 1"
   ]
  },
  {
   "cell_type": "code",
   "execution_count": 76,
   "metadata": {},
   "outputs": [
    {
     "name": "stdout",
     "output_type": "stream",
     "text": [
      "(8, 9)\n",
      "(0, 1)\n",
      "(2, 3)\n",
      "(0, 1)\n"
     ]
    }
   ],
   "source": [
    "'''\n",
    "    Есть массив, состоящий из некоторого количества подряд идущих нулей, за которыми следует какое-то количество подряд идущих единиц:\n",
    "    a = [0, 0, 0, 0, 0, 0, 0, 0, 0, 1, 1, 1, 1, 1].\n",
    "    Найти индекс первой единицы, то есть найти такое место, где заканчиваются нули, и начинаются единицы.\n",
    "'''\n",
    "def one_search(arr):\n",
    "    left = -1\n",
    "    right = len(arr)\n",
    "\n",
    "    while right - left > 1:\n",
    "        mid = (left + right) // 2\n",
    "\n",
    "        if arr[mid] == 0:\n",
    "            left = mid\n",
    "        else:\n",
    "            right = mid\n",
    "    \n",
    "    return left, right\n",
    "\n",
    "# tests\n",
    "print(one_search([0, 0, 0, 0, 0, 0, 0, 0, 0, 1, 1, 1, 1, 1]))\n",
    "print(one_search([0, 1]))\n",
    "print(one_search([0, 0, 0, 1]))\n",
    "print(one_search([0, 1, 1, 1]))"
   ]
  },
  {
   "cell_type": "code",
   "execution_count": 7,
   "metadata": {},
   "outputs": [
    {
     "name": "stdout",
     "output_type": "stream",
     "text": [
      "1\n",
      "0\n",
      "0\n",
      "None\n",
      "None\n",
      "0\n",
      "2\n",
      "None\n",
      "None\n",
      "None\n"
     ]
    }
   ],
   "source": [
    "'''\n",
    "    Найти первое (левое) число, равное X в отсортированном массиве, или вывести, что таких чисел нет\n",
    "'''\n",
    "def left_index_search(arr, target):\n",
    "    left = 0\n",
    "    right = len(arr)\n",
    "    flag = None\n",
    "\n",
    "    while left < right:\n",
    "        mid = (left + right) // 2\n",
    "\n",
    "        if arr[mid] < target:\n",
    "            left = mid + 1\n",
    "        else:\n",
    "            if arr[mid] == target: \n",
    "                flag = mid\n",
    "            right = mid\n",
    "    return flag\n",
    "\n",
    "# tests\n",
    "print(left_index_search([1, 2, 2, 3], 2))\n",
    "print(left_index_search([2, 2, 2], 2))\n",
    "print(left_index_search([2], 2))\n",
    "print(left_index_search([1], 2))\n",
    "print(left_index_search([], 2))\n",
    "print(left_index_search([2, 2, 3, 4], 2))\n",
    "print(left_index_search([0, 1, 2, 2], 2))\n",
    "print(left_index_search([1, 3, 3, 4], 2))\n",
    "print(left_index_search([1, 3, 3, 4], 0))\n",
    "print(left_index_search([1, 3, 3, 4], 5))"
   ]
  },
  {
   "cell_type": "code",
   "execution_count": 9,
   "metadata": {},
   "outputs": [
    {
     "name": "stdout",
     "output_type": "stream",
     "text": [
      "2\n",
      "2\n",
      "0\n",
      "None\n",
      "None\n",
      "1\n",
      "3\n",
      "None\n",
      "None\n",
      "None\n"
     ]
    }
   ],
   "source": [
    "'''\n",
    "    Найти последнее (правое) число, равное X в отсортированном массиве, или вывести, что таких чисел нет\n",
    "'''\n",
    "def right_index_search(arr, target):\n",
    "    left = 0\n",
    "    right = len(arr)\n",
    "    flag = None\n",
    "\n",
    "    while left < right:\n",
    "        mid = (left + right) // 2\n",
    "\n",
    "        if arr[mid] > target:\n",
    "            right = mid\n",
    "        else:\n",
    "            if arr[mid] == target: \n",
    "                flag = mid\n",
    "            left = mid + 1\n",
    "    return flag\n",
    "\n",
    "# tests\n",
    "print(right_index_search([1, 2, 2, 3], 2))\n",
    "print(right_index_search([2, 2, 2], 2))\n",
    "print(right_index_search([2], 2))\n",
    "print(right_index_search([1], 2))\n",
    "print(right_index_search([], 2))\n",
    "print(right_index_search([2, 2, 3, 4], 2))\n",
    "print(right_index_search([0, 1, 2, 2], 2))\n",
    "print(right_index_search([1, 3, 3, 4], 2))\n",
    "print(right_index_search([1, 3, 3, 4], 0))\n",
    "print(right_index_search([1, 3, 3, 4], 5))"
   ]
  },
  {
   "cell_type": "code",
   "execution_count": 78,
   "metadata": {},
   "outputs": [
    {
     "name": "stdout",
     "output_type": "stream",
     "text": [
      "3\n",
      "0\n",
      "4\n"
     ]
    }
   ],
   "source": [
    "'''\n",
    "    Дан массив чисел, первая часть состоит из нечетных чисел, а вторая - из четных. Найти индекс, начиная с которого все числа четные.\n",
    "'''\n",
    "def even_search(arr):\n",
    "    left = 0\n",
    "    right = len(arr) - 1\n",
    "\n",
    "    while left != right:\n",
    "        mid = (left + right) // 2\n",
    "\n",
    "        if arr[mid] % 2 == 0:\n",
    "            right = mid\n",
    "        else:\n",
    "            left = mid + 1\n",
    "    \n",
    "    return left\n",
    "\n",
    "\n",
    "# tests\n",
    "print(even_search([1, 3, 5, 2, 4, 6]))\n",
    "print(even_search([2, 4, 6]))\n",
    "print(even_search([1, 3, 5, 7, 4]))"
   ]
  },
  {
   "cell_type": "code",
   "execution_count": 10,
   "metadata": {},
   "outputs": [
    {
     "name": "stdout",
     "output_type": "stream",
     "text": [
      "True\n",
      "False\n",
      "True\n"
     ]
    }
   ],
   "source": [
    "''' \n",
    "    Поиск в матрице\n",
    "'''\n",
    "def sm(matrix, target):\n",
    "        ln = len(matrix) * len(matrix[0])\n",
    "        l = 0\n",
    "        r = ln\n",
    "\n",
    "        while l < r:\n",
    "            mid = (l + r) // 2\n",
    "            i = mid // len(matrix[0])\n",
    "            j = mid % len(matrix[0])\n",
    "            if matrix[i][j] == target:\n",
    "                return True\n",
    "            elif matrix[i][j] < target:\n",
    "                l = mid + 1\n",
    "            else:\n",
    "                r = mid\n",
    "        return False\n",
    "\n",
    "# tests\n",
    "print(sm([[1,3,5,7],[10,11,16,20],[23,30,34,60]], 3))\n",
    "print(sm([[1,3,5,7],[10,11,16,20],[23,30,34,60]], 13))\n",
    "print(sm([[1]], 1))"
   ]
  },
  {
   "cell_type": "code",
   "execution_count": 79,
   "metadata": {},
   "outputs": [
    {
     "name": "stdout",
     "output_type": "stream",
     "text": [
      "6\n",
      "1\n",
      "None\n"
     ]
    }
   ],
   "source": [
    "'''\n",
    "    Find the pivot integer X such that:\n",
    "    The sum of all elements between 1 and X inclusively equals the sum of all elements between X and N inclusively.\n",
    "    Return the pivot integer X. If no such integer exists, return -1.\n",
    "\n",
    "    : simple solution !\n",
    "        n = arr[-1]\n",
    "        sums = n * (n + 1) // 2\n",
    "        a = math.sqrt(sums)\n",
    "        if a == math.ceil(a):\n",
    "            return int(a)\n",
    "        else:\n",
    "            return -1\n",
    "'''\n",
    "def pivot_search(arr):\n",
    "    left = -1\n",
    "    right = len(arr) - 1\n",
    "    A = arr[right]\n",
    "    S = A + ((A * A - A) // 2)\n",
    "\n",
    "    while left < right:\n",
    "        mid = (left + right) // 2\n",
    "        \n",
    "        a = arr[mid]\n",
    "        S1 = ((a * a - a) // 2)\n",
    "        S2 = S - S1 - a\n",
    "        if S1 == S2:\n",
    "            return a\n",
    "        elif S1 < S2:\n",
    "            left = mid + 1\n",
    "        else:\n",
    "            right = mid\n",
    "\n",
    "    return None\n",
    "\n",
    "# tests\n",
    "print(pivot_search([1, 2, 3, 4, 5, 6, 7, 8]))  # 6\n",
    "print(pivot_search([1]))  # 1\n",
    "print(pivot_search([1, 2, 3, 4])) # None"
   ]
  },
  {
   "cell_type": "code",
   "execution_count": 80,
   "metadata": {},
   "outputs": [
    {
     "name": "stdout",
     "output_type": "stream",
     "text": [
      "(3.0, 3.0000000000000004)\n",
      "(1.414213562373095, 1.4142135623730951)\n",
      "(2.0, 2.0000000000000004)\n"
     ]
    }
   ],
   "source": [
    "'''\n",
    "    Поиск квадратного корня числа n с показателем корня r_exp\n",
    "'''\n",
    "def sqrt_search(n, r_exp=2):\n",
    "    if (n == 0 or n == 1):\n",
    "            return n\n",
    "    left = 1\n",
    "    right = n\n",
    "    for _ in range(100):\n",
    "        mid = (left + right) / 2      # теперь деление не нацело !\n",
    "        if mid ** r_exp > n:\n",
    "            right = mid\n",
    "        else:\n",
    "            left = mid\n",
    "    return left, right\n",
    "\n",
    "# tests\n",
    "print(sqrt_search(9))\n",
    "print(sqrt_search(2))\n",
    "print(sqrt_search(8, 3))"
   ]
  },
  {
   "cell_type": "code",
   "execution_count": 96,
   "metadata": {},
   "outputs": [
    {
     "name": "stdout",
     "output_type": "stream",
     "text": [
      "32\n"
     ]
    }
   ],
   "source": [
    "'''\n",
    "    Есть N прямоугольных листов бумаги («дипломов») одинакового размера w x h. Можно купить квадратную \n",
    "    доску размера L x L, повесить её на стену так, чтобы одна сторона была горизонтальной, а другая \n",
    "    вертикальной, и на эту доску повесить эти дипломы так, чтобы они не перекрывались. При этом дипломы\n",
    "    тоже надо повесить не поворачивая: сторона w должна быть горизонтальной, а сторона h — вертикальной.\n",
    "    Какой минимальный размер доски L требуется, чтобы повесить все дипломы?\n",
    "'''\n",
    "def board_search(n, w, h):\n",
    "    left = 0\n",
    "    right = w*n + h*n\n",
    "\n",
    "    while right - left > 1:\n",
    "        mid = (left + right) // 2\n",
    "\n",
    "        if (mid // w) * (mid // h) >= n:\n",
    "            right = mid\n",
    "        else:\n",
    "            left = mid\n",
    "    return right\n",
    "\n",
    "# tests\n",
    "print(board_search(2, 16, 30))"
   ]
  },
  {
   "cell_type": "code",
   "execution_count": 6,
   "metadata": {},
   "outputs": [
    {
     "name": "stdout",
     "output_type": "stream",
     "text": [
      "2\n",
      "5\n",
      "1\n",
      "0\n"
     ]
    }
   ],
   "source": [
    "''' \n",
    "    Find peak element\n",
    "    A peak element is an element that is strictly greater than its neighbors.\n",
    "    Given a 0-indexed integer array nums, find a peak element, and return its index.\n",
    "    If the array contains multiple peaks, return the index to any of the peaks.\n",
    "    You may imagine that nums[-1] = nums[n] = -∞. In other words, an element is always \n",
    "    considered to be strictly greater than a neighbor that is outside the array.\n",
    "    1 <= nums.length <= 1000\n",
    "'''\n",
    "def findPeak(nums):\n",
    "        l = 0\n",
    "        r = len(nums) - 1\n",
    "        while l < r:\n",
    "            mid = (l + r) // 2\n",
    "            if nums[mid] > nums[mid+1]:\n",
    "                r = mid\n",
    "            else:\n",
    "                l = mid + 1\n",
    "        return l\n",
    "\n",
    "# tests\n",
    "print(findPeak([1, 2, 3, 1]))\n",
    "print(findPeak([1, 2, 1, 3, 5, 6, 4]))\n",
    "print(findPeak([1, 2]))\n",
    "print(findPeak([1]))"
   ]
  },
  {
   "cell_type": "markdown",
   "metadata": {},
   "source": [
    "### Тернарный поиск  \n",
    "Метод поиска минимума или максимума функции на отрезке, которая либо сначала строго возрастает, затем строго убывает, либо наоборот.  \n",
    "  \n",
    "Делим отрезок на три равные части:  \n",
    "- middle_left = (2 * left + right) / 3  \n",
    "- middle_right = (left + 2 * right) / 3  "
   ]
  },
  {
   "cell_type": "code",
   "execution_count": 34,
   "metadata": {},
   "outputs": [
    {
     "data": {
      "image/png": "[encoded data removed]",
      "text/plain": [
       "<Figure size 640x480 with 1 Axes>"
      ]
     },
     "metadata": {},
     "output_type": "display_data"
    },
    {
     "name": "stdout",
     "output_type": "stream",
     "text": [
      "-0.7500102427596917\n"
     ]
    }
   ],
   "source": [
    "def func(x):\n",
    "    return (4*x+3)**2\n",
    "\n",
    "\n",
    "def ter_search(left, right):\n",
    "    eps = 0.0001\n",
    "    while right - left > eps:\n",
    "        a = (left * 2 + right) / 3\n",
    "        b = (left + right * 2) / 3\n",
    "\n",
    "        fa = func(a)\n",
    "        fb = func(b)\n",
    "        if fa < fb:\n",
    "            right = b\n",
    "        else:\n",
    "            left = a\n",
    "    return (left + right) / 2\n",
    "\n",
    "# tests\n",
    "import random\n",
    "import matplotlib.pyplot as plt\n",
    "nums = sorted([round(random.uniform(-10.0, 10.0), 4) for _ in range(10000)])\n",
    "plt.plot(nums, [func(e) for e in nums])\n",
    "plt.show()\n",
    "print(ter_search(nums[0], nums[-1]))"
   ]
  }
 ],
 "metadata": {
  "kernelspec": {
   "display_name": "base",
   "language": "python",
   "name": "python3"
  },
  "language_info": {
   "codemirror_mode": {
    "name": "ipython",
    "version": 3
   },
   "file_extension": ".py",
   "mimetype": "text/x-python",
   "name": "python",
   "nbconvert_exporter": "python",
   "pygments_lexer": "ipython3",
   "version": "3.11.7"
  }
 },
 "nbformat": 4,
 "nbformat_minor": 2
}
