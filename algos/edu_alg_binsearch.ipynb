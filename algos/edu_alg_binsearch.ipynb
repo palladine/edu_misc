{
 "cells": [
  {
   "cell_type": "markdown",
   "metadata": {},
   "source": [
    "### Бинарный поиск"
   ]
  },
  {
   "cell_type": "code",
   "execution_count": 72,
   "metadata": {},
   "outputs": [],
   "source": [
    "# O(log n)\n",
    "# Базовый бинарный поиск, если нет элемента возвращает None\n",
    "# Список должени быть отсортирован !\n",
    "def bs(arr, target):\n",
    "    left = 0\n",
    "    right = len(arr) - 1\n",
    "\n",
    "    while left <= right:\n",
    "        mid = (left + right) // 2\n",
    "\n",
    "        if arr[mid] == target:\n",
    "            return mid\n",
    "        elif arr[mid] < target:\n",
    "            left = mid + 1\n",
    "        else:\n",
    "            right = mid - 1\n",
    "\n",
    "    return None"
   ]
  },
  {
   "cell_type": "code",
   "execution_count": 91,
   "metadata": {},
   "outputs": [
    {
     "name": "stdout",
     "output_type": "stream",
     "text": [
      "6\n",
      "None\n",
      "0\n",
      "4\n",
      "2\n",
      "0\n",
      "0\n",
      "None\n",
      "None\n",
      "2147483647\n"
     ]
    }
   ],
   "source": [
    "# tests\n",
    "print(bs([1, 3, 5, 7, 9, 12, 15, 24, 35, 46, 57, 89, 90], 15))\n",
    "print(bs([1, 3, 5, 6, 7, 9, 0], 2))\n",
    "print(bs([1, 2, 3, 6], 1))\n",
    "print(bs([1, 3, 4, 6, 7], 7))\n",
    "print(bs([1, 2, 3], 3))\n",
    "print(bs([2, 5], 2))\n",
    "print(bs([1], 1))\n",
    "print(bs([1], 2))\n",
    "print(bs([], 3))\n",
    "\n",
    "n = 2**31\n",
    "seq = range(1, n+1)\n",
    "print(bs(seq, n))"
   ]
  },
  {
   "cell_type": "code",
   "execution_count": 74,
   "metadata": {},
   "outputs": [],
   "source": [
    "# Базовый бинарный поиск, если нет элемента возвращает индекс где должен находиться элемент\n",
    "def bs_i(arr, target):\n",
    "    left = 0\n",
    "    right = len(arr) - 1\n",
    "\n",
    "    while left <= right:\n",
    "        mid = (left + right) // 2\n",
    "\n",
    "        if arr[mid] == target:\n",
    "            return mid\n",
    "        elif arr[mid] < target:\n",
    "            left = mid + 1\n",
    "        else:\n",
    "            right = mid - 1\n",
    "\n",
    "    return left"
   ]
  },
  {
   "cell_type": "code",
   "execution_count": 75,
   "metadata": {},
   "outputs": [
    {
     "name": "stdout",
     "output_type": "stream",
     "text": [
      "7\n"
     ]
    }
   ],
   "source": [
    "print(bs_i([1, 3, 5, 7, 9, 12, 15, 24, 35, 46, 57, 89, 90], 16))"
   ]
  },
  {
   "cell_type": "code",
   "execution_count": 76,
   "metadata": {},
   "outputs": [
    {
     "name": "stdout",
     "output_type": "stream",
     "text": [
      "(8, 9)\n",
      "(0, 1)\n",
      "(2, 3)\n",
      "(0, 1)\n"
     ]
    }
   ],
   "source": [
    "'''\n",
    "    Есть массив, состоящий из некоторого количества подряд идущих нулей, за которыми следует какое-то количество подряд идущих единиц:\n",
    "    a = [0, 0, 0, 0, 0, 0, 0, 0, 0, 1, 1, 1, 1, 1].\n",
    "    Найти индекс первой единицы, то есть найти такое место, где заканчиваются нули, и начинаются единицы.\n",
    "'''\n",
    "def one_search(arr):\n",
    "    left = -1\n",
    "    right = len(arr)\n",
    "\n",
    "    while right - left > 1:\n",
    "        mid = (left + right) // 2\n",
    "\n",
    "        if arr[mid] == 0:\n",
    "            left = mid\n",
    "        else:\n",
    "            right = mid\n",
    "    \n",
    "    return left, right\n",
    "\n",
    "# tests\n",
    "print(one_search([0, 0, 0, 0, 0, 0, 0, 0, 0, 1, 1, 1, 1, 1]))\n",
    "print(one_search([0, 1]))\n",
    "print(one_search([0, 0, 0, 1]))\n",
    "print(one_search([0, 1, 1, 1]))"
   ]
  },
  {
   "cell_type": "code",
   "execution_count": 77,
   "metadata": {},
   "outputs": [
    {
     "name": "stdout",
     "output_type": "stream",
     "text": [
      "1\n",
      "0\n",
      "2\n",
      "None\n",
      "None\n",
      "None\n"
     ]
    }
   ],
   "source": [
    "'''\n",
    "    Найти первое число, равное X в отсортированном массиве, или вывести, что таких чисел нет\n",
    "'''\n",
    "def left_index_search(arr, target):\n",
    "    left = 0\n",
    "    right = len(arr) - 1\n",
    "\n",
    "    while right != left:\n",
    "\n",
    "        mid = (left + right) // 2\n",
    "\n",
    "        if arr[mid] >= target:\n",
    "            right = mid\n",
    "\n",
    "        else:\n",
    "            left = mid + 1\n",
    "\n",
    "    return left if arr[left] == target else None\n",
    "\n",
    "# tests\n",
    "print(left_index_search([1, 2, 2, 3], 2))\n",
    "print(left_index_search([2, 2, 3, 4], 2))\n",
    "print(left_index_search([0, 1, 2, 2], 2))\n",
    "print(left_index_search([1, 3, 3, 4], 2))\n",
    "print(left_index_search([1, 3, 3, 4], 0))\n",
    "print(left_index_search([1, 3, 3, 4], 5))"
   ]
  },
  {
   "cell_type": "code",
   "execution_count": 78,
   "metadata": {},
   "outputs": [
    {
     "name": "stdout",
     "output_type": "stream",
     "text": [
      "3\n",
      "0\n",
      "4\n"
     ]
    }
   ],
   "source": [
    "'''\n",
    "    Дан массив чисел, первая часть состоит из нечетных чисел, а вторая - из четных. Найти индекс, начиная с которого все числа четные.\n",
    "'''\n",
    "def left_even_search(arr):\n",
    "    left = 0\n",
    "    right = len(arr) - 1\n",
    "\n",
    "    while left != right:\n",
    "        mid = (left + right) // 2\n",
    "\n",
    "        if arr[mid] % 2 == 0:\n",
    "            right = mid\n",
    "        else:\n",
    "            left = mid + 1\n",
    "    \n",
    "    return left\n",
    "\n",
    "\n",
    "# tests\n",
    "print(left_even_search([1, 3, 5, 2, 4, 6]))\n",
    "print(left_even_search([2, 4, 6]))\n",
    "print(left_even_search([1, 3, 5, 7, 4]))"
   ]
  },
  {
   "cell_type": "code",
   "execution_count": 79,
   "metadata": {},
   "outputs": [
    {
     "name": "stdout",
     "output_type": "stream",
     "text": [
      "6\n",
      "1\n",
      "None\n"
     ]
    }
   ],
   "source": [
    "'''\n",
    "    Find the pivot integer X such that:\n",
    "    The sum of all elements between 1 and X inclusively equals the sum of all elements between X and N inclusively.\n",
    "    Return the pivot integer X. If no such integer exists, return -1.\n",
    "\n",
    "    : simple solution !\n",
    "        n = arr[-1]\n",
    "        sums = n * (n + 1) // 2\n",
    "        a = math.sqrt(sums)\n",
    "        if a == math.ceil(a):\n",
    "            return int(a)\n",
    "        else:\n",
    "            return -1\n",
    "'''\n",
    "def pivot_search(arr):\n",
    "    left = -1\n",
    "    right = len(arr) - 1\n",
    "    A = arr[right]\n",
    "    S = A + ((A * A - A) // 2)\n",
    "\n",
    "    while left < right:\n",
    "        mid = (left + right) // 2\n",
    "        \n",
    "        a = arr[mid]\n",
    "        S1 = ((a * a - a) // 2)\n",
    "        S2 = S - S1 - a\n",
    "        if S1 == S2:\n",
    "            return a\n",
    "        elif S1 < S2:\n",
    "            left = mid + 1\n",
    "        else:\n",
    "            right = mid\n",
    "\n",
    "    return None\n",
    "\n",
    "\n",
    "print(pivot_search([1, 2, 3, 4, 5, 6, 7, 8]))  # 6\n",
    "print(pivot_search([1]))  # 1\n",
    "print(pivot_search([1, 2, 3, 4])) # None"
   ]
  },
  {
   "cell_type": "code",
   "execution_count": 80,
   "metadata": {},
   "outputs": [
    {
     "name": "stdout",
     "output_type": "stream",
     "text": [
      "(3.0, 3.0000000000000004)\n",
      "(1.414213562373095, 1.4142135623730951)\n",
      "(2.0, 2.0000000000000004)\n"
     ]
    }
   ],
   "source": [
    "'''\n",
    "    Поиск квадратного корня числа n с показателем корня r_exp\n",
    "'''\n",
    "def sqrt_search(n, r_exp=2):\n",
    "    if (n == 0 or n == 1):\n",
    "            return n\n",
    "    left = 1\n",
    "    right = n\n",
    "    for _ in range(100):\n",
    "        mid = (left + right) / 2      # теперь деление не нацело !\n",
    "        if mid ** r_exp > n:\n",
    "            right = mid\n",
    "        else:\n",
    "            left = mid\n",
    "    return left, right\n",
    "\n",
    "# tests\n",
    "print(sqrt_search(9))\n",
    "print(sqrt_search(2))\n",
    "print(sqrt_search(8, 3))"
   ]
  },
  {
   "cell_type": "code",
   "execution_count": 96,
   "metadata": {},
   "outputs": [
    {
     "name": "stdout",
     "output_type": "stream",
     "text": [
      "32\n"
     ]
    }
   ],
   "source": [
    "'''\n",
    "    Есть N прямоугольных листов бумаги («дипломов») одинакового размера w x h. Можно купить квадратную \n",
    "    доску размера L x L, повесить её на стену так, чтобы одна сторона была горизонтальной, а другая \n",
    "    вертикальной, и на эту доску повесить эти дипломы так, чтобы они не перекрывались. При этом дипломы\n",
    "    тоже надо повесить не поворачивая: сторона w должна быть горизонтальной, а сторона h — вертикальной.\n",
    "    Какой минимальный размер доски L требуется, чтобы повесить все дипломы?\n",
    "'''\n",
    "def board_search(n, w, h):\n",
    "    left = 0\n",
    "    right = w*n + h*n\n",
    "\n",
    "    while right - left > 1:\n",
    "        mid = (left + right) // 2\n",
    "\n",
    "        if (mid // w) * (mid // h) >= n:\n",
    "            right = mid\n",
    "        else:\n",
    "            left = mid\n",
    "    return right\n",
    "\n",
    "\n",
    "print(board_search(2, 16, 30))"
   ]
  },
  {
   "cell_type": "markdown",
   "metadata": {},
   "source": [
    "### Тернарный поиск  \n",
    "Делим отрезок на три равные части:  \n",
    "- middle_left = (2 * left + right) / 3  \n",
    "- middle_right = (left + 2 * right) / 3  "
   ]
  },
  {
   "cell_type": "code",
   "execution_count": null,
   "metadata": {},
   "outputs": [],
   "source": []
  }
 ],
 "metadata": {
  "kernelspec": {
   "display_name": "base",
   "language": "python",
   "name": "python3"
  },
  "language_info": {
   "codemirror_mode": {
    "name": "ipython",
    "version": 3
   },
   "file_extension": ".py",
   "mimetype": "text/x-python",
   "name": "python",
   "nbconvert_exporter": "python",
   "pygments_lexer": "ipython3",
   "version": "3.9.13"
  }
 },
 "nbformat": 4,
 "nbformat_minor": 2
}
