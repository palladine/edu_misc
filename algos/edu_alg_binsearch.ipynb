{
 "cells": [
  {
   "cell_type": "code",
   "execution_count": 9,
   "metadata": {},
   "outputs": [],
   "source": [
    "# O(log n)\n",
    "# Базовый бинарный поиск, если нет элемента возвращает None\n",
    "# Список должени быть отсортирован !\n",
    "def bs(arr, target):\n",
    "    left = 0\n",
    "    right = len(arr) - 1\n",
    "\n",
    "    while left <= right:\n",
    "        mid = (left + right) // 2\n",
    "\n",
    "        if arr[mid] == target:\n",
    "            return mid\n",
    "        elif arr[mid] < target:\n",
    "            left = mid + 1\n",
    "        else:\n",
    "            right = mid - 1\n",
    "\n",
    "    return None"
   ]
  },
  {
   "cell_type": "code",
   "execution_count": 10,
   "metadata": {},
   "outputs": [
    {
     "name": "stdout",
     "output_type": "stream",
     "text": [
      "6\n"
     ]
    }
   ],
   "source": [
    "print(bs([1, 3, 5, 7, 9, 12, 15, 24, 35, 46, 57, 89, 90], 15))"
   ]
  },
  {
   "cell_type": "code",
   "execution_count": 11,
   "metadata": {},
   "outputs": [],
   "source": [
    "# Базовый бинарный поиск, если нет элемента возвращает индекс где должен находиться элемент\n",
    "def bs_i(arr, target):\n",
    "    left = 0\n",
    "    right = len(arr) - 1\n",
    "\n",
    "    while left <= right:\n",
    "        mid = (left + right) // 2\n",
    "\n",
    "        if arr[mid] == target:\n",
    "            return mid\n",
    "        elif arr[mid] < target:\n",
    "            left = mid + 1\n",
    "        else:\n",
    "            right = mid - 1\n",
    "\n",
    "    return left"
   ]
  },
  {
   "cell_type": "code",
   "execution_count": 12,
   "metadata": {},
   "outputs": [
    {
     "name": "stdout",
     "output_type": "stream",
     "text": [
      "7\n"
     ]
    }
   ],
   "source": [
    "print(bs_i([1, 3, 5, 7, 9, 12, 15, 24, 35, 46, 57, 89, 90], 16))"
   ]
  },
  {
   "cell_type": "code",
   "execution_count": 7,
   "metadata": {},
   "outputs": [
    {
     "name": "stdout",
     "output_type": "stream",
     "text": [
      "(8, 9)\n",
      "(0, 1)\n",
      "(2, 3)\n",
      "(0, 1)\n"
     ]
    }
   ],
   "source": [
    "''' Задача\n",
    "    Есть массив, состоящий из некоторого количества подряд идущих нулей, за которыми следует какое-то количество подряд идущих единиц:\n",
    "    a = [0, 0, 0, 0, 0, 0, 0, 0, 0, 1, 1, 1, 1, 1].\n",
    "    Найти индекс первой единицы, то есть найти такое место, где заканчиваются нули, и начинаются единицы.\n",
    "'''\n",
    "def one_search(arr):\n",
    "    left = -1\n",
    "    right = len(arr)\n",
    "\n",
    "    while right - left > 1:\n",
    "        mid = (left + right) // 2\n",
    "\n",
    "        if arr[mid] == 0:\n",
    "            left = mid\n",
    "        else:\n",
    "            right = mid\n",
    "    \n",
    "    return left, right\n",
    "\n",
    "# tests\n",
    "print(one_search([0, 0, 0, 0, 0, 0, 0, 0, 0, 1, 1, 1, 1, 1]))\n",
    "print(one_search([0, 1]))\n",
    "print(one_search([0, 0, 0, 1]))\n",
    "print(one_search([0, 1, 1, 1]))"
   ]
  },
  {
   "cell_type": "code",
   "execution_count": null,
   "metadata": {},
   "outputs": [],
   "source": []
  }
 ],
 "metadata": {
  "kernelspec": {
   "display_name": "base",
   "language": "python",
   "name": "python3"
  },
  "language_info": {
   "codemirror_mode": {
    "name": "ipython",
    "version": 3
   },
   "file_extension": ".py",
   "mimetype": "text/x-python",
   "name": "python",
   "nbconvert_exporter": "python",
   "pygments_lexer": "ipython3",
   "version": "3.9.13"
  }
 },
 "nbformat": 4,
 "nbformat_minor": 2
}
