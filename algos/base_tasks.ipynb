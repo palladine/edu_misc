{
 "cells": [
  {
   "cell_type": "code",
   "execution_count": 2,
   "metadata": {},
   "outputs": [],
   "source": [
    "class Stack:\n",
    "    def __init__(self):\n",
    "        self.stack = []\n",
    "        \n",
    "    def pop(self):\n",
    "        self.stack.pop()\n",
    "            \n",
    "    def push(self, _data):\n",
    "        self.stack.append(_data)\n",
    "\n",
    "    def __str__(self):\n",
    "        return f'{self.stack}'"
   ]
  },
  {
   "cell_type": "code",
   "execution_count": 8,
   "metadata": {},
   "outputs": [
    {
     "name": "stdout",
     "output_type": "stream",
     "text": [
      "False\n"
     ]
    }
   ],
   "source": [
    "\n",
    "'''\n",
    "    Корректность строки скобок \n",
    "'''\n",
    "def bracks(s):\n",
    "    stk = Stack()\n",
    "    d = {'{':'}', '[':']', '(':')'}\n",
    "    for el in s:\n",
    "        if not stk.stack:\n",
    "            stk.push(el)\n",
    "        else:\n",
    "            if el not in d:\n",
    "                return False\n",
    "            else:\n",
    "                if d[stk.stack[-1]] == el:\n",
    "                    stk.pop()\n",
    "                else:\n",
    "                    stk.push(el)\n",
    "    return True if not stk.stack else False\n",
    "\n",
    "\n",
    "# tests\n",
    "print(bracks('(}{})'))"
   ]
  }
 ],
 "metadata": {
  "language_info": {
   "name": "python"
  }
 },
 "nbformat": 4,
 "nbformat_minor": 2
}
