{
 "cells": [
  {
   "cell_type": "code",
   "execution_count": null,
   "metadata": {},
   "outputs": [],
   "source": [
    "class Stack:\n",
    "    def __init__(self):\n",
    "        self.stack = []\n",
    "        \n",
    "    def pop(self):\n",
    "        self.stack.pop()\n",
    "            \n",
    "    def push(self, _data):\n",
    "        self.stack.append(_data)\n",
    "\n",
    "    def __str__(self):\n",
    "        return f'{self.stack}'"
   ]
  },
  {
   "cell_type": "code",
   "execution_count": null,
   "metadata": {},
   "outputs": [],
   "source": [
    "\n",
    "'''\n",
    "    Дана последовательность из трёх видов пар скобок: ( и ), [ и ], { и }.\n",
    "    Определить, является ли заданная строка правильной скобочной последовательностью.\n",
    "    Пустая строка является правильной скобочной последовательностью.\n",
    "'''\n",
    "def bracks(s):\n",
    "    stk = Stack()\n",
    "    d = {'{':'}', '[':']', '(':')'}\n",
    "    for el in s:\n",
    "        if not stk.stack:\n",
    "            stk.push(el)\n",
    "        else:\n",
    "            if d.get(stk.stack[-1], False) == el:\n",
    "                stk.pop()\n",
    "            else:\n",
    "                stk.push(el)\n",
    "    return False if stk.stack else True\n",
    "\n",
    "\n",
    "# tests\n",
    "print(bracks('(}{})'))\n",
    "print(bracks('(({}))'))\n",
    "print(bracks(''))\n",
    "print(bracks('}{'))\n",
    "print(bracks(')'))\n",
    "print(bracks('({(((({{{{[[[[[[[((((({})))))]]]]]]]}}}}))))})'))"
   ]
  }
 ],
 "metadata": {
  "kernelspec": {
   "display_name": "base",
   "language": "python",
   "name": "python3"
  },
  "language_info": {
   "codemirror_mode": {
    "name": "ipython",
    "version": 3
   },
   "file_extension": ".py",
   "mimetype": "text/x-python",
   "name": "python",
   "nbconvert_exporter": "python",
   "pygments_lexer": "ipython3",
   "version": "3.11.7"
  }
 },
 "nbformat": 4,
 "nbformat_minor": 2
}
