{
 "cells": [
  {
   "cell_type": "code",
   "execution_count": null,
   "metadata": {},
   "outputs": [],
   "source": [
    "class Stack:\n",
    "    def __init__(self):\n",
    "        self.stack = []\n",
    "        \n",
    "    def pop(self):\n",
    "        self.stack.pop()\n",
    "            \n",
    "    def push(self, _data):\n",
    "        self.stack.append(_data)\n",
    "\n",
    "    def __str__(self):\n",
    "        return f'{self.stack}'"
   ]
  },
  {
   "cell_type": "code",
   "execution_count": null,
   "metadata": {},
   "outputs": [],
   "source": [
    "\n",
    "'''\n",
    "    Дана последовательность из трёх видов пар скобок: ( и ), [ и ], { и }.\n",
    "    Определить, является ли заданная строка правильной скобочной последовательностью.\n",
    "    Пустая строка является правильной скобочной последовательностью.\n",
    "'''\n",
    "def bracks(s):\n",
    "    stk = Stack()\n",
    "    d = {'{':'}', '[':']', '(':')'}\n",
    "    for el in s:\n",
    "        if not stk.stack:\n",
    "            stk.push(el)\n",
    "        else:\n",
    "            if d.get(stk.stack[-1], False) == el:\n",
    "                stk.pop()\n",
    "            else:\n",
    "                stk.push(el)\n",
    "    return False if stk.stack else True\n",
    "\n",
    "\n",
    "# tests\n",
    "print(bracks('(}{})'))\n",
    "print(bracks('(({}))'))\n",
    "print(bracks(''))\n",
    "print(bracks('}{'))\n",
    "print(bracks(')'))\n",
    "print(bracks('({(((({{{{[[[[[[[((((({})))))]]]]]]]}}}}))))})'))"
   ]
  },
  {
   "cell_type": "code",
   "execution_count": null,
   "metadata": {},
   "outputs": [],
   "source": [
    "'''\n",
    "    Имеется ресторан, и мы знаем время прихода и ухода всех клиентов в течение дня.\n",
    "    Задача состоит в том, чтобы найти максимальное число клиентов, находившихся в ресторане одновременно.\n",
    "'''\n",
    "# O(n log n)\n",
    "def cnt_clients(clients):\n",
    "    opens = []\n",
    "    closes = []\n",
    "    for o, c in clients:\n",
    "        opens.append((o, 1))\n",
    "        closes.append((c, -1))\n",
    "\n",
    "    events = sorted(opens + closes, key=lambda x: (x[0], -x[1]))\n",
    "\n",
    "    mx_c = 0\n",
    "    loc_c = 0\n",
    "    for c, e in events:\n",
    "        loc_c += e\n",
    "        mx_c = max(mx_c, loc_c)\n",
    "    \n",
    "    return mx_c\n",
    "\n",
    "# \n",
    "print(cnt_clients([(4, 7), (1, 5), (7, 9), (0, 6)]))\n",
    "print(cnt_clients([(1, 7), (1, 7), (1, 7)]))\n",
    "print(cnt_clients([(1, 1), (1, 1), (1, 1)]))\n",
    "print(cnt_clients([(1, 5), (6, 10)]))"
   ]
  }
 ],
 "metadata": {
  "kernelspec": {
   "display_name": "base",
   "language": "python",
   "name": "python3"
  },
  "language_info": {
   "codemirror_mode": {
    "name": "ipython",
    "version": 3
   },
   "file_extension": ".py",
   "mimetype": "text/x-python",
   "name": "python",
   "nbconvert_exporter": "python",
   "pygments_lexer": "ipython3",
   "version": "3.11.7"
  }
 },
 "nbformat": 4,
 "nbformat_minor": 2
}
