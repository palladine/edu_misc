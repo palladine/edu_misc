{
 "cells": [
  {
   "cell_type": "markdown",
   "metadata": {},
   "source": [
    "### Поиск (обход) в ширину\n",
    "Алгоритм поиска в ширину (англ. breadth-first search, BFS) позволяет найти кратчайшие пути из одной вершины невзвешенного (ориентированного или неориентированного) графа до всех остальных вершин. Под кратчайшим путем подразумевается путь, содержащий наименьшее число ребер.  \n",
    "Временная сложность: O(V+E)  (число вершин + число ребер)"
   ]
  },
  {
   "cell_type": "code",
   "execution_count": 1,
   "metadata": {},
   "outputs": [],
   "source": [
    "from collections import deque"
   ]
  },
  {
   "cell_type": "code",
   "execution_count": 2,
   "metadata": {},
   "outputs": [],
   "source": [
    "# хеш-таблица отношений !\n",
    "_hash = {}\n",
    "_hash['you'] = ['alice', 'bob', 'claire']\n",
    "_hash['bob'] = ['anuj', 'peggy']\n",
    "_hash['alice'] = ['peggy']\n",
    "_hash['claire'] = ['tom', 'jonny']"
   ]
  },
  {
   "cell_type": "code",
   "execution_count": 6,
   "metadata": {},
   "outputs": [],
   "source": [
    "def search_bfs(_hash, root):\n",
    "\n",
    "    dq = deque()\n",
    "    rt = _hash.get(root)\n",
    "    if rt:\n",
    "        dq += rt\n",
    "    searched = []\n",
    "\n",
    "    while dq:\n",
    "        item = dq.popleft()\n",
    "        if not item in searched:\n",
    "            if item[-1] == 'm':\n",
    "                return item\n",
    "            else:\n",
    "                rt = _hash.get(item)\n",
    "                if rt:\n",
    "                    dq += rt\n",
    "                searched.append(item)\n",
    "    return None"
   ]
  },
  {
   "cell_type": "code",
   "execution_count": 7,
   "metadata": {},
   "outputs": [
    {
     "data": {
      "text/plain": [
       "'tom'"
      ]
     },
     "execution_count": 7,
     "metadata": {},
     "output_type": "execute_result"
    }
   ],
   "source": [
    "search_bfs(_hash, 'you')"
   ]
  }
 ],
 "metadata": {
  "kernelspec": {
   "display_name": "base",
   "language": "python",
   "name": "python3"
  },
  "language_info": {
   "codemirror_mode": {
    "name": "ipython",
    "version": 3
   },
   "file_extension": ".py",
   "mimetype": "text/x-python",
   "name": "python",
   "nbconvert_exporter": "python",
   "pygments_lexer": "ipython3",
   "version": "3.11.5"
  }
 },
 "nbformat": 4,
 "nbformat_minor": 2
}
