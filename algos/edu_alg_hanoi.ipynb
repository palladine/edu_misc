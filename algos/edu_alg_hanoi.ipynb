{
 "cells": [
  {
   "cell_type": "code",
   "execution_count": null,
   "metadata": {},
   "outputs": [],
   "source": [
    "'''\n",
    "    Найдите минимальное количество ходов, за которое можно решить головоломку.\n",
    "    n - количество дисков\n",
    "    k - количество стержней\n",
    "'''\n",
    "def hanoi_min_moves(n, k):\n",
    "    if k == 3:\n",
    "        return (2 ** n) - 1\n",
    "    if n <= 1:\n",
    "        return n\n",
    "    min_moves = float('inf')\n",
    "    for i in range(1, n):\n",
    "        moves = 2 * hanoi_min_moves(i, k) + hanoi_min_moves(n - i, 3)\n",
    "        min_moves = min(min_moves, moves)\n",
    "    return min_moves\n",
    "\n",
    "# Пример для 10 дисков и 4 стержней\n",
    "n = 6\n",
    "k = 4\n",
    "print(hanoi_min_moves(n, k))"
   ]
  },
  {
   "cell_type": "code",
   "execution_count": null,
   "metadata": {},
   "outputs": [],
   "source": [
    "'''\n",
    "    Требуется найти последовательность ходов, которая решает головоломку <<Ханойские башни>> при 3 стержнях.\n",
    "    n - количество дисков.\n",
    "'''\n",
    "def main(n):\n",
    "    res_str = ''\n",
    "    def han(n, _from, _to):\n",
    "        nonlocal res_str\n",
    "        if n == 1:\n",
    "            res_str += f\"{_from} {_to}\\n\"\n",
    "            return 1\n",
    "        \n",
    "        _unused = 6 - _from - _to\n",
    "        \n",
    "        a = han(n - 1, _from, _unused)\n",
    "        res_str += f\"{_from} {_to}\\n\"\n",
    "        b = han(n - 1, _unused, _to)\n",
    "\n",
    "        return a + b + 1\n",
    "    \n",
    "    cnt = han(n, 1, 3)\n",
    "    \n",
    "    return cnt, res_str \n",
    "\n",
    "print(main(3)[0])\n",
    "print(main(3)[1])"
   ]
  },
  {
   "cell_type": "code",
   "execution_count": null,
   "metadata": {},
   "outputs": [],
   "source": [
    "'''\n",
    "    stepik\n",
    "    Представьте три стержня, на один из которых нанизаны N дисков разного размера в порядке возрастания к вершине \n",
    "    (самый большой диск находится снизу). Задача состоит в том, чтобы переместить всю стопку дисков на другой стержень, \n",
    "    соблюдая следующие правила:\n",
    "        За один ход можно переместить только один диск.\n",
    "        Ни в какой момент времени диск большего размера не может находиться поверх диска меньшего размера.\n",
    "    Ввод состоит из одного целого числа N (1 ≤ N ≤ 20) - количества дисков.\n",
    "    Выведите последовательность действий для решения задачи. Каждое действие должно быть представлено в формате \n",
    "    \"Переместите диск с <номер стержня> на <номер стержня>\".\n",
    "'''\n",
    "def hanoi(n, _from, _to):\n",
    "    if n == 1:\n",
    "        print(f'Переместите диск с {_from} на {_to}')\n",
    "        return\n",
    "\n",
    "    _unused = 6 - _from - _to\n",
    "    hanoi(n - 1, _from, _unused)\n",
    "    print(f'Переместите диск с {_from} на {_to}')\n",
    "    hanoi(n - 1, _unused, _to)\n",
    "\n",
    "#\n",
    "hanoi(20, 1, 3)"
   ]
  }
 ],
 "metadata": {
  "language_info": {
   "name": "python"
  }
 },
 "nbformat": 4,
 "nbformat_minor": 2
}
