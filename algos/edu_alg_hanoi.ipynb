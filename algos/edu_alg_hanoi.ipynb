{
 "cells": [
  {
   "cell_type": "code",
   "execution_count": null,
   "metadata": {},
   "outputs": [],
   "source": [
    "'''\n",
    "    Найдите минимальное количество ходов, за которое можно решить головоломку.\n",
    "    n - количество дисков\n",
    "    k - количество стержней\n",
    "'''\n",
    "def hanoi_min_moves(n, k):\n",
    "    if k == 3:\n",
    "        return (2 ** n) - 1\n",
    "    if n <= 1:\n",
    "        return n\n",
    "    min_moves = float('inf')\n",
    "    for i in range(1, n):\n",
    "        moves = 2 * hanoi_min_moves(i, k) + hanoi_min_moves(n - i, 3)\n",
    "        min_moves = min(min_moves, moves)\n",
    "    return min_moves\n",
    "\n",
    "# Пример для 10 дисков и 4 стержней\n",
    "n = 6\n",
    "k = 4\n",
    "print(hanoi_min_moves(n, k))"
   ]
  },
  {
   "cell_type": "code",
   "execution_count": null,
   "metadata": {},
   "outputs": [],
   "source": [
    "'''\n",
    "    Требуется найти последовательность ходов, которая решает головоломку <<Ханойские башни>> при 3 стержнях.\n",
    "    n - количество дисков.\n",
    "'''\n",
    "def main(n):\n",
    "    res_str = ''\n",
    "    def han(n, _from, _to):\n",
    "        nonlocal res_str\n",
    "        if n == 1:\n",
    "            res_str += f\"{_from} {_to}\\n\"\n",
    "            return 1\n",
    "        \n",
    "        _unused = 6 - _from - _to\n",
    "        \n",
    "        a = han(n - 1, _from, _unused)\n",
    "        res_str += f\"{_from} {_to}\\n\"\n",
    "        b = han(n - 1, _unused, _to)\n",
    "\n",
    "        return a + b + 1\n",
    "    \n",
    "    cnt = han(n, 1, 3)\n",
    "    \n",
    "    return cnt, res_str \n",
    "\n",
    "print(main(3)[0])\n",
    "print(main(3)[1])"
   ]
  }
 ],
 "metadata": {
  "language_info": {
   "name": "python"
  }
 },
 "nbformat": 4,
 "nbformat_minor": 2
}
