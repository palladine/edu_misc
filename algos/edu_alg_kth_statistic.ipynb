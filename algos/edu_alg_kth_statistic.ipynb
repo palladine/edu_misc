{
 "cells": [
  {
   "cell_type": "markdown",
   "metadata": {},
   "source": [
    "### K-ая порядковая статистика  \n",
    "K-порядковая статистика (или K-й порядковый элемент) - это элемент, который стоит на k-ой позиции после сортировки массива по неубыванию.  \n",
    "То есть, если мы ищем k-порядковую статистику в массиве, это означает, что все элементы, стоящие перед ней, будут меньше или равны ей,  \n",
    "а все элементы, стоящие после нее, будут больше или равны ей."
   ]
  },
  {
   "cell_type": "markdown",
   "metadata": {},
   "source": [
    "#### Алгоритм Хоара"
   ]
  },
  {
   "cell_type": "code",
   "execution_count": 17,
   "metadata": {},
   "outputs": [
    {
     "name": "stdout",
     "output_type": "stream",
     "text": [
      "2\n"
     ]
    }
   ],
   "source": [
    "# O(n) \n",
    "def findk(arr, k):\n",
    "    if len(arr) == 1:\n",
    "        return arr[0]\n",
    "\n",
    "    pivot = arr[len(arr) // 2]\n",
    "    left = [x for x in arr if x < pivot]\n",
    "    right = [x for x in arr if x > pivot]\n",
    "    equal = [x for x in arr if x == pivot]\n",
    "\n",
    "    if k < len(left):\n",
    "        return findk(left, k)\n",
    "\n",
    "    elif k < len(left) + len(equal):\n",
    "        return equal[0]\n",
    "\n",
    "    else:\n",
    "        return findk(right, k - len(left) - len(equal))\n",
    "\n",
    "\n",
    "\n",
    "# tests\n",
    "print(findk([2, 4, 1, 5, 3], 1)) "
   ]
  }
 ],
 "metadata": {
  "kernelspec": {
   "display_name": "base",
   "language": "python",
   "name": "python3"
  },
  "language_info": {
   "codemirror_mode": {
    "name": "ipython",
    "version": 3
   },
   "file_extension": ".py",
   "mimetype": "text/x-python",
   "name": "python",
   "nbconvert_exporter": "python",
   "pygments_lexer": "ipython3",
   "version": "3.11.5"
  }
 },
 "nbformat": 4,
 "nbformat_minor": 2
}
