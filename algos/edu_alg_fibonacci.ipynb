{
 "cells": [
  {
   "cell_type": "code",
   "execution_count": 49,
   "metadata": {},
   "outputs": [
    {
     "name": "stdout",
     "output_type": "stream",
     "text": [
      "46368\n"
     ]
    }
   ],
   "source": [
    "'''\n",
    "    написать функцию, которая принимает целое число n и возвращает n-ное число Фибоначчи\n",
    "    рекурсия\n",
    "    ряд Фибоначчи начинается с нуля (т.е. при n=1 вернет 0))\n",
    "'''\n",
    "def fib(n):\n",
    "    if n <= 1:\n",
    "        return 0\n",
    "    elif n < 3:\n",
    "        return 1\n",
    "    else:\n",
    "        return fib(n-2) + fib(n-1)\n",
    "    \n",
    "print(fib(25))"
   ]
  },
  {
   "cell_type": "code",
   "execution_count": 48,
   "metadata": {},
   "outputs": [
    {
     "name": "stdout",
     "output_type": "stream",
     "text": [
      "0  1  1  2  3  5  8  13  21  34  55  89  144  233  377  610  987  1597  2584  4181  6765  10946  17711  28657  46368  "
     ]
    }
   ],
   "source": [
    "'''\n",
    "    написать функцию, которая принимает целое число n и возвращает n-ное число Фибоначчи\n",
    "    ряд Фибоначчи начинается с нуля (т.е. при n=1 вернет 0))\n",
    "'''\n",
    "def nth_fibonacci(n):\n",
    "    if n <= 1:\n",
    "        return 0\n",
    "    prev, cur = 0, 1\n",
    "    for _ in range(1, n-1):\n",
    "        prev, cur = cur, prev + cur\n",
    "    return cur\n",
    "\n",
    "for i in range(1, 26):\n",
    "    print(nth_fibonacci(i), end='  ')"
   ]
  },
  {
   "cell_type": "code",
   "execution_count": 4,
   "metadata": {},
   "outputs": [
    {
     "name": "stdout",
     "output_type": "stream",
     "text": [
      "46368\n"
     ]
    }
   ],
   "source": [
    "def fib2(n):\n",
    "    res = [0]*(n+1)\n",
    "     \n",
    "    res[1] = res[2] = 1\n",
    "    for i in range(3, n+1):\n",
    "        res[i] = res[i-1]+res[i-2]\n",
    "    return res[n-1]\n",
    "\n",
    "print(fib2(25))    "
   ]
  }
 ],
 "metadata": {
  "kernelspec": {
   "display_name": "base",
   "language": "python",
   "name": "python3"
  },
  "language_info": {
   "codemirror_mode": {
    "name": "ipython",
    "version": 3
   },
   "file_extension": ".py",
   "mimetype": "text/x-python",
   "name": "python",
   "nbconvert_exporter": "python",
   "pygments_lexer": "ipython3",
   "version": "3.11.5"
  }
 },
 "nbformat": 4,
 "nbformat_minor": 2
}
