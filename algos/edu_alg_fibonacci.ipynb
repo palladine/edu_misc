{
 "cells": [
  {
   "cell_type": "code",
   "execution_count": 8,
   "metadata": {},
   "outputs": [
    {
     "name": "stdout",
     "output_type": "stream",
     "text": [
      "13\n"
     ]
    }
   ],
   "source": [
    "'''\n",
    "    написать функцию, которая принимает целое число n и возвращает n-ное число Фибоначчи\n",
    "    ряд Фибоначчи начинается с нуля\n",
    "    рекурсивный алгоритм\n",
    "'''\n",
    "def fib(n):\n",
    "    if n <= 1:\n",
    "        return n\n",
    "    else:\n",
    "        return fib(n-2) + fib(n-1)\n",
    "    \n",
    "print(fib(7))"
   ]
  },
  {
   "cell_type": "code",
   "execution_count": 14,
   "metadata": {},
   "outputs": [
    {
     "name": "stdout",
     "output_type": "stream",
     "text": [
      "13\n"
     ]
    }
   ],
   "source": [
    "'''\n",
    "    написать функцию, которая принимает целое число n и возвращает n-ное число Фибоначчи\n",
    "    ряд Фибоначчи начинается с нуля\n",
    "    рекурсивный алгоритм с мемоизацией\n",
    "'''\n",
    "def fib2(n):\n",
    "    if table[n] == -1:\n",
    "        if n <= 1:\n",
    "            table[n] = n\n",
    "        else:\n",
    "            table[n] = fib2(n-2) + fib2(n-1)\n",
    "    return table[n]\n",
    "\n",
    "n = 7\n",
    "table = [-1] * (n+1)\n",
    "print(fib2(n))"
   ]
  },
  {
   "cell_type": "code",
   "execution_count": 26,
   "metadata": {},
   "outputs": [
    {
     "name": "stdout",
     "output_type": "stream",
     "text": [
      "13\n"
     ]
    }
   ],
   "source": [
    "'''\n",
    "    написать функцию, которая принимает целое число n и возвращает n-ное число Фибоначчи\n",
    "    ряд Фибоначчи начинается с нуля\n",
    "'''\n",
    "def fib3(n):\n",
    "    if n <= 1:\n",
    "        return n\n",
    "    prev, cur = 0, 1\n",
    "    for _ in range(n-1):\n",
    "        prev, cur = cur, prev + cur\n",
    "    return cur\n",
    "\n",
    "print(fib3(7))"
   ]
  },
  {
   "cell_type": "code",
   "execution_count": 34,
   "metadata": {},
   "outputs": [
    {
     "name": "stdout",
     "output_type": "stream",
     "text": [
      "13\n"
     ]
    }
   ],
   "source": [
    "'''\n",
    "    написать функцию, которая принимает целое число n и возвращает n-ное число Фибоначчи\n",
    "    итерационный алгоритм\n",
    "'''\n",
    "def fib4(n):\n",
    "    if n <= 1:\n",
    "        return n\n",
    "    res = [0] * (n + 1)\n",
    "    res[1] = 1\n",
    "    for i in range(2, n+1):\n",
    "        res[i] = res[i-2]+res[i-1]\n",
    "    return res[n]\n",
    "\n",
    "print(fib4(7))    "
   ]
  },
  {
   "cell_type": "code",
   "execution_count": 16,
   "metadata": {},
   "outputs": [
    {
     "name": "stdout",
     "output_type": "stream",
     "text": [
      "3\n"
     ]
    }
   ],
   "source": [
    "'''\n",
    "    Последняя цифра числа Фибоначчи\n",
    "'''\n",
    "def main(n):\n",
    "    if n <= 1:\n",
    "        return n\n",
    "    res = [0] * (n+1)\n",
    "    res[0] = 0\n",
    "    res[1] = 1\n",
    "    for i in range(2, n+1):\n",
    "        res[i] = (res[i-1] + res[i-2]) % 10\n",
    "    return res[n]\n",
    "\n",
    "print(main(7))"
   ]
  },
  {
   "cell_type": "code",
   "execution_count": 12,
   "metadata": {},
   "outputs": [
    {
     "name": "stdout",
     "output_type": "stream",
     "text": [
      "3\n",
      "8\n",
      "6\n",
      "20\n",
      "24\n",
      "16\n",
      "12\n",
      "24\n",
      "60\n"
     ]
    }
   ],
   "source": [
    "''' \n",
    "    Рассчет длины периода Пизано для остатков по модулю m.\n",
    "'''\n",
    "def PisanoPeriod(m):\n",
    "    current = 0\n",
    "    nxt = 1\n",
    "    period = 0\n",
    "    while True:\n",
    "        oldNext = nxt\n",
    "        nxt = (current + nxt) % m\n",
    "        current = oldNext\n",
    "        period = period + 1\n",
    "        if current == 0 and nxt == 1:\n",
    "            return period\n",
    "\n",
    "#\n",
    "for i in range(2, 11):\n",
    "    print(PisanoPeriod(i))"
   ]
  },
  {
   "cell_type": "code",
   "execution_count": null,
   "metadata": {},
   "outputs": [],
   "source": [
    "'''\n",
    "    Огромное число Фибоначчи.\n",
    "    Даны целые числа n и m, необходимо найти остаток от деления n-го числа Фибоначчи на m.\n",
    "    Решение:\n",
    "    В этой задаче n может быть настолько большим, что алгоритму потребуется слишком много времени, \n",
    "    чтобы пройти через все числа Фибоначчи. Решение сводится к формуле:\n",
    "\n",
    "                F(n) mod m = F(n mod (k)) mod m\n",
    "                k - длина периода Пизано для остатков по модулю m\n",
    "    \n",
    "    p = PisanoPeriod(m)\n",
    "    print(fib3(n % p) % m)\n",
    "'''"
   ]
  },
  {
   "cell_type": "code",
   "execution_count": null,
   "metadata": {},
   "outputs": [],
   "source": [
    "'''   \n",
    "    Последняя цифра суммы чисел Фибоначчи.\n",
    "    Данно целое число n (n первых чисел Фибоначчи) (пр. при n = 5 сумма = 12)\n",
    "    Решение сводится к формуле:\n",
    "                F(n+2) mod 10 = F((n+2) mod 60) mod 10\n",
    "\n",
    "    n = int(input())\n",
    "    print((fib3((n+2) % 60)-1) % 10)\n",
    "'''"
   ]
  },
  {
   "cell_type": "code",
   "execution_count": null,
   "metadata": {},
   "outputs": [],
   "source": [
    "'''\n",
    "    Последняя цифра частичной суммы чисел Фибоначчи.\n",
    "    Даны числа m и n, необходимо найти последнюю цифру суммы F(m) + ... + F(n).\n",
    "    Решение.\n",
    "        sn = (fib3((n+2) % 60)) - 1\n",
    "        sm = (fib3((m+1) % 60)) - 1\n",
    "        print((sn-sm) % 10)\n",
    "'''"
   ]
  }
 ],
 "metadata": {
  "kernelspec": {
   "display_name": "base",
   "language": "python",
   "name": "python3"
  },
  "language_info": {
   "codemirror_mode": {
    "name": "ipython",
    "version": 3
   },
   "file_extension": ".py",
   "mimetype": "text/x-python",
   "name": "python",
   "nbconvert_exporter": "python",
   "pygments_lexer": "ipython3",
   "version": "3.11.5"
  }
 },
 "nbformat": 4,
 "nbformat_minor": 2
}
