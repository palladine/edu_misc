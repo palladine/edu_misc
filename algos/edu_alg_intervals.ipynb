{
 "cells": [
  {
   "cell_type": "code",
   "execution_count": null,
   "metadata": {},
   "outputs": [],
   "source": [
    "'''\n",
    "    Имеется ресторан, и мы знаем время прихода и ухода всех клиентов в течение дня.\n",
    "    Задача состоит в том, чтобы найти максимальное число клиентов, находившихся в ресторане одновременно.\n",
    "'''\n",
    "# O(n log n)\n",
    "def cnt_clients(clients):\n",
    "    opens = []\n",
    "    closes = []\n",
    "    for o, c in clients:\n",
    "        opens.append((o, 1))\n",
    "        closes.append((c, -1))\n",
    "\n",
    "    events = sorted(opens + closes, key=lambda x: (x[0], -x[1]))\n",
    "\n",
    "    mx_c = 0\n",
    "    loc_c = 0\n",
    "    for c, e in events:\n",
    "        loc_c += e\n",
    "        mx_c = max(mx_c, loc_c)\n",
    "    \n",
    "    return mx_c\n",
    "\n",
    "# \n",
    "print(cnt_clients([(4, 7), (1, 5), (7, 9), (0, 6)]))\n",
    "print(cnt_clients([(1, 7), (1, 7), (1, 7)]))\n",
    "print(cnt_clients([(1, 1), (1, 1), (1, 1)]))\n",
    "print(cnt_clients([(1, 5), (6, 10)]))"
   ]
  }
 ],
 "metadata": {
  "language_info": {
   "name": "python"
  }
 },
 "nbformat": 4,
 "nbformat_minor": 2
}
