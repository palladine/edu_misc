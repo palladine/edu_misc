{
 "cells": [
  {
   "cell_type": "markdown",
   "metadata": {},
   "source": [
    "Быстрая сортировка (quick sort)"
   ]
  },
  {
   "cell_type": "code",
   "execution_count": 16,
   "metadata": {},
   "outputs": [
    {
     "name": "stdout",
     "output_type": "stream",
     "text": [
      "[-5, -1, 0, 0, 1, 2, 2, 3, 4, 4, 8]\n",
      "[2, 2, 2, 2, 2, 2]\n",
      "[0, 1]\n",
      "[1]\n",
      "[]\n"
     ]
    }
   ],
   "source": [
    "# O (n log n)\n",
    "def qsort(arr):\n",
    "    if len(arr) < 2:\n",
    "        return arr\n",
    "    \n",
    "    pivot = (len(arr) - 1) // 2\n",
    "\n",
    "    l = []\n",
    "    h = []\n",
    "    for i in range(len(arr)):\n",
    "        if i != pivot:\n",
    "            if arr[i] < arr[pivot]:\n",
    "                l.append(arr[i])\n",
    "            else:\n",
    "                h.append(arr[i])\n",
    "\n",
    "    return qsort(l) + [arr[pivot]] + qsort(h)\n",
    "\n",
    "\n",
    "# tests\n",
    "print(qsort([4, 2, 8, 1, 0, -1, 0, -5, 2, 3, 4]))\n",
    "print(qsort([2, 2, 2, 2, 2, 2]))\n",
    "print(qsort([1, 0]))\n",
    "print(qsort([1]))\n",
    "print(qsort([]))"
   ]
  },
  {
   "cell_type": "code",
   "execution_count": null,
   "metadata": {},
   "outputs": [],
   "source": []
  }
 ],
 "metadata": {
  "kernelspec": {
   "display_name": "base",
   "language": "python",
   "name": "python3"
  },
  "language_info": {
   "codemirror_mode": {
    "name": "ipython",
    "version": 3
   },
   "file_extension": ".py",
   "mimetype": "text/x-python",
   "name": "python",
   "nbconvert_exporter": "python",
   "pygments_lexer": "ipython3",
   "version": "3.11.5"
  }
 },
 "nbformat": 4,
 "nbformat_minor": 2
}
