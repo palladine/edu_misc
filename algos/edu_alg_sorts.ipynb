{
 "cells": [
  {
   "cell_type": "markdown",
   "metadata": {},
   "source": [
    "#### Быстрая сортировка (quick sort)  \n",
    "O (n log n)"
   ]
  },
  {
   "cell_type": "code",
   "execution_count": 16,
   "metadata": {},
   "outputs": [
    {
     "name": "stdout",
     "output_type": "stream",
     "text": [
      "[-5, -1, 0, 0, 1, 2, 2, 3, 4, 4, 8]\n",
      "[2, 2, 2, 2, 2, 2]\n",
      "[0, 1]\n",
      "[1]\n",
      "[]\n"
     ]
    }
   ],
   "source": [
    "''' \n",
    "    !!!\n",
    "    При множестве повторяющих элементов асимптотика может достигать O(n^2),\n",
    "    поэтому алгоритм требует модификации (см. ниже)\n",
    "'''\n",
    "def qsort(arr):\n",
    "    if len(arr) < 2:\n",
    "        return arr\n",
    "    \n",
    "    pivot = (len(arr) - 1) // 2\n",
    "\n",
    "    l = []\n",
    "    h = []\n",
    "    for i in range(len(arr)):\n",
    "        if i != pivot:\n",
    "            if arr[i] < arr[pivot]:\n",
    "                l.append(arr[i])\n",
    "            else:\n",
    "                h.append(arr[i])\n",
    "\n",
    "    return qsort(l) + [arr[pivot]] + qsort(h)\n",
    "\n",
    "\n",
    "# tests\n",
    "print(qsort([4, 2, 8, 1, 0, -1, 0, -5, 2, 3, 4]))\n",
    "print(qsort([2, 2, 2, 2, 2, 2]))\n",
    "print(qsort([1, 0]))\n",
    "print(qsort([1]))\n",
    "print(qsort([]))"
   ]
  },
  {
   "cell_type": "code",
   "execution_count": 3,
   "metadata": {},
   "outputs": [
    {
     "name": "stdout",
     "output_type": "stream",
     "text": [
      "[-5, -1, 0, 0, 1, 2, 2, 3, 4, 4, 8]\n",
      "[2, 2, 2, 2, 2, 2]\n",
      "[0, 1]\n",
      "[1]\n",
      "[]\n"
     ]
    }
   ],
   "source": [
    "''' \n",
    "    Быстрая сортировка при последовательностях со множеством повторяющихся элементов\n",
    "    O (n log n)\n",
    "'''\n",
    "def mod_qsort(arr):\n",
    "    n = len(arr)\n",
    "    if n < 2:\n",
    "        return arr\n",
    "    \n",
    "    piv = arr[n // 2]\n",
    "    left = []\n",
    "    right = []\n",
    "    center = []\n",
    "    for i in range(n):\n",
    "        val = arr[i]\n",
    "        if val < piv:\n",
    "            left.append(val)\n",
    "        elif val > piv:\n",
    "            right.append(val)\n",
    "        else:\n",
    "            center.append(val)\n",
    "    return mod_qsort(left) + center + mod_qsort(right)\n",
    "\n",
    "# tests\n",
    "print(mod_qsort([4, 2, 8, 1, 0, -1, 0, -5, 2, 3, 4]))\n",
    "print(mod_qsort([2, 2, 2, 2, 2, 2]))\n",
    "print(mod_qsort([1, 0]))\n",
    "print(mod_qsort([1]))\n",
    "print(mod_qsort([]))"
   ]
  },
  {
   "cell_type": "markdown",
   "metadata": {},
   "source": [
    "#### Сортировка подсчетом  \n",
    "O (n+k)  (k — максимальное значение элементов ключа)  \n",
    "(эффективный алгоритм, но применим он, только если константа 'С' достаточно мала)"
   ]
  },
  {
   "cell_type": "code",
   "execution_count": 14,
   "metadata": {},
   "outputs": [
    {
     "name": "stdout",
     "output_type": "stream",
     "text": [
      "[1, 2, 2, 3, 4, 5, 5, 5]\n",
      "[-23, -10, -4, -2, 0, 5, 101, 2034]\n",
      "[5, 5]\n",
      "[0]\n",
      "[]\n"
     ]
    }
   ],
   "source": [
    "def cnt_sort(arr):\n",
    "    if not arr: return arr\n",
    "    mx = max(arr)\n",
    "    mn = min(arr)\n",
    "    res_list = [0] * (mx-mn+1)\n",
    "\n",
    "    for el in arr:\n",
    "        res_list[el-mn] += 1\n",
    "\n",
    "    res_arr = []\n",
    "    for i in range(0, len(res_list)):\n",
    "        if res_list[i] > 0:\n",
    "            res_arr.extend([i+mn] * res_list[i])\n",
    "\n",
    "    return res_arr\n",
    "\n",
    "\n",
    "# tests\n",
    "print(cnt_sort([5, 4, 5, 3, 2, 1, 2, 5]))\n",
    "print(cnt_sort([-4, -2, -10, 0, 5, 2034, 101, -23]))\n",
    "print(cnt_sort([5, 5]))\n",
    "print(cnt_sort([0]))\n",
    "print(cnt_sort([]))"
   ]
  },
  {
   "cell_type": "markdown",
   "metadata": {},
   "source": [
    "#### Сортировка вставками  \n",
    "O (n^2)"
   ]
  },
  {
   "cell_type": "code",
   "execution_count": 2,
   "metadata": {},
   "outputs": [
    {
     "name": "stdout",
     "output_type": "stream",
     "text": [
      "[-5, -1, 0, 0, 1, 2, 2, 3, 4, 4, 8]\n",
      "[-23, -10, -4, -2, 0, 5, 101, 2034]\n",
      "[2, 2, 2, 2, 2, 2]\n",
      "[0, 1]\n",
      "[1]\n",
      "[]\n"
     ]
    }
   ],
   "source": [
    "def ins_sort(arr):\n",
    "    for i in range(1, len(arr)):\n",
    "        j = i\n",
    "        while j>0 and arr[j] < arr[j-1]:\n",
    "            arr[j], arr[j-1] = arr[j-1], arr[j]\n",
    "            j -= 1\n",
    "    return arr\n",
    "\n",
    "# tests\n",
    "print(ins_sort([4, 2, 8, 1, 0, -1, 0, -5, 2, 3, 4]))\n",
    "print(ins_sort([-4, -2, -10, 0, 5, 2034, 101, -23]))\n",
    "print(ins_sort([2, 2, 2, 2, 2, 2]))\n",
    "print(ins_sort([1, 0]))\n",
    "print(ins_sort([1]))\n",
    "print(ins_sort([]))"
   ]
  },
  {
   "cell_type": "markdown",
   "metadata": {},
   "source": [
    "#### Сортировка слиянием  \n",
    "O(n log n)  \n",
    "Cортировка слиянием не работает без применения дополнительной памяти: она делает полные копии всего входного массива.  \n",
    "Если вопрос использования памяти приоритетен, использовать сортировку слиянием нельзя."
   ]
  },
  {
   "cell_type": "code",
   "execution_count": 1,
   "metadata": {},
   "outputs": [
    {
     "name": "stdout",
     "output_type": "stream",
     "text": [
      "[0, 1, 1, 3, 3, 7, 9, 11, 21, 23, 34, 45]\n"
     ]
    }
   ],
   "source": [
    "def merge(a, b):\n",
    "    res = []\n",
    "\n",
    "    i = 0\n",
    "    j = 0\n",
    "    while i + j < len(a) + len(b):\n",
    "        if j == len(b) or (i < len(a) and a[i] < b[j]):\n",
    "            res.append(a[i])\n",
    "            i += 1\n",
    "        else:\n",
    "            res.append(b[j])\n",
    "            j += 1\n",
    "    return res\n",
    "\n",
    "\n",
    "def merge_sort(arr):\n",
    "    ln = len(arr)\n",
    "\n",
    "    if ln <= 1:\n",
    "        return arr\n",
    "    \n",
    "    mid = len(arr) // 2\n",
    "    l = arr[:mid]\n",
    "    r = arr[mid:]\n",
    "\n",
    "    l = merge_sort(l)\n",
    "    r = merge_sort(r)\n",
    "\n",
    "    arr = merge(l, r)\n",
    "\n",
    "    return arr\n",
    "\n",
    "# tests\n",
    "print(merge_sort([1, 3, 7, 45, 3, 1, 0, 9, 34, 23, 11, 21]))"
   ]
  },
  {
   "cell_type": "code",
   "execution_count": null,
   "metadata": {},
   "outputs": [],
   "source": [
    "'''\n",
    "    Подсчет инверсий в массиве (в основе сортировка слиянием).\n",
    "    Внутри сортировки слиянием (merge-sort), внутри собственно слияния (merge), можно для каждого элемента в правой половине насчитать, \n",
    "    сколько он образует инверсий с элементами левой половины, и прибавить эту величину к ответу.\n",
    "'''\n",
    "def count_inv(seq):\n",
    "    len_seq = len(seq)\n",
    "    \n",
    "    if len_seq <= 1:\n",
    "        return 0\n",
    "    \n",
    "    mid = len_seq // 2\n",
    "    inv_count = 0\n",
    "\n",
    "    a = seq[:mid]\n",
    "    b = seq[mid:]\n",
    "    \n",
    "    inv_count += count_inv(a)\n",
    "    inv_count += count_inv(b)\n",
    "\n",
    "    i = j = k = 0\n",
    "\n",
    "    while i < len(a) and j < len(b):\n",
    "        if a[i] <= b[j]:\n",
    "            seq[k] = a[i]\n",
    "            i += 1\n",
    "        else:\n",
    "            seq[k] = b[j]\n",
    "            j += 1\n",
    "            inv_count += len(a) - i\n",
    "\n",
    "        k += 1\n",
    "\n",
    "    while i < len(a):\n",
    "        seq[k] = a[i]\n",
    "        i += 1\n",
    "        k += 1\n",
    "\n",
    "    while j < len(b):\n",
    "        seq[k] = b[j]\n",
    "        j += 1\n",
    "        k += 1\n",
    "\n",
    "    return inv_count\n",
    "\n",
    "\n",
    "a = [6, 5, 4, 1, 2, 3]\n",
    "#a = [1, 2, 1, 3, 1, 2]\n",
    "print(count_inv(a))"
   ]
  },
  {
   "cell_type": "markdown",
   "metadata": {},
   "source": [
    "#### Сортировка выбором  \n",
    "O(n^2)"
   ]
  },
  {
   "cell_type": "code",
   "execution_count": 1,
   "metadata": {},
   "outputs": [
    {
     "name": "stdout",
     "output_type": "stream",
     "text": [
      "[0, 1, 1, 3, 3, 7, 9, 11, 21, 23, 34, 45]\n"
     ]
    }
   ],
   "source": [
    "def selection_sort(arr):\n",
    "    la = len(arr)\n",
    "    for i in range(la):\n",
    "        for j in range(i+1, la):\n",
    "            if arr[j] < arr[i]:\n",
    "                arr[i], arr[j] = arr[j], arr[i]\n",
    "    return arr\n",
    "\n",
    "# tests\n",
    "print(selection_sort([1, 3, 7, 45, 3, 1, 0, 9, 34, 23, 11, 21]))"
   ]
  }
 ],
 "metadata": {
  "kernelspec": {
   "display_name": "base",
   "language": "python",
   "name": "python3"
  },
  "language_info": {
   "codemirror_mode": {
    "name": "ipython",
    "version": 3
   },
   "file_extension": ".py",
   "mimetype": "text/x-python",
   "name": "python",
   "nbconvert_exporter": "python",
   "pygments_lexer": "ipython3",
   "version": "3.11.7"
  }
 },
 "nbformat": 4,
 "nbformat_minor": 2
}
