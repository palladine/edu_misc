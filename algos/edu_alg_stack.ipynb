{
 "cells": [
  {
   "cell_type": "code",
   "execution_count": null,
   "metadata": {},
   "outputs": [],
   "source": [
    "class Stack:\n",
    "    def __init__(self):\n",
    "        self.stack = []\n",
    "        \n",
    "    def pop(self):\n",
    "        self.stack.pop()\n",
    "            \n",
    "    def push(self, _data):\n",
    "        self.stack.append(_data)\n",
    "\n",
    "    def __str__(self):\n",
    "        return f'{self.stack}'"
   ]
  },
  {
   "cell_type": "code",
   "execution_count": null,
   "metadata": {},
   "outputs": [],
   "source": [
    "'''\n",
    "    Дана последовательность из трёх видов пар скобок: ( и ), [ и ], { и }.\n",
    "    Определить, является ли заданная строка правильной скобочной последовательностью.\n",
    "    Пустая строка является правильной скобочной последовательностью.\n",
    "'''\n",
    "def bracks(s):\n",
    "    stk = Stack()\n",
    "    d = {'{':'}', '[':']', '(':')'}\n",
    "    for el in s:\n",
    "        if not stk.stack:\n",
    "            stk.push(el)\n",
    "        else:\n",
    "            if d.get(stk.stack[-1], False) == el:\n",
    "                stk.pop()\n",
    "            else:\n",
    "                stk.push(el)\n",
    "    return False if stk.stack else True\n",
    "\n",
    "\n",
    "# tests\n",
    "print(bracks('(}{})'))\n",
    "print(bracks('(({}))'))\n",
    "print(bracks(''))\n",
    "print(bracks('}{'))\n",
    "print(bracks(')'))\n",
    "print(bracks('({(((({{{{[[[[[[[((((({})))))]]]]]]]}}}}))))})'))"
   ]
  },
  {
   "cell_type": "code",
   "execution_count": null,
   "metadata": {},
   "outputs": [],
   "source": [
    "'''\n",
    "    Минимумы / максимумы в скользящем окне длинной k.\n",
    "'''\n",
    "from collections import deque\n",
    "\n",
    "def get_mins(arr, k):\n",
    "    la = len(arr)\n",
    "    if la < k:\n",
    "        return get_mins(arr, la)\n",
    "    \n",
    "    dq = deque()\n",
    "\n",
    "    result = []\n",
    "    \n",
    "    # бежим по списку\n",
    "    for i in range(la):\n",
    "        val = arr[i]\n",
    "    \n",
    "        # удаляем все предыдущие максимумы, пока не упрёмся в минимум (относительно val)\n",
    "        while dq and val < dq[-1]:\n",
    "            dq.pop()\n",
    "        # для поиска макисмумов меняем знак val > dq[-1]   !\n",
    "\n",
    "        # добавляем элемент\n",
    "        dq.append(val)\n",
    "\n",
    "        # когда j будет равно k, тогда в deque в первой позиции будет минимум,\n",
    "        # добавляем его к результату, и удаляем \n",
    "        j = i + 1 - k\n",
    "        if j >= 0:\n",
    "            result.append(dq[0])\n",
    "            if arr[j] == dq[0]:\n",
    "                dq.popleft()\n",
    "    \n",
    "    return result\n",
    "\n",
    "# tests\n",
    "print(get_mins([2, 1, 4, 5, 3, 4, 1, 2], 4))\n",
    "print(get_mins([2, 5, 3, 1, 0], 5))\n",
    "print(get_mins([2], 1))\n",
    "print(get_mins([2], 10))\n",
    "print(get_mins([2, 5, 2, -455, 1, 56, 11], 20))"
   ]
  },
  {
   "cell_type": "code",
   "execution_count": 1,
   "metadata": {},
   "outputs": [
    {
     "name": "stdout",
     "output_type": "stream",
     "text": [
      "0 1 2 3 4\n",
      "0 1 0 0 4\n",
      "0 1 0 1 0 1 0 3\n",
      "0 1 2 3 4 0 0 0 0\n",
      "0 0 0 0 0\n"
     ]
    }
   ],
   "source": [
    "'''\n",
    "    Дан массив a, состоящий из n чисел. Для каждого элемента ai нужно сказать, сколько элементов левее него он видит. \n",
    "    ai видит aj, если i > j и ai > az для всех j ≤ z < i.\n",
    "'''\n",
    "def main(arr):\n",
    "    n = len(arr)\n",
    "    res = [0] * n\n",
    "    stk = []\n",
    "\n",
    "    for i in range(n):\n",
    "        cnt = 0\n",
    "        while stk and arr[i] > arr[stk[-1]]:\n",
    "            cnt = cnt + 1 + res[stk[-1]]\n",
    "            stk.pop()\n",
    "        \n",
    "        stk.append(i)\n",
    "        res[i] = cnt\n",
    "    \n",
    "    return ' '.join(map(str, res))\n",
    "\n",
    "#\n",
    "print(main([1, 2, 3, 4, 5]))                # 0, 1, 2, 3, 4 \n",
    "print(main([1, 2, 2, 1, 3]))                # 0, 1, 0, 0, 4\n",
    "print(main([1, 7, 2, 6, 3, 5, 5, 6]))       # 0, 1, 0, 1, 0, 1, 0, 3\n",
    "print(main([1, 2, 3, 4, 5, 4, 3, 2, 1]))    # 0, 1, 2, 3, 4, 0, 0, 0, 0\n",
    "print(main([1, 1, 1, 1, 1]))                # 0, 0, 0, 0, 0"
   ]
  }
 ],
 "metadata": {
  "kernelspec": {
   "display_name": "base",
   "language": "python",
   "name": "python3"
  },
  "language_info": {
   "codemirror_mode": {
    "name": "ipython",
    "version": 3
   },
   "file_extension": ".py",
   "mimetype": "text/x-python",
   "name": "python",
   "nbconvert_exporter": "python",
   "pygments_lexer": "ipython3",
   "version": "3.11.7"
  }
 },
 "nbformat": 4,
 "nbformat_minor": 2
}
