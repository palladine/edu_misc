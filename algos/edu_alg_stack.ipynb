{
 "cells": [
  {
   "cell_type": "code",
   "execution_count": null,
   "metadata": {},
   "outputs": [],
   "source": [
    "class Stack:\n",
    "    def __init__(self):\n",
    "        self.stack = []\n",
    "        \n",
    "    def pop(self):\n",
    "        self.stack.pop()\n",
    "            \n",
    "    def push(self, _data):\n",
    "        self.stack.append(_data)\n",
    "\n",
    "    def __str__(self):\n",
    "        return f'{self.stack}'"
   ]
  },
  {
   "cell_type": "code",
   "execution_count": null,
   "metadata": {},
   "outputs": [],
   "source": [
    "'''\n",
    "    Дана последовательность из трёх видов пар скобок: ( и ), [ и ], { и }.\n",
    "    Определить, является ли заданная строка правильной скобочной последовательностью.\n",
    "    Пустая строка является правильной скобочной последовательностью.\n",
    "'''\n",
    "def bracks(s):\n",
    "    stk = Stack()\n",
    "    d = {'{':'}', '[':']', '(':')'}\n",
    "    for el in s:\n",
    "        if not stk.stack:\n",
    "            stk.push(el)\n",
    "        else:\n",
    "            if d.get(stk.stack[-1], False) == el:\n",
    "                stk.pop()\n",
    "            else:\n",
    "                stk.push(el)\n",
    "    return False if stk.stack else True\n",
    "\n",
    "\n",
    "# tests\n",
    "print(bracks('(}{})'))\n",
    "print(bracks('(({}))'))\n",
    "print(bracks(''))\n",
    "print(bracks('}{'))\n",
    "print(bracks(')'))\n",
    "print(bracks('({(((({{{{[[[[[[[((((({})))))]]]]]]]}}}}))))})'))"
   ]
  }
 ],
 "metadata": {
  "language_info": {
   "name": "python"
  }
 },
 "nbformat": 4,
 "nbformat_minor": 2
}
