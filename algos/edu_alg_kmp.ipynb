{
 "cells": [
  {
   "cell_type": "markdown",
   "metadata": {},
   "source": [
    "### KMP Algorithm for Pattern Searching  \n",
    "Time Complexity: O (n+m)  \n",
    "Space Complexity: O (m)  "
   ]
  },
  {
   "cell_type": "code",
   "execution_count": 1,
   "metadata": {},
   "outputs": [],
   "source": [
    "def part(pattern):\n",
    "    ret = [0]\n",
    "    \n",
    "    for i in range(1, len(pattern)):\n",
    "        j = ret[i - 1]\n",
    "        while j > 0 and pattern[j] != pattern[i]:\n",
    "            j = ret[j - 1]\n",
    "        ret.append(j + 1 if pattern[j] == pattern[i] else j)\n",
    "    return ret\n",
    "\n",
    "\n",
    "def kmp(orig, pat):\n",
    "    partial, ret, j = part(pat), [], 0\n",
    "    \n",
    "    for i in range(len(orig)):\n",
    "        while j > 0 and orig[i] != pat[j]:\n",
    "            j = partial[j - 1]\n",
    "        if orig[i] == pat[j]: j += 1\n",
    "        if j == len(pat): \n",
    "            ret.append(i - (j - 1))\n",
    "            j = partial[j - 1]\n",
    "        \n",
    "    return ret\n",
    "\n",
    "# tests\n",
    "p1 = \"aa\"\n",
    "t1 = \"aaaaaaaa\"\n",
    "\n",
    "assert(kmp(t1, p1) == [0, 1, 2, 3, 4, 5, 6])\n",
    "\n",
    "p2 = \"abc\"\n",
    "t2 = \"abdabeabfabc\"\n",
    "\n",
    "assert(kmp(t2, p2) == [9])\n",
    "\n",
    "p3 = \"aab\"\n",
    "t3 = \"aaabaacbaab\"\n",
    "\n",
    "assert(kmp(t3, p3) == [1, 8])\n",
    "\n",
    "p4 = \"11\"\n",
    "t4 = \"111\"\n",
    "assert(kmp(t4, p4) == [0, 1])"
   ]
  }
 ],
 "metadata": {
  "kernelspec": {
   "display_name": "base",
   "language": "python",
   "name": "python3"
  },
  "language_info": {
   "codemirror_mode": {
    "name": "ipython",
    "version": 3
   },
   "file_extension": ".py",
   "mimetype": "text/x-python",
   "name": "python",
   "nbconvert_exporter": "python",
   "pygments_lexer": "ipython3",
   "version": "3.11.7"
  }
 },
 "nbformat": 4,
 "nbformat_minor": 2
}
