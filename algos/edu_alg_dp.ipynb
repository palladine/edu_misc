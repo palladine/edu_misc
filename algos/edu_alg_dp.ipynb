{
 "cells": [
  {
   "cell_type": "code",
   "execution_count": 1,
   "metadata": {},
   "outputs": [
    {
     "name": "stdout",
     "output_type": "stream",
     "text": [
      "5\n"
     ]
    }
   ],
   "source": [
    "# количество способов допрыгать до n, при двух вариантах прыжка, на 1 клетку и на 2 клетки\n",
    "def F(n):\n",
    "    res = [1] * n\n",
    "    for i in range(2, n):\n",
    "        res[i] = res[i-1]+res[i-2]\n",
    "    return res[n-1]\n",
    "    \n",
    "print(F(5))"
   ]
  },
  {
   "cell_type": "code",
   "execution_count": 2,
   "metadata": {},
   "outputs": [
    {
     "name": "stdout",
     "output_type": "stream",
     "text": [
      "7\n"
     ]
    }
   ],
   "source": [
    "# количество способов допрыгать до n, при трех вариантах прыжка, на 1 клетку, на 2 клетки и на 3 клетки\n",
    "def F(n):\n",
    "    res = [1] * n\n",
    "    res[2] = 2\n",
    "    for i in range(3, n):\n",
    "        res[i] = res[i-1]+res[i-2]+res[i-3]\n",
    "    return res[n-1]\n",
    "    \n",
    "print(F(5))"
   ]
  },
  {
   "cell_type": "code",
   "execution_count": 16,
   "metadata": {},
   "outputs": [
    {
     "name": "stdout",
     "output_type": "stream",
     "text": [
      "12\n"
     ]
    }
   ],
   "source": [
    "# количество способов допрыгать до n, при k вариантах прыжка, на 1 клетку, на 2 клетки ... на k клетки\n",
    "# + на некоторые клетки нельзя прыгать ! (список blocked)\n",
    "import random\n",
    "def F(n, k):\n",
    "    blocked = [1] * n\n",
    "    for i in range(0, n, 3):\n",
    "        blocked[i] = random.choice([0, 1])    \n",
    "    \n",
    "    res = [1] * n\n",
    "    for i in range(1, n):\n",
    "        if blocked[i] == 0:\n",
    "            res[i] = 0\n",
    "        else:\n",
    "            for j in range(1, k):\n",
    "                if i-j >=0:\n",
    "                    res[i]+=res[i-j]\n",
    "    return res[n-1]\n",
    "    \n",
    "print(F(5, 3))"
   ]
  },
  {
   "cell_type": "code",
   "execution_count": null,
   "metadata": {},
   "outputs": [],
   "source": [
    "'''\n",
    "    Подсчет минимального количества монет (номиналы в списке coins) для размена суммы\n",
    "    Рекурсивный метод\n",
    "    Сложность O (nk)  (n - сумма, k-количество номиналов монет)\n",
    "'''\n",
    "def cnt_coins(coins, summa):\n",
    "    vals = [-1] * (summa + 1)\n",
    "    def coins_rec(x):\n",
    "        if x < 0: return float('inf')\n",
    "        if x == 0: return 0\n",
    "        if vals[x] > -1: return vals[x]\n",
    "        num_coins = float('inf')\n",
    "        for c in coins:\n",
    "            num_coins = min(num_coins, coins_rec(x-c) + 1)\n",
    "        vals[x] = num_coins\n",
    "        return num_coins\n",
    "    return coins_rec(summa)\n",
    "\n",
    "#\n",
    "print(cnt_coins([1, 3, 4], 1))\n",
    "print(cnt_coins([1, 3, 4], 2))\n",
    "print(cnt_coins([1, 3, 4], 6))\n",
    "print(cnt_coins([1, 3, 4], 10))"
   ]
  },
  {
   "cell_type": "code",
   "execution_count": null,
   "metadata": {},
   "outputs": [],
   "source": [
    "'''\n",
    "    Подсчет минимального количества монет (номиналы в списке coins) для размена суммы\n",
    "    Итеративный метод\n",
    "    Сложность O (nk)  (n - сумма, k-количество номиналов монет)\n",
    "'''\n",
    "def cnt_coins_it(coins, summa):\n",
    "    vals = [0] * (summa + 1)\n",
    "\n",
    "    for i in range(1, summa+1):\n",
    "        vals[i] = float('inf')\n",
    "        for c in coins:\n",
    "            if i-c >= 0:\n",
    "                vals[i] = min(vals[i], vals[i-c]+1)\n",
    "    \n",
    "    return vals[summa]\n",
    "\n",
    "print(cnt_coins_it([1, 3, 4], 1))\n",
    "print(cnt_coins_it([1, 3, 4], 2))\n",
    "print(cnt_coins_it([1, 3, 4], 6))\n",
    "print(cnt_coins_it([1, 3, 4], 10))"
   ]
  },
  {
   "cell_type": "code",
   "execution_count": 2,
   "metadata": {},
   "outputs": [
    {
     "name": "stdout",
     "output_type": "stream",
     "text": [
      "(0, [1])\n",
      "(0, [1, 1])\n",
      "(0, [3, 3])\n",
      "(0, [3, 3, 4])\n"
     ]
    }
   ],
   "source": [
    "'''\n",
    "    Подсчет минимального количества монет (номиналы в списке coins) для размена суммы + вывод списка номиналов\n",
    "    Итеративный метод\n",
    "    Сложность O (nk)  (n - сумма, k-количество номиналов монет)\n",
    "'''\n",
    "def cnt_coins_res(coins, summa):\n",
    "    vals = [0] * (summa + 1)\n",
    "    first_coin = [0] * (summa + 1)\n",
    "\n",
    "    for i in range(1, summa+1):\n",
    "        vals[i] = float('inf')\n",
    "        for c in coins:\n",
    "            if i-c >= 0 and vals[i-c]+1 < vals[i]:\n",
    "                vals[i] = vals[i-c]+1\n",
    "                first_coin[i] = c\n",
    "\n",
    "    min_coins = []\n",
    "    while summa > 0:\n",
    "        min_coins.append(first_coin[summa])\n",
    "        summa -= first_coin[summa]\n",
    "\n",
    "    return vals[summa], min_coins\n",
    "\n",
    "print(cnt_coins_res([1, 3, 4], 1))\n",
    "print(cnt_coins_res([1, 3, 4], 2))\n",
    "print(cnt_coins_res([1, 3, 4], 6))\n",
    "print(cnt_coins_res([1, 3, 4], 10))"
   ]
  },
  {
   "cell_type": "code",
   "execution_count": null,
   "metadata": {},
   "outputs": [],
   "source": [
    "''''\n",
    "    Сколько существует способов набрать сумму из номиналов (порядок монет важен).  \n",
    "'''\n",
    "def f(summa, nominals):\n",
    "    a = [0] * summa  # список эементов- элементы это количество способов набрать i сумму из номиналов\n",
    "    a[0] = 1\n",
    "    \n",
    "    for i in range(1, summa):\n",
    "        for j in nominals:\n",
    "            if i >= j:\n",
    "                a[i] += a[i-j]\n",
    "    return a\n",
    "\n",
    "# \n",
    "print(f(10, [1, 3, 5, 10]))"
   ]
  },
  {
   "cell_type": "code",
   "execution_count": 3,
   "metadata": {},
   "outputs": [
    {
     "name": "stdout",
     "output_type": "stream",
     "text": [
      "118\n"
     ]
    }
   ],
   "source": [
    "'''\n",
    "    Найти минимальную стоимость добраться до квадрата с координатами (x, y).\n",
    "    Движение может быть направо и вниз!\n",
    "    Список arr_costs содержит стоимость квадратов.\n",
    "'''\n",
    "def min_cost_travel(arr_costs, coords):\n",
    "\n",
    "    n = len(arr_costs)\n",
    "    m = len(arr_costs[0])\n",
    "\n",
    "    d = [[float('inf') for i in range(m)] for j in range(n)]\n",
    "\n",
    "    for i in range(n):\n",
    "        for j in range(m):\n",
    "            if i == 0 and j == 0:\n",
    "                d[i][j] = 0\n",
    "                continue\n",
    "\n",
    "            elif i == 0:\n",
    "                d[i][j] = d[i][j-1] + arr_costs[i][j]\n",
    "                continue\n",
    "            \n",
    "            elif j == 0:\n",
    "                d[i][j] = d[i-1][j] + arr_costs[i][j]\n",
    "                continue\n",
    "\n",
    "            d[i][j] = min(d[i][j-1], d[i-1][j]) + arr_costs[i][j]\n",
    "            # если считать диагональ, то\n",
    "            # d[i][j] = min(d[i][j-1], d[i-1][j], d[i-1][j-1]) + arr_costs[i][j] \n",
    "\n",
    "    x, y = coords\n",
    "    # for i in d:\n",
    "    #     print(i)\n",
    "\n",
    "    # print(x+1, y+1)\n",
    "    return d[y][x]\n",
    "\n",
    "\n",
    "#\n",
    "import random\n",
    "n = random.randint(1, 15)\n",
    "m = random.randint(1, 15)\n",
    "t = (random.randint(1, m)-1, random.randint(1, n)-1)\n",
    "arr = [[random.randint(0, 100) for i in range(m)] for j in range(n)]\n",
    "print(min_cost_travel(arr, t))"
   ]
  },
  {
   "cell_type": "code",
   "execution_count": 4,
   "metadata": {},
   "outputs": [
    {
     "name": "stdout",
     "output_type": "stream",
     "text": [
      "5\n"
     ]
    }
   ],
   "source": [
    "''' \n",
    "    Максимальное количество элементов в возрастающей последовательности которая находится в списке.\n",
    "'''\n",
    "def max_seq_num_el(arr):\n",
    "    d = [0] * len(arr)\n",
    "    for i in range(len(arr)):\n",
    "        d[i] = 1\n",
    "        for j in range(i):\n",
    "            if arr[j] < arr[i]:\n",
    "                d[i] = max(d[i], d[j]+1)\n",
    "    return max(d)\n",
    "\n",
    "print(max_seq_num_el([3, 5, 2, 1, 6, 4, 8, 5, 10])) # [3, 5, 6, 8, 10] - последовательность, 5 - элементов"
   ]
  },
  {
   "cell_type": "code",
   "execution_count": 8,
   "metadata": {},
   "outputs": [
    {
     "name": "stdout",
     "output_type": "stream",
     "text": [
      "5\n"
     ]
    }
   ],
   "source": [
    "''' \n",
    "    Максимальное количество элементов в возрастающей последовательности которая находится в списке.\n",
    "    O(n log n)\n",
    "'''\n",
    "def max_seq_num_el_nlgn(arr):\n",
    "    d = [0] * len(arr)\n",
    "    b = [float('inf')] * len(arr)\n",
    "    for i in range(len(arr)):\n",
    "        l = 0\n",
    "        r = len(arr)\n",
    "        while r > l + 1:\n",
    "            m = (l + r) // 2\n",
    "            if b[m] < arr[i]:\n",
    "                l = m\n",
    "            else:\n",
    "                r = m\n",
    "        d[i] = l+1\n",
    "        b[l+1] = arr[i]\n",
    "    return max(d)\n",
    "\n",
    "print(max_seq_num_el_nlgn([3, 5, 2, 1, 6, 4, 8, 5, 10])) # [3, 5, 6, 8, 10] - последовательность, 5 - элементов"
   ]
  },
  {
   "cell_type": "code",
   "execution_count": 1,
   "metadata": {},
   "outputs": [
    {
     "name": "stdout",
     "output_type": "stream",
     "text": [
      "[3, 5, 6, 8, 10]\n"
     ]
    }
   ],
   "source": [
    "''' \n",
    "    Возрастающая последовательность с максимальным количеством элементов\n",
    "'''\n",
    "def max_seq(arr):\n",
    "    d = []\n",
    "    for i in range(len(arr)):\n",
    "        d.append({arr[i]})\n",
    "        el = 0\n",
    "        for j in range(i):\n",
    "            if arr[j] < arr[i]:\n",
    "                el = max(el, arr[j])\n",
    "                d[i].add(el)\n",
    "    \n",
    "    mx = max(d, key=len)\n",
    "    return sorted(list(mx))\n",
    "\n",
    "print(max_seq([3, 5, 2, 1, 6, 4, 8, 5, 10])) # [3, 5, 6, 8, 10]"
   ]
  },
  {
   "cell_type": "code",
   "execution_count": 2,
   "metadata": {},
   "outputs": [
    {
     "name": "stdout",
     "output_type": "stream",
     "text": [
      "[0, 0, 0, 0]\n",
      "[0, 1, 0, 0]\n",
      "[0, 0, 2, 0]\n",
      "[1, 0, 0, 3]\n",
      "3\n",
      "[1, 0, 0, 0]\n",
      "[0, 0, 0, 0]\n",
      "[0, 0, 1, 0]\n",
      "[0, 0, 0, 2]\n",
      "2\n"
     ]
    }
   ],
   "source": [
    "'''\n",
    "    Самая длинная общая последовательность в двух словах.\n",
    "    O(nm)\n",
    "'''\n",
    "def max_sub_word(s1, s2):\n",
    "    n = len(s1)\n",
    "    m = len(s2)\n",
    "\n",
    "    d = [[0 for i in range(m)] for j in range(n)]\n",
    "    mx = 0\n",
    "    \n",
    "    for i in range(n):\n",
    "        for j in range(m):\n",
    "            if s1[i] == s2[j]:\n",
    "                if i == 0 or j == 0:\n",
    "                    d[i][j] = 1\n",
    "                else:\n",
    "                    d[i][j] = d[i-1][j-1] + 1\n",
    "                mx = max(mx, d[i][j])\n",
    "    for i in d:\n",
    "        print(i)\n",
    "    return mx\n",
    "\n",
    "#\n",
    "print(max_sub_word('fish', 'hish'))\n",
    "print(max_sub_word('fosh', 'fish'))"
   ]
  },
  {
   "cell_type": "code",
   "execution_count": 1,
   "metadata": {},
   "outputs": [
    {
     "name": "stdout",
     "output_type": "stream",
     "text": [
      "[0, 0, 0, 0]\n",
      "[0, 1, 1, 1]\n",
      "[0, 1, 2, 2]\n",
      "[0, 1, 2, 3]\n",
      "3\n",
      "[1, 1, 1, 1]\n",
      "[1, 1, 1, 1]\n",
      "[1, 1, 2, 2]\n",
      "[1, 1, 2, 3]\n",
      "3\n",
      "[1, 1, 1, 1]\n",
      "[1, 2, 2, 2]\n",
      "[1, 2, 2, 2]\n",
      "[1, 2, 2, 2]\n",
      "2\n"
     ]
    }
   ],
   "source": [
    "'''\n",
    "    Максимальное количество букв в общей подпоследовательности в двух словах.\n",
    "    O(nm)\n",
    "'''\n",
    "def max_symb_sub_word(s1, s2):\n",
    "    n = len(s1)\n",
    "    m = len(s2)\n",
    "\n",
    "    d = [[0 for i in range(m)] for j in range(n)]\n",
    "    mx = 0\n",
    "\n",
    "    for i in range(n):\n",
    "        for j in range(m):\n",
    "            if s1[i] == s2[j]:\n",
    "                if i == 0 and j == 0:\n",
    "                    d[i][j] = 1\n",
    "                elif i == 0:\n",
    "                    d[i][j] = d[i][j-1]\n",
    "                elif j == 0:\n",
    "                    d[i][j] = d[i-1][j]\n",
    "                else:\n",
    "                    d[i][j] = d[i-1][j-1] + 1\n",
    "            else:\n",
    "                if i == 0 and j == 0:\n",
    "                    d[i][j] = 0\n",
    "                \n",
    "                elif i == 0:\n",
    "                    d[i][j] = d[i][j-1]\n",
    "                elif j == 0:\n",
    "                    d[i][j] = d[i-1][j]\n",
    "                else:\n",
    "                    d[i][j] = max(d[i-1][j], d[i][j-1])\n",
    "            \n",
    "            mx = max(mx, d[i][j])\n",
    "                \n",
    "    for i in d:\n",
    "        print(i)\n",
    "    return mx\n",
    "\n",
    "#\n",
    "print(max_symb_sub_word('fish', 'hish'))\n",
    "print(max_symb_sub_word('fosh', 'fish'))\n",
    "print(max_symb_sub_word('fosh', 'fort'))\n"
   ]
  },
  {
   "cell_type": "markdown",
   "metadata": {},
   "source": [
    "### Рюкзак"
   ]
  },
  {
   "cell_type": "code",
   "execution_count": 2,
   "metadata": {},
   "outputs": [
    {
     "name": "stdout",
     "output_type": "stream",
     "text": [
      "[1, 0, 0, 0, 0, 0, 0, 0]\n",
      "[1, 0, 0, 1, 0, 0, 0, 0]\n",
      "[1, 0, 1, 1, 0, 1, 0, 0]\n",
      "[1, 0, 1, 1, 1, 1, 1, 1]\n",
      "\n",
      "[1, 0, 0, 0, 0, 0, 0, 0]\n",
      "[1, 0, 0, 0, 1, 0, 0, 0]\n",
      "[1, 0, 0, 1, 1, 0, 0, 1]\n",
      "[1, 0, 1, 1, 1, 1, 1, 1]\n",
      "\n"
     ]
    }
   ],
   "source": [
    "'''\n",
    "    Можно ли набрать вес j из первых i вещей. (d[i][j] = 1-можно, 0-нельзя)\n",
    "    arr_w - количество и вес вещей\n",
    "    S - вместимость рюкзака (вес)\n",
    "    Ответ - последнее значение в последней строке !\n",
    "'''\n",
    "def ruk1(arr_w, S):\n",
    "    ln = len(arr_w)\n",
    "\n",
    "    d = [[0 for j in range(S+1)] for i in range(ln+1)]\n",
    "\n",
    "\n",
    "    for i in range(ln+1):\n",
    "        for j in range(S+1):\n",
    "            if (i == 0 and j == 0) or j == 0:\n",
    "                d[i][j] = 1\n",
    "                continue\n",
    "            elif i == 0:\n",
    "                d[i][j] = 0\n",
    "                continue\n",
    "            \n",
    "            if j - arr_w[i-1] >= 0:\n",
    "                tmp = d[i-1][j-arr_w[i-1]]\n",
    "            else:\n",
    "                tmp = 0\n",
    "            \n",
    "            d[i][j] = d[i-1][j] or tmp\n",
    "\n",
    "    for i in d:\n",
    "        print(i)\n",
    "    return ''\n",
    "\n",
    "\n",
    "# \n",
    "print(ruk1([3, 2, 4], 7))\n",
    "print(ruk1([4, 3, 2], 7))"
   ]
  }
 ],
 "metadata": {
  "kernelspec": {
   "display_name": "base",
   "language": "python",
   "name": "python3"
  },
  "language_info": {
   "codemirror_mode": {
    "name": "ipython",
    "version": 3
   },
   "file_extension": ".py",
   "mimetype": "text/x-python",
   "name": "python",
   "nbconvert_exporter": "python",
   "pygments_lexer": "ipython3",
   "version": "3.11.5"
  }
 },
 "nbformat": 4,
 "nbformat_minor": 2
}
