{
 "cells": [
  {
   "cell_type": "code",
   "execution_count": 1,
   "metadata": {},
   "outputs": [
    {
     "name": "stdout",
     "output_type": "stream",
     "text": [
      "5\n"
     ]
    }
   ],
   "source": [
    "# количество способов допрыгать до n, при двух вариантах прыжка, на 1 клетку и на 2 клетки\n",
    "def F(n):\n",
    "    res = [1] * n\n",
    "    for i in range(2, n):\n",
    "        res[i] = res[i-1]+res[i-2]\n",
    "    return res[n-1]\n",
    "    \n",
    "print(F(5))"
   ]
  },
  {
   "cell_type": "code",
   "execution_count": 2,
   "metadata": {},
   "outputs": [
    {
     "name": "stdout",
     "output_type": "stream",
     "text": [
      "7\n"
     ]
    }
   ],
   "source": [
    "# количество способов допрыгать до n, при трех вариантах прыжка, на 1 клетку, на 2 клетки и на 3 клетки\n",
    "def F(n):\n",
    "    res = [1] * n\n",
    "    res[2] = 2\n",
    "    for i in range(3, n):\n",
    "        res[i] = res[i-1]+res[i-2]+res[i-3]\n",
    "    return res[n-1]\n",
    "    \n",
    "print(F(5))"
   ]
  },
  {
   "cell_type": "code",
   "execution_count": 16,
   "metadata": {},
   "outputs": [
    {
     "name": "stdout",
     "output_type": "stream",
     "text": [
      "12\n"
     ]
    }
   ],
   "source": [
    "# количество способов допрыгать до n, при k вариантах прыжка, на 1 клетку, на 2 клетки ... на k клетки\n",
    "# + на некоторые клетки нельзя прыгать ! (список blocked)\n",
    "import random\n",
    "def F(n, k):\n",
    "    blocked = [1] * n\n",
    "    for i in range(0, n, 3):\n",
    "        blocked[i] = random.choice([0, 1])    \n",
    "    \n",
    "    res = [1] * n\n",
    "    for i in range(1, n):\n",
    "        if blocked[i] == 0:\n",
    "            res[i] = 0\n",
    "        else:\n",
    "            for j in range(1, k):\n",
    "                if i-j >=0:\n",
    "                    res[i]+=res[i-j]\n",
    "    return res[n-1]\n",
    "    \n",
    "print(F(5, 3))"
   ]
  },
  {
   "cell_type": "code",
   "execution_count": null,
   "metadata": {},
   "outputs": [],
   "source": [
    "'''\n",
    "    Подсчет минимального количества монет (номиналы в списке coins) для размена суммы\n",
    "    Рекурсивный метод\n",
    "    Сложность O (nk)  (n - сумма, k-количество номиналов монет)\n",
    "'''\n",
    "def cnt_coins(coins, summa):\n",
    "    vals = [-1] * (summa + 1)\n",
    "    def coins_rec(x):\n",
    "        if x < 0: return float('inf')\n",
    "        if x == 0: return 0\n",
    "        if vals[x] > -1: return vals[x]\n",
    "        num_coins = float('inf')\n",
    "        for c in coins:\n",
    "            num_coins = min(num_coins, coins_rec(x-c) + 1)\n",
    "        vals[x] = num_coins\n",
    "        return num_coins\n",
    "    return coins_rec(summa)\n",
    "\n",
    "#\n",
    "print(cnt_coins([1, 3, 4], 1))\n",
    "print(cnt_coins([1, 3, 4], 2))\n",
    "print(cnt_coins([1, 3, 4], 6))\n",
    "print(cnt_coins([1, 3, 4], 10))"
   ]
  },
  {
   "cell_type": "code",
   "execution_count": null,
   "metadata": {},
   "outputs": [],
   "source": [
    "'''\n",
    "    Подсчет минимального количества монет (номиналы в списке coins) для размена суммы\n",
    "    Итеративный метод\n",
    "    Сложность O (nk)  (n - сумма, k-количество номиналов монет)\n",
    "'''\n",
    "def cnt_coins_it(coins, summa):\n",
    "    vals = [0] * (summa + 1)\n",
    "\n",
    "    for i in range(1, summa+1):\n",
    "        vals[i] = float('inf')\n",
    "        for c in coins:\n",
    "            if i-c >= 0:\n",
    "                vals[i] = min(vals[i], vals[i-c]+1)\n",
    "    \n",
    "    return vals[summa]\n",
    "\n",
    "print(cnt_coins_it([1, 3, 4], 1))\n",
    "print(cnt_coins_it([1, 3, 4], 2))\n",
    "print(cnt_coins_it([1, 3, 4], 6))\n",
    "print(cnt_coins_it([1, 3, 4], 10))"
   ]
  },
  {
   "cell_type": "code",
   "execution_count": 2,
   "metadata": {},
   "outputs": [
    {
     "name": "stdout",
     "output_type": "stream",
     "text": [
      "(0, [1])\n",
      "(0, [1, 1])\n",
      "(0, [3, 3])\n",
      "(0, [3, 3, 4])\n"
     ]
    }
   ],
   "source": [
    "'''\n",
    "    Подсчет минимального количества монет (номиналы в списке coins) для размена суммы + вывод списка номиналов\n",
    "    Итеративный метод\n",
    "    Сложность O (nk)  (n - сумма, k-количество номиналов монет)\n",
    "'''\n",
    "def cnt_coins_res(coins, summa):\n",
    "    vals = [0] * (summa + 1)\n",
    "    first_coin = [0] * (summa + 1)\n",
    "\n",
    "    for i in range(1, summa+1):\n",
    "        vals[i] = float('inf')\n",
    "        for c in coins:\n",
    "            if i-c >= 0 and vals[i-c]+1 < vals[i]:\n",
    "                vals[i] = vals[i-c]+1\n",
    "                first_coin[i] = c\n",
    "\n",
    "    min_coins = []\n",
    "    while summa > 0:\n",
    "        min_coins.append(first_coin[summa])\n",
    "        summa -= first_coin[summa]\n",
    "\n",
    "    return vals[summa], min_coins\n",
    "\n",
    "print(cnt_coins_res([1, 3, 4], 1))\n",
    "print(cnt_coins_res([1, 3, 4], 2))\n",
    "print(cnt_coins_res([1, 3, 4], 6))\n",
    "print(cnt_coins_res([1, 3, 4], 10))"
   ]
  }
 ],
 "metadata": {
  "kernelspec": {
   "display_name": "base",
   "language": "python",
   "name": "python3"
  },
  "language_info": {
   "codemirror_mode": {
    "name": "ipython",
    "version": 3
   },
   "file_extension": ".py",
   "mimetype": "text/x-python",
   "name": "python",
   "nbconvert_exporter": "python",
   "pygments_lexer": "ipython3",
   "version": "3.11.7"
  }
 },
 "nbformat": 4,
 "nbformat_minor": 2
}
