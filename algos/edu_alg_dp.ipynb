{
 "cells": [
  {
   "cell_type": "code",
   "execution_count": 1,
   "metadata": {},
   "outputs": [
    {
     "name": "stdout",
     "output_type": "stream",
     "text": [
      "5\n"
     ]
    }
   ],
   "source": [
    "# количество способов допрыгать до n, при двух вариантах прыжка, на 1 клетку и на 2 клетки\n",
    "def F(n):\n",
    "    res = [1] * n\n",
    "    for i in range(2, n):\n",
    "        res[i] = res[i-1]+res[i-2]\n",
    "    return res[n-1]\n",
    "    \n",
    "print(F(5))"
   ]
  },
  {
   "cell_type": "code",
   "execution_count": 2,
   "metadata": {},
   "outputs": [
    {
     "name": "stdout",
     "output_type": "stream",
     "text": [
      "7\n"
     ]
    }
   ],
   "source": [
    "# количество способов допрыгать до n, при трех вариантах прыжка, на 1 клетку, на 2 клетки и на 3 клетки\n",
    "def F(n):\n",
    "    res = [1] * n\n",
    "    res[2] = 2\n",
    "    for i in range(3, n):\n",
    "        res[i] = res[i-1]+res[i-2]+res[i-3]\n",
    "    return res[n-1]\n",
    "    \n",
    "print(F(5))"
   ]
  },
  {
   "cell_type": "code",
   "execution_count": 16,
   "metadata": {},
   "outputs": [
    {
     "name": "stdout",
     "output_type": "stream",
     "text": [
      "12\n"
     ]
    }
   ],
   "source": [
    "# количество способов допрыгать до n, при k вариантах прыжка, на 1 клетку, на 2 клетки ... на k клетки\n",
    "# + на некоторые клетки нельзя прыгать ! (список blocked)\n",
    "import random\n",
    "def F(n, k):\n",
    "    blocked = [1] * n\n",
    "    for i in range(0, n, 3):\n",
    "        blocked[i] = random.choice([0, 1])    \n",
    "    \n",
    "    res = [1] * n\n",
    "    for i in range(1, n):\n",
    "        if blocked[i] == 0:\n",
    "            res[i] = 0\n",
    "        else:\n",
    "            for j in range(1, k):\n",
    "                if i-j >=0:\n",
    "                    res[i]+=res[i-j]\n",
    "    return res[n-1]\n",
    "    \n",
    "print(F(5, 3))"
   ]
  }
 ],
 "metadata": {
  "kernelspec": {
   "display_name": "base",
   "language": "python",
   "name": "python3"
  },
  "language_info": {
   "codemirror_mode": {
    "name": "ipython",
    "version": 3
   },
   "file_extension": ".py",
   "mimetype": "text/x-python",
   "name": "python",
   "nbconvert_exporter": "python",
   "pygments_lexer": "ipython3",
   "version": "3.11.5"
  }
 },
 "nbformat": 4,
 "nbformat_minor": 2
}
