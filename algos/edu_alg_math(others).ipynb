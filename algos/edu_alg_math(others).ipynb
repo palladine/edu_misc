{
 "cells": [
  {
   "cell_type": "markdown",
   "metadata": {},
   "source": [
    "##### Евклидово расстояние между двумя точками"
   ]
  },
  {
   "cell_type": "markdown",
   "metadata": {},
   "source": [
    "Обычное евклидово расстояние между точками (x1, y1) и (x2, y2):  \n",
    "sqrt((x2-x1)^2+(y2-y1)^2)"
   ]
  },
  {
   "cell_type": "markdown",
   "metadata": {},
   "source": [
    "##### Манхеттенское расстояние между точками (x1, y1) и (x2, y2):  \n",
    "|x1-x2|+|y1-y2|"
   ]
  },
  {
   "cell_type": "markdown",
   "metadata": {},
   "source": [
    "##### Алгоритм Евклида (НОД, НОК) \n",
    "(алгоритм для нахождения наибольшего общего делителя двух целых чисел (или общей меры двух отрезков))"
   ]
  },
  {
   "cell_type": "code",
   "execution_count": 2,
   "metadata": {},
   "outputs": [
    {
     "name": "stdout",
     "output_type": "stream",
     "text": [
      "6\n"
     ]
    }
   ],
   "source": [
    "# НОД (наибольший общий делитель)\n",
    "def gcd(a, b): \n",
    "    while b != 0: \n",
    "        a, b = b, a % b \n",
    "    return a\n",
    "\n",
    "#\n",
    "print(gcd(30, 12))"
   ]
  },
  {
   "cell_type": "markdown",
   "metadata": {},
   "source": [
    "НОД трех и более целых чисел  \n",
    "НОД(a,b,c)=НОД(НОД(a,b),c)"
   ]
  },
  {
   "cell_type": "code",
   "execution_count": 3,
   "metadata": {},
   "outputs": [
    {
     "name": "stdout",
     "output_type": "stream",
     "text": [
      "24\n"
     ]
    }
   ],
   "source": [
    "# НОК (наименьшее общее кратное)\n",
    "def lcm(a, b):\n",
    "    return (a * b) // gcd(a, b)\n",
    "\n",
    "#\n",
    "print(lcm(6, 8))"
   ]
  },
  {
   "cell_type": "markdown",
   "metadata": {},
   "source": [
    "##### Сумма элементов списка (рекурсивный метод)"
   ]
  },
  {
   "cell_type": "code",
   "execution_count": null,
   "metadata": {},
   "outputs": [],
   "source": [
    "def sm(seq):\n",
    "    if seq:\n",
    "        return seq[0] + sm(seq[1:])\n",
    "    return 0\n",
    "\n",
    "sm([1, 2, 3, 4, 5, 6, 7, 8])"
   ]
  },
  {
   "cell_type": "markdown",
   "metadata": {},
   "source": [
    "##### Циклическая очередь"
   ]
  },
  {
   "cell_type": "code",
   "execution_count": 8,
   "metadata": {},
   "outputs": [
    {
     "name": "stdout",
     "output_type": "stream",
     "text": [
      "a\n",
      "z\n",
      "a\n",
      "z\n",
      "c\n"
     ]
    }
   ],
   "source": [
    "class CQueue:\n",
    "    def __init__(self, arr):\n",
    "        self.arr = arr\n",
    "\n",
    "    def __getitem__(self, idx):\n",
    "        return self.arr[(idx) % len(self.arr)]\n",
    "    \n",
    "# tests\n",
    "alph = 'abcdefghijklmnopqrstuvwxyz'\n",
    "c = CQueue(alph)\n",
    "print(c[0])\n",
    "print(c[25])\n",
    "print(c[26])\n",
    "print(c[-1])\n",
    "print(c[-50])"
   ]
  },
  {
   "cell_type": "code",
   "execution_count": 9,
   "metadata": {},
   "outputs": [
    {
     "name": "stdout",
     "output_type": "stream",
     "text": [
      "d\n",
      "x\n",
      "a\n",
      "a\n",
      "a\n"
     ]
    }
   ],
   "source": [
    "'''\n",
    "    idx - элемент\n",
    "    n - на сколько сдвинуть (может быть отрицательным - в обратную сторону)\n",
    "'''\n",
    "def cycle_qu(arr, el, n):\n",
    "    ln = len(arr)\n",
    "    idx = arr.index(el)\n",
    "    return arr[(idx+n) % ln]\n",
    "\n",
    "\n",
    "# tests\n",
    "alph = 'abcdefghijklmnopqrstuvwxyz'\n",
    "print(cycle_qu(alph, 'a', 3))   # d\n",
    "print(cycle_qu(alph, 'a', -3))  # x\n",
    "print(cycle_qu(alph, 'a', 26))  # a\n",
    "print(cycle_qu(alph, 'a', 0))   # a\n",
    "print(cycle_qu(alph, 'z', 1))   # a"
   ]
  },
  {
   "cell_type": "markdown",
   "metadata": {},
   "source": [
    "##### Простые числа"
   ]
  },
  {
   "cell_type": "code",
   "execution_count": null,
   "metadata": {},
   "outputs": [],
   "source": [
    "'''\n",
    "    Является ли число простым (делящееся на 1 и самого себя)\n",
    "'''\n",
    "def is_prime(n):\n",
    "    if n <= 1:\n",
    "        return False\n",
    "    if n == 2:\n",
    "        return True\n",
    "    if n % 2 == 0:\n",
    "        return False\n",
    "    for i in range(3, int(n**0.5) + 1, 2):\n",
    "        if n % i == 0:\n",
    "            return False\n",
    "    return True \n",
    "\n",
    "\n",
    "# test\n",
    "print(is_prime(3))    # True\n",
    "print(is_prime(6))    # False\n",
    "print(is_prime(17))   # True\n",
    "print(is_prime(100))  # False"
   ]
  },
  {
   "cell_type": "code",
   "execution_count": 14,
   "metadata": {},
   "outputs": [
    {
     "name": "stdout",
     "output_type": "stream",
     "text": [
      "[2, 5]\n",
      "[1]\n",
      "[2]\n",
      "[3]\n",
      "[17]\n",
      "[2, 2, 5, 5, 1]\n"
     ]
    }
   ],
   "source": [
    "'''\n",
    "    Получение простых множителей числа.\n",
    "    Простой множитель встречается в списке столько раз, какова его степень в разложении числа n.\n",
    "'''\n",
    "def get_factors(n):\n",
    "    res = []\n",
    "    k = int((n**0.5) // 1)\n",
    "    for i in range(2, k+1):\n",
    "        while n%i == 0:\n",
    "            res.append(i)\n",
    "            n //= i\n",
    "    if n >= 1:\n",
    "        res.append(n)\n",
    "    return res\n",
    "\n",
    "# tests\n",
    "print(get_factors(10))\n",
    "print(get_factors(1))\n",
    "print(get_factors(2))\n",
    "print(get_factors(3))\n",
    "print(get_factors(17))\n",
    "print(get_factors(100))\n"
   ]
  },
  {
   "cell_type": "code",
   "execution_count": 15,
   "metadata": {},
   "outputs": [
    {
     "name": "stdout",
     "output_type": "stream",
     "text": [
      "[1, 2, 3, 5, 7, 11, 13, 17, 19, 23, 29]\n"
     ]
    }
   ],
   "source": [
    "'''\n",
    "    Решето Эратосфена\n",
    "    (алгоритм нахождения простых чисел до заданного натурального числа путем постепенного отсеивания составных чисел)\n",
    "'''\n",
    "def erat(n):\n",
    "    primes = [i for i in range(n+1)]\n",
    "\n",
    "    i = 2\n",
    "    while i <= n:\n",
    "        if primes[i] != 0:\n",
    "            j = i + i\n",
    "            while j <= n:\n",
    "                primes[j] = 0\n",
    "                j = j + i\n",
    "        i += 1\n",
    "\n",
    "    primes = [i for i in primes if i != 0]\n",
    "    return primes\n",
    "\n",
    "# test\n",
    "print(erat(30))"
   ]
  },
  {
   "cell_type": "markdown",
   "metadata": {},
   "source": [
    "##### Комбинаторика"
   ]
  },
  {
   "cell_type": "code",
   "execution_count": 17,
   "metadata": {},
   "outputs": [
    {
     "name": "stdout",
     "output_type": "stream",
     "text": [
      "1\n",
      "6\n",
      "120\n",
      "3628800\n"
     ]
    }
   ],
   "source": [
    "'''\n",
    "    Количество перестановок\n",
    "    ( вычисляется по формуле P(n) = n! )\n",
    "'''\n",
    "def P(n):\n",
    "    if n == 1:\n",
    "        return 1\n",
    "    return n * P(n-1)\n",
    "\n",
    "#\n",
    "print(P(1))\n",
    "print(P(3))\n",
    "print(P(5))\n",
    "print(P(10))"
   ]
  },
  {
   "cell_type": "code",
   "execution_count": 21,
   "metadata": {},
   "outputs": [
    {
     "name": "stdout",
     "output_type": "stream",
     "text": [
      "900900\n"
     ]
    }
   ],
   "source": [
    "'''\n",
    "    Количество перестановок с повторениями\n",
    "    ( вычисляется по формуле _P(n1, n2, ..., nk) = n! / (n1! * n2! * ... * nk!) \n",
    "    (n1, n2, ..., nk) - количество типов обектов)\n",
    "'''\n",
    "def _P(n1, n2, n3):\n",
    "    return int(P(n1 + n2 + n3) / (P(n1) * P(n2) * P(n3)))\n",
    "\n",
    "'''\n",
    "    Сколькими способами можно собрать гирлянду из 4 красных, 4 синих и 8 желтых флажков?\n",
    "'''\n",
    "print(_P(4, 4, 8))"
   ]
  },
  {
   "cell_type": "code",
   "execution_count": 19,
   "metadata": {},
   "outputs": [
    {
     "name": "stdout",
     "output_type": "stream",
     "text": [
      "45\n"
     ]
    }
   ],
   "source": [
    "'''\n",
    "    Количество сочетаний (без повторения)\n",
    "    (вычисляется по формуле C(n, k) = n! / k! * (n-k)! (из n объектов по k))\n",
    "'''\n",
    "def C(n, k):\n",
    "    return P(n) / (P(k) * P(n-k))\n",
    "\n",
    "# \n",
    "print(int(C(10, 2)))"
   ]
  },
  {
   "cell_type": "code",
   "execution_count": 22,
   "metadata": {},
   "outputs": [
    {
     "name": "stdout",
     "output_type": "stream",
     "text": [
      "20\n"
     ]
    }
   ],
   "source": [
    "'''\n",
    "    Количество сочетаний (с повторением)\n",
    "    (вычисляется по формуле C(n, k) = (k+n-1)! / ((n-1)! * k! ) (из n объектов по k))\n",
    "'''\n",
    "def _C(n, k):\n",
    "    return int(P(k+n-1) / (P(n-1) * P(k)))\n",
    "\n",
    "# \n",
    "print(_C(4, 3))"
   ]
  },
  {
   "cell_type": "markdown",
   "metadata": {},
   "source": [
    "##### Матрицы"
   ]
  },
  {
   "cell_type": "code",
   "execution_count": 6,
   "metadata": {},
   "outputs": [
    {
     "name": "stdout",
     "output_type": "stream",
     "text": [
      "[[9, 42], [21, 99], [20, 102]]\n"
     ]
    }
   ],
   "source": [
    "'''\n",
    "    Произведение двух матриц\n",
    "    O (n^3)\n",
    "'''\n",
    "def mulAB(A, B):\n",
    "    nA = len(A)\n",
    "    mA = len(A[0])\n",
    "    nB = len(B)\n",
    "    mB = len(B[0])\n",
    "\n",
    "    # result Matrix -> nA x mB\n",
    "    C = [[0]*mB for _ in range(nA)]\n",
    "    for i in range(nA):\n",
    "        for j in range(mB):\n",
    "            for k in range(mA):\n",
    "                C[i][j] += A[i][k] * B[k][j]\n",
    "    return C\n",
    "\n",
    "#\n",
    "print(mulAB([[1, 4], [3, 9], [8, 6]], [[1, 6], [2, 9]]))"
   ]
  },
  {
   "cell_type": "code",
   "execution_count": 38,
   "metadata": {},
   "outputs": [
    {
     "name": "stdout",
     "output_type": "stream",
     "text": [
      "  0  1  3  6 10 15 21 28 36 45\n",
      "  2  4  7 11 16 22 29 37 46 55\n",
      "  5  8 12 17 23 30 38 47 56 64\n",
      "  9 13 18 24 31 39 48 57 65 72\n",
      " 14 19 25 32 40 49 58 66 73 79\n",
      " 20 26 33 41 50 59 67 74 80 85\n",
      " 27 34 42 51 60 68 75 81 86 90\n",
      " 35 43 52 61 69 76 82 87 91 94\n",
      " 44 53 62 70 77 83 88 92 95 97\n",
      " 54 63 71 78 84 89 93 96 98 99\n"
     ]
    }
   ],
   "source": [
    "'''\n",
    "    Заполнение матрицы n x m по диагоналям.\n",
    "'''\n",
    "def main(n, m):\n",
    "    res = [[0] * m for _ in range(n)]\n",
    "\n",
    "    value = 0\n",
    "    for diag in range(n + m - 1):\n",
    "        for i in range(n):\n",
    "            j = diag - i\n",
    "            if 0 <= j < m:\n",
    "                res[i][j] = value\n",
    "                value += 1\n",
    "    return res\n",
    "\n",
    "#\n",
    "for r in main(10, 10):\n",
    "    for c in r:\n",
    "        print(f'{c:3}', end='')\n",
    "    print()\n"
   ]
  },
  {
   "cell_type": "markdown",
   "metadata": {},
   "source": [
    "##### Системы счисления"
   ]
  },
  {
   "cell_type": "code",
   "execution_count": 33,
   "metadata": {},
   "outputs": [
    {
     "name": "stdout",
     "output_type": "stream",
     "text": [
      "b1\n"
     ]
    }
   ],
   "source": [
    "# перевод из 10-ой в любую систему не более 16-ой\n",
    "def dec_2_base(n, base):\n",
    "    if base < 2: return '-'\n",
    "    res = []\n",
    "    d = {0: '0', 1: '1', 2: '2', 3: '3', 4: '4', 5: '5', 6: '6', 7: '7', \n",
    "         8: '8', 9: '9', 10: 'a', 11: 'b', 12: 'c', 13: 'd', 14: 'e', 15: 'f'}\n",
    "\n",
    "    while n:\n",
    "        res.append(d[n % base])\n",
    "        n //= base\n",
    "    return ''.join(res[::-1])\n",
    "\n",
    "for b in range(2, 17):\n",
    "    n = 2025\n",
    "    print(f'{n} in {b:>2}-base is {dec_2_base(n, b)}')"
   ]
  },
  {
   "cell_type": "code",
   "execution_count": 36,
   "metadata": {},
   "outputs": [
    {
     "name": "stdout",
     "output_type": "stream",
     "text": [
      "22\n",
      "256\n",
      "65535\n",
      "79\n"
     ]
    }
   ],
   "source": [
    "# перевод из любой системы счисления не более 16-ой в 10-ую\n",
    "def base_2_dec(n, base):\n",
    "    d = {'0': 0, '1': 1, '2': 2, '3': 3, '4': 4, '5': 5, '6': 6, '7': 7,\n",
    "         '8': 8, '9': 9, 'a': 10, 'b': 11, 'c': 12, 'd': 13, 'e': 14, 'f': 15}\n",
    "\n",
    "    n = str(n)\n",
    "    sm = 0\n",
    "    for i in range(len(n)-1, -1, -1):\n",
    "        k = d[n[i]]\n",
    "        if k >= base: return '-'\n",
    "        sm += k * (base**(-i+len(n)-1))\n",
    "\n",
    "    return sm\n",
    "\n",
    "#\n",
    "print(base_2_dec('10110', 2))\n",
    "print(base_2_dec('256', 10))\n",
    "print(base_2_dec('ffff', 16))"
   ]
  },
  {
   "cell_type": "markdown",
   "metadata": {},
   "source": [
    "##### Квадратное уравнение"
   ]
  },
  {
   "cell_type": "markdown",
   "metadata": {},
   "source": [
    "ax² + bx + c = 0"
   ]
  },
  {
   "cell_type": "code",
   "execution_count": 1,
   "metadata": {},
   "outputs": [
    {
     "name": "stdout",
     "output_type": "stream",
     "text": [
      "1.00\n",
      "-1.14 1.83\n",
      "1.00 2.00\n",
      "1.00\n",
      "No solution\n",
      "-2.00\n",
      "Infinite solutions\n",
      "No solution\n"
     ]
    }
   ],
   "source": [
    "# Решение квадратного уравнения\n",
    "def quad_equ(a, b, c):\n",
    "    res = 'No solution'\n",
    "    if a == 0:\n",
    "        if b == 0:\n",
    "            if c == 0:\n",
    "                res = 'Infinite solutions'\n",
    "        else:\n",
    "            res = f'{-1 * (c / b):.2f}'\n",
    "    else:\n",
    "        D = b**2 - 4 * a * c\n",
    "        if D > 0:\n",
    "            x1 = (-b + D**0.5) / (2 * a)\n",
    "            x2 = (-b - D**0.5) / (2 * a)\n",
    "            L = sorted([x1, x2])\n",
    "            res = f'{L[0]:.2f} {L[1]:.2f}'\n",
    "        elif D == 0:\n",
    "            x = -b / (2 * a)\n",
    "            res = f'{x:.2f}'\n",
    "    return res\n",
    "\n",
    "\n",
    "# tests\n",
    "print(quad_equ(1, -2, 1))           # 1.00\n",
    "print(quad_equ(3.5, -2.4, -7.3))    # -1.14 1.83\n",
    "print(quad_equ(1, -3, 2))           # 1.00 2.00\n",
    "print(quad_equ(1, -2, 1))           # 1.00\n",
    "print(quad_equ(1, 0, 1))            # No solution\n",
    "print(quad_equ(0, 2, 4))            # -2.00\n",
    "print(quad_equ(0, 0, 0))            # Infinite solutions\n",
    "print(quad_equ(0, 0, 5))            # No solution"
   ]
  },
  {
   "cell_type": "markdown",
   "metadata": {},
   "source": [
    "##### Треугольник"
   ]
  },
  {
   "cell_type": "markdown",
   "metadata": {},
   "source": [
    "Тип треугольника  \n",
    "- прямоугольный треугольник (a² + b² = c²)  \n",
    "- тупоугольный треугольник (a² + b² < c²)  \n",
    "- остроугольный треугольник (a² + b² > c²)  \n",
    "- не треугольник - когда сумма двух меньших сторон ≤ наибольшей стороне"
   ]
  },
  {
   "cell_type": "code",
   "execution_count": 3,
   "metadata": {},
   "outputs": [
    {
     "name": "stdout",
     "output_type": "stream",
     "text": [
      "Прямоугольный\n",
      "Тупоугольный\n",
      "Остроугольный\n",
      "Не треугольник\n"
     ]
    }
   ],
   "source": [
    "def tr(a, b, c):\n",
    "    L = sorted([a, b, c])\n",
    "    \n",
    "    if L[0] + L[1] <= L[2]:\n",
    "        return 'Не треугольник'\n",
    "    \n",
    "    sm_k = L[0]**2 + L[1]**2\n",
    "    sm_g = L[2]**2\n",
    "    if sm_k == sm_g:\n",
    "        return 'Прямоугольный'\n",
    "    elif sm_k < sm_g:\n",
    "        return 'Тупоугольный'\n",
    "    else:\n",
    "        return 'Остроугольный'\n",
    "\n",
    "print(tr(3, 5, 4))      # Прямоугольный\n",
    "print(tr(6, 3, 4))      # Тупоугольный\n",
    "print(tr(5, 5, 5))      # Остроугольный\n",
    "print(tr(1, 1, 3))      # Не треугольник"
   ]
  },
  {
   "cell_type": "markdown",
   "metadata": {},
   "source": [
    "##### Римские цифры"
   ]
  },
  {
   "cell_type": "code",
   "execution_count": null,
   "metadata": {},
   "outputs": [
    {
     "name": "stdout",
     "output_type": "stream",
     "text": [
      "XIV\n",
      "XLIV\n",
      "XCIX\n",
      "CDXLIV\n",
      "MCMXCIV\n"
     ]
    }
   ],
   "source": [
    "'''\n",
    "    Перевод из арабских в римские\n",
    "    O(log n)\n",
    "'''\n",
    "def arab_to_roman(n: int) -> str:\n",
    "    matrix = {1: 'I', 4: 'IV', 5: 'V', 9: 'IX', 10: 'X', \n",
    "         40: 'XL', 50: 'L', 90: 'XC', 100: 'C', \n",
    "         400: 'CD', 500: 'D', 900: 'CM', 1000: 'M'}\n",
    "    \n",
    "    i = 0\n",
    "    result = ''\n",
    "    while n > 0:\n",
    "        ciph = n % 10\n",
    "\n",
    "        if i == 3 or ciph < 4:\n",
    "            cur_num = matrix[10**i] * ciph\n",
    "        elif 6 <= ciph <= 8:\n",
    "            cur_num = matrix[5 * (10**i)] + (matrix[10**i] * (ciph - 5))\n",
    "        else:\n",
    "            cur_num = matrix[ciph * (10**i)]\n",
    "\n",
    "        result = cur_num + result\n",
    "\n",
    "        n //= 10\n",
    "        i += 1\n",
    "\n",
    "    return result\n",
    "\n",
    "\n",
    "# tests\n",
    "print(arab_to_roman(14))    # \"XIV\"\n",
    "print(arab_to_roman(44))    # \"XLIV\"\n",
    "print(arab_to_roman(99))    # \"XCIX\"\n",
    "print(arab_to_roman(444))   # \"CDXLIV\"\n",
    "print(arab_to_roman(1994))  # \"MCMXCIV\"\n"
   ]
  },
  {
   "cell_type": "code",
   "execution_count": 2,
   "metadata": {},
   "outputs": [
    {
     "name": "stdout",
     "output_type": "stream",
     "text": [
      "XIV\n",
      "XLIV\n",
      "XCIX\n",
      "CDXLIV\n",
      "MCMXCIV\n"
     ]
    }
   ],
   "source": [
    "'''\n",
    "    Перевод из арабских в римские\n",
    "    O(1) - хотя внутренний цикл зависит от n, общее количество операций ограничено константой \n",
    "    из-за фиксированного набора values (13 элементов)\n",
    "'''\n",
    "def arab_to_roman_rapid(n: int) -> str:\n",
    "    values = [\n",
    "        (1000, 'M'), (900, 'CM'), (500, 'D'), (400, 'CD'),\n",
    "        (100, 'C'), (90, 'XC'), (50, 'L'), (40, 'XL'),\n",
    "        (10, 'X'), (9, 'IX'), (5, 'V'), (4, 'IV'), (1, 'I')\n",
    "    ]\n",
    "    \n",
    "    result = ''\n",
    "    for value, numeral in values:\n",
    "        while n >= value:\n",
    "            result += numeral\n",
    "            n -= value\n",
    "    \n",
    "    return result\n",
    "\n",
    "\n",
    "# tests\n",
    "print(arab_to_roman_rapid(14))    # \"XIV\"\n",
    "print(arab_to_roman_rapid(44))    # \"XLIV\"\n",
    "print(arab_to_roman_rapid(99))    # \"XCIX\"\n",
    "print(arab_to_roman_rapid(444))   # \"CDXLIV\"\n",
    "print(arab_to_roman_rapid(1994))  # \"MCMXCIV\""
   ]
  }
 ],
 "metadata": {
  "kernelspec": {
   "display_name": "base",
   "language": "python",
   "name": "python3"
  },
  "language_info": {
   "codemirror_mode": {
    "name": "ipython",
    "version": 3
   },
   "file_extension": ".py",
   "mimetype": "text/x-python",
   "name": "python",
   "nbconvert_exporter": "python",
   "pygments_lexer": "ipython3",
   "version": "3.12.7"
  }
 },
 "nbformat": 4,
 "nbformat_minor": 2
}
