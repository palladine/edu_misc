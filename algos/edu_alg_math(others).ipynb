{
 "cells": [
  {
   "cell_type": "markdown",
   "metadata": {},
   "source": [
    "##### Евклидово расстояние между двумя точками"
   ]
  },
  {
   "cell_type": "markdown",
   "metadata": {},
   "source": [
    "Обычное евклидово расстояние между точками (x1, y1) и (x2, y2):  \n",
    "sqrt((x2-x1)^2+(y2-y1)^2)"
   ]
  },
  {
   "cell_type": "markdown",
   "metadata": {},
   "source": [
    "##### Манхеттенское расстояние между точками (x1, y1) и (x2, y2):  \n",
    "|x1-x2|+|y1-y2|"
   ]
  },
  {
   "cell_type": "markdown",
   "metadata": {},
   "source": [
    "##### Алгоритм Евклида  \n",
    "(алгоритм для нахождения наибольшего общего делителя двух целых чисел (или общей меры двух отрезков))"
   ]
  },
  {
   "cell_type": "code",
   "execution_count": 2,
   "metadata": {},
   "outputs": [
    {
     "name": "stdout",
     "output_type": "stream",
     "text": [
      "6\n"
     ]
    }
   ],
   "source": [
    "# НОД (наибольший общий делитель)\n",
    "def gcd(a, b): \n",
    "    while b != 0: \n",
    "        a, b = b, a % b \n",
    "    return a\n",
    "\n",
    "#\n",
    "print(gcd(30, 12))"
   ]
  },
  {
   "cell_type": "code",
   "execution_count": 3,
   "metadata": {},
   "outputs": [
    {
     "name": "stdout",
     "output_type": "stream",
     "text": [
      "24\n"
     ]
    }
   ],
   "source": [
    "# НОК (наименьшее общее кратное)\n",
    "def lcm(a, b):\n",
    "    return (a * b) // gcd(a, b)\n",
    "\n",
    "#\n",
    "print(lcm(6, 8))"
   ]
  },
  {
   "cell_type": "markdown",
   "metadata": {},
   "source": [
    "##### Сумма элементов списка (рекурсивный метод)"
   ]
  },
  {
   "cell_type": "code",
   "execution_count": null,
   "metadata": {},
   "outputs": [],
   "source": [
    "def sm(seq):\n",
    "    if seq:\n",
    "        return seq[0] + sm(seq[1:])\n",
    "    return 0\n",
    "\n",
    "sm([1, 2, 3, 4, 5, 6, 7, 8])"
   ]
  },
  {
   "cell_type": "markdown",
   "metadata": {},
   "source": [
    "##### Циклическая очередь"
   ]
  },
  {
   "cell_type": "code",
   "execution_count": 9,
   "metadata": {},
   "outputs": [
    {
     "name": "stdout",
     "output_type": "stream",
     "text": [
      "d\n",
      "x\n",
      "a\n",
      "a\n",
      "a\n"
     ]
    }
   ],
   "source": [
    "'''\n",
    "    idx - элемент\n",
    "    n - на сколько сдвинуть (может быть отрицательным - в обратную сторону)\n",
    "'''\n",
    "def cycle_qu(arr, el, n):\n",
    "    ln = len(arr)\n",
    "    idx = arr.index(el)\n",
    "    return arr[(idx+n) % ln]\n",
    "\n",
    "\n",
    "# tests\n",
    "alph = 'abcdefghijklmnopqrstuvwxyz'\n",
    "print(cycle_qu(alph, 'a', 3))   # d\n",
    "print(cycle_qu(alph, 'a', -3))  # x\n",
    "print(cycle_qu(alph, 'a', 26))  # a\n",
    "print(cycle_qu(alph, 'a', 0))   # a\n",
    "print(cycle_qu(alph, 'z', 1))   # a"
   ]
  },
  {
   "cell_type": "markdown",
   "metadata": {},
   "source": [
    "##### Простые числа"
   ]
  },
  {
   "cell_type": "code",
   "execution_count": null,
   "metadata": {},
   "outputs": [],
   "source": [
    "'''\n",
    "    Является ли число простым (делящееся на 1 и самого себя)\n",
    "'''\n",
    "def is_prime(n):\n",
    "    if n < 2: \n",
    "        return False\n",
    "    k = int((n**0.5) // 1)\n",
    "    for i in range(2, k+1):\n",
    "        if n%i == 0:\n",
    "            return False\n",
    "    return True\n",
    "\n",
    "\n",
    "# test\n",
    "print(is_prime(3))    # True\n",
    "print(is_prime(6))    # False\n",
    "print(is_prime(17))   # True\n",
    "print(is_prime(100))  # False"
   ]
  },
  {
   "cell_type": "code",
   "execution_count": 14,
   "metadata": {},
   "outputs": [
    {
     "name": "stdout",
     "output_type": "stream",
     "text": [
      "[2, 5]\n",
      "[1]\n",
      "[2]\n",
      "[3]\n",
      "[17]\n",
      "[2, 2, 5, 5, 1]\n"
     ]
    }
   ],
   "source": [
    "'''\n",
    "    Получение простых множителей числа.\n",
    "    Простой множитель встречается в списке столько раз, какова его степень в разложении числа n.\n",
    "'''\n",
    "def get_factors(n):\n",
    "    res = []\n",
    "    k = int((n**0.5) // 1)\n",
    "    for i in range(2, k+1):\n",
    "        while n%i == 0:\n",
    "            res.append(i)\n",
    "            n //= i\n",
    "    if n >= 1:\n",
    "        res.append(n)\n",
    "    return res\n",
    "\n",
    "# tests\n",
    "print(get_factors(10))\n",
    "print(get_factors(1))\n",
    "print(get_factors(2))\n",
    "print(get_factors(3))\n",
    "print(get_factors(17))\n",
    "print(get_factors(100))\n"
   ]
  },
  {
   "cell_type": "code",
   "execution_count": 15,
   "metadata": {},
   "outputs": [
    {
     "name": "stdout",
     "output_type": "stream",
     "text": [
      "[1, 2, 3, 5, 7, 11, 13, 17, 19, 23, 29]\n"
     ]
    }
   ],
   "source": [
    "'''\n",
    "    Решето Эратосфена\n",
    "    (алгоритм нахождения простых чисел до заданного натурального числа путем постепенного отсеивания составных чисел)\n",
    "'''\n",
    "def erat(n):\n",
    "    primes = [i for i in range(n+1)]\n",
    "\n",
    "    i = 2\n",
    "    while i <= n:\n",
    "        if primes[i] != 0:\n",
    "            j = i + i\n",
    "            while j <= n:\n",
    "                primes[j] = 0\n",
    "                j = j + i\n",
    "        i += 1\n",
    "\n",
    "    primes = [i for i in primes if i != 0]\n",
    "    return primes\n",
    "\n",
    "# test\n",
    "print(erat(30))"
   ]
  },
  {
   "cell_type": "markdown",
   "metadata": {},
   "source": [
    "##### Комбинаторика"
   ]
  },
  {
   "cell_type": "code",
   "execution_count": 17,
   "metadata": {},
   "outputs": [
    {
     "name": "stdout",
     "output_type": "stream",
     "text": [
      "1\n",
      "6\n",
      "120\n",
      "3628800\n"
     ]
    }
   ],
   "source": [
    "'''\n",
    "    Количество перестановок\n",
    "    ( вычисляется по формуле P(n) = n! )\n",
    "'''\n",
    "def P(n):\n",
    "    if n == 1:\n",
    "        return 1\n",
    "    return n * P(n-1)\n",
    "\n",
    "#\n",
    "print(P(1))\n",
    "print(P(3))\n",
    "print(P(5))\n",
    "print(P(10))"
   ]
  },
  {
   "cell_type": "code",
   "execution_count": 21,
   "metadata": {},
   "outputs": [
    {
     "name": "stdout",
     "output_type": "stream",
     "text": [
      "900900\n"
     ]
    }
   ],
   "source": [
    "'''\n",
    "    Количество перестановок с повторениями\n",
    "    ( вычисляется по формуле _P(n1, n2, ..., nk) = n! / (n1! * n2! * ... * nk!) \n",
    "    (n1, n2, ..., nk) - количество типов обектов)\n",
    "'''\n",
    "def _P(n1, n2, n3):\n",
    "    return int(P(n1 + n2 + n3) / (P(n1) * P(n2) * P(n3)))\n",
    "\n",
    "'''\n",
    "    Сколькими способами можно собрать гирлянду из 4 красных, 4 синих и 8 желтых флажков?\n",
    "'''\n",
    "print(_P(4, 4, 8))"
   ]
  },
  {
   "cell_type": "code",
   "execution_count": 19,
   "metadata": {},
   "outputs": [
    {
     "name": "stdout",
     "output_type": "stream",
     "text": [
      "45\n"
     ]
    }
   ],
   "source": [
    "'''\n",
    "    Количество сочетаний (без повторения)\n",
    "    (вычисляется по формуле C(n, k) = n! / k! * (n-k)! (из n объектов по k))\n",
    "'''\n",
    "def C(n, k):\n",
    "    return P(n) / (P(k) * P(n-k))\n",
    "\n",
    "# \n",
    "print(int(C(10, 2)))"
   ]
  },
  {
   "cell_type": "code",
   "execution_count": 22,
   "metadata": {},
   "outputs": [
    {
     "name": "stdout",
     "output_type": "stream",
     "text": [
      "20\n"
     ]
    }
   ],
   "source": [
    "'''\n",
    "    Количество сочетаний (с повторением)\n",
    "    (вычисляется по формуле C(n, k) = (k+n-1)! / ((n-1)! * k! ) (из n объектов по k))\n",
    "'''\n",
    "def _C(n, k):\n",
    "    return int(P(k+n-1) / (P(n-1) * P(k)))\n",
    "\n",
    "# \n",
    "print(_C(4, 3))"
   ]
  },
  {
   "cell_type": "markdown",
   "metadata": {},
   "source": [
    "##### Матрицы"
   ]
  },
  {
   "cell_type": "code",
   "execution_count": 6,
   "metadata": {},
   "outputs": [
    {
     "name": "stdout",
     "output_type": "stream",
     "text": [
      "[[9, 42], [21, 99], [20, 102]]\n"
     ]
    }
   ],
   "source": [
    "'''\n",
    "    Произведение двух матриц\n",
    "    O (n^3)\n",
    "'''\n",
    "def mulAB(A, B):\n",
    "    nA = len(A)\n",
    "    mA = len(A[0])\n",
    "    nB = len(B)\n",
    "    mB = len(B[0])\n",
    "\n",
    "    # result Matrix -> nA x mB\n",
    "    C = [[0]*mB for _ in range(nA)]\n",
    "    for i in range(nA):\n",
    "        for j in range(mB):\n",
    "            for k in range(mA):\n",
    "                C[i][j] += A[i][k] * B[k][j]\n",
    "    return C\n",
    "\n",
    "#\n",
    "print(mulAB([[1, 4], [3, 9], [8, 6]], [[1, 6], [2, 9]]))"
   ]
  }
 ],
 "metadata": {
  "kernelspec": {
   "display_name": "base",
   "language": "python",
   "name": "python3"
  },
  "language_info": {
   "codemirror_mode": {
    "name": "ipython",
    "version": 3
   },
   "file_extension": ".py",
   "mimetype": "text/x-python",
   "name": "python",
   "nbconvert_exporter": "python",
   "pygments_lexer": "ipython3",
   "version": "3.11.7"
  }
 },
 "nbformat": 4,
 "nbformat_minor": 2
}
