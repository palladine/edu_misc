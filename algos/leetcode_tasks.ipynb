{
 "cells": [
  {
   "cell_type": "markdown",
   "metadata": {},
   "source": [
    "## Hash Table (set, dict)"
   ]
  },
  {
   "cell_type": "code",
   "execution_count": null,
   "metadata": {},
   "outputs": [],
   "source": [
    "'''\n",
    "    2062. Count Vowel Substrings of a String\n",
    "    A substring is a contiguous (non-empty) sequence of characters within a string.\n",
    "    A vowel substring is a substring that only consists of vowels ('a', 'e', 'i', 'o', and 'u') and has all five vowels present in it.\n",
    "    Given a string word, return the number of vowel substrings in word.\n",
    "'''\n",
    "def countVowelSubstrings(word):\n",
    "        vowels = {'a','e','i','o','u'}\n",
    "        d = dict()\n",
    "        cnt = left = start = 0\n",
    "        for i in range(len(word)):\n",
    "            if word[i] in vowels:\n",
    "                d[word[i]] = d.setdefault(word[i], 0) + 1\n",
    "\n",
    "                while len(d) == 5 and all(d.values()):\n",
    "                    if word[start] in d:\n",
    "                        d[word[start]] -= 1\n",
    "                    start += 1\n",
    "                cnt += (start - left)\n",
    "            else:\n",
    "                d.clear()\n",
    "                left = start = i + 1\n",
    "        return cnt\n",
    "\n",
    "#\n",
    "print(countVowelSubstrings(\"cuaieuouac\"))  # 7\n",
    "print(countVowelSubstrings(\"aeiouu\"))      # 2\n",
    "print(countVowelSubstrings(\"unicornarihan\")) # 0"
   ]
  },
  {
   "cell_type": "markdown",
   "metadata": {},
   "source": [
    "## 2 pointers"
   ]
  },
  {
   "cell_type": "code",
   "execution_count": null,
   "metadata": {},
   "outputs": [],
   "source": [
    "''' \n",
    "    2410. Maximum Matching of Players With Trainers (is the same 455. Assign Cookies)\n",
    "    You are given a 0-indexed integer array players, where players[i] represents the ability of the ith player. \n",
    "    You are also given a 0-indexed integer array trainers, where trainers[j] represents the training capacity of the jth trainer.\n",
    "    The ith player can match with the jth trainer if the player's ability is less than or equal to the trainer's training capacity. \n",
    "    Additionally, the ith player can be matched with at most one trainer, and the jth trainer can be matched with at most one player.\n",
    "    Return the maximum number of matchings between players and trainers that satisfy these conditions.\n",
    "'''\n",
    "def matchPlayersAndTrainers(self, players, trainers) -> int:\n",
    "        players = sorted(players)\n",
    "        trainers = sorted(trainers)\n",
    "\n",
    "        p1 = 0\n",
    "        p2 = 0\n",
    "\n",
    "        while p1 < len(players) and p2 < len(trainers):\n",
    "            if trainers[p2] >= players[p1]:\n",
    "                p1+=1\n",
    "                p2+=1\n",
    "            else:\n",
    "                p2+=1\n",
    "        return p1"
   ]
  },
  {
   "cell_type": "code",
   "execution_count": null,
   "metadata": {},
   "outputs": [],
   "source": [
    "'''\n",
    "    977. Squares of a Sorted Array\n",
    "    Given an integer array nums sorted in non-decreasing order, \n",
    "    return an array of the squares of each number sorted in non-decreasing order.\n",
    "'''\n",
    "def sortedSquares(nums):\n",
    "    l = 0\n",
    "    r = len(nums)-1\n",
    "\n",
    "    res = [0] * len(nums)\n",
    "    pos = r\n",
    "\n",
    "    while l <= r:\n",
    "        lpow = nums[l] * nums[l]\n",
    "        rpow = nums[r] * nums[r]\n",
    "        \n",
    "        if lpow > rpow:\n",
    "            res[pos] = lpow\n",
    "            l += 1\n",
    "        else:\n",
    "            res[pos] = rpow\n",
    "            r -= 1\n",
    "        pos -= 1\n",
    "\n",
    "    return res\n",
    "\n",
    "\n",
    "# test\n",
    "print(sortedSquares([-5, -3, -2, -1]))\n",
    "print(sortedSquares([-4, -1, 0, 3, 10]))\n",
    "print(sortedSquares([-7, -3, 2, 3, 11]))\n",
    "print(sortedSquares([-4]))\n",
    "print(sortedSquares([0]))\n",
    "print(sortedSquares([0, 10000]))"
   ]
  },
  {
   "cell_type": "markdown",
   "metadata": {},
   "source": [
    "## Prefix sum , Suffix sum"
   ]
  },
  {
   "cell_type": "code",
   "execution_count": 1,
   "metadata": {},
   "outputs": [
    {
     "name": "stdout",
     "output_type": "stream",
     "text": [
      "2\n",
      "2\n",
      "3\n"
     ]
    }
   ],
   "source": [
    "'''\n",
    "    3354. Make Array Elements Equal to Zero\n",
    "    You are given an integer array nums.\n",
    "    Start by selecting a starting position curr such that nums[curr] == 0, and choose a movement direction of either left or right.\n",
    "    After that, you repeat the following process:\n",
    "         - If curr is out of the range [0, n - 1], this process ends.\n",
    "         - If nums[curr] == 0, move in the current direction by incrementing curr if you are moving right, or decrementing curr if you are moving left.\n",
    "         - Else if nums[curr] > 0:\n",
    "            -- Decrement nums[curr] by 1.\n",
    "            -- Reverse your movement direction (left becomes right and vice versa).\n",
    "            -- Take a step in your new direction.\n",
    "    A selection of the initial position curr and movement direction is considered valid if every element in nums becomes 0 by the end of the process.\n",
    "    Return the number of possible valid selections.\n",
    "    ! Hint 1: Since the constraints are very small, you can simulate the process described.\n",
    "'''\n",
    "def countValidSelections(nums):\n",
    "        prefix = [0]*len(nums)\n",
    "        suffix = [0]*len(nums)\n",
    "        for i in range(1,len(nums)):\n",
    "            prefix[i]=prefix[i-1]+nums[i-1]\n",
    "        for i in range(len(nums)-2,-1,-1):\n",
    "            suffix[i]=suffix[i+1]+nums[i+1]\n",
    "        cnt = 0\n",
    "        for i in range(len(nums)):\n",
    "            if nums[i] == 0:\n",
    "                if suffix[i] == prefix[i]:\n",
    "                    cnt+=2\n",
    "                elif abs(suffix[i]-prefix[i]) == 1:\n",
    "                    cnt+=1\n",
    "        return cnt\n",
    "\n",
    "# tests\n",
    "print(countValidSelections([1, 0, 2, 0, 3]))  # 2\n",
    "print(countValidSelections([3, 0, 0, 1, 1]))  # 2\n",
    "print(countValidSelections([16, 13, 10, 0, 0, 0, 10, 6, 7, 8, 7]))  # 3"
   ]
  },
  {
   "cell_type": "markdown",
   "metadata": {},
   "source": [
    "## ListNode"
   ]
  },
  {
   "cell_type": "code",
   "execution_count": null,
   "metadata": {},
   "outputs": [],
   "source": [
    "'''\n",
    "    21. Merge Two Sorted Lists\n",
    "    You are given the heads of two sorted linked lists list1 and list2.\n",
    "    Merge the two lists into one sorted list. The list should be made by splicing together the nodes of the first two lists.\n",
    "    Return the head of the merged linked list.\n",
    "'''\n",
    "# Definition for singly-linked list.\n",
    "# class ListNode:\n",
    "#     def __init__(self, val=0, next=None):\n",
    "#         self.val = val\n",
    "#         self.next = next\n",
    "class Solution:\n",
    "    def mergeTwoLists(self, l1, l2):\n",
    "        if l1 and l2:\n",
    "            if l2.val < l1.val:\n",
    "                l1, l2 = l2, l1\n",
    "            l1.next = self.mergeTwoLists(l1.next, l2)\n",
    "        return l1 or l2"
   ]
  },
  {
   "cell_type": "code",
   "execution_count": null,
   "metadata": {},
   "outputs": [],
   "source": [
    "'''\n",
    "    83. Remove Duplicates from Sorted List\n",
    "    Given the head of a sorted linked list, delete all duplicates such that each element appears only once. \n",
    "    Return the linked list sorted as well.\n",
    "'''\n",
    "# Definition for singly-linked list.\n",
    "# class ListNode:\n",
    "#     def __init__(self, val=0, next=None):\n",
    "#         self.val = val\n",
    "#         self.next = next\n",
    "class Solution:\n",
    "    def deleteDuplicates(self, head):\n",
    "        if head:\n",
    "            cur = head\n",
    "            while cur.next:\n",
    "                if cur.val == cur.next.val:\n",
    "                    cur.next = cur.next.next\n",
    "                else:\n",
    "                    cur = cur.next\n",
    "            return head\n",
    "        \n",
    "        return None"
   ]
  },
  {
   "cell_type": "code",
   "execution_count": null,
   "metadata": {},
   "outputs": [],
   "source": [
    "'''\n",
    "    203. Remove Linked List Elements\n",
    "    Given the head of a linked list and an integer val, \n",
    "    remove all the nodes of the linked list that has Node.val == val, and return the new head.\n",
    "'''\n",
    "# Definition for singly-linked list.\n",
    "# class ListNode:\n",
    "#     def __init__(self, val=0, next=None):\n",
    "#         self.val = val\n",
    "#         self.next = next\n",
    "class Solution:\n",
    "    def removeElements(self, head, val: int):\n",
    "        while head and head.val == val:\n",
    "            head = head.next\n",
    "        if head:\n",
    "            cur = head\n",
    "            while cur.next:\n",
    "                if cur.next.val == val:\n",
    "                    cur.next = cur.next.next\n",
    "                else:\n",
    "                    cur = cur.next\n",
    "            return head\n",
    "        return None "
   ]
  },
  {
   "cell_type": "markdown",
   "metadata": {},
   "source": [
    "## TreeNode"
   ]
  },
  {
   "cell_type": "code",
   "execution_count": null,
   "metadata": {},
   "outputs": [],
   "source": [
    "'''\n",
    "    404. Sum of Left Leaves\n",
    "    Given the root of a binary tree, return the sum of all left leaves.\n",
    "    A leaf is a node with no children. A left leaf is a leaf that is the left child of another node.\n",
    "'''\n",
    "# Definition for a binary tree node.\n",
    "# class TreeNode:\n",
    "#     def __init__(self, val=0, left=None, right=None):\n",
    "#         self.val = val\n",
    "#         self.left = left\n",
    "#         self.right = right\n",
    "class Solution:\n",
    "    def sumOfLeftLeaves(self, root, fl=False) -> int:\n",
    "        if root:\n",
    "            left = root.left\n",
    "            right = root.right\n",
    "\n",
    "            if not left and not right and fl:\n",
    "                return root.val\n",
    "\n",
    "            return self.sumOfLeftLeaves(left, fl=True) + self.sumOfLeftLeaves(right)\n",
    "        \n",
    "        return 0"
   ]
  },
  {
   "cell_type": "markdown",
   "metadata": {},
   "source": [
    "## Geometry"
   ]
  },
  {
   "cell_type": "code",
   "execution_count": null,
   "metadata": {},
   "outputs": [],
   "source": [
    "'''\n",
    "    1232. Check If It Is a Straight Line\n",
    "    You are given an array coordinates, coordinates[i] = [x, y], where [x, y] represents the coordinate of a point. \n",
    "    Check if these points make a straight line in the XY plane.\n",
    "'''\n",
    "# The equation of the line passing through two different points P1(x1, y1) and P2(x2, y2) is: \n",
    "# (y-y1)(x2-x1) = (y2-y1)(x-x1)\n",
    "def main(coords):\n",
    "    n = len(coords)\n",
    "\n",
    "    if n > 2:\n",
    "        x1, y1 = coords[0]\n",
    "        x2, y2 = coords[-1]\n",
    "\n",
    "        for i in range(1, n-1):\n",
    "            x, y = coords[i]\n",
    "            if (x-x1)*(y2-y1) != (x2-x1)*(y-y1):\n",
    "                return False\n",
    "    return True\n",
    "\n",
    "#\n",
    "print(main([[1, 2], [2, 3], [3, 4], [4, 5], [5, 6], [6, 7]]))   # true\n",
    "print(main([[1, 1], [2, 2], [3, 4], [4, 5], [5, 6], [7, 7]]))   # false\n",
    "print(main([[0, 0], [0, 1], [0, -1]]))                          # true\n",
    "print(main([[1, 1], [2, 2], [2, 0]]))                           # false\n",
    "print(main([[1, -8], [2, -3], [1, 2]]))                         # false"
   ]
  }
 ],
 "metadata": {
  "kernelspec": {
   "display_name": "base",
   "language": "python",
   "name": "python3"
  },
  "language_info": {
   "codemirror_mode": {
    "name": "ipython",
    "version": 3
   },
   "file_extension": ".py",
   "mimetype": "text/x-python",
   "name": "python",
   "nbconvert_exporter": "python",
   "pygments_lexer": "ipython3",
   "version": "3.11.7"
  }
 },
 "nbformat": 4,
 "nbformat_minor": 2
}
