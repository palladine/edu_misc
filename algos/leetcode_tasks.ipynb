{
 "cells": [
  {
   "cell_type": "markdown",
   "metadata": {},
   "source": [
    "## 2 pointers"
   ]
  },
  {
   "cell_type": "code",
   "execution_count": null,
   "metadata": {},
   "outputs": [],
   "source": [
    "''' \n",
    "    2410. Maximum Matching of Players With Trainers (is the same 455. Assign Cookies)\n",
    "    You are given a 0-indexed integer array players, where players[i] represents the ability of the ith player. \n",
    "    You are also given a 0-indexed integer array trainers, where trainers[j] represents the training capacity of the jth trainer.\n",
    "    The ith player can match with the jth trainer if the player's ability is less than or equal to the trainer's training capacity. \n",
    "    Additionally, the ith player can be matched with at most one trainer, and the jth trainer can be matched with at most one player.\n",
    "    Return the maximum number of matchings between players and trainers that satisfy these conditions.\n",
    "'''\n",
    "def matchPlayersAndTrainers(self, players, trainers) -> int:\n",
    "        players = sorted(players)\n",
    "        trainers = sorted(trainers)\n",
    "\n",
    "        p1 = 0\n",
    "        p2 = 0\n",
    "\n",
    "        while p1 < len(players) and p2 < len(trainers):\n",
    "            if trainers[p2] >= players[p1]:\n",
    "                p1+=1\n",
    "                p2+=1\n",
    "            else:\n",
    "                p2+=1\n",
    "        return p1"
   ]
  },
  {
   "cell_type": "markdown",
   "metadata": {},
   "source": [
    "## ListNode"
   ]
  },
  {
   "cell_type": "code",
   "execution_count": null,
   "metadata": {},
   "outputs": [],
   "source": [
    "'''\n",
    "    21. Merge Two Sorted Lists\n",
    "    You are given the heads of two sorted linked lists list1 and list2.\n",
    "    Merge the two lists into one sorted list. The list should be made by splicing together the nodes of the first two lists.\n",
    "    Return the head of the merged linked list.\n",
    "'''\n",
    "# Definition for singly-linked list.\n",
    "# class ListNode:\n",
    "#     def __init__(self, val=0, next=None):\n",
    "#         self.val = val\n",
    "#         self.next = next\n",
    "class Solution:\n",
    "    def mergeTwoLists(self, l1, l2):\n",
    "        if l1 and l2:\n",
    "            if l2.val < l1.val:\n",
    "                l1, l2 = l2, l1\n",
    "            l1.next = self.mergeTwoLists(l1.next, l2)\n",
    "        return l1 or l2\n",
    "\n"
   ]
  },
  {
   "cell_type": "code",
   "execution_count": null,
   "metadata": {},
   "outputs": [],
   "source": [
    "'''\n",
    "    83. Remove Duplicates from Sorted List\n",
    "    Given the head of a sorted linked list, delete all duplicates such that each element appears only once. \n",
    "    Return the linked list sorted as well.\n",
    "'''\n",
    "# Definition for singly-linked list.\n",
    "# class ListNode:\n",
    "#     def __init__(self, val=0, next=None):\n",
    "#         self.val = val\n",
    "#         self.next = next\n",
    "class Solution:\n",
    "    def deleteDuplicates(self, head: Optional[ListNode]) -> Optional[ListNode]:\n",
    "        if head:\n",
    "            cur = head\n",
    "            while cur.next:\n",
    "                if cur.val == cur.next.val:\n",
    "                    cur.next = cur.next.next\n",
    "                else:\n",
    "                    cur = cur.next\n",
    "            return head\n",
    "        \n",
    "        return None"
   ]
  },
  {
   "cell_type": "code",
   "execution_count": null,
   "metadata": {},
   "outputs": [],
   "source": [
    "'''\n",
    "    203. Remove Linked List Elements\n",
    "    Given the head of a linked list and an integer val, \n",
    "    remove all the nodes of the linked list that has Node.val == val, and return the new head.\n",
    "'''\n",
    "# Definition for singly-linked list.\n",
    "# class ListNode:\n",
    "#     def __init__(self, val=0, next=None):\n",
    "#         self.val = val\n",
    "#         self.next = next\n",
    "class Solution:\n",
    "    def removeElements(self, head: Optional[ListNode], val: int) -> Optional[ListNode]:\n",
    "        while head and head.val == val:\n",
    "            head = head.next\n",
    "        if head:\n",
    "            cur = head\n",
    "            while cur.next:\n",
    "                if cur.next.val == val:\n",
    "                    cur.next = cur.next.next\n",
    "                else:\n",
    "                    cur = cur.next\n",
    "            return head\n",
    "        return None "
   ]
  },
  {
   "cell_type": "markdown",
   "metadata": {},
   "source": [
    "## TreeNode"
   ]
  },
  {
   "cell_type": "code",
   "execution_count": null,
   "metadata": {},
   "outputs": [],
   "source": [
    "'''\n",
    "    404. Sum of Left Leaves\n",
    "    Given the root of a binary tree, return the sum of all left leaves.\n",
    "    A leaf is a node with no children. A left leaf is a leaf that is the left child of another node.\n",
    "'''\n",
    "# Definition for a binary tree node.\n",
    "# class TreeNode:\n",
    "#     def __init__(self, val=0, left=None, right=None):\n",
    "#         self.val = val\n",
    "#         self.left = left\n",
    "#         self.right = right\n",
    "class Solution:\n",
    "    def sumOfLeftLeaves(self, root: Optional[TreeNode], fl=False) -> int:\n",
    "        if root:\n",
    "            left = root.left\n",
    "            right = root.right\n",
    "\n",
    "            if not left and not right and fl:\n",
    "                return root.val\n",
    "\n",
    "            return self.sumOfLeftLeaves(left, fl=True) + self.sumOfLeftLeaves(right)\n",
    "        \n",
    "        return 0"
   ]
  }
 ],
 "metadata": {
  "language_info": {
   "name": "python"
  }
 },
 "nbformat": 4,
 "nbformat_minor": 2
}
