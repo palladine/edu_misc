{
 "cells": [
  {
   "cell_type": "markdown",
   "metadata": {},
   "source": [
    "## Bits"
   ]
  },
  {
   "cell_type": "code",
   "execution_count": 5,
   "metadata": {},
   "outputs": [
    {
     "name": "stdout",
     "output_type": "stream",
     "text": [
      "2\n"
     ]
    }
   ],
   "source": [
    "'''\n",
    "    1009. Complement of Base 10 Integer (leetcode)\n",
    "    The complement of an integer is the integer you get when you flip all the 0's to 1's \n",
    "    and all the 1's to 0's in its binary representation.\n",
    "    For example, The integer 5 is \"101\" in binary and its complement is \"010\" which is the integer 2.\n",
    "    Given an integer n, return its complement\n",
    "'''\n",
    "def bitwiseComplement(n: int) -> int:\n",
    "        k = len(bin(n))-2\n",
    "        return n ^ int('1'* k, 2)\n",
    "\n",
    "print(bitwiseComplement(5)) # 2"
   ]
  },
  {
   "cell_type": "code",
   "execution_count": null,
   "metadata": {},
   "outputs": [],
   "source": [
    "'''\n",
    "    461. Hamming Distance\n",
    "    The Hamming distance between two integers is the number of positions at which the corresponding bits are different.\n",
    "    Given two integers x and y, return the Hamming distance between them.\n",
    "'''\n",
    "def hammingDistance(x: int, y: int) -> int:\n",
    "        z = x ^ y\n",
    "        out = 0\n",
    "        while z:\n",
    "            out += z & 1\n",
    "            z = z >> 1\n",
    "        return out"
   ]
  },
  {
   "cell_type": "markdown",
   "metadata": {},
   "source": [
    "## List, Array"
   ]
  },
  {
   "cell_type": "code",
   "execution_count": 4,
   "metadata": {},
   "outputs": [
    {
     "name": "stdout",
     "output_type": "stream",
     "text": [
      "4\n",
      "-1\n",
      "22\n"
     ]
    }
   ],
   "source": [
    "'''\n",
    "    2016. Maximum Difference Between Increasing Elements\n",
    "    Given a 0-indexed integer array nums of size n, find the maximum difference between nums[i] and nums[j] \n",
    "    (i.e., nums[j] - nums[i]), such that 0 <= i < j < n and nums[i] < nums[j].\n",
    "    Return the maximum difference. If no such i and j exists, return -1.\n",
    "'''\n",
    "def maxDif(nums):\n",
    "    mn = nums[0]\n",
    "    dif = -1\n",
    "    for val in nums[1:]:\n",
    "        if val <= mn:\n",
    "            mn = val\n",
    "        else:\n",
    "            dif = max(dif, val - mn)\n",
    "    return dif\n",
    "\n",
    "print(maxDif([7, 1, 5, 4]))\n",
    "print(maxDif([9, 4, 3, 2]))\n",
    "print(maxDif([44, 21, 43, 5, 24]))"
   ]
  },
  {
   "cell_type": "markdown",
   "metadata": {},
   "source": [
    "## Hash Table (set, dict)"
   ]
  },
  {
   "cell_type": "code",
   "execution_count": 2,
   "metadata": {},
   "outputs": [
    {
     "name": "stdout",
     "output_type": "stream",
     "text": [
      "7\n",
      "2\n",
      "0\n"
     ]
    }
   ],
   "source": [
    "'''\n",
    "    2062. Count Vowel Substrings of a String\n",
    "    A substring is a contiguous (non-empty) sequence of characters within a string.\n",
    "    A vowel substring is a substring that only consists of vowels ('a', 'e', 'i', 'o', and 'u') and has all five vowels present in it.\n",
    "    Given a string word, return the number of vowel substrings in word.\n",
    "'''\n",
    "def countVowelSubstrings(word):\n",
    "        vowels = {'a','e','i','o','u'}\n",
    "        d = dict()\n",
    "        cnt = left = start = 0\n",
    "        for i in range(len(word)):\n",
    "            if word[i] in vowels:\n",
    "                d[word[i]] = d.setdefault(word[i], 0) + 1\n",
    "\n",
    "                while len(d) == 5 and all(d.values()):\n",
    "                    if word[start] in d:\n",
    "                        d[word[start]] -= 1\n",
    "                    start += 1\n",
    "                cnt += (start - left)\n",
    "            else:\n",
    "                d.clear()\n",
    "                left = start = i + 1\n",
    "        return cnt\n",
    "\n",
    "#\n",
    "print(countVowelSubstrings(\"cuaieuouac\"))  # 7\n",
    "print(countVowelSubstrings(\"aeiouu\"))      # 2\n",
    "print(countVowelSubstrings(\"unicornarihan\")) # 0"
   ]
  },
  {
   "cell_type": "code",
   "execution_count": 1,
   "metadata": {},
   "outputs": [],
   "source": [
    "'''\n",
    "    3184. Count Pairs That Form a Complete Day I\n",
    "    Given an integer array hours representing times in hours, \n",
    "    return an integer denoting the number of pairs i, j where i < j and hours[i] + hours[j] forms a complete day.\n",
    "    A complete day is defined as a time duration that is an exact multiple of 24 hours.\n",
    "    For example, 1 day is 24 hours, 2 days is 48 hours, 3 days is 72 hours, and so on.\n",
    "'''\n",
    "def countCompleteDayPairs(hours):\n",
    "    d = {}\n",
    "\n",
    "    cnt = 0\n",
    "    for h in hours:\n",
    "        val = h % 24\n",
    "        if val not in d:\n",
    "            d[val] = 0\n",
    "        if 24-val not in d:\n",
    "            d[24-val] = 0\n",
    "        \n",
    "        if val == 0:\n",
    "            cnt += d[val]\n",
    "        else:\n",
    "            cnt += d[24 - val]\n",
    "\n",
    "        d[val] += 1\n",
    "    \n",
    "    return cnt"
   ]
  },
  {
   "cell_type": "markdown",
   "metadata": {},
   "source": [
    "## 2 pointers"
   ]
  },
  {
   "cell_type": "code",
   "execution_count": null,
   "metadata": {},
   "outputs": [],
   "source": [
    "''' \n",
    "    2410. Maximum Matching of Players With Trainers (is the same 455. Assign Cookies)\n",
    "    You are given a 0-indexed integer array players, where players[i] represents the ability of the ith player. \n",
    "    You are also given a 0-indexed integer array trainers, where trainers[j] represents the training capacity of the jth trainer.\n",
    "    The ith player can match with the jth trainer if the player's ability is less than or equal to the trainer's training capacity. \n",
    "    Additionally, the ith player can be matched with at most one trainer, and the jth trainer can be matched with at most one player.\n",
    "    Return the maximum number of matchings between players and trainers that satisfy these conditions.\n",
    "'''\n",
    "def matchPlayersAndTrainers(self, players, trainers) -> int:\n",
    "        players = sorted(players)\n",
    "        trainers = sorted(trainers)\n",
    "\n",
    "        p1 = 0\n",
    "        p2 = 0\n",
    "\n",
    "        while p1 < len(players) and p2 < len(trainers):\n",
    "            if trainers[p2] >= players[p1]:\n",
    "                p1+=1\n",
    "                p2+=1\n",
    "            else:\n",
    "                p2+=1\n",
    "        return p1"
   ]
  },
  {
   "cell_type": "code",
   "execution_count": null,
   "metadata": {},
   "outputs": [],
   "source": [
    "'''\n",
    "    977. Squares of a Sorted Array\n",
    "    Given an integer array nums sorted in non-decreasing order, \n",
    "    return an array of the squares of each number sorted in non-decreasing order.\n",
    "'''\n",
    "def sortedSquares(nums):\n",
    "    l = 0\n",
    "    r = len(nums)-1\n",
    "\n",
    "    res = [0] * len(nums)\n",
    "    pos = r\n",
    "\n",
    "    while l <= r:\n",
    "        lpow = nums[l] * nums[l]\n",
    "        rpow = nums[r] * nums[r]\n",
    "        \n",
    "        if lpow > rpow:\n",
    "            res[pos] = lpow\n",
    "            l += 1\n",
    "        else:\n",
    "            res[pos] = rpow\n",
    "            r -= 1\n",
    "        pos -= 1\n",
    "\n",
    "    return res\n",
    "\n",
    "\n",
    "# test\n",
    "print(sortedSquares([-5, -3, -2, -1]))\n",
    "print(sortedSquares([-4, -1, 0, 3, 10]))\n",
    "print(sortedSquares([-7, -3, 2, 3, 11]))\n",
    "print(sortedSquares([-4]))\n",
    "print(sortedSquares([0]))\n",
    "print(sortedSquares([0, 10000]))"
   ]
  },
  {
   "cell_type": "code",
   "execution_count": 1,
   "metadata": {},
   "outputs": [
    {
     "name": "stdout",
     "output_type": "stream",
     "text": [
      "Qedo1ct-eeLg=ntse-T!\n"
     ]
    }
   ],
   "source": [
    "'''\n",
    "    917. Reverse Only Letters\n",
    "    Given a string s, reverse the string according to the following rules:\n",
    "    All the characters that are not English letters remain in the same position.\n",
    "    All the English letters (lowercase or uppercase) should be reversed.\n",
    "    Return s after reversing it.\n",
    "'''\n",
    "def reverseOnlyLetters(s):\n",
    "    alph = {'a','b','c','d','e','f','g','h','i','j','k','l','m','n','o','p','q','r','s','t','u','v','w','x','y','z'}\n",
    "    symbs = list(s)\n",
    "\n",
    "    l = 0\n",
    "    r = len(symbs)-1\n",
    "\n",
    "    while l < r:\n",
    "        if symbs[l].lower() in alph:\n",
    "            if symbs[r].lower() in alph:\n",
    "                symbs[l], symbs[r] = symbs[r], symbs[l]\n",
    "                l += 1\n",
    "                r -= 1\n",
    "            else:\n",
    "                r -= 1\n",
    "        else:\n",
    "            l += 1\n",
    "\n",
    "    return ''.join(symbs)\n",
    "\n",
    "#\n",
    "print(reverseOnlyLetters(\"Test1ng-Leet=code-Q!\"))"
   ]
  },
  {
   "cell_type": "code",
   "execution_count": null,
   "metadata": {},
   "outputs": [],
   "source": [
    "'''\n",
    "    922. Sort Array By Parity II\n",
    "    Given an array of integers nums, half of the integers in nums are odd, and the other half are even.\n",
    "    Sort the array so that whenever nums[i] is odd, i is odd, and whenever nums[i] is even, i is even.\n",
    "    Return any answer array that satisfies this condition.\n",
    "'''\n",
    "def sortArrayByParityII(arr):\n",
    "        n = len(arr)\n",
    "        l = 0           # odd\n",
    "        r = 1           # even\n",
    "\n",
    "        while l < n and r < n:\n",
    "            if arr[l]%2 != 0 and arr[r]%2 == 0:\n",
    "                arr[l], arr[r] = arr[r], arr[l]\n",
    "                l += 2\n",
    "                r += 2\n",
    "            elif arr[l] %2 == 0:\n",
    "                l += 2\n",
    "            elif arr[r] %2 != 0:\n",
    "                r += 2\n",
    "\n",
    "        return arr\n"
   ]
  },
  {
   "cell_type": "markdown",
   "metadata": {},
   "source": [
    "## Prefix sum , Suffix sum"
   ]
  },
  {
   "cell_type": "code",
   "execution_count": 1,
   "metadata": {},
   "outputs": [
    {
     "name": "stdout",
     "output_type": "stream",
     "text": [
      "2\n",
      "2\n",
      "3\n"
     ]
    }
   ],
   "source": [
    "'''\n",
    "    3354. Make Array Elements Equal to Zero\n",
    "    You are given an integer array nums.\n",
    "    Start by selecting a starting position curr such that nums[curr] == 0, and choose a movement direction of either left or right.\n",
    "    After that, you repeat the following process:\n",
    "         - If curr is out of the range [0, n - 1], this process ends.\n",
    "         - If nums[curr] == 0, move in the current direction by incrementing curr if you are moving right, or decrementing curr if you are moving left.\n",
    "         - Else if nums[curr] > 0:\n",
    "            -- Decrement nums[curr] by 1.\n",
    "            -- Reverse your movement direction (left becomes right and vice versa).\n",
    "            -- Take a step in your new direction.\n",
    "    A selection of the initial position curr and movement direction is considered valid if every element in nums becomes 0 by the end of the process.\n",
    "    Return the number of possible valid selections.\n",
    "    ! Hint 1: Since the constraints are very small, you can simulate the process described.\n",
    "'''\n",
    "def countValidSelections(nums):\n",
    "        prefix = [0]*len(nums)\n",
    "        suffix = [0]*len(nums)\n",
    "        for i in range(1,len(nums)):\n",
    "            prefix[i]=prefix[i-1]+nums[i-1]\n",
    "        for i in range(len(nums)-2,-1,-1):\n",
    "            suffix[i]=suffix[i+1]+nums[i+1]\n",
    "        cnt = 0\n",
    "        for i in range(len(nums)):\n",
    "            if nums[i] == 0:\n",
    "                if suffix[i] == prefix[i]:\n",
    "                    cnt+=2\n",
    "                elif abs(suffix[i]-prefix[i]) == 1:\n",
    "                    cnt+=1\n",
    "        return cnt\n",
    "\n",
    "# tests\n",
    "print(countValidSelections([1, 0, 2, 0, 3]))  # 2\n",
    "print(countValidSelections([3, 0, 0, 1, 1]))  # 2\n",
    "print(countValidSelections([16, 13, 10, 0, 0, 0, 10, 6, 7, 8, 7]))  # 3"
   ]
  },
  {
   "cell_type": "markdown",
   "metadata": {},
   "source": [
    "## LinkedList"
   ]
  },
  {
   "cell_type": "code",
   "execution_count": null,
   "metadata": {},
   "outputs": [],
   "source": [
    "'''\n",
    "    21. Merge Two Sorted Lists\n",
    "    You are given the heads of two sorted linked lists list1 and list2.\n",
    "    Merge the two lists into one sorted list. The list should be made by splicing together the nodes of the first two lists.\n",
    "    Return the head of the merged linked list.\n",
    "'''\n",
    "# Definition for singly-linked list.\n",
    "# class ListNode:\n",
    "#     def __init__(self, val=0, next=None):\n",
    "#         self.val = val\n",
    "#         self.next = next\n",
    "class Solution:\n",
    "    def mergeTwoLists(self, l1, l2):\n",
    "        if l1 and l2:\n",
    "            if l2.val < l1.val:\n",
    "                l1, l2 = l2, l1\n",
    "            l1.next = self.mergeTwoLists(l1.next, l2)\n",
    "        return l1 or l2"
   ]
  },
  {
   "cell_type": "code",
   "execution_count": null,
   "metadata": {},
   "outputs": [],
   "source": [
    "'''\n",
    "    83. Remove Duplicates from Sorted List\n",
    "    Given the head of a sorted linked list, delete all duplicates such that each element appears only once. \n",
    "    Return the linked list sorted as well.\n",
    "'''\n",
    "# Definition for singly-linked list.\n",
    "# class ListNode:\n",
    "#     def __init__(self, val=0, next=None):\n",
    "#         self.val = val\n",
    "#         self.next = next\n",
    "class Solution:\n",
    "    def deleteDuplicates(self, head):\n",
    "        if head:\n",
    "            cur = head\n",
    "            while cur.next:\n",
    "                if cur.val == cur.next.val:\n",
    "                    cur.next = cur.next.next\n",
    "                else:\n",
    "                    cur = cur.next\n",
    "            return head\n",
    "        \n",
    "        return None"
   ]
  },
  {
   "cell_type": "code",
   "execution_count": null,
   "metadata": {},
   "outputs": [],
   "source": [
    "'''\n",
    "    203. Remove Linked List Elements\n",
    "    Given the head of a linked list and an integer val, \n",
    "    remove all the nodes of the linked list that has Node.val == val, and return the new head.\n",
    "'''\n",
    "# Definition for singly-linked list.\n",
    "# class ListNode:\n",
    "#     def __init__(self, val=0, next=None):\n",
    "#         self.val = val\n",
    "#         self.next = next\n",
    "class Solution:\n",
    "    def removeElements(self, head, val: int):\n",
    "        while head and head.val == val:\n",
    "            head = head.next\n",
    "        if head:\n",
    "            cur = head\n",
    "            while cur.next:\n",
    "                if cur.next.val == val:\n",
    "                    cur.next = cur.next.next\n",
    "                else:\n",
    "                    cur = cur.next\n",
    "            return head\n",
    "        return None "
   ]
  },
  {
   "cell_type": "markdown",
   "metadata": {},
   "source": [
    "## BinaryTree"
   ]
  },
  {
   "cell_type": "code",
   "execution_count": null,
   "metadata": {},
   "outputs": [],
   "source": [
    "'''\n",
    "    404. Sum of Left Leaves\n",
    "    Given the root of a binary tree, return the sum of all left leaves.\n",
    "    A leaf is a node with no children. A left leaf is a leaf that is the left child of another node.\n",
    "'''\n",
    "# Definition for a binary tree node.\n",
    "# class TreeNode:\n",
    "#     def __init__(self, val=0, left=None, right=None):\n",
    "#         self.val = val\n",
    "#         self.left = left\n",
    "#         self.right = right\n",
    "class Solution:\n",
    "    def sumOfLeftLeaves(self, root, fl=False) -> int:\n",
    "        if root:\n",
    "            left = root.left\n",
    "            right = root.right\n",
    "\n",
    "            if not left and not right and fl:\n",
    "                return root.val\n",
    "\n",
    "            return self.sumOfLeftLeaves(left, fl=True) + self.sumOfLeftLeaves(right)\n",
    "        \n",
    "        return 0"
   ]
  },
  {
   "cell_type": "code",
   "execution_count": null,
   "metadata": {},
   "outputs": [],
   "source": [
    "'''\n",
    "    617. Merge Two Binary Trees\n",
    "    You are given two binary trees root1 and root2.\n",
    "    Imagine that when you put one of them to cover the other, some nodes of the two trees are overlapped while the others are not. \n",
    "    You need to merge the two trees into a new binary tree. The merge rule is that if two nodes overlap, then sum node values up as\n",
    "    the new value of the merged node. Otherwise, the NOT null node will be used as the node of the new tree.\n",
    "    Return the merged tree.\n",
    "'''\n",
    "# Definition for a binary tree node.\n",
    "# class TreeNode:\n",
    "#     def __init__(self, val=0, left=None, right=None):\n",
    "#         self.val = val\n",
    "#         self.left = left\n",
    "#         self.right = right\n",
    "class Solution:\n",
    "    def mergeTrees(self, root1: Optional[TreeNode], root2: Optional[TreeNode]) -> Optional[TreeNode]:\n",
    "        if not root1 and not root2:\n",
    "            return None\n",
    "        if not root1:\n",
    "            return root2   \n",
    "        if not root2:\n",
    "            return root1\n",
    "\n",
    "        # Sum the values of root1 and root2\n",
    "        merged = TreeNode(root1.val + root2.val)\n",
    "        \n",
    "        # Recursively merge the left and right subtrees\n",
    "        merged.left = self.mergeTrees(root1.left, root2.left)\n",
    "        merged.right = self.mergeTrees(root1.right, root2.right)\n",
    "        \n",
    "        return merged"
   ]
  },
  {
   "cell_type": "code",
   "execution_count": null,
   "metadata": {},
   "outputs": [],
   "source": [
    "'''\n",
    "    112. Path Sum\n",
    "    Given the root of a binary tree and an integer targetSum, \n",
    "    return true if the tree has a root-to-leaf path such that adding up all the values along the path equals targetSum.\n",
    "    A leaf is a node with no children.\n",
    "'''\n",
    "# Definition for a binary tree node.\n",
    "# class TreeNode:\n",
    "#     def __init__(self, val=0, left=None, right=None):\n",
    "#         self.val = val\n",
    "#         self.left = left\n",
    "#         self.right = right\n",
    "class Solution:\n",
    "    def hasPathSum(self, root: Optional[TreeNode], targetSum: int, sm=0) -> bool:\n",
    "            if root:\n",
    "                root.val += sm\n",
    "                if not root.left and not root.right and root.val == targetSum:\n",
    "                    return True\n",
    "                \n",
    "                return bool(self.hasPathSum(root.left, targetSum, root.val) + self.hasPathSum(root.right, targetSum, root.val))\n",
    "\n",
    "            return False"
   ]
  },
  {
   "cell_type": "markdown",
   "metadata": {},
   "source": [
    "## Heap"
   ]
  },
  {
   "cell_type": "code",
   "execution_count": null,
   "metadata": {},
   "outputs": [],
   "source": [
    "'''\n",
    "    3264. Final Array State After K Multiplication Operations I\n",
    "    You are given an integer array nums, an integer k, and an integer multiplier.\n",
    "    You need to perform k operations on nums. In each operation:\n",
    "    Find the minimum value x in nums. If there are multiple occurrences of the minimum value, select the one that appears first.\n",
    "    Replace the selected minimum value x with x * multiplier.\n",
    "    Return an integer array denoting the final state of nums after performing all k operations\n",
    "'''\n",
    "import heapq\n",
    "\n",
    "class Solution:\n",
    "    def getFinalState(self, nums: List[int], k: int, multiplier: int) -> List[int]:\n",
    "        _nums = [(v, i) for i, v in enumerate(nums)]\n",
    "        heapq.heapify(_nums)\n",
    "        for i in range(k):\n",
    "            val, idx = heapq.heappop(_nums)\n",
    "            res = val*multiplier\n",
    "\n",
    "            heapq.heappush(_nums, (res, idx))\n",
    "            nums[idx] = res\n",
    "\n",
    "        return list(nums)"
   ]
  },
  {
   "cell_type": "code",
   "execution_count": null,
   "metadata": {},
   "outputs": [],
   "source": [
    "'''\n",
    "    2558. Take Gifts From the Richest Pile\n",
    "    You are given an integer array gifts denoting the number of gifts in various piles. Every second, you do the following:\n",
    "    Choose the pile with the maximum number of gifts.\n",
    "    If there is more than one pile with the maximum number of gifts, choose any.\n",
    "    Reduce the number of gifts in the pile to the floor of the square root of the original number of gifts in the pile.\n",
    "    Return the number of gifts remaining after k seconds\n",
    "'''\n",
    "def pickGifts(gifts, k):\n",
    "        sm = sum(gifts)\n",
    "        \n",
    "        gifts = list(map(lambda x: -x, gifts))\n",
    "        \n",
    "        heapq.heapify(gifts)\n",
    "\n",
    "        for i in range(k):\n",
    "            mx = -(heapq.heappop(gifts))\n",
    "            sm -= mx\n",
    "            c = int(mx ** 0.5)\n",
    "            sm += c\n",
    "            heapq.heappush(gifts, -c)\n",
    "        \n",
    "        return sm\n",
    "\n",
    "\n",
    "print(pickGifts([25,64,9,4,100], 4))  # 29\n",
    "print(pickGifts([1, 1, 1, 1], 4))     # 4"
   ]
  },
  {
   "cell_type": "markdown",
   "metadata": {},
   "source": [
    "## Geometry"
   ]
  },
  {
   "cell_type": "code",
   "execution_count": null,
   "metadata": {},
   "outputs": [],
   "source": [
    "'''\n",
    "    1232. Check If It Is a Straight Line\n",
    "    You are given an array coordinates, coordinates[i] = [x, y], where [x, y] represents the coordinate of a point. \n",
    "    Check if these points make a straight line in the XY plane.\n",
    "'''\n",
    "# The equation of the line passing through two different points P1(x1, y1) and P2(x2, y2) is: \n",
    "# (y-y1)(x2-x1) = (y2-y1)(x-x1)\n",
    "def main(coords):\n",
    "    n = len(coords)\n",
    "\n",
    "    if n > 2:\n",
    "        x1, y1 = coords[0]\n",
    "        x2, y2 = coords[-1]\n",
    "\n",
    "        for i in range(1, n-1):\n",
    "            x, y = coords[i]\n",
    "            if (x-x1)*(y2-y1) != (x2-x1)*(y-y1):\n",
    "                return False\n",
    "    return True\n",
    "\n",
    "#\n",
    "print(main([[1, 2], [2, 3], [3, 4], [4, 5], [5, 6], [6, 7]]))   # true\n",
    "print(main([[1, 1], [2, 2], [3, 4], [4, 5], [5, 6], [7, 7]]))   # false\n",
    "print(main([[0, 0], [0, 1], [0, -1]]))                          # true\n",
    "print(main([[1, 1], [2, 2], [2, 0]]))                           # false\n",
    "print(main([[1, -8], [2, -3], [1, 2]]))                         # false"
   ]
  },
  {
   "cell_type": "markdown",
   "metadata": {},
   "source": [
    "## Stack"
   ]
  },
  {
   "cell_type": "code",
   "execution_count": null,
   "metadata": {},
   "outputs": [],
   "source": [
    "'''\n",
    "    3174. Clear Digits\n",
    "    You are given a string s.\n",
    "    Your task is to remove all digits by doing this operation repeatedly:\n",
    "        Delete the first digit and the closest non-digit character to its left.\n",
    "    Return the resulting string after removing all digits.\n",
    "'''\n",
    "def main(s):\n",
    "    stack = []\n",
    "    for item in s:\n",
    "        if item.isnumeric():\n",
    "            stack.pop()\n",
    "        else:\n",
    "            stack.append(item)\n",
    "    return ''.join(stack)\n",
    "\n",
    "#\n",
    "print(main('abc'))\n",
    "print(main('cb34'))"
   ]
  },
  {
   "cell_type": "markdown",
   "metadata": {},
   "source": [
    "## Monotonic stack"
   ]
  },
  {
   "cell_type": "code",
   "execution_count": 1,
   "metadata": {},
   "outputs": [
    {
     "name": "stdout",
     "output_type": "stream",
     "text": [
      "[1, 1, 4, 2, 1, 1, 0, 0]\n"
     ]
    }
   ],
   "source": [
    "'''\n",
    "    739. Daily Temperatures\n",
    "    Given an array of integers temperatures represents the daily temperatures, \n",
    "    return an array answer such that answer[i] is the number of days you have \n",
    "    to wait after the ith day to get a warmer temperature. \n",
    "    If there is no future day for which this is possible, keep answer[i] == 0 instead.\n",
    "'''\n",
    "def dailyTemperatures(temp):\n",
    "    stack = []\n",
    "    res = [0] * len(temp)\n",
    "\n",
    "    for i in range(len(temp)):\n",
    "        while stack and temp[i] > temp[stack[-1]]:\n",
    "            idx = stack.pop()\n",
    "            res[idx] = i - idx\n",
    "        stack.append(i)\n",
    "    return res\n",
    "\n",
    "#\n",
    "print(dailyTemperatures([73,74,75,71,69,72,76,73]))"
   ]
  },
  {
   "cell_type": "code",
   "execution_count": null,
   "metadata": {},
   "outputs": [],
   "source": [
    "'''\n",
    "    1475. Final Prices With a Special Discount in a Shop\n",
    "    You are given an integer array prices where prices[i] is the price of the ith item in a shop.\n",
    "    There is a special discount for items in the shop. If you buy the ith item, \n",
    "    then you will receive a discount equivalent to prices[j]  where j is the minimum index such that j > i and prices[j] <= prices[i]. \n",
    "    Otherwise, you will not receive any discount at all.\n",
    "    Return an integer array answer where answer[i] is the final price you will pay for the ith item of the shop, \n",
    "    considering the special discount.\n",
    "'''\n",
    "class Solution:\n",
    "    def finalPrices(self, arr: List[int]) -> List[int]:\n",
    "        n = len(arr)\n",
    "        res = [0] * n\n",
    "        l = []\n",
    "\n",
    "        for i in range(n):\n",
    "            val = arr[i]\n",
    "            while l and arr[l[-1]] >= val:\n",
    "                tmp = l.pop()\n",
    "                res[tmp] = arr[tmp] - val\n",
    "            else:\n",
    "                res[i] = arr[i]\n",
    "            l.append(i)\n",
    "        return res\n"
   ]
  },
  {
   "cell_type": "markdown",
   "metadata": {},
   "source": [
    "## Intervals"
   ]
  },
  {
   "cell_type": "code",
   "execution_count": null,
   "metadata": {},
   "outputs": [],
   "source": [
    "'''\n",
    "    1854. Maximum Population Year\n",
    "    You are given a 2D integer array logs where each logs[i] = [birthi, deathi] indicates the birth and death years of the ith person.\n",
    "    The population of some year x is the number of people alive during that year. \n",
    "    The ith person is counted in year x's population if x is in the inclusive range [birthi, deathi - 1].\n",
    "    Note that the person is not counted in the year that they die.\n",
    "    Return the earliest year with the maximum population.\n",
    "'''\n",
    "def maximumPopulation(logs: list[list[int]]):\n",
    "    births = []\n",
    "    deaths = []\n",
    "    for b, d in logs:\n",
    "        births.append((b, 1))\n",
    "        deaths.append((d-1, -1))\n",
    "\n",
    "    events = sorted(births + deaths, key=lambda x: (x[0], -x[1]))\n",
    "\n",
    "    mx_c = 0\n",
    "    loc_c = 0\n",
    "    min_year = float('inf')\n",
    "    for year, e in events:\n",
    "        loc_c += e\n",
    "        if loc_c > mx_c:\n",
    "            mx_c = loc_c\n",
    "            min_year = year\n",
    "    return min_year\n",
    "\n",
    "\n",
    "print(maximumPopulation([[1993,1999],[2000,2010]]))\n",
    "print(maximumPopulation([[1950,1961],[1960,1971],[1970,1981]]))\n",
    "print(maximumPopulation([[1993,2000],[2000,2010]]))"
   ]
  }
 ],
 "metadata": {
  "kernelspec": {
   "display_name": "base",
   "language": "python",
   "name": "python3"
  },
  "language_info": {
   "codemirror_mode": {
    "name": "ipython",
    "version": 3
   },
   "file_extension": ".py",
   "mimetype": "text/x-python",
   "name": "python",
   "nbconvert_exporter": "python",
   "pygments_lexer": "ipython3",
   "version": "3.11.11"
  }
 },
 "nbformat": 4,
 "nbformat_minor": 2
}
