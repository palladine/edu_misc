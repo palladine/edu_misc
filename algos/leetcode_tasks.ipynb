{
 "cells": [
  {
   "cell_type": "code",
   "execution_count": null,
   "metadata": {},
   "outputs": [],
   "source": [
    "'''\n",
    "    21. Merge Two Sorted Lists\n",
    "    You are given the heads of two sorted linked lists list1 and list2.\n",
    "    Merge the two lists into one sorted list. The list should be made by splicing together the nodes of the first two lists.\n",
    "    Return the head of the merged linked list.\n",
    "'''\n",
    "# Definition for singly-linked list.\n",
    "# class ListNode:\n",
    "#     def __init__(self, val=0, next=None):\n",
    "#         self.val = val\n",
    "#         self.next = next\n",
    "class Solution:\n",
    "    def mergeTwoLists(self, l1: Optional[ListNode], l2: Optional[ListNode]) -> Optional[ListNode]:\n",
    "        if l1 and l2:\n",
    "            if l2.val < l1.val:\n",
    "                l1, l2 = l2, l1\n",
    "            l1.next = self.mergeTwoLists(l1.next, l2)\n",
    "        return l1 or l2\n",
    "\n"
   ]
  },
  {
   "cell_type": "code",
   "execution_count": null,
   "metadata": {},
   "outputs": [],
   "source": [
    "'''\n",
    "    404. Sum of Left Leaves\n",
    "    Given the root of a binary tree, return the sum of all left leaves.\n",
    "    A leaf is a node with no children. A left leaf is a leaf that is the left child of another node.\n",
    "'''\n",
    "# Definition for a binary tree node.\n",
    "# class TreeNode:\n",
    "#     def __init__(self, val=0, left=None, right=None):\n",
    "#         self.val = val\n",
    "#         self.left = left\n",
    "#         self.right = right\n",
    "class Solution:\n",
    "    def sumOfLeftLeaves(self, root: Optional[TreeNode], fl=False) -> int:\n",
    "        if root:\n",
    "            left = root.left\n",
    "            right = root.right\n",
    "\n",
    "            if not left and not right and fl:\n",
    "                return root.val\n",
    "\n",
    "            return self.sumOfLeftLeaves(left, fl=True) + self.sumOfLeftLeaves(right)\n",
    "        \n",
    "        return 0"
   ]
  }
 ],
 "metadata": {
  "language_info": {
   "name": "python"
  }
 },
 "nbformat": 4,
 "nbformat_minor": 2
}
