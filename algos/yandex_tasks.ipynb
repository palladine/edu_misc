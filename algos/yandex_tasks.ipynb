{
 "cells": [
  {
   "cell_type": "code",
   "execution_count": null,
   "metadata": {},
   "outputs": [],
   "source": [
    "'''\n",
    "    Остров игрока представляет собой набор столбцов различной высоты, состоящих из блоков (1x1),\n",
    "    окружен водой. Над остров прошел сильный дождь, который заполнил водой все низины,\n",
    "    а непоместивщаяся вода стекла в море.\n",
    "    По ландшафту острова определить сколько блоков воды осталось после дождя в низинах острова.\n",
    "'''\n",
    "\n",
    "land = [3, 1, 4, 3, 5, 1, 1, 3, 1] # ландшафт острова, количество и высота столбцов\n",
    "\n",
    "# index самого высокого столбца \n",
    "mxi = 0\n",
    "mx = land[0]\n",
    "for i in range(1, len(land)):\n",
    "    if land[i] > mx:\n",
    "        mx = land[i]\n",
    "        mxi = i\n",
    "\n",
    "summa = 0\n",
    "\n",
    "mxr = land[0]\n",
    "for i in range(1, mxi):\n",
    "    if land[i] < mxr:\n",
    "        summa += mxr - land[i]\n",
    "    else:\n",
    "        if land[i] > mxr:\n",
    "            mxr = land[i]\n",
    "\n",
    "mxl = land[-1]\n",
    "for j in range(len(land)-1, mxi, -1):\n",
    "    if land[j] < mxl:\n",
    "        summa += mxl - land[j]\n",
    "    else:\n",
    "        if land[j] > mxl:\n",
    "            mxl = land[j]\n",
    "\n",
    "print(summa)"
   ]
  },
  {
   "cell_type": "code",
   "execution_count": null,
   "metadata": {},
   "outputs": [],
   "source": [
    "# RLE\n",
    "def pack_string(s: str):\n",
    "    if s:\n",
    "        res = []\n",
    "        cnt = 1\n",
    "        idx = 0\n",
    "        for i in range(1, len(s)):\n",
    "            if s[idx] != s[i]:\n",
    "                res.append(f'{s[idx]}{cnt}')\n",
    "                idx = i\n",
    "                cnt = 1\n",
    "            else:\n",
    "                cnt += 1\n",
    "        res.append(f'{s[idx]}{cnt}')\n",
    "        return ''.join(res)\n",
    "    return None\n",
    "\n",
    "print(pack_string('AAAABBBCCXYZDDDDEEEFFFAAAAAABBBBBBBBBBBBBBBBBBBBBBBBBBBB'))"
   ]
  },
  {
   "cell_type": "code",
   "execution_count": null,
   "metadata": {},
   "outputs": [],
   "source": [
    "def unpack_string(s: str):\n",
    "  res = ''\n",
    "  mn = '1'\n",
    "  flag = False\n",
    "  for lex in s:\n",
    "    if lex.isdigit():\n",
    "      if flag:\n",
    "        mn += lex\n",
    "      else:\n",
    "        mn = lex\n",
    "      flag = True\n",
    "    else:\n",
    "      res += int(mn)*lex\n",
    "      mn = '1'\n",
    "      flag = False\n",
    "  return res\n",
    "\n",
    "# tests\n",
    "pack_strings = ['4AB5C4D', 'ABCD', 'B4AB', '4A15B2CD', '20ABCD', '100A', '']\n",
    "for pack_string in pack_strings:\n",
    "  print(unpack_string(pack_string))"
   ]
  },
  {
   "cell_type": "code",
   "execution_count": 1,
   "metadata": {},
   "outputs": [
    {
     "name": "stdout",
     "output_type": "stream",
     "text": [
      "(5, 2)\n"
     ]
    }
   ],
   "source": [
    "'''\n",
    "    Поиск двух чисел в списке в сумме которые дают target\n",
    "'''\n",
    "def tv(seq, target):\n",
    "    mtrx = set()\n",
    "    for el in seq:\n",
    "        if (target - el) in mtrx:\n",
    "            return target - el, el\n",
    "        mtrx.add(el)\n",
    "    return None\n",
    "\n",
    "print(tv([1, 3, 5, 8, 2], 7))"
   ]
  },
  {
   "cell_type": "code",
   "execution_count": null,
   "metadata": {},
   "outputs": [],
   "source": [
    "''' \n",
    "    На шахматной доске NxN находятся M ладей (ладья бьет клетки на той же горизонтали \n",
    "    или вертикали до ближайшей занятой).\n",
    "    Определите, сколько пар ладей бьют друг друга. Ладьи задаются парой чисел i и j,\n",
    "    обозгачающих координаты клетки.\n",
    "'''\n",
    "def cnt_rooks(rooks_coords):\n",
    "    def addrook(dct_rc, key):\n",
    "        dct_rc[key] = dct_rc.setdefault(key, 0) + 1\n",
    "\n",
    "    def cnt_pairs(dct_rc):\n",
    "        pairs = 0\n",
    "        for key in dct_rc:\n",
    "            pairs += dct_rc[key] - 1\n",
    "        return pairs\n",
    "    \n",
    "    dct_r = {}\n",
    "    dct_c = {}\n",
    "    for row, col in rooks_coords:\n",
    "        addrook(dct_r, row)\n",
    "        addrook(dct_c, col)\n",
    "\n",
    "    return cnt_pairs(dct_r) + cnt_pairs(dct_c)\n"
   ]
  },
  {
   "cell_type": "code",
   "execution_count": 7,
   "metadata": {},
   "outputs": [
    {
     "name": "stdout",
     "output_type": "stream",
     "text": [
      "(9, 8, 7)\n",
      "(78, 54, 34)\n"
     ]
    }
   ],
   "source": [
    "''' \n",
    "    три максимума\n",
    "'''\n",
    "def three_max(seq):\n",
    "    mx3, mx2, mx1 = sorted([seq[0], seq[1], seq[2]])\n",
    "\n",
    "    for el in seq[3:]:\n",
    "        if el >= mx1:\n",
    "            mx3 = mx2\n",
    "            mx2 = mx1\n",
    "            mx1 = el\n",
    "        \n",
    "        if el >= mx2 and el < mx1:\n",
    "            mx3 = mx2\n",
    "            mx2 = el\n",
    "        \n",
    "        if el >= mx3 and el < mx2:\n",
    "            mx3 = el\n",
    "\n",
    "    return mx1, mx2, mx3\n",
    "\n",
    "\n",
    "# tests\n",
    "print(three_max([1, 2, 3, 4, 5, 6, 7, 8, 9, 0]))\n",
    "print(three_max([5, 7, 2, 5, 0, 0, 7, 6, 9, 12, 34, 78, 54, -1, -234]))\n"
   ]
  },
  {
   "cell_type": "code",
   "execution_count": 11,
   "metadata": {},
   "outputs": [
    {
     "name": "stdout",
     "output_type": "stream",
     "text": [
      "[0, 0, 0, 0, 0, 1, 1, 2, 2]\n",
      "1\n",
      "2\n"
     ]
    }
   ],
   "source": [
    "''' \n",
    "    Дана последовательность чисел длиной N, подсчитать сколько нулей на полуинтервале [L, R)\n",
    "'''\n",
    "def sum_zero(seq):\n",
    "    prefsz = [0] * (len(seq) + 1)\n",
    "    for i in range(1, len(seq) + 1):\n",
    "        if seq[i-1] == 0:\n",
    "            prefsz[i] = prefsz[i-1] + 1\n",
    "        else:\n",
    "            prefsz[i] = prefsz[i-1]\n",
    "    return prefsz\n",
    "\n",
    "def rsq(prefsz, l, r):\n",
    "    return prefsz[r] - prefsz[l]\n",
    "\n",
    "# tests\n",
    "sz = sum_zero([1, 2, 3, 4, 0, 5, 0, 34])\n",
    "print(sz)\n",
    "print(rsq(sz, 3, 6))\n",
    "print(rsq(sz, 4, 8))"
   ]
  },
  {
   "cell_type": "code",
   "execution_count": 3,
   "metadata": {},
   "outputs": [
    {
     "name": "stdout",
     "output_type": "stream",
     "text": [
      "37\n"
     ]
    }
   ],
   "source": [
    "''' \n",
    "    В управляющий совет школы входят родители, учителя и учащиеся,\n",
    "    причем родителей должно быть не менее одной трети от общего числа \n",
    "    членов совета. В настоящий момент в совет входит N человек, \n",
    "    из них K родителей.\n",
    "    Определить, сколько родителей нужно дополнительно ввести в совет,\n",
    "    чтобы их число стало составлять не менее трети от числа членов совета.\n",
    "'''\n",
    "def bs(n, k):\n",
    "    l = 0\n",
    "    r = n // 2\n",
    "\n",
    "    while l < r:\n",
    "        mid = (l + r) // 2            \n",
    "        if (k + mid) * 3.33 > (n +mid):\n",
    "            r = mid\n",
    "        else: \n",
    "            l = mid + 1\n",
    "    return l\n",
    "\n",
    "\n",
    "# tests\n",
    "print(bs(235, 45))"
   ]
  }
 ],
 "metadata": {
  "kernelspec": {
   "display_name": "base",
   "language": "python",
   "name": "python3"
  },
  "language_info": {
   "codemirror_mode": {
    "name": "ipython",
    "version": 3
   },
   "file_extension": ".py",
   "mimetype": "text/x-python",
   "name": "python",
   "nbconvert_exporter": "python",
   "pygments_lexer": "ipython3",
   "version": "3.11.5"
  }
 },
 "nbformat": 4,
 "nbformat_minor": 2
}
