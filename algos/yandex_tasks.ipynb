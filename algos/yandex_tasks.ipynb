{
 "cells": [
  {
   "cell_type": "code",
   "execution_count": null,
   "metadata": {},
   "outputs": [],
   "source": [
    "'''\n",
    "    Остров игрока представляет собой набор столбцов различной высоты, состоящих из блоков (1x1),\n",
    "    окружен водой. Над остров прошел сильный дождь, который заполнил водой все низины,\n",
    "    а непоместивщаяся вода стекла в море.\n",
    "    По ландшафту острова определить сколько блоков воды осталось после дождя в низинах острова.\n",
    "'''\n",
    "\n",
    "land = [3, 1, 4, 3, 5, 1, 1, 3, 1] # ландшафт острова, количество и высота столбцов\n",
    "\n",
    "# index самого высокого столбца \n",
    "mxi = 0\n",
    "mx = land[0]\n",
    "for i in range(1, len(land)):\n",
    "    if land[i] > mx:\n",
    "        mx = land[i]\n",
    "        mxi = i\n",
    "\n",
    "summa = 0\n",
    "\n",
    "mxr = land[0]\n",
    "for i in range(1, mxi):\n",
    "    if land[i] < mxr:\n",
    "        summa += mxr - land[i]\n",
    "    else:\n",
    "        if land[i] > mxr:\n",
    "            mxr = land[i]\n",
    "\n",
    "mxl = land[-1]\n",
    "for j in range(len(land)-1, mxi, -1):\n",
    "    if land[j] < mxl:\n",
    "        summa += mxl - land[j]\n",
    "    else:\n",
    "        if land[j] > mxl:\n",
    "            mxl = land[j]\n",
    "\n",
    "print(summa)"
   ]
  },
  {
   "cell_type": "code",
   "execution_count": null,
   "metadata": {},
   "outputs": [],
   "source": [
    "# RLE\n",
    "def pack_string(s: str):\n",
    "    if s:\n",
    "        res = []\n",
    "        cnt = 1\n",
    "        idx = 0\n",
    "        for i in range(1, len(s)):\n",
    "            if s[idx] != s[i]:\n",
    "                res.append(f'{s[idx]}{cnt}')\n",
    "                idx = i\n",
    "                cnt = 1\n",
    "            else:\n",
    "                cnt += 1\n",
    "        res.append(f'{s[idx]}{cnt}')\n",
    "        return ''.join(res)\n",
    "    return None\n",
    "\n",
    "print(pack_string('AAAABBBCCXYZDDDDEEEFFFAAAAAABBBBBBBBBBBBBBBBBBBBBBBBBBBB'))"
   ]
  },
  {
   "cell_type": "code",
   "execution_count": null,
   "metadata": {},
   "outputs": [],
   "source": [
    "def unpack_string(s: str):\n",
    "  res = ''\n",
    "  mn = '1'\n",
    "  flag = False\n",
    "  for lex in s:\n",
    "    if lex.isdigit():\n",
    "      if flag:\n",
    "        mn += lex\n",
    "      else:\n",
    "        mn = lex\n",
    "      flag = True\n",
    "    else:\n",
    "      res += int(mn)*lex\n",
    "      mn = '1'\n",
    "      flag = False\n",
    "  return res\n",
    "\n",
    "# tests\n",
    "pack_strings = ['4AB5C4D', 'ABCD', 'B4AB', '4A15B2CD', '20ABCD', '100A', '']\n",
    "for pack_string in pack_strings:\n",
    "  print(unpack_string(pack_string))"
   ]
  },
  {
   "cell_type": "code",
   "execution_count": 1,
   "metadata": {},
   "outputs": [
    {
     "name": "stdout",
     "output_type": "stream",
     "text": [
      "(5, 2)\n"
     ]
    }
   ],
   "source": [
    "'''\n",
    "    Поиск двух чисел в списке в сумме которые дают target\n",
    "'''\n",
    "def tv(seq, target):\n",
    "    mtrx = set()\n",
    "    for el in seq:\n",
    "        if (target - el) in mtrx:\n",
    "            return target - el, el\n",
    "        mtrx.add(el)\n",
    "    return None\n",
    "\n",
    "print(tv([1, 3, 5, 8, 2], 7))"
   ]
  },
  {
   "cell_type": "code",
   "execution_count": null,
   "metadata": {},
   "outputs": [],
   "source": []
  }
 ],
 "metadata": {
  "kernelspec": {
   "display_name": "base",
   "language": "python",
   "name": "python3"
  },
  "language_info": {
   "codemirror_mode": {
    "name": "ipython",
    "version": 3
   },
   "file_extension": ".py",
   "mimetype": "text/x-python",
   "name": "python",
   "nbconvert_exporter": "python",
   "pygments_lexer": "ipython3",
   "version": "3.11.7"
  }
 },
 "nbformat": 4,
 "nbformat_minor": 2
}
