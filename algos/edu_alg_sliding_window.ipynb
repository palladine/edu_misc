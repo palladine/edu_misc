{
 "cells": [
  {
   "cell_type": "markdown",
   "metadata": {},
   "source": [
    "### Метод скользящего окна"
   ]
  },
  {
   "cell_type": "code",
   "execution_count": 1,
   "metadata": {},
   "outputs": [
    {
     "name": "stdout",
     "output_type": "stream",
     "text": [
      "12.75\n"
     ]
    }
   ],
   "source": [
    "'''\n",
    "    Для массива, состоящего из n целых чисел, найдите непрерывный подмассив заданной длины k, \n",
    "    который имеет максимальное среднее значение. \n",
    "    Нужно вывести максимальное среднее значение.\n",
    "'''\n",
    "def slidwin(nums, k):\n",
    "    \n",
    "    if k > len(nums):\n",
    "        return -1\n",
    "\n",
    "    sm = sum(nums[:k])\n",
    "    mx = sm / k\n",
    "\n",
    "    for i in range(k, len(nums)):\n",
    "        sm -= nums[i-k]\n",
    "        sm += nums[i]\n",
    "\n",
    "        mx = max(sm / k, mx)\n",
    "\n",
    "    return mx\n",
    "\n",
    "\n",
    "\n",
    "# tests\n",
    "print(slidwin([1, 12, -5, -6, 50, 3], 4))"
   ]
  },
  {
   "cell_type": "code",
   "execution_count": null,
   "metadata": {},
   "outputs": [],
   "source": [
    "'''\n",
    "    Поиск скользящего среднего, k-окно сглаживания\n",
    "'''\n",
    "def ma(arr, k):\n",
    "    res = []\n",
    "\n",
    "    sm = sum(arr[:k])\n",
    "    res.append(str(sm / k))\n",
    "\n",
    "    for i in range(0, len(arr)-k):\n",
    "        sm -= arr[i]\n",
    "        sm += arr[i+k]\n",
    "        res.append(str(sm / k))\n",
    "    return res\n",
    "\n",
    "# tests\n",
    "print(' '.join(ma([1, 2, 3, 4, 5, 6, 7], 4)))"
   ]
  },
  {
   "cell_type": "code",
   "execution_count": null,
   "metadata": {},
   "outputs": [],
   "source": [
    "''' \n",
    "    подпоследовательность с максимальной суммой\n",
    "'''\n",
    "def submax(nums):\n",
    "    max_sum = cur_sum = nums[0]\n",
    "\n",
    "    for i in range(1, len(nums)):\n",
    "        if cur_sum < max_sum:\n",
    "            cur_sum = nums[i]\n",
    "\n",
    "\n",
    "\n",
    "\n",
    "# tests\n",
    "print(submax([2, 1, 1, 1, 2, 3, 1], 4))"
   ]
  }
 ],
 "metadata": {
  "kernelspec": {
   "display_name": "base",
   "language": "python",
   "name": "python3"
  },
  "language_info": {
   "codemirror_mode": {
    "name": "ipython",
    "version": 3
   },
   "file_extension": ".py",
   "mimetype": "text/x-python",
   "name": "python",
   "nbconvert_exporter": "python",
   "pygments_lexer": "ipython3",
   "version": "3.11.7"
  }
 },
 "nbformat": 4,
 "nbformat_minor": 2
}
