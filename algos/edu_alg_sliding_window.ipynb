{
 "cells": [
  {
   "cell_type": "markdown",
   "metadata": {},
   "source": [
    "### Метод скользящего окна"
   ]
  },
  {
   "cell_type": "code",
   "execution_count": 1,
   "metadata": {},
   "outputs": [
    {
     "name": "stdout",
     "output_type": "stream",
     "text": [
      "12.75\n"
     ]
    }
   ],
   "source": [
    "'''\n",
    "    Для массива, состоящего из n целых чисел, найдите непрерывный подмассив заданной длины k, \n",
    "    который имеет максимальное среднее значение. \n",
    "    Нужно вывести максимальное среднее значение.\n",
    "'''\n",
    "def slidwin(nums, k):\n",
    "    \n",
    "    if k > len(nums):\n",
    "        return -1\n",
    "\n",
    "    sm = sum(nums[:k])\n",
    "    mx = sm / k\n",
    "\n",
    "    for i in range(k, len(nums)):\n",
    "        sm -= nums[i-k]\n",
    "        sm += nums[i]\n",
    "\n",
    "        mx = max(sm / k, mx)\n",
    "\n",
    "    return mx\n",
    "\n",
    "\n",
    "\n",
    "# tests\n",
    "print(slidwin([1, 12, -5, -6, 50, 3], 4))"
   ]
  },
  {
   "cell_type": "code",
   "execution_count": null,
   "metadata": {},
   "outputs": [],
   "source": [
    "'''\n",
    "    Поиск скользящего среднего, k-окно сглаживания\n",
    "'''\n",
    "def ma(arr, k):\n",
    "    res = []\n",
    "\n",
    "    sm = sum(arr[:k])\n",
    "    res.append(str(sm / k))\n",
    "\n",
    "    for i in range(0, len(arr)-k):\n",
    "        sm -= arr[i]\n",
    "        sm += arr[i+k]\n",
    "        res.append(str(sm / k))\n",
    "    return res\n",
    "\n",
    "# tests\n",
    "print(' '.join(ma([1, 2, 3, 4, 5, 6, 7], 4)))"
   ]
  },
  {
   "cell_type": "code",
   "execution_count": null,
   "metadata": {},
   "outputs": [],
   "source": [
    "'''\n",
    "    Минимумы в скользящем окне длинной k.\n",
    "'''\n",
    "from collections import deque\n",
    "\n",
    "def get_mins(arr, k):\n",
    "    la = len(arr)\n",
    "    if la < k:\n",
    "        return get_mins(arr, la)\n",
    "    \n",
    "    dq = deque()\n",
    "\n",
    "    result = []\n",
    "    for i in range(len(arr)):\n",
    "        val = arr[i]\n",
    "        while dq and val < dq[-1]:\n",
    "            dq.pop()\n",
    "        \n",
    "        dq.append(val)\n",
    "\n",
    "        j = i + 1 - k\n",
    "        if j >= 0:\n",
    "            result.append(dq[0])\n",
    "            if arr[j] == dq[0]:\n",
    "                dq.popleft()\n",
    "    \n",
    "    return result\n",
    "\n",
    "# tests\n",
    "print(get_mins([2, 1, 4, 5, 3, 4, 1, 2], 4))\n",
    "print(get_mins([2, 5, 3, 1, 0], 5))\n",
    "print(get_mins([2], 1))\n",
    "print(get_mins([2], 10))\n",
    "print(get_mins([2, 5, 2, -455, 1, 56, 11], 20))"
   ]
  }
 ],
 "metadata": {
  "kernelspec": {
   "display_name": "base",
   "language": "python",
   "name": "python3"
  },
  "language_info": {
   "codemirror_mode": {
    "name": "ipython",
    "version": 3
   },
   "file_extension": ".py",
   "mimetype": "text/x-python",
   "name": "python",
   "nbconvert_exporter": "python",
   "pygments_lexer": "ipython3",
   "version": "3.11.7"
  }
 },
 "nbformat": 4,
 "nbformat_minor": 2
}
