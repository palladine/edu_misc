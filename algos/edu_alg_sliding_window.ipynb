{
 "cells": [
  {
   "cell_type": "markdown",
   "metadata": {},
   "source": [
    "### Метод скользящего окна"
   ]
  },
  {
   "cell_type": "code",
   "execution_count": 1,
   "metadata": {},
   "outputs": [
    {
     "name": "stdout",
     "output_type": "stream",
     "text": [
      "12.75\n"
     ]
    }
   ],
   "source": [
    "'''\n",
    "    Для массива, состоящего из n целых чисел, найдите непрерывный подмассив заданной длины k, \n",
    "    который имеет максимальное среднее значение. \n",
    "    Нужно вывести максимальное среднее значение.\n",
    "'''\n",
    "def slidwin(nums, k):\n",
    "    \n",
    "    if k > len(nums):\n",
    "        return -1\n",
    "\n",
    "    sm = sum(nums[:k])\n",
    "    mx = sm / k\n",
    "\n",
    "    for i in range(k, len(nums)):\n",
    "        sm -= nums[i-k]\n",
    "        sm += nums[i]\n",
    "\n",
    "        mx = max(sm / k, mx)\n",
    "\n",
    "    return mx\n",
    "\n",
    "\n",
    "\n",
    "# tests\n",
    "print(slidwin([1, 12, -5, -6, 50, 3], 4))"
   ]
  },
  {
   "cell_type": "code",
   "execution_count": null,
   "metadata": {},
   "outputs": [],
   "source": [
    "'''\n",
    "    Поиск скользящего среднего, k-окно сглаживания\n",
    "'''\n",
    "def ma(arr, k):\n",
    "    res = []\n",
    "\n",
    "    sm = sum(arr[:k])\n",
    "    res.append(str(sm / k))\n",
    "\n",
    "    for i in range(0, len(arr)-k):\n",
    "        sm -= arr[i]\n",
    "        sm += arr[i+k]\n",
    "        res.append(str(sm / k))\n",
    "    return res\n",
    "\n",
    "# tests\n",
    "print(' '.join(ma([1, 2, 3, 4, 5, 6, 7], 4)))"
   ]
  },
  {
   "cell_type": "code",
   "execution_count": 1,
   "metadata": {},
   "outputs": [
    {
     "name": "stdout",
     "output_type": "stream",
     "text": [
      "'abcabcbb' -> 'abc'\n",
      "'bbbbb' -> 'b'\n",
      "'pwwkew' -> 'wke'\n",
      "'' -> ''\n",
      "' ' -> ' '\n",
      "'au' -> 'au'\n",
      "'dvdf' -> 'vdf'\n"
     ]
    }
   ],
   "source": [
    "'''\n",
    "    Поиск максимально длинной подстроки из уникальных символов.\n",
    "    Сложность - O(n)\n",
    "'''\n",
    "def longest_unique_substring(s: str) -> str:\n",
    "    if not s:\n",
    "        return \"\"\n",
    "    \n",
    "    char_index = {}\n",
    "    start = 0\n",
    "    max_len = 0\n",
    "    max_start = 0\n",
    "    \n",
    "    for end, char in enumerate(s):\n",
    "        # Если символ уже в текущем окне, двигаем start\n",
    "        if char in char_index and char_index[char] >= start:\n",
    "            start = char_index[char] + 1\n",
    "        \n",
    "        # Обновляем позицию символа\n",
    "        char_index[char] = end\n",
    "        \n",
    "        # Обновляем максимальную длину\n",
    "        if end - start + 1 > max_len:\n",
    "            max_len = end - start + 1\n",
    "            max_start = start\n",
    "    \n",
    "    return s[max_start:max_start + max_len]\n",
    "\n",
    "# Тесты\n",
    "test_cases = [\n",
    "    \"abcabcbb\",  # \"abc\"\n",
    "    \"bbbbb\",     # \"b\"  \n",
    "    \"pwwkew\",    # \"wke\"\n",
    "    \"\",          # \"\"\n",
    "    \" \",         # \" \"\n",
    "    \"au\",        # \"au\"\n",
    "    \"dvdf\",      # \"vdf\"\n",
    "]\n",
    "\n",
    "for test in test_cases:\n",
    "    result = longest_unique_substring(test)\n",
    "    print(f\"'{test}' -> '{result}'\")"
   ]
  }
 ],
 "metadata": {
  "kernelspec": {
   "display_name": "Python 3",
   "language": "python",
   "name": "python3"
  },
  "language_info": {
   "codemirror_mode": {
    "name": "ipython",
    "version": 3
   },
   "file_extension": ".py",
   "mimetype": "text/x-python",
   "name": "python",
   "nbconvert_exporter": "python",
   "pygments_lexer": "ipython3",
   "version": "3.13.5"
  }
 },
 "nbformat": 4,
 "nbformat_minor": 2
}
