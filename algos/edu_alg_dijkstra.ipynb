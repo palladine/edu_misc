{
 "cells": [
  {
   "cell_type": "markdown",
   "metadata": {},
   "source": [
    "### Алгоритм Дейкстры  \n",
    "Алгоритм на взвешенных графах, находит кратчайшие пути от одной из вершин графа до всех остальных.  \n",
    "Алгоритм работает только для графов без рёбер отрицательного веса. "
   ]
  },
  {
   "cell_type": "code",
   "execution_count": null,
   "metadata": {},
   "outputs": [],
   "source": [
    "# Взвешенный граф !\n",
    "graph = {}\n",
    "graph['start'] = {}\n",
    "graph['start']['a'] = 6\n",
    "graph['start']['b'] = 2\n",
    "graph['a'] = {}\n",
    "graph['a']['fin'] = 1\n",
    "graph['b'] = {}\n",
    "graph['b']['a'] = 3\n",
    "graph['b']['fin'] = 5\n",
    "graph['fin'] = {}"
   ]
  }
 ],
 "metadata": {
  "language_info": {
   "name": "python"
  }
 },
 "nbformat": 4,
 "nbformat_minor": 2
}
