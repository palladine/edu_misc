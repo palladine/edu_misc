{
 "cells": [
  {
   "cell_type": "markdown",
   "metadata": {},
   "source": [
    "### Алгоритм Беллмана–Форда\n",
    "Алгоритм Беллмана–Форда находит кратчайшие пути из начальной вершины во все вершины графа.  \n",
    "Алгоритм применим к любым графам, не содержащим цикла с отрицательной длиной.  \n",
    "Если граф содержит такой цикл, то алгоритм обнаружит это.  \n",
    "Алгоритм запоминает расстояния от начальной вершины до всех вершин графа.  \n",
    "В начальный момент расстояние до начальной вершины равно 0, а до всех остальных бесконечно.  \n",
    "Затем алгоритм уменьшает расстояния, отыскивая ребра, которые укорачивают пути, и останавливается,  \n",
    "когда ни одно расстояние нельзя уменьшить.  \n",
    "O(V * E)  \n",
    "V - число вершин, E - число ребер"
   ]
  },
  {
   "cell_type": "code",
   "execution_count": 3,
   "metadata": {},
   "outputs": [
    {
     "name": "stdout",
     "output_type": "stream",
     "text": [
      "{'start': 0, 'a': 5, 'b': 2, 'fin': 6}\n"
     ]
    }
   ],
   "source": [
    "# Взвешенный граф !\n",
    "graph = {}\n",
    "graph['start'] = {}\n",
    "graph['start']['a'] = 6\n",
    "graph['start']['b'] = 2\n",
    "graph['a'] = {}\n",
    "graph['a']['fin'] = 1\n",
    "graph['b'] = {}\n",
    "graph['b']['a'] = 3\n",
    "graph['b']['fin'] = 5\n",
    "graph['fin'] = {}\n",
    "\n",
    "\n",
    "def bellman_ford(graph, source):\n",
    "    # Step 1: Initialize distances\n",
    "    distances = {vertex: float('inf') for vertex in graph}\n",
    "    distances[source] = 0\n",
    "\n",
    "    # Step 2: Relax edges |V| - 1 times\n",
    "    for _ in range(len(graph) - 1):\n",
    "        for u in graph:\n",
    "            for v, weight in graph[u].items():\n",
    "                if distances[u] != float('inf') and distances[u] + weight < distances[v]:\n",
    "                    distances[v] = distances[u] + weight\n",
    "\n",
    "    # Step 3: Check for negative weight cycles\n",
    "    for u in graph:\n",
    "        for v, weight in graph[u].items():\n",
    "            if distances[u] != float('inf') and distances[u] + weight < distances[v]:\n",
    "                raise ValueError(\"Graph contains negative weight cycle\")\n",
    "\n",
    "    return distances\n",
    "\n",
    "print(bellman_ford(graph, 'start'))"
   ]
  }
 ],
 "metadata": {
  "kernelspec": {
   "display_name": "base",
   "language": "python",
   "name": "python3"
  },
  "language_info": {
   "codemirror_mode": {
    "name": "ipython",
    "version": 3
   },
   "file_extension": ".py",
   "mimetype": "text/x-python",
   "name": "python",
   "nbconvert_exporter": "python",
   "pygments_lexer": "ipython3",
   "version": "3.11.7"
  }
 },
 "nbformat": 4,
 "nbformat_minor": 2
}
