{
 "cells": [
  {
   "cell_type": "code",
   "execution_count": null,
   "metadata": {},
   "outputs": [],
   "source": [
    "'''\n",
    "    Ваша задача — собрать подписи всех жильцов в доме. Вам известно время, в которое каждый из жильцов находится дома.\n",
    "    Вывести координаты точек целыми числами. Выводить точки можно в любом порядке. При наличии нескольких наборов точек, можно вывести любой из них.\n",
    "'''\n",
    "def main(arr):\n",
    "    arr = sorted(arr, key=lambda x: (x[1], -x[0]))\n",
    "\n",
    "    points = []\n",
    "    \n",
    "    o, c = False, False\n",
    "    for i in range(len(arr)):\n",
    "        if not o and not c:\n",
    "            o, c = arr[i]\n",
    "        if arr[i][0] > c:\n",
    "            points.append(c)\n",
    "            o, c = arr[i]\n",
    "    points.append(c)\n",
    "    return points\n",
    "\n",
    "\n",
    "#\n",
    "print(main([[1, 3], [2, 5], [3, 6], [4, 7]]))\n",
    "print(main([[1, 3], [2, 5], [3, 6]]))"
   ]
  },
  {
   "cell_type": "code",
   "execution_count": 1,
   "metadata": {},
   "outputs": [
    {
     "name": "stdout",
     "output_type": "stream",
     "text": [
      "1\n",
      "3\n",
      "2\n"
     ]
    }
   ],
   "source": [
    "'''\n",
    "    Покрытие точек отрезками одинаковой длины\n",
    "    Заданы n точек на прямой.\n",
    "    Выведите наименьшее количество отрезков длины L, которые необходимы, чтобы покрыть все точки.\n",
    "'''\n",
    "def main(arr, L):\n",
    "    arr = sorted(arr)\n",
    "    cnt = 0\n",
    "    p = 0\n",
    "    for i in range(1, len(arr)):\n",
    "        if (arr[i] - arr[p]) > L:\n",
    "            cnt += 1\n",
    "            p = i\n",
    "    return cnt+1\n",
    "\n",
    "#\n",
    "print(main([1, 1, 3, 4, 5], 4)) # 1\n",
    "print(main([1, 1, 3, 4, 5], 1)) # 3\n",
    "print(main([1, 2, 3, 4, 5, 6], 2)) # 2"
   ]
  },
  {
   "cell_type": "code",
   "execution_count": 2,
   "metadata": {},
   "outputs": [
    {
     "name": "stdout",
     "output_type": "stream",
     "text": [
      "2\n",
      "0\n",
      "9\n"
     ]
    }
   ],
   "source": [
    "'''\n",
    "    Минимальная суммарная длина отрезков\n",
    "    Заданы n точек на прямой.\n",
    "    Выведите минимальную длину k отрезков, покрывающих все точки. Отметим, что отрезки могут иметь нулевую длину.\n",
    "'''\n",
    "def main(arr, n):\n",
    "    arr = sorted(arr)\n",
    "    difs = []\n",
    "    \n",
    "    for i in range(1, len(arr)):\n",
    "        difs.append(arr[i] - arr[i-1])\n",
    "    difs = sorted(difs, reverse=True)\n",
    "    b = sum(difs[:n-1])\n",
    "    a = arr[-1]-arr[0]\n",
    "    return a-b\n",
    "\n",
    "#\n",
    "print(main([1, 1, 3, 4, 5], 2))     # 2\n",
    "print(main([1, 1, 3, 4, 5], 10000)) # 0\n",
    "print(main([1, 4, 2, 10, 20, 11, 12, 14, 19, 15], 3))  # 9"
   ]
  }
 ],
 "metadata": {
  "kernelspec": {
   "display_name": "base",
   "language": "python",
   "name": "python3"
  },
  "language_info": {
   "codemirror_mode": {
    "name": "ipython",
    "version": 3
   },
   "file_extension": ".py",
   "mimetype": "text/x-python",
   "name": "python",
   "nbconvert_exporter": "python",
   "pygments_lexer": "ipython3",
   "version": "3.11.7"
  }
 },
 "nbformat": 4,
 "nbformat_minor": 2
}
