{
 "cells": [
  {
   "cell_type": "markdown",
   "metadata": {},
   "source": [
    "### Префикс-функция"
   ]
  },
  {
   "cell_type": "markdown",
   "metadata": {},
   "source": [
    "Дана строка s[0 ... n-1].  \n",
    "Префикс-функция - массив чисел p[0 ... n-1], где p[i] определяется следующим образом:  \n",
    "это такая наибольшая длина наибольшего собственного суффикса подстроки s[0 ... i],  \n",
    "совпадающего с её префиксом (собственный суффикс — значит не совпадающий со всей строкой).  \n",
    "В частности, значение p[0] полагается равным нулю.  \n",
    "O(n)"
   ]
  },
  {
   "cell_type": "code",
   "execution_count": 4,
   "metadata": {},
   "outputs": [
    {
     "name": "stdout",
     "output_type": "stream",
     "text": [
      "[0, 0, 0, 0, 1, 2, 3]\n",
      "[0, 1, 0, 1, 2, 2, 3]\n",
      "[0, 0, 1, 2, 3]\n",
      "[0, 0, 1, 2, 3, 4]\n"
     ]
    }
   ],
   "source": [
    "def prefix_func(s):\n",
    "    n = len(s)\n",
    "\n",
    "    p = [0] * n\n",
    "\n",
    "    for i in range(1, n):\n",
    "        j = p[i-1]\n",
    "        while j > 0 and s[i] != s[j]:\n",
    "            j = p[j-1]\n",
    "        if s[i] == s[j]:\n",
    "            j+=1\n",
    "        p[i] = j\n",
    "    \n",
    "    return p\n",
    "\n",
    "#\n",
    "print(prefix_func('abcdabc'))\n",
    "print(prefix_func('aabaaab'))\n",
    "print(prefix_func('ababa'))\n",
    "print(prefix_func('ababab'))"
   ]
  },
  {
   "cell_type": "markdown",
   "metadata": {},
   "source": [
    "### Z-функция"
   ]
  },
  {
   "cell_type": "markdown",
   "metadata": {},
   "source": [
    "Z-функция от строки s — это массив длины n, i-ый элемент которого равен наибольшему числу символов,  \n",
    "начиная с позиции i, совпадающих с первыми символами строки s.  \n",
    "z[i] — это наибольший общий префикс строки s и её i-го суффикса.  \n",
    "z[0], обычно считают неопределённым.  \n",
    "O(n)"
   ]
  },
  {
   "cell_type": "code",
   "execution_count": null,
   "metadata": {},
   "outputs": [],
   "source": [
    "def z_func(s):\n",
    "    n = len(s)\n",
    "    z = [0]*n\n",
    "\n",
    "    l = r = 0\n",
    "    for i in range(1, n):\n",
    "        if i <= r:\n",
    "            z[i] = min(r-i+1, z[i-l])\n",
    "        while i+z[i] < n and s[z[i]] == s[i+z[i]]:\n",
    "            z[i] += 1\n",
    "        if i+z[i]-1 > r:\n",
    "            l = i\n",
    "            r = i+z[i]-1\n",
    "    return z\n",
    "\n",
    "\n",
    "#\n",
    "print(z_func('aaaaa'))\n",
    "print(z_func('aaabaab'))\n",
    "print(z_func('abacaba'))"
   ]
  },
  {
   "cell_type": "markdown",
   "metadata": {},
   "source": [
    "### Алгоритм Кнута-Морриса-Пратта (поиск подстроки в строке)\n",
    "Time Complexity: O (n+m)  \n",
    "Space Complexity: O (m)  "
   ]
  },
  {
   "cell_type": "code",
   "execution_count": null,
   "metadata": {},
   "outputs": [],
   "source": [
    "def part(pattern):\n",
    "    ret = [0]\n",
    "    \n",
    "    for i in range(1, len(pattern)):\n",
    "        j = ret[i - 1]\n",
    "        while j > 0 and pattern[j] != pattern[i]:\n",
    "            j = ret[j - 1]\n",
    "        ret.append(j + 1 if pattern[j] == pattern[i] else j)\n",
    "    return ret\n",
    "\n",
    "\n",
    "def kmp(orig, pat):\n",
    "    partial, ret, j = part(pat), [], 0\n",
    "    \n",
    "    for i in range(len(orig)):\n",
    "        while j > 0 and orig[i] != pat[j]:\n",
    "            j = partial[j - 1]\n",
    "        if orig[i] == pat[j]: j += 1\n",
    "        if j == len(pat): \n",
    "            ret.append(i - (j - 1))\n",
    "            j = partial[j - 1]\n",
    "        \n",
    "    return ret\n",
    "\n",
    "# tests\n",
    "p1 = \"aa\"\n",
    "t1 = \"aaaaaaaa\"\n",
    "\n",
    "assert(kmp(t1, p1) == [0, 1, 2, 3, 4, 5, 6])\n",
    "\n",
    "p2 = \"abc\"\n",
    "t2 = \"abdabeabfabc\"\n",
    "\n",
    "assert(kmp(t2, p2) == [9])\n",
    "\n",
    "p3 = \"aab\"\n",
    "t3 = \"aaabaacbaab\"\n",
    "\n",
    "assert(kmp(t3, p3) == [1, 8])\n",
    "\n",
    "p4 = \"11\"\n",
    "t4 = \"111\"\n",
    "assert(kmp(t4, p4) == [0, 1])"
   ]
  }
 ],
 "metadata": {
  "kernelspec": {
   "display_name": "base",
   "language": "python",
   "name": "python3"
  },
  "language_info": {
   "codemirror_mode": {
    "name": "ipython",
    "version": 3
   },
   "file_extension": ".py",
   "mimetype": "text/x-python",
   "name": "python",
   "nbconvert_exporter": "python",
   "pygments_lexer": "ipython3",
   "version": "3.11.7"
  }
 },
 "nbformat": 4,
 "nbformat_minor": 2
}
