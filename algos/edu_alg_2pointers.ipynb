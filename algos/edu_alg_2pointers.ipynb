{
 "cells": [
  {
   "cell_type": "code",
   "execution_count": 3,
   "metadata": {},
   "outputs": [
    {
     "name": "stdout",
     "output_type": "stream",
     "text": [
      "(0, 3)\n",
      "(0, 5)\n",
      "None\n",
      "(0, 1)\n",
      "(0, 1)\n",
      "None\n",
      "None\n"
     ]
    }
   ],
   "source": [
    "# Поиск индексов элементов сумма которых равна target\n",
    "# Список должен быть осортирован\n",
    "# O(n)\n",
    "def tp(arr, target):\n",
    "\n",
    "    left = 0\n",
    "    right = len(arr) - 1\n",
    "\n",
    "    while left < right:\n",
    "        sm = arr[left] + arr[right]\n",
    "        if sm == target:\n",
    "            return (left, right)\n",
    "        elif sm < target:\n",
    "            left += 1\n",
    "        else:\n",
    "            right -= 1\n",
    "    \n",
    "    return None\n",
    "\n",
    "# tests\n",
    "print(tp([2, 4, 6, 8, 12, 14], 10))\n",
    "print(tp([2, 4, 6, 8, 12, 14], 16))\n",
    "print(tp([2, 4, 6, 8, 12, 14], 30))\n",
    "print(tp([2, 4], 6))\n",
    "print(tp([0, 6], 6))\n",
    "print(tp([6], 6))\n",
    "print(tp([], 10))"
   ]
  },
  {
   "cell_type": "code",
   "execution_count": 1,
   "metadata": {},
   "outputs": [
    {
     "name": "stdout",
     "output_type": "stream",
     "text": [
      "49\n"
     ]
    }
   ],
   "source": [
    "'''\n",
    "    You are given an integer array height of length n.\n",
    "    There are n vertical lines drawn such that the two endpoints of the ith line are (i, 0) and (i, height[i]).\n",
    "    Find two lines that together with the x-axis form a container, such that the container contains the most water.\n",
    "    Return the maximum amount of water a container can store.\n",
    "    Notice that you may not slant the container.\n",
    "'''\n",
    "def maxArea(height):\n",
    "        l = 0\n",
    "        r = len(height) - 1\n",
    "\n",
    "        mx = 0\n",
    "        while r > l:\n",
    "            area = min(height[l], height[r]) * (r - l)\n",
    "            mx = max(mx, area)\n",
    "            if height[l] <= height[r]:\n",
    "                l += 1\n",
    "            else:\n",
    "                r -= 1\n",
    "        \n",
    "        return mx\n",
    "\n",
    "print(maxArea([1,8,6,2,5,4,8,3,7]))"
   ]
  }
 ],
 "metadata": {
  "kernelspec": {
   "display_name": "base",
   "language": "python",
   "name": "python3"
  },
  "language_info": {
   "codemirror_mode": {
    "name": "ipython",
    "version": 3
   },
   "file_extension": ".py",
   "mimetype": "text/x-python",
   "name": "python",
   "nbconvert_exporter": "python",
   "pygments_lexer": "ipython3",
   "version": "3.11.7"
  }
 },
 "nbformat": 4,
 "nbformat_minor": 2
}
