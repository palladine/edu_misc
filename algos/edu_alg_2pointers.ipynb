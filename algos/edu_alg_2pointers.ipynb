{
 "cells": [
  {
   "cell_type": "code",
   "execution_count": 3,
   "metadata": {},
   "outputs": [
    {
     "name": "stdout",
     "output_type": "stream",
     "text": [
      "(0, 3)\n",
      "(0, 5)\n",
      "None\n",
      "(0, 1)\n",
      "(0, 1)\n",
      "None\n",
      "None\n"
     ]
    }
   ],
   "source": [
    "# Поиск индексов элементов сумма которых равна target\n",
    "# Список должен быть осортирован\n",
    "# O(n)\n",
    "def tp(arr, target):\n",
    "\n",
    "    left = 0\n",
    "    right = len(arr) - 1\n",
    "\n",
    "    while left < right:\n",
    "        sm = arr[left] + arr[right]\n",
    "        if sm == target:\n",
    "            return (left, right)\n",
    "        elif sm < target:\n",
    "            left += 1\n",
    "        else:\n",
    "            right -= 1\n",
    "    \n",
    "    return None\n",
    "\n",
    "# tests\n",
    "print(tp([2, 4, 6, 8, 12, 14], 10))\n",
    "print(tp([2, 4, 6, 8, 12, 14], 16))\n",
    "print(tp([2, 4, 6, 8, 12, 14], 30))\n",
    "print(tp([2, 4], 6))\n",
    "print(tp([0, 6], 6))\n",
    "print(tp([6], 6))\n",
    "print(tp([], 10))"
   ]
  }
 ],
 "metadata": {
  "kernelspec": {
   "display_name": "base",
   "language": "python",
   "name": "python3"
  },
  "language_info": {
   "codemirror_mode": {
    "name": "ipython",
    "version": 3
   },
   "file_extension": ".py",
   "mimetype": "text/x-python",
   "name": "python",
   "nbconvert_exporter": "python",
   "pygments_lexer": "ipython3",
   "version": "3.9.13"
  }
 },
 "nbformat": 4,
 "nbformat_minor": 2
}
