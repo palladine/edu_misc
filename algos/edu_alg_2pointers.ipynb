{
 "cells": [
  {
   "cell_type": "code",
   "execution_count": 3,
   "metadata": {},
   "outputs": [
    {
     "name": "stdout",
     "output_type": "stream",
     "text": [
      "(0, 3)\n",
      "(0, 5)\n",
      "None\n",
      "(0, 1)\n",
      "(0, 1)\n",
      "None\n",
      "None\n"
     ]
    }
   ],
   "source": [
    "# Поиск индексов элементов сумма которых равна target\n",
    "# Список должен быть осортирован\n",
    "# O(n)\n",
    "def tp(arr, target):\n",
    "\n",
    "    left = 0\n",
    "    right = len(arr) - 1\n",
    "\n",
    "    while left < right:\n",
    "        sm = arr[left] + arr[right]\n",
    "        if sm == target:\n",
    "            return (left, right)\n",
    "        elif sm < target:\n",
    "            left += 1\n",
    "        else:\n",
    "            right -= 1\n",
    "    \n",
    "    return None\n",
    "\n",
    "# tests\n",
    "print(tp([2, 4, 6, 8, 12, 14], 10))\n",
    "print(tp([2, 4, 6, 8, 12, 14], 16))\n",
    "print(tp([2, 4, 6, 8, 12, 14], 30))\n",
    "print(tp([2, 4], 6))\n",
    "print(tp([0, 6], 6))\n",
    "print(tp([6], 6))\n",
    "print(tp([], 10))"
   ]
  },
  {
   "cell_type": "code",
   "execution_count": 4,
   "metadata": {},
   "outputs": [
    {
     "name": "stdout",
     "output_type": "stream",
     "text": [
      "6\n"
     ]
    }
   ],
   "source": [
    "''' \n",
    "    Дана отсортированная последовательность чисел длиной N и число k.\n",
    "    Необходимо найти количество пар чисел (a, b), таких что b-a > k \n",
    "'''\n",
    "def tp2(seq, k):\n",
    "    l = 0\n",
    "    r = 1\n",
    "\n",
    "    cnt_pairs = 0\n",
    "    while r < len(seq):\n",
    "        if seq[r] - seq[l] > k:\n",
    "            cnt_pairs += len(seq) - r\n",
    "            l += 1\n",
    "        else:\n",
    "            r += 1\n",
    "    return cnt_pairs\n",
    "            \n",
    "# tests\n",
    "print(tp2([1, 3, 5, 7, 8], 2))\n"
   ]
  },
  {
   "cell_type": "code",
   "execution_count": 24,
   "metadata": {},
   "outputs": [
    {
     "name": "stdout",
     "output_type": "stream",
     "text": [
      "[-1, -1, 0, 0, 0, 1, 2, 2, 3, 5, 6, 6, 8, 9, 12, 34]\n",
      "[1, 2, 3, 6, 8, 9, 12, 34]\n",
      "[]\n",
      "[1, 1]\n",
      "[0, 1]\n"
     ]
    }
   ],
   "source": [
    "'''\n",
    "    Даны две отсортированные последовательности чисел (длинной N и M).\n",
    "    Необходимо слить их в одну отсортированную последовательность.\n",
    "    O(n+m)\n",
    "'''\n",
    "def merge(seq1, seq2):\n",
    "    p1 = 0\n",
    "    p2 = 0\n",
    "\n",
    "    res_seq = [0] * (len(seq1)+len(seq2))\n",
    "    \n",
    "    for i in range(len(seq1)+len(seq2)):\n",
    "        if p1 == len(seq1):\n",
    "            res_seq[i] = seq2[p2]\n",
    "            p2 += 1\n",
    "        elif p2 == len(seq2):\n",
    "            res_seq[i] = seq1[p1]\n",
    "            p1 += 1\n",
    "        else:\n",
    "            if seq1[p1] < seq2[p2]:\n",
    "                res_seq[i] = seq1[p1]\n",
    "                p1+=1\n",
    "            else:\n",
    "                res_seq[i] = seq2[p2]\n",
    "                p2+=1\n",
    "    return res_seq\n",
    "\n",
    "# tests\n",
    "print(merge([1, 2, 3, 6, 8, 9, 12, 34], [-1, -1, 0, 0, 0, 2, 5, 6]))\n",
    "print(merge([1, 2, 3, 6, 8, 9, 12, 34], []))\n",
    "print(merge([], []))\n",
    "print(merge([1], [1]))\n",
    "print(merge([1], [0]))\n"
   ]
  },
  {
   "cell_type": "code",
   "execution_count": 1,
   "metadata": {},
   "outputs": [
    {
     "name": "stdout",
     "output_type": "stream",
     "text": [
      "49\n"
     ]
    }
   ],
   "source": [
    "'''\n",
    "    You are given an integer array height of length n.\n",
    "    There are n vertical lines drawn such that the two endpoints of the ith line are (i, 0) and (i, height[i]).\n",
    "    Find two lines that together with the x-axis form a container, such that the container contains the most water.\n",
    "    Return the maximum amount of water a container can store.\n",
    "    Notice that you may not slant the container.\n",
    "'''\n",
    "def maxArea(height):\n",
    "        l = 0\n",
    "        r = len(height) - 1\n",
    "\n",
    "        mx = 0\n",
    "        while r > l:\n",
    "            area = min(height[l], height[r]) * (r - l)\n",
    "            mx = max(mx, area)\n",
    "            if height[l] <= height[r]:\n",
    "                l += 1\n",
    "            else:\n",
    "                r -= 1\n",
    "        \n",
    "        return mx\n",
    "\n",
    "print(maxArea([1,8,6,2,5,4,8,3,7]))"
   ]
  },
  {
   "cell_type": "code",
   "execution_count": 1,
   "metadata": {},
   "outputs": [
    {
     "name": "stdout",
     "output_type": "stream",
     "text": [
      "[[-1, -1, 2], [-1, 0, 1]]\n",
      "[]\n",
      "[[0, 0, 0]]\n",
      "[[-2, 0, 2]]\n"
     ]
    }
   ],
   "source": [
    "'''\n",
    "    3Sum\n",
    "    Given an integer array nums, return all the triplets [nums[i], nums[j], nums[k]] \n",
    "    such that i != j, i != k, and j != k, and nums[i] + nums[j] + nums[k] == 0.\n",
    "    Notice that the solution set must not contain duplicate triplets.\n",
    "'''\n",
    "def ts(nums):\n",
    "        nums = sorted(nums)\n",
    "\n",
    "        res = []\n",
    "        for i in range(len(nums)):\n",
    "            if i > 0 and nums[i] == nums[i-1]:\n",
    "                continue\n",
    "\n",
    "            l = i + 1\n",
    "            r = len(nums) - 1\n",
    "\n",
    "            while l < r:\n",
    "                sm = nums[i] + nums[l] + nums[r]\n",
    "                if sm == 0:\n",
    "                    res.append([nums[i], nums[l], nums[r]])\n",
    "                    l += 1\n",
    "                    r -= 1\n",
    "                    while l < r and nums[l] == nums[l-1]:\n",
    "                        l += 1\n",
    "                elif sm < 0:\n",
    "                    l += 1\n",
    "                else:\n",
    "                    r -= 1\n",
    "        return res\n",
    "\n",
    "\n",
    "# tests\n",
    "print(ts([-1, 0, 1, 2, -1, -4]))\n",
    "print(ts([0, 1, 1]))\n",
    "print(ts([0, 0, 0]))\n",
    "print(ts([-2, 0, 0, 2, 2]))"
   ]
  }
 ],
 "metadata": {
  "kernelspec": {
   "display_name": "base",
   "language": "python",
   "name": "python3"
  },
  "language_info": {
   "codemirror_mode": {
    "name": "ipython",
    "version": 3
   },
   "file_extension": ".py",
   "mimetype": "text/x-python",
   "name": "python",
   "nbconvert_exporter": "python",
   "pygments_lexer": "ipython3",
   "version": "3.11.5"
  }
 },
 "nbformat": 4,
 "nbformat_minor": 2
}
