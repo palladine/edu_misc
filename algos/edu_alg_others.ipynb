{
 "cells": [
  {
   "cell_type": "markdown",
   "metadata": {},
   "source": [
    "-----\n",
    "Для чтения входных данных необходимо получить их из стандартного потока ввода (sys.stdin).  \n",
    "Данные во входном потоке соответствуют описанному в условии формату.  \n",
    "Обычно входные данные состоят из нескольких строк.  \n",
    "  \n",
    "Можно использовать несколько методов:  \n",
    "- input() -- читает одну строку из потока без символа перевода строки  \n",
    "- sys.stdin.readline() - читает одну строку из потока, сохраняя символ перевода строки в конце  \n",
    "- sys.stdin.readlines() -- вернет список (list) строк, сохраняя символ перевода строки в конце каждой из них.  \n",
    "  \n",
    "Чтобы прочитать из строки стандартного потока:  \n",
    "- число - int(input()) - в строке должно быть одно число  \n",
    "- строку - input()  \n",
    "- массив чисел - map(int, input().split())  \n",
    "- последовательность слов - input().split()  \n",
    "  \n",
    "Чтобы вывести результат в стандартный поток вывода (sys.stdout), можно использовать функцию print() или sys.stdout.write().  \n",
    "  \n",
    "Возможное решение задачи \"Вычислите сумму чисел в строке\": print(sum(map(int, input().split())))  \n",
    "\n",
    "-----"
   ]
  },
  {
   "cell_type": "markdown",
   "metadata": {},
   "source": [
    "Алгоритм Евклида  \n",
    "(алгоритм для нахождения наибольшего общего делителя двух целых чисел (или общей меры двух отрезков))"
   ]
  },
  {
   "cell_type": "code",
   "execution_count": 10,
   "metadata": {},
   "outputs": [
    {
     "data": {
      "text/plain": [
       "6"
      ]
     },
     "execution_count": 10,
     "metadata": {},
     "output_type": "execute_result"
    }
   ],
   "source": [
    "def gcd(a, b): \n",
    "    while b != 0: \n",
    "        a, b = b, a % b \n",
    "    return a\n",
    "\n",
    "gcd(30, 12)"
   ]
  },
  {
   "cell_type": "markdown",
   "metadata": {},
   "source": [
    "Сумма элементов списка (рекурсивный метод)"
   ]
  },
  {
   "cell_type": "code",
   "execution_count": 9,
   "metadata": {},
   "outputs": [
    {
     "data": {
      "text/plain": [
       "36"
      ]
     },
     "execution_count": 9,
     "metadata": {},
     "output_type": "execute_result"
    }
   ],
   "source": [
    "def sm(seq):\n",
    "    if seq:\n",
    "        return seq[0] + sm(seq[1:])\n",
    "    return 0\n",
    "\n",
    "sm([1, 2, 3, 4, 5, 6, 7, 8])"
   ]
  },
  {
   "cell_type": "code",
   "execution_count": null,
   "metadata": {},
   "outputs": [],
   "source": []
  }
 ],
 "metadata": {
  "kernelspec": {
   "display_name": "base",
   "language": "python",
   "name": "python3"
  },
  "language_info": {
   "codemirror_mode": {
    "name": "ipython",
    "version": 3
   },
   "file_extension": ".py",
   "mimetype": "text/x-python",
   "name": "python",
   "nbconvert_exporter": "python",
   "pygments_lexer": "ipython3",
   "version": "3.11.5"
  }
 },
 "nbformat": 4,
 "nbformat_minor": 2
}
