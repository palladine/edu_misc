{
 "cells": [
  {
   "cell_type": "markdown",
   "id": "88dc5ee6",
   "metadata": {},
   "source": [
    "## Множества"
   ]
  },
  {
   "cell_type": "code",
   "execution_count": 1,
   "id": "2f586c42",
   "metadata": {},
   "outputs": [
    {
     "name": "stdout",
     "output_type": "stream",
     "text": [
      "0b110010101\n",
      "\n",
      "[0]\n",
      "[2]\n",
      "[0, 2]\n",
      "[4]\n",
      "[0, 4]\n",
      "[2, 4]\n",
      "[0, 2, 4]\n",
      "[7]\n",
      "[0, 7]\n",
      "[2, 7]\n",
      "[0, 2, 7]\n",
      "[4, 7]\n",
      "[0, 4, 7]\n",
      "[2, 4, 7]\n",
      "[0, 2, 4, 7]\n",
      "[8]\n",
      "[0, 8]\n",
      "[2, 8]\n",
      "[0, 2, 8]\n",
      "[4, 8]\n",
      "[0, 4, 8]\n",
      "[2, 4, 8]\n",
      "[0, 2, 4, 8]\n",
      "[7, 8]\n",
      "[0, 7, 8]\n",
      "[2, 7, 8]\n",
      "[0, 2, 7, 8]\n",
      "[4, 7, 8]\n",
      "[0, 4, 7, 8]\n",
      "[2, 4, 7, 8]\n",
      "[0, 2, 4, 7, 8]\n",
      "[]\n"
     ]
    }
   ],
   "source": [
    "# Нахождение подмножеств (битовые операции)\n",
    "a = [0, 2, 4, 7, 8]\n",
    "x = 0\n",
    "for i in range(len(a)):\n",
    "    x |= (1 << a[i])\n",
    "print(f'{bin(x)}\\n')\n",
    "\n",
    "b = 0\n",
    "flag = True\n",
    "while flag:\n",
    "    tmp = []\n",
    "    b = (b-x) & x\n",
    "    \n",
    "    for i in range(32):\n",
    "        if (b & (1 << i)):\n",
    "            tmp.append(i) \n",
    "    print(tmp)\n",
    "    \n",
    "    if b == 0:\n",
    "        flag = False"
   ]
  },
  {
   "cell_type": "code",
   "execution_count": 18,
   "id": "ce10ce31",
   "metadata": {},
   "outputs": [
    {
     "name": "stdout",
     "output_type": "stream",
     "text": [
      "(3, [21, 21, 21])\n"
     ]
    }
   ],
   "source": [
    "# Подсчет минимального количества монет для размена суммы\n",
    "def cnt(coins, summa, coins_count, coins_used):\n",
    "    for x in range(summa+1):\n",
    "        tmp = x\n",
    "        new_coin = 1\n",
    "        for c in [c for c in coins if c <= x]:\n",
    "            if coins_count[x-c]+1 < tmp:\n",
    "                tmp = coins_count[x-c]+1\n",
    "                new_coin = c\n",
    "        coins_count[x] = tmp\n",
    "        coins_used[x] = new_coin\n",
    "\n",
    "    i = summa\n",
    "    res = []\n",
    "    while i > 0:\n",
    "        res.append(coins_used[i])\n",
    "        i -= coins_used[i]\n",
    "\n",
    "    return coins_count[summa], res   # вывод - мнимальное количество, список из номиналов монет\n",
    "\n",
    "\n",
    "coins = [1, 5, 10, 21, 25]   # номиналы монет\n",
    "summa = 63                   # сумма\n",
    "\n",
    "coins_used = [0] * (summa + 1)\n",
    "coins_count = [0] * (summa + 1)\n",
    "\n",
    "print(cnt(coins, summa, coins_count, coins_used))"
   ]
  },
  {
   "cell_type": "code",
   "execution_count": 18,
   "id": "637847d5",
   "metadata": {},
   "outputs": [
    {
     "name": "stdout",
     "output_type": "stream",
     "text": [
      "6\n",
      "7\n",
      "3\n",
      "5\n"
     ]
    }
   ],
   "source": [
    "# циклическая очередь (дни недели)\n",
    "rd = (1, 2, 3, 4, 5, 6, 7)\n",
    "n = 3\n",
    "c = 3\n",
    "print(rd[(c - 1 + n) % 7])\n",
    "print(rd[(c - 1 - n) % 7])\n",
    "c = 7\n",
    "print(rd[(c - 1 + n) % 7])\n",
    "c = 1\n",
    "print(rd[(c - 1 - n) % 7])"
   ]
  },
  {
   "cell_type": "code",
   "execution_count": 13,
   "id": "dcda5b9c",
   "metadata": {},
   "outputs": [
    {
     "name": "stdout",
     "output_type": "stream",
     "text": [
      "j\n",
      "d\n",
      "x\n",
      "c\n"
     ]
    }
   ],
   "source": [
    "# циклическая очередь\n",
    "a = 'abcdefghijklmnopqrstuvwxyz'\n",
    "len_seq = len(a)\n",
    "base = 'g'\n",
    "n = 3\n",
    "print(a[(a.index(base) + n) % len_seq])\n",
    "print(a[(a.index(base) - n) % len_seq])\n",
    "base_a = 'a'\n",
    "print(a[(a.index(base_a) - n) % len_seq])\n",
    "base_z = 'z'\n",
    "print(a[(a.index(base_z) + n) % len_seq])"
   ]
  },
  {
   "cell_type": "code",
   "execution_count": 110,
   "id": "47fea0f2",
   "metadata": {},
   "outputs": [
    {
     "name": "stdout",
     "output_type": "stream",
     "text": [
      "12\n"
     ]
    }
   ],
   "source": [
    "# подсчет инверсий в массиве (в основе сортировка слиянием)\n",
    "def count_inv(seq):\n",
    "    len_seq = len(seq)\n",
    "    \n",
    "    if len_seq <= 1:\n",
    "        return 0\n",
    "    \n",
    "    mid = len_seq // 2\n",
    "    inv_count = 0\n",
    "\n",
    "    a = seq[:mid]\n",
    "    b = seq[mid:]\n",
    "    \n",
    "    inv_count += count_inv(a)\n",
    "    inv_count += count_inv(b)\n",
    "\n",
    "    i = j = k = 0\n",
    "\n",
    "    while i < len(a) and j < len(b):\n",
    "        if a[i] < b[j]:\n",
    "            seq[k] = a[i]\n",
    "            i += 1\n",
    "        else:\n",
    "            seq[k] = b[j]\n",
    "            j += 1\n",
    "            inv_count += len(a) - i\n",
    "\n",
    "        k += 1\n",
    "\n",
    "    while i < len(a):\n",
    "        seq[k] = a[i]\n",
    "        i += 1\n",
    "        k += 1\n",
    "\n",
    "    while j < len(b):\n",
    "        seq[k] = b[j]\n",
    "        j += 1\n",
    "        k += 1\n",
    "\n",
    "    return inv_count\n",
    "\n",
    "\n",
    "a = [6, 5, 4, 1, 2, 3]\n",
    "print(count_inv(a))"
   ]
  },
  {
   "cell_type": "code",
   "execution_count": 137,
   "id": "d8cc6158",
   "metadata": {},
   "outputs": [
    {
     "name": "stdout",
     "output_type": "stream",
     "text": [
      "2\n"
     ]
    }
   ],
   "source": [
    "# минимальное значение xor между двумя элементами в массиве\n",
    "def main(seq):\n",
    "    L = len(bin(max(seq))) - 1\n",
    "    trie_dct = {}\n",
    "\n",
    "    def insert(el):\n",
    "        cur = trie_dct\n",
    "        for bit in format(el, f'0{L}b'):\n",
    "            if bit not in cur:\n",
    "                cur[bit] = {}\n",
    "            cur = cur[bit]\n",
    "        cur['val'] = el\n",
    "\n",
    "\n",
    "    def best_match(el):\n",
    "        cur = trie_dct\n",
    "        for bit in format(el, f'0{L}b'):\n",
    "            rev = '0' if bit == '1' else '1'\n",
    "            if bit in cur:\n",
    "                cur = cur[bit]\n",
    "            else:\n",
    "                cur = cur[rev]\n",
    "        return cur['val']\n",
    "\n",
    "\n",
    "    insert(seq[0])\n",
    "    min_xor = seq[0] ^ seq[1]\n",
    "\n",
    "    for el in seq[1:]:\n",
    "        min_xor = min(min_xor, el ^ best_match(el))\n",
    "        insert(el)\n",
    "\n",
    "    return min_xor\n",
    "\n",
    "a = (2, 4, 6, 8)\n",
    "print(main(a))"
   ]
  },
  {
   "cell_type": "code",
   "execution_count": null,
   "id": "5fbaedf6",
   "metadata": {},
   "outputs": [],
   "source": [
    "# подсчет максимумов в скользящем окне (k - размер окна)\n",
    "# O(n)\n",
    "from collections import deque\n",
    "\n",
    "def findMax(seq, k):\n",
    "    res = []\n",
    "    ls = len(seq)\n",
    "    \n",
    "    if ls * k == 0:\n",
    "        return res\n",
    "    \n",
    "    # dq содержит индексы элементов\n",
    "    dq = deque()\n",
    "\n",
    "    # 0 .. 2\n",
    "    for i in range(k):\n",
    "        while dq and seq[k-1] >= seq[dq[-1]]:\n",
    "            dq.pop()\n",
    "        dq.append(i)\n",
    "        \n",
    "    # 3 ... (ls-1)\n",
    "    for i in range(k, ls):\n",
    "        res.append(seq[dq[0]])\n",
    "\n",
    "        while dq and dq[0] <= i-k:\n",
    "            dq.popleft()\n",
    "\n",
    "        while dq and seq[i] >= seq[dq[-1]]:\n",
    "            dq.pop()\n",
    "        \n",
    "        dq.append(i)\n",
    "    \n",
    "    res.append(seq[dq[0]])\n",
    "    return res"
   ]
  },
  {
   "cell_type": "code",
   "execution_count": 15,
   "id": "1b787033",
   "metadata": {},
   "outputs": [
    {
     "name": "stdout",
     "output_type": "stream",
     "text": [
      "10\n"
     ]
    }
   ],
   "source": [
    "# максимальная сумма подмассивов\n",
    "# O(n)\n",
    "nums = [-1, 2, 4, -3, 5, 2, -5, 2]\n",
    "\n",
    "def subar_max(a):\n",
    "    res = 0\n",
    "    tmp = 0\n",
    "    for i in range(len(a)):\n",
    "        tmp = max(a[i], tmp + a[i])\n",
    "        res = max(res, tmp)\n",
    "    return res\n",
    "\n",
    "\n",
    "print(subar_max(nums))"
   ]
  }
 ],
 "metadata": {
  "kernelspec": {
   "display_name": "Python 3 (ipykernel)",
   "language": "python",
   "name": "python3"
  },
  "language_info": {
   "codemirror_mode": {
    "name": "ipython",
    "version": 3
   },
   "file_extension": ".py",
   "mimetype": "text/x-python",
   "name": "python",
   "nbconvert_exporter": "python",
   "pygments_lexer": "ipython3",
   "version": "3.11.7"
  }
 },
 "nbformat": 4,
 "nbformat_minor": 5
}
