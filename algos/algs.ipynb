{
 "cells": [
  {
   "cell_type": "code",
   "execution_count": 19,
   "id": "8ec70279",
   "metadata": {},
   "outputs": [],
   "source": [
    "import time\n",
    "\n",
    "def dec_time(func):\n",
    "    def wrap(*args):\n",
    "        start = time.monotonic()\n",
    "        res = func(*args)\n",
    "        proc = time.monotonic() - start\n",
    "        print(f'{func.__name__}: {round(proc, 5)} sec')\n",
    "        return res\n",
    "    return wrap"
   ]
  },
  {
   "cell_type": "markdown",
   "id": "72d0975f",
   "metadata": {},
   "source": [
    "## Сортировка"
   ]
  },
  {
   "cell_type": "code",
   "execution_count": null,
   "id": "5d729c3f",
   "metadata": {},
   "outputs": [],
   "source": [
    "# Сортировка выбором\n",
    "# O(n^2)\n",
    "def selection_sort(a):\n",
    "    la = len(a)\n",
    "    for i in range(la):\n",
    "        for j in range(i+1, la):\n",
    "            if a[j] < a[i]:\n",
    "                a[i], a[j] = a[j], a[i]\n",
    "    return a"
   ]
  },
  {
   "cell_type": "code",
   "execution_count": 17,
   "id": "c0a7cde0",
   "metadata": {},
   "outputs": [],
   "source": [
    "# Пузырьковая сортировка\n",
    "# O(n^2)\n",
    "def sort_bubble(seq):\n",
    "    len_seq = len(seq)\n",
    "    for n in range(len_seq):\n",
    "        for i in range(len_seq-1):\n",
    "            if seq[i+1] < seq[i]:\n",
    "                seq[i], seq[i+1] = seq[i+1], seq[i]\n",
    "    return seq"
   ]
  },
  {
   "cell_type": "markdown",
   "id": "bcc86f26",
   "metadata": {},
   "source": [
    "## Битовые маски"
   ]
  },
  {
   "attachments": {
    "image.png": {
     "image/png": "[encoded data removed]"
    }
   },
   "cell_type": "markdown",
   "id": "f2b1652e",
   "metadata": {},
   "source": [
    "![image.png](attachment:image.png)"
   ]
  },
  {
   "cell_type": "code",
   "execution_count": 15,
   "id": "67bedced",
   "metadata": {},
   "outputs": [
    {
     "name": "stdout",
     "output_type": "stream",
     "text": [
      "And:\n",
      "0b10110 (22)\n",
      "0b11010 (26)\n",
      "0b10010 (18)\n",
      "\n",
      "Or:\n",
      "0b10110 (22)\n",
      "0b11010 (26)\n",
      "0b11110 (30)\n",
      "\n",
      "Xor:\n",
      "0b10110 (22)\n",
      "0b11010 (26)\n",
      "0b1100 (12)\n",
      "\n",
      "Not:\n",
      "0b10110 (22)\n",
      "-0b10111 (-23)\n",
      "\n",
      ">>:\n",
      "0b10110 (22)\n",
      "0b1011 (11)\n",
      "\n",
      "<<:\n",
      "0b10110 (22)\n",
      "0b101100 (44)\n",
      "\n"
     ]
    }
   ],
   "source": [
    "# Операции\n",
    "x = 22\n",
    "y = 26\n",
    "\n",
    "# and\n",
    "print('And:')\n",
    "print(f'{bin(x)} ({x})')\n",
    "print(f'{bin(y)} ({y})')\n",
    "print(f'{bin(x & y)} ({x & y})\\n')\n",
    "\n",
    "# or\n",
    "print('Or:')\n",
    "print(f'{bin(x)} ({x})')\n",
    "print(f'{bin(y)} ({y})')\n",
    "print(f'{bin(x | y)} ({x | y})\\n')\n",
    "\n",
    "# xor\n",
    "print('Xor:')\n",
    "print(f'{bin(x)} ({x})')\n",
    "print(f'{bin(y)} ({y})')\n",
    "print(f'{bin(x ^ y)} ({x ^ y})\\n')\n",
    "\n",
    "# not\n",
    "print('Not:')\n",
    "print(f'{bin(x)} ({x})')\n",
    "print(f'{bin(~x)} ({~x})\\n')\n",
    "\n",
    "# >> сдвиг вправо\n",
    "print('>>:')\n",
    "print(f'{bin(x)} ({x})')\n",
    "print(f'{bin(x >> 1)} ({x >> 1})\\n')\n",
    "\n",
    "# << сдвиг влево\n",
    "print('<<:')\n",
    "print(f'{bin(x)} ({x})')\n",
    "print(f'{bin(x << 1)} ({x << 1})\\n')\n",
    "\n",
    "# Операция x << k соответствует умножению x на 2**k,\n",
    "# а x >> k – делению x на 2**k с последующим округлением с недостатком до целого."
   ]
  },
  {
   "cell_type": "markdown",
   "id": "5dccbd8e",
   "metadata": {},
   "source": [
    "> Битовой маской называется число вида 1 << k, содержащее в позиции k единицу, а во всех остальных позициях – нули.\n",
    "\n",
    "> выражение __x | (1 << k)__ устанавливает k-й бит x в единицу,  \n",
    "  выражение __x & ~(1 << k)__ сбрасывает k-й бит x в нуль,  \n",
    "  выражение __x ˆ (1 << k)__ инвертирует k-й бит x,  \n",
    "  выражение __x & (x − 1)__ сбрасывает последний единичный бит x в нуль,  \n",
    "  выражение __x & −x__ сбрасывает в нуль все единичные биты, кроме последнего  \n",
    "  выражение __x | (x − 1)__ инвертирует все биты после последнего единичного.\n",
    "\n",
    "> Положительное число x является степенью двойки тогда и только тогда, когда x & (x − 1) = 0."
   ]
  },
  {
   "cell_type": "code",
   "execution_count": null,
   "id": "0dd33e91",
   "metadata": {},
   "outputs": [],
   "source": []
  },
  {
   "cell_type": "markdown",
   "id": "88dc5ee6",
   "metadata": {},
   "source": [
    "## Множества"
   ]
  },
  {
   "cell_type": "code",
   "execution_count": 4,
   "id": "5c8d2f25",
   "metadata": {},
   "outputs": [
    {
     "name": "stdout",
     "output_type": "stream",
     "text": [
      "[[0, 2, 4, 6, 8], [0, 2, 4, 6], [0, 2, 4, 8], [0, 2, 4], [0, 2, 6, 8], [0, 2, 6], [0, 2, 8], [0, 2], [0, 4, 6, 8], [0, 4, 6], [0, 4, 8], [0, 4], [0, 6, 8], [0, 6], [0, 8], [0], [2, 4, 6, 8], [2, 4, 6], [2, 4, 8], [2, 4], [2, 6, 8], [2, 6], [2, 8], [2], [4, 6, 8], [4, 6], [4, 8], [4], [6, 8], [6], [8], []]\n"
     ]
    }
   ],
   "source": [
    "# Нахождение подмножеств - рекурсия\n",
    "a = [0, 2, 4, 6, 8]\n",
    "aln = len(a)\n",
    "subset = []\n",
    "subsets = []\n",
    "def search(k=0):\n",
    "    if k == aln:\n",
    "        subsets.append(subset[:])\n",
    "    else:\n",
    "        subset.append(a[k])\n",
    "        search(k+1)\n",
    "        subset.pop(-1)\n",
    "        search(k+1)\n",
    "\n",
    "search()\n",
    "print(subsets)"
   ]
  },
  {
   "cell_type": "code",
   "execution_count": 1,
   "id": "2f586c42",
   "metadata": {},
   "outputs": [
    {
     "name": "stdout",
     "output_type": "stream",
     "text": [
      "0b110010101\n",
      "\n",
      "[0]\n",
      "[2]\n",
      "[0, 2]\n",
      "[4]\n",
      "[0, 4]\n",
      "[2, 4]\n",
      "[0, 2, 4]\n",
      "[7]\n",
      "[0, 7]\n",
      "[2, 7]\n",
      "[0, 2, 7]\n",
      "[4, 7]\n",
      "[0, 4, 7]\n",
      "[2, 4, 7]\n",
      "[0, 2, 4, 7]\n",
      "[8]\n",
      "[0, 8]\n",
      "[2, 8]\n",
      "[0, 2, 8]\n",
      "[4, 8]\n",
      "[0, 4, 8]\n",
      "[2, 4, 8]\n",
      "[0, 2, 4, 8]\n",
      "[7, 8]\n",
      "[0, 7, 8]\n",
      "[2, 7, 8]\n",
      "[0, 2, 7, 8]\n",
      "[4, 7, 8]\n",
      "[0, 4, 7, 8]\n",
      "[2, 4, 7, 8]\n",
      "[0, 2, 4, 7, 8]\n",
      "[]\n"
     ]
    }
   ],
   "source": [
    "# Нахождение подмножеств (битовые операции)\n",
    "a = [0, 2, 4, 7, 8]\n",
    "x = 0\n",
    "for i in range(len(a)):\n",
    "    x |= (1 << a[i])\n",
    "print(f'{bin(x)}\\n')\n",
    "\n",
    "b = 0\n",
    "flag = True\n",
    "while flag:\n",
    "    tmp = []\n",
    "    b = (b-x) & x\n",
    "    \n",
    "    for i in range(32):\n",
    "        if (b & (1 << i)):\n",
    "            tmp.append(i) \n",
    "    print(tmp)\n",
    "    \n",
    "    if b == 0:\n",
    "        flag = False"
   ]
  },
  {
   "cell_type": "code",
   "execution_count": 5,
   "id": "f569d58d",
   "metadata": {},
   "outputs": [
    {
     "name": "stdout",
     "output_type": "stream",
     "text": [
      "[[1, 2, 3, 4], [1, 2, 4, 3], [1, 3, 2, 4], [1, 3, 4, 2], [1, 4, 2, 3], [1, 4, 3, 2], [2, 1, 3, 4], [2, 1, 4, 3], [2, 3, 1, 4], [2, 3, 4, 1], [2, 4, 1, 3], [2, 4, 3, 1], [3, 1, 2, 4], [3, 1, 4, 2], [3, 2, 1, 4], [3, 2, 4, 1], [3, 4, 1, 2], [3, 4, 2, 1], [4, 1, 2, 3], [4, 1, 3, 2], [4, 2, 1, 3], [4, 2, 3, 1], [4, 3, 1, 2], [4, 3, 2, 1]]\n"
     ]
    }
   ],
   "source": [
    "# Перестановка без повторений - рекурсия\n",
    "# Число перестановок (C = n!)\n",
    "a = [1, 2, 3, 4]\n",
    "aln = len(a)\n",
    "perm = []\n",
    "perms = []\n",
    "flags = [False]*aln\n",
    "def search():\n",
    "    if len(perm) == aln:\n",
    "        perms.append(perm[:])\n",
    "    else:\n",
    "        for i in range(aln):\n",
    "            if flags[i]: continue\n",
    "            flags[i] = True\n",
    "            perm.append(a[i])\n",
    "            search()\n",
    "            flags[i] = False\n",
    "            perm.pop(-1)\n",
    "\n",
    "search()\n",
    "print(perms)"
   ]
  },
  {
   "cell_type": "code",
   "execution_count": 18,
   "id": "ce10ce31",
   "metadata": {},
   "outputs": [
    {
     "name": "stdout",
     "output_type": "stream",
     "text": [
      "(3, [21, 21, 21])\n"
     ]
    }
   ],
   "source": [
    "# Подсчет минимального количества монет для размена суммы\n",
    "def cnt(coins, summa, coins_count, coins_used):\n",
    "    for x in range(summa+1):\n",
    "        tmp = x\n",
    "        new_coin = 1\n",
    "        for c in [c for c in coins if c <= x]:\n",
    "            if coins_count[x-c]+1 < tmp:\n",
    "                tmp = coins_count[x-c]+1\n",
    "                new_coin = c\n",
    "        coins_count[x] = tmp\n",
    "        coins_used[x] = new_coin\n",
    "\n",
    "    i = summa\n",
    "    res = []\n",
    "    while i > 0:\n",
    "        res.append(coins_used[i])\n",
    "        i -= coins_used[i]\n",
    "\n",
    "    return coins_count[summa], res   # вывод - мнимальное количество, список из номиналов монет\n",
    "\n",
    "\n",
    "coins = [1, 5, 10, 21, 25]   # номиналы монет\n",
    "summa = 63                   # сумма\n",
    "\n",
    "coins_used = [0] * (summa + 1)\n",
    "coins_count = [0] * (summa + 1)\n",
    "\n",
    "print(cnt(coins, summa, coins_count, coins_used))"
   ]
  },
  {
   "cell_type": "code",
   "execution_count": 18,
   "id": "637847d5",
   "metadata": {},
   "outputs": [
    {
     "name": "stdout",
     "output_type": "stream",
     "text": [
      "6\n",
      "7\n",
      "3\n",
      "5\n"
     ]
    }
   ],
   "source": [
    "# циклическая очередь (дни недели)\n",
    "rd = (1, 2, 3, 4, 5, 6, 7)\n",
    "n = 3\n",
    "c = 3\n",
    "print(rd[(c - 1 + n) % 7])\n",
    "print(rd[(c - 1 - n) % 7])\n",
    "c = 7\n",
    "print(rd[(c - 1 + n) % 7])\n",
    "c = 1\n",
    "print(rd[(c - 1 - n) % 7])"
   ]
  },
  {
   "cell_type": "code",
   "execution_count": 13,
   "id": "dcda5b9c",
   "metadata": {},
   "outputs": [
    {
     "name": "stdout",
     "output_type": "stream",
     "text": [
      "j\n",
      "d\n",
      "x\n",
      "c\n"
     ]
    }
   ],
   "source": [
    "# циклическая очередь\n",
    "a = 'abcdefghijklmnopqrstuvwxyz'\n",
    "len_seq = len(a)\n",
    "base = 'g'\n",
    "n = 3\n",
    "print(a[(a.index(base) + n) % len_seq])\n",
    "print(a[(a.index(base) - n) % len_seq])\n",
    "base_a = 'a'\n",
    "print(a[(a.index(base_a) - n) % len_seq])\n",
    "base_z = 'z'\n",
    "print(a[(a.index(base_z) + n) % len_seq])"
   ]
  },
  {
   "cell_type": "code",
   "execution_count": 109,
   "id": "6725f66b",
   "metadata": {},
   "outputs": [
    {
     "name": "stdout",
     "output_type": "stream",
     "text": [
      "2\n"
     ]
    }
   ],
   "source": [
    "# количество единиц в бинарном представлении числа\n",
    "n = 514   # число\n",
    "res = 0\n",
    "while n:\n",
    "    n &= n-1\n",
    "    res+=1\n",
    "print(res)"
   ]
  },
  {
   "cell_type": "code",
   "execution_count": 110,
   "id": "47fea0f2",
   "metadata": {},
   "outputs": [
    {
     "name": "stdout",
     "output_type": "stream",
     "text": [
      "12\n"
     ]
    }
   ],
   "source": [
    "# подсчет инверсий в массиве (в основе сортировка слиянием)\n",
    "def count_inv(seq):\n",
    "    len_seq = len(seq)\n",
    "    \n",
    "    if len_seq <= 1:\n",
    "        return 0\n",
    "    \n",
    "    mid = len_seq // 2\n",
    "    inv_count = 0\n",
    "\n",
    "    a = seq[:mid]\n",
    "    b = seq[mid:]\n",
    "    \n",
    "    inv_count += count_inv(a)\n",
    "    inv_count += count_inv(b)\n",
    "\n",
    "    i = j = k = 0\n",
    "\n",
    "    while i < len(a) and j < len(b):\n",
    "        if a[i] < b[j]:\n",
    "            seq[k] = a[i]\n",
    "            i += 1\n",
    "        else:\n",
    "            seq[k] = b[j]\n",
    "            j += 1\n",
    "            inv_count += len(a) - i\n",
    "\n",
    "        k += 1\n",
    "\n",
    "    while i < len(a):\n",
    "        seq[k] = a[i]\n",
    "        i += 1\n",
    "        k += 1\n",
    "\n",
    "    while j < len(b):\n",
    "        seq[k] = b[j]\n",
    "        j += 1\n",
    "        k += 1\n",
    "\n",
    "    return inv_count\n",
    "\n",
    "\n",
    "a = [6, 5, 4, 1, 2, 3]\n",
    "print(count_inv(a))"
   ]
  },
  {
   "cell_type": "code",
   "execution_count": 137,
   "id": "d8cc6158",
   "metadata": {},
   "outputs": [
    {
     "name": "stdout",
     "output_type": "stream",
     "text": [
      "2\n"
     ]
    }
   ],
   "source": [
    "# минимальное значение xor между двумя элементами в массиве\n",
    "def main(seq):\n",
    "    L = len(bin(max(seq))) - 1\n",
    "    trie_dct = {}\n",
    "\n",
    "    def insert(el):\n",
    "        cur = trie_dct\n",
    "        for bit in format(el, f'0{L}b'):\n",
    "            if bit not in cur:\n",
    "                cur[bit] = {}\n",
    "            cur = cur[bit]\n",
    "        cur['val'] = el\n",
    "\n",
    "\n",
    "    def best_match(el):\n",
    "        cur = trie_dct\n",
    "        for bit in format(el, f'0{L}b'):\n",
    "            rev = '0' if bit == '1' else '1'\n",
    "            if bit in cur:\n",
    "                cur = cur[bit]\n",
    "            else:\n",
    "                cur = cur[rev]\n",
    "        return cur['val']\n",
    "\n",
    "\n",
    "    insert(seq[0])\n",
    "    min_xor = seq[0] ^ seq[1]\n",
    "\n",
    "    for el in seq[1:]:\n",
    "        min_xor = min(min_xor, el ^ best_match(el))\n",
    "        insert(el)\n",
    "\n",
    "    return min_xor\n",
    "\n",
    "a = (2, 4, 6, 8)\n",
    "print(main(a))"
   ]
  },
  {
   "cell_type": "code",
   "execution_count": null,
   "id": "5fbaedf6",
   "metadata": {},
   "outputs": [],
   "source": [
    "# подсчет максимумов в скользящем окне (k - размер окна)\n",
    "# O(n)\n",
    "from collections import deque\n",
    "\n",
    "def findMax(seq, k):\n",
    "    res = []\n",
    "    ls = len(seq)\n",
    "    \n",
    "    if ls * k == 0:\n",
    "        return res\n",
    "    \n",
    "    # dq содержит индексы элементов\n",
    "    dq = deque()\n",
    "\n",
    "    # 0 .. 2\n",
    "    for i in range(k):\n",
    "        while dq and seq[k-1] >= seq[dq[-1]]:\n",
    "            dq.pop()\n",
    "        dq.append(i)\n",
    "        \n",
    "    # 3 ... (ls-1)\n",
    "    for i in range(k, ls):\n",
    "        res.append(seq[dq[0]])\n",
    "\n",
    "        while dq and dq[0] <= i-k:\n",
    "            dq.popleft()\n",
    "\n",
    "        while dq and seq[i] >= seq[dq[-1]]:\n",
    "            dq.pop()\n",
    "        \n",
    "        dq.append(i)\n",
    "    \n",
    "    res.append(seq[dq[0]])\n",
    "    return res"
   ]
  },
  {
   "cell_type": "code",
   "execution_count": 15,
   "id": "1b787033",
   "metadata": {},
   "outputs": [
    {
     "name": "stdout",
     "output_type": "stream",
     "text": [
      "10\n"
     ]
    }
   ],
   "source": [
    "# максимальная сумма подмассивов\n",
    "# O(n)\n",
    "nums = [-1, 2, 4, -3, 5, 2, -5, 2]\n",
    "\n",
    "def subar_max(a):\n",
    "    res = 0\n",
    "    tmp = 0\n",
    "    for i in range(len(a)):\n",
    "        tmp = max(a[i], tmp + a[i])\n",
    "        res = max(res, tmp)\n",
    "    return res\n",
    "\n",
    "\n",
    "print(subar_max(nums))"
   ]
  }
 ],
 "metadata": {
  "kernelspec": {
   "display_name": "Python 3 (ipykernel)",
   "language": "python",
   "name": "python3"
  },
  "language_info": {
   "codemirror_mode": {
    "name": "ipython",
    "version": 3
   },
   "file_extension": ".py",
   "mimetype": "text/x-python",
   "name": "python",
   "nbconvert_exporter": "python",
   "pygments_lexer": "ipython3",
   "version": "3.11.7"
  }
 },
 "nbformat": 4,
 "nbformat_minor": 5
}
