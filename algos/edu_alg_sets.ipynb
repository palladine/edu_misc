{
 "cells": [
  {
   "cell_type": "markdown",
   "metadata": {},
   "source": [
    "### Реализация множества"
   ]
  },
  {
   "cell_type": "code",
   "execution_count": 16,
   "metadata": {},
   "outputs": [
    {
     "name": "stdout",
     "output_type": "stream",
     "text": [
      "{100, 5, 8}\n",
      "{5, 8}\n"
     ]
    }
   ],
   "source": [
    "class MySet:\n",
    "    def __init__(self):\n",
    "        self.size = 10  # 1000 ! \n",
    "        self.set = [[] for _ in range(self.size)]\n",
    "\n",
    "    def get_idx(self, key):\n",
    "        return key % self.size\n",
    "    \n",
    "    def add(self, key):\n",
    "        idx = self.get_idx(key)\n",
    "        if key not in self.set[idx]:\n",
    "            self.set[idx].append(key)\n",
    "\n",
    "    def remove(self, key):\n",
    "        idx = self.get_idx(key)\n",
    "        if key in self.set[idx]:\n",
    "            self.set[idx].remove(key)\n",
    "\n",
    "    def __repr__(self) -> str:\n",
    "        res = []\n",
    "        for iset in self.set:\n",
    "            if iset:\n",
    "                for el in iset:\n",
    "                    res.append(str(el))\n",
    "\n",
    "        return f\"{{{', '.join(res)}}}\"\n",
    "\n",
    "##\n",
    "st = MySet()\n",
    "st.add(5)\n",
    "st.add(8)\n",
    "st.add(100)\n",
    "print(st)\n",
    "st.remove(100)\n",
    "print(st)"
   ]
  },
  {
   "cell_type": "markdown",
   "metadata": {},
   "source": [
    "### Алгоритмы на множество"
   ]
  },
  {
   "cell_type": "code",
   "execution_count": 4,
   "metadata": {},
   "outputs": [
    {
     "name": "stdout",
     "output_type": "stream",
     "text": [
      "[[1, 2, 3], [1, 2], [1, 3], [1], [2, 3], [2], [3], []]\n",
      "[[0, 2, 4, 6, 8], [0, 2, 4, 6], [0, 2, 4, 8], [0, 2, 4], [0, 2, 6, 8], [0, 2, 6], [0, 2, 8], [0, 2], [0, 4, 6, 8], [0, 4, 6], [0, 4, 8], [0, 4], [0, 6, 8], [0, 6], [0, 8], [0], [2, 4, 6, 8], [2, 4, 6], [2, 4, 8], [2, 4], [2, 6, 8], [2, 6], [2, 8], [2], [4, 6, 8], [4, 6], [4, 8], [4], [6, 8], [6], [8], []]\n"
     ]
    }
   ],
   "source": [
    "# Нахождение подмножеств - рекурсия\n",
    "def find_subsets(aset):\n",
    "    subset = []\n",
    "    subsets = []\n",
    "    def search(k=0):\n",
    "        if k == len(aset):\n",
    "            subsets.append(subset[:])\n",
    "        else:\n",
    "            subset.append(aset[k])\n",
    "            search(k+1)\n",
    "            subset.pop(-1)\n",
    "            search(k+1)\n",
    "    search()\n",
    "    return subsets\n",
    "\n",
    "# tests\n",
    "print(find_subsets([1, 2, 3]))\n",
    "print(find_subsets([0, 2, 4, 6, 8]))"
   ]
  },
  {
   "cell_type": "code",
   "execution_count": 9,
   "metadata": {},
   "outputs": [
    {
     "name": "stdout",
     "output_type": "stream",
     "text": [
      "[[1, 2, 3], [1, 3, 2], [2, 1, 3], [2, 3, 1], [3, 1, 2], [3, 2, 1]]\n",
      "[[56, 3, 45, 90], [56, 3, 90, 45], [56, 45, 3, 90], [56, 45, 90, 3], [56, 90, 3, 45], [56, 90, 45, 3], [3, 56, 45, 90], [3, 56, 90, 45], [3, 45, 56, 90], [3, 45, 90, 56], [3, 90, 56, 45], [3, 90, 45, 56], [45, 56, 3, 90], [45, 56, 90, 3], [45, 3, 56, 90], [45, 3, 90, 56], [45, 90, 56, 3], [45, 90, 3, 56], [90, 56, 3, 45], [90, 56, 45, 3], [90, 3, 56, 45], [90, 3, 45, 56], [90, 45, 56, 3], [90, 45, 3, 56]]\n"
     ]
    }
   ],
   "source": [
    "# все перестановки\n",
    "def find_permutations(aset):\n",
    "    permutation = []\n",
    "    permutations = []\n",
    "    chosen = []\n",
    "    def search():\n",
    "        if len(permutation) == len(aset):\n",
    "            permutations.append(permutation[:])\n",
    "        else:\n",
    "            for el in aset:\n",
    "                if el not in chosen:\n",
    "                    chosen.append(el)\n",
    "                    permutation.append(el)\n",
    "                    search()\n",
    "                    chosen.pop(-1)\n",
    "                    permutation.pop(-1)\n",
    "    search()\n",
    "    return permutations\n",
    "\n",
    "# tests\n",
    "print(find_permutations([1, 2, 3]))\n",
    "print(find_permutations([56, 3, 45, 90]))"
   ]
  },
  {
   "cell_type": "code",
   "execution_count": 1,
   "metadata": {},
   "outputs": [
    {
     "name": "stdout",
     "output_type": "stream",
     "text": [
      "0b10101\n",
      "\n",
      "[[0], [2], [0, 2], [4], [0, 4], [2, 4], [0, 2, 4], []]\n"
     ]
    }
   ],
   "source": [
    "# Нахождение подмножеств (битовые операции)\n",
    "a = [0, 2, 4]\n",
    "x = 0\n",
    "for i in range(len(a)):\n",
    "    x |= (1 << a[i])\n",
    "print(f'{bin(x)}\\n')\n",
    "\n",
    "b = 0\n",
    "flag = True\n",
    "subsets = []\n",
    "while flag:\n",
    "    b = (b-x) & x\n",
    "    subset = []\n",
    "    for i in range(32):\n",
    "        if (b & (1 << i)):\n",
    "            subset.append(i) \n",
    "    subsets.append(subset)\n",
    "    if b == 0:\n",
    "        flag = False\n",
    "    \n",
    "print(subsets)"
   ]
  }
 ],
 "metadata": {
  "kernelspec": {
   "display_name": "base",
   "language": "python",
   "name": "python3"
  },
  "language_info": {
   "codemirror_mode": {
    "name": "ipython",
    "version": 3
   },
   "file_extension": ".py",
   "mimetype": "text/x-python",
   "name": "python",
   "nbconvert_exporter": "python",
   "pygments_lexer": "ipython3",
   "version": "3.11.7"
  }
 },
 "nbformat": 4,
 "nbformat_minor": 2
}
