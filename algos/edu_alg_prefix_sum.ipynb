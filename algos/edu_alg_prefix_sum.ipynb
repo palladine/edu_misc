{
 "cells": [
  {
   "cell_type": "markdown",
   "metadata": {},
   "source": [
    "Реализация RSQ через префексные суммы (поиск суммы элементов интервала [l...r) )  \n",
    "O(n)"
   ]
  },
  {
   "cell_type": "code",
   "execution_count": 1,
   "metadata": {},
   "outputs": [
    {
     "name": "stdout",
     "output_type": "stream",
     "text": [
      "[0, 5, 12, 35, 39, 40, 40, 48, 104, 111, 132, 139]\n",
      "9\n"
     ]
    }
   ],
   "source": [
    "def prefsum(seq):\n",
    "    prefixsum = [0] * (len(seq) + 1)\n",
    "    for i in range(1, len(seq) + 1):\n",
    "        prefixsum[i] = prefixsum[i-1] + seq[i-1]\n",
    "    return prefixsum\n",
    "\n",
    "def rsq(prefixsum, l ,r):\n",
    "    return prefixsum[r] - prefixsum[l]\n",
    "\n",
    "\n",
    "# tests\n",
    "ps = prefsum([5, 7, 23, 4, 1, 0, 8, 56, 7, 21, 7])\n",
    "print(ps)\n",
    "print(rsq(ps, 4, 7))"
   ]
  },
  {
   "cell_type": "code",
   "execution_count": null,
   "metadata": {},
   "outputs": [],
   "source": [
    "def main(arr):\n",
    "    res = [0]\n",
    "\n",
    "    for i in range(len(arr)):\n",
    "        res.append(res[i] + arr[i])\n",
    "\n",
    "    return res\n",
    "\n",
    "def calc(arr, a, b):\n",
    "    return arr[b] - arr[a-1]"
   ]
  }
 ],
 "metadata": {
  "kernelspec": {
   "display_name": "base",
   "language": "python",
   "name": "python3"
  },
  "language_info": {
   "codemirror_mode": {
    "name": "ipython",
    "version": 3
   },
   "file_extension": ".py",
   "mimetype": "text/x-python",
   "name": "python",
   "nbconvert_exporter": "python",
   "pygments_lexer": "ipython3",
   "version": "3.11.7"
  }
 },
 "nbformat": 4,
 "nbformat_minor": 2
}
