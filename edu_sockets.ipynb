{
 "cells": [
  {
   "cell_type": "markdown",
   "id": "92884e4a",
   "metadata": {},
   "source": [
    "### Sockets"
   ]
  },
  {
   "cell_type": "markdown",
   "id": "89ca689a",
   "metadata": {},
   "source": [
    "> Существуют клиентские и серверные сокеты. Серверный сокет прослушивает определенный порт, а клиентский подключается к серверу через этот порт.  \n",
    "> После того, как было установлено соединение начинается обмен данными."
   ]
  },
  {
   "cell_type": "markdown",
   "id": "b8bece53",
   "metadata": {},
   "source": [
    "Single connection"
   ]
  },
  {
   "cell_type": "code",
   "execution_count": null,
   "id": "cc7dd550",
   "metadata": {},
   "outputs": [],
   "source": [
    "import socket"
   ]
  },
  {
   "cell_type": "code",
   "execution_count": null,
   "id": "2e1c821b",
   "metadata": {},
   "outputs": [],
   "source": [
    "# сервер\n",
    "with socket.socket(socket.AF_INET, socket.SOCK_STREAM) as serv:\n",
    "    serv.bind(('localhost', 5151))\n",
    "    serv.listen()\n",
    "    \n",
    "    print(f'Start server to listen ...')\n",
    "    conn, addr_client = serv.accept()\n",
    "    \n",
    "    with conn:\n",
    "        print(f'Connected to client [{addr_client}]')\n",
    "        \n",
    "        datas = ''\n",
    "        while True:\n",
    "            data = conn.recv(1024)\n",
    "\n",
    "            if not data:\n",
    "                break\n",
    "            \n",
    "            for enc in ('utf-8', 'windows-1251', 'cp1252'):\n",
    "                try:\n",
    "                    data = data.decode(encoding=enc)\n",
    "                    datas += data\n",
    "                    conn.sendall(f'Server received data'.encode(encoding='utf-8'))\n",
    "                    break\n",
    "                except UnicodeDecodeError:\n",
    "                    continue\n",
    "\n",
    "    print(f'Disconnect client [{addr_client}]')"
   ]
  },
  {
   "cell_type": "code",
   "execution_count": null,
   "id": "c433b5c5",
   "metadata": {},
   "outputs": [],
   "source": [
    "# клиент\n",
    "with socket.socket(socket.AF_INET, socket.SOCK_STREAM) as s:\n",
    "    s.connect(('localhost', 5151))\n",
    "    \n",
    "    while True:\n",
    "        msg = input('Enter the command [\"exit\" to quit]: ')\n",
    "        if msg.lower() != 'exit':\n",
    "            s.sendall(f'{msg}'.encode(encoding='utf-8'))\n",
    "            data = s.recv(1024).decode(encoding='utf-8')\n",
    "            print(f\"Received from server: {data}\")\n",
    "        else:\n",
    "            s.close()\n",
    "            break        \n",
    "    print('Connection closed')"
   ]
  },
  {
   "cell_type": "markdown",
   "id": "b8a44dc5",
   "metadata": {},
   "source": [
    "asyncio"
   ]
  },
  {
   "cell_type": "code",
   "execution_count": null,
   "id": "efbb3ad8",
   "metadata": {},
   "outputs": [],
   "source": [
    "# сервер\n",
    "import asyncio\n",
    "\n",
    "async def handle_client(client, addr_client):\n",
    "    loop = asyncio.get_event_loop()\n",
    "    request = None\n",
    "    print(f'Connected to client [{addr_client}]')\n",
    "    while request != 'exit':\n",
    "        request = (await loop.sock_recv(client, 1024)).decode('utf-8')\n",
    "        response = f'Server received data\\n'\n",
    "        await loop.sock_sendall(client, response.encode('utf-8'))\n",
    "    client.close()\n",
    "\n",
    "\n",
    "async def run_server():\n",
    "    server = socket.socket(socket.AF_INET, socket.SOCK_STREAM)\n",
    "    server.bind(('localhost', 5151))\n",
    "    server.listen(5)\n",
    "    server.setblocking(False)\n",
    "    loop = asyncio.get_event_loop()\n",
    "    while True:\n",
    "        client, addr_client = await loop.sock_accept(server)\n",
    "        loop.create_task(handle_client(client, addr_client))\n",
    "\n",
    "asyncio.run(run_server())"
   ]
  },
  {
   "cell_type": "markdown",
   "id": "41f892cf",
   "metadata": {},
   "source": []
  }
 ],
 "metadata": {
  "language_info": {
   "name": "python"
  }
 },
 "nbformat": 4,
 "nbformat_minor": 5
}
