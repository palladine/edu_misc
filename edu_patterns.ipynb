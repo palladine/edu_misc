{
 "cells": [
  {
   "cell_type": "markdown",
   "id": "0323b85f",
   "metadata": {},
   "source": [
    "### Singleton"
   ]
  },
  {
   "cell_type": "markdown",
   "id": "9f19e1fc",
   "metadata": {},
   "source": [
    "> Это метод проектирования при котором мы можем иметь только 1 экземпляр некоторого класса. Повторное создание класса возвращает ссылку на один и тот же экземпляр."
   ]
  },
  {
   "cell_type": "code",
   "execution_count": null,
   "id": "8ed8241f",
   "metadata": {},
   "outputs": [],
   "source": [
    "class Singleton:\n",
    "    _instance = None\n",
    "    def __new__(cls, *args, **kwargs):\n",
    "        if cls._instance is None:\n",
    "            print(\"Создаю экземпляр\")\n",
    "            cls._instance = super().__new__(cls)\n",
    "        return cls._instance\n",
    "\n",
    "a = Singleton()\n",
    "b = Singleton()\n",
    "print(a is b)  # True"
   ]
  },
  {
   "cell_type": "code",
   "execution_count": null,
   "id": "88dff030",
   "metadata": {},
   "outputs": [],
   "source": [
    "# через метакласс\n",
    "class SingletonMeta(type):\n",
    "    _instances = {}\n",
    "    def __call__(cls, *args, **kwargs):\n",
    "        if cls not in cls._instances:\n",
    "            cls._instances[cls] = super().__call__(*args, **kwargs)\n",
    "        return cls._instances[cls]\n",
    "\n",
    "class Logger(metaclass=SingletonMeta):\n",
    "    pass\n",
    "\n",
    "log1 = Logger()\n",
    "log2 = Logger()\n",
    "print(log1 is log2)  # True"
   ]
  }
 ],
 "metadata": {
  "language_info": {
   "name": "python"
  }
 },
 "nbformat": 4,
 "nbformat_minor": 5
}
