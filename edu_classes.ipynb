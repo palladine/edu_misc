{
 "cells": [
  {
   "cell_type": "markdown",
   "id": "db18a39c",
   "metadata": {},
   "source": [
    "> *Классы представляют из себя фабрики для генерирования множества объектов экземпляров.*"
   ]
  },
  {
   "cell_type": "markdown",
   "id": "d208a1d3",
   "metadata": {},
   "source": [
    "> *Экземпляр класса передается методу в особом первом аргументе, который по соглашению называется **self**. Методы принимают этот аргумент для обработки объекта, на котором произведен вызов. Методы можно вызывать либо через экземпляр, либо через класс, и обе формы служат своим целям в сценариях.*"
   ]
  },
  {
   "cell_type": "code",
   "execution_count": null,
   "id": "4bd62caf",
   "metadata": {},
   "outputs": [],
   "source": [
    "class Base:\n",
    "    def __init__(self):\n",
    "        ...\n",
    "        \n",
    "    def some_method(self, val):\n",
    "        ...\n",
    "        \n",
    "a = Base()\n",
    "#1\n",
    "a.some_method(val)\n",
    "#2\n",
    "Base.some_method(a, val)"
   ]
  },
  {
   "cell_type": "markdown",
   "id": "4098b005",
   "metadata": {},
   "source": [
    "> *Присваивания внутри операторов **class** создают атрибуты классов. Как и в файлах модулей, присваивания на верхнем уровне внутри оператора **class** (не вложенные в def) генерируют атрибуты в объекте класса. После выполнения оператора **class** атрибуты класса доступны посредством уточнения с помощью имени: **объект.имя**.*"
   ]
  },
  {
   "cell_type": "markdown",
   "id": "d5fc03be",
   "metadata": {},
   "source": [
    "> *Каждый объект экземпляра наследует атрибуты класса и суперкласса и получает собственное пространство имен.*"
   ]
  },
  {
   "cell_type": "code",
   "execution_count": 1,
   "id": "0ddaea95",
   "metadata": {},
   "outputs": [
    {
     "name": "stdout",
     "output_type": "stream",
     "text": [
      "5\n",
      "7\n"
     ]
    }
   ],
   "source": [
    "class class_A:\n",
    "    count = 5\n",
    "    \n",
    "    def __init__(self):\n",
    "        ...\n",
    "\n",
    "    def count_up(self, val):\n",
    "        self.count+=val\n",
    "\n",
    "a = class_A()\n",
    "print(a.count)\n",
    "b = class_A()\n",
    "b.count_up(2)\n",
    "print(b.count)"
   ]
  },
  {
   "cell_type": "code",
   "execution_count": 2,
   "id": "209f8771",
   "metadata": {},
   "outputs": [
    {
     "name": "stdout",
     "output_type": "stream",
     "text": [
      "8\n"
     ]
    }
   ],
   "source": [
    "class class_B(class_A):\n",
    "    def __init__(self):\n",
    "        ...\n",
    "        \n",
    "c = class_B()\n",
    "c.count_up(3)\n",
    "print(c.count)"
   ]
  },
  {
   "cell_type": "markdown",
   "id": "1e4bd6c3",
   "metadata": {},
   "source": [
    "### Класс как структура."
   ]
  },
  {
   "cell_type": "code",
   "execution_count": 3,
   "id": "62698154",
   "metadata": {},
   "outputs": [
    {
     "name": "stdout",
     "output_type": "stream",
     "text": [
      "Maks 18\n",
      "John 21\n"
     ]
    }
   ],
   "source": [
    "class rec: pass    # Объявление пустого класса - фабрика структур\n",
    "\n",
    "pers1 = rec()\n",
    "pers1.name = 'Maks'\n",
    "pers1.age = 18\n",
    "\n",
    "pers2 = rec()\n",
    "pers2.name = 'John'\n",
    "pers2.age = 21\n",
    "\n",
    "print(pers1.name, pers1.age)\n",
    "print(pers2.name, pers2.age)"
   ]
  },
  {
   "cell_type": "markdown",
   "id": "4fb58e81",
   "metadata": {},
   "source": [
    "> *Для упрощения поиска в иерархии наследования при извлечении атрибутов каждый экземпляр имеет связь со своим классом, которую создает Python — она называется **\\_\\_class\\_\\_** и ее можно просмотреть. Классы также располагают атрибутом **\\_\\_bases\\_\\_**, который является кортежем ссылок на их объекты суперклассов.*"
   ]
  },
  {
   "cell_type": "code",
   "execution_count": 4,
   "id": "884ce004",
   "metadata": {},
   "outputs": [
    {
     "name": "stdout",
     "output_type": "stream",
     "text": [
      "<class '__main__.Base'>\n",
      "(<class 'object'>,)\n"
     ]
    }
   ],
   "source": [
    "class Base:\n",
    "    pass\n",
    "\n",
    "a = Base()\n",
    "print(a.__class__)\n",
    "print(Base.__bases__)"
   ]
  },
  {
   "cell_type": "markdown",
   "id": "e3da2f06",
   "metadata": {},
   "source": [
    "> *Для извлечения аттрибутов класса или экземпляра можно воспользоваться **\\_\\_dict\\_\\_**. Унаследованные атрибуты класса присоединяются только к классу, они не копируются в экземпляры. Функция **dir()** отображает также и унаследованные аттрибуты объекта.*"
   ]
  },
  {
   "cell_type": "code",
   "execution_count": 5,
   "id": "9e8af4d0",
   "metadata": {},
   "outputs": [
    {
     "name": "stdout",
     "output_type": "stream",
     "text": [
      "{'__module__': '__main__', 'countA': 0, '__dict__': <attribute '__dict__' of 'class_A' objects>, '__weakref__': <attribute '__weakref__' of 'class_A' objects>, '__doc__': None}\n",
      "{'count_ex': 7}\n",
      "['__class__', '__delattr__', '__dict__', '__dir__', '__doc__', '__eq__', '__format__', '__ge__', '__getattribute__', '__gt__', '__hash__', '__init__', '__init_subclass__', '__le__', '__lt__', '__module__', '__ne__', '__new__', '__reduce__', '__reduce_ex__', '__repr__', '__setattr__', '__sizeof__', '__str__', '__subclasshook__', '__weakref__', 'countA', 'count_ex']\n"
     ]
    }
   ],
   "source": [
    "class class_A:\n",
    "    countA = 0\n",
    "    ...\n",
    "    \n",
    "a = class_A()\n",
    "a.count_ex = 7\n",
    "\n",
    "print(class_A.__dict__)\n",
    "print(a.__dict__)\n",
    "# но \n",
    "print(dir(a)) "
   ]
  },
  {
   "cell_type": "markdown",
   "id": "b30493f6",
   "metadata": {},
   "source": [
    "### \\_\\_str\\_\\_ и \\_\\_repr\\_\\_"
   ]
  },
  {
   "cell_type": "markdown",
   "id": "0b7913af",
   "metadata": {},
   "source": [
    "> *__\\_\\_str\\_\\_()__ метод возвращает строковое представление объекта. Этот метод вызывается, когда для объекта вызывается функция print() или str(). Если мы не реализуем функцию **\\_\\_str\\_\\_()** для класса, тогда используется встроенная реализация объекта, которая фактически вызывает функцию **\\_\\_repr\\_\\_()**.*\n",
    ">\n",
    "> *__\\_\\_repr\\_\\_()__ метод возвращает представление объекта. Этот метод вызывается, когда для объекта используется функция repr(), в этом случае функция **\\_\\_repr\\_\\_()** должна возвращать String, иначе будет выдана ошибка.*\n",
    ">\n",
    "> *Если реализация **\\_\\_str\\_\\_** отсутствует, то функция **\\_\\_repr\\_\\_** используется как резерв.*\n",
    ">\n",
    "> *То есть **\\_\\_repr\\_\\_** используется везде, исключая print и str, когда метод **\\_\\_str\\_\\_** определен. Это означает, что вы можете реализовать метод **\\_\\_repr\\_\\_** для определения единственного формата отображения, применяемого повсюду, и метод **\\_\\_str\\_\\_** либо для поддержки единственно print и str, либо чтобы предоставить для них альтернативное отображение.*\n",
    ">\n",
    "> *В зависимости от логики преобразования в строки дружественное к пользователю отображение **\\_\\_str\\_\\_** может применяться, только когда объекты находятся на верхнем уровне операции print; объекты, вложенные внутрь более крупных объектов, могут по-прежнему выводиться посредством **\\_\\_repr\\_\\_** либо их стандартных методов.*"
   ]
  },
  {
   "cell_type": "code",
   "execution_count": 6,
   "id": "505c2cb3",
   "metadata": {
    "scrolled": true
   },
   "outputs": [
    {
     "name": "stdout",
     "output_type": "stream",
     "text": [
      "str_IPAdress(10.0.0.1)\n",
      "str_IPAdress(10.0.0.1)\n",
      "str_IPAdress(10.0.0.1)\n",
      "{'name': self.name, 'ip': self.ip}\n",
      "<class 'str'>\n",
      "{'name': self.name, 'ip': self.ip}\n",
      "[{'name': self.name, 'ip': self.ip}, <__main__.IP_Adress_2 object at 0x0000016E807EFF10>]\n"
     ]
    }
   ],
   "source": [
    "class IP_Adress:\n",
    "    def __init__(self, ip):\n",
    "        self.ip = ip\n",
    "        self.name = 'IP_Address'\n",
    "        \n",
    "    def __str__(self):\n",
    "        return f'str_IPAdress({self.ip})'\n",
    "    \n",
    "    def __repr__(self):\n",
    "        return \"{'name': self.name, 'ip': self.ip}\"\n",
    "    \n",
    "p = IP_Adress('10.0.0.1')\n",
    "\n",
    "# __str__() example\n",
    "print(p)\n",
    "print(p.__str__())\n",
    "print(str(p)) \n",
    "\n",
    "# __repr__() example\n",
    "print(p.__repr__())\n",
    "print(type(p.__repr__()))\n",
    "print(repr(p))\n",
    "\n",
    "\n",
    "# но!\n",
    "class IP_Adress_2:\n",
    "    def __init__(self, ip):\n",
    "        self.ip = ip\n",
    "        self.name = 'IP_Address'\n",
    "        \n",
    "    def __str__(self):\n",
    "        return f'str_IPAdress({self.ip})'\n",
    "\n",
    "# уровни отображения, у второго класса не определен метод repr, поэтому выполняется метод str, \n",
    "# который не может на низких уровнях\n",
    "objs = [IP_Adress('10.0.0.2'), IP_Adress_2('10.0.0.3')]\n",
    "print(objs)"
   ]
  },
  {
   "cell_type": "markdown",
   "id": "0e7e8a5e",
   "metadata": {},
   "source": [
    "> *Расширение (настройка) методов суперкласса в дочернем классе. На стадии конструирования Python ищет и вызывает только один метод **\\_\\_init\\_\\_**. Если конструкторам подклассов нужна гарантия того, что также выполняется логика стадии конструирования суперкласса, тогда в общем случае они обязаны явно вызывать метод **\\_\\_init\\_\\_** суперкласса через класс. Класс **class\\_B** замещает методы **\\_\\_init\\_\\_** и calculate суперкласса **class\\_A** собственной специализированной версией, а внутри самого замещения **class\\_B** обращается к версии, экспортируемой класса **class\\_A**, чтобы обеспечить выполнение стандартного поведения.*"
   ]
  },
  {
   "cell_type": "code",
   "execution_count": 7,
   "id": "4ce7e630",
   "metadata": {},
   "outputs": [
    {
     "name": "stdout",
     "output_type": "stream",
     "text": [
      "12.0\n",
      "108.0\n"
     ]
    }
   ],
   "source": [
    "class class_A:\n",
    "    def __init__(self, var):\n",
    "        self.var = var\n",
    "    \n",
    "    def calculate(self, koef):\n",
    "        return self.var*koef\n",
    "    \n",
    "class class_B(class_A):\n",
    "    def __init__(self):\n",
    "        class_A.__init__(self, var=45)     #  Вызов метода через класс\n",
    "    \n",
    "    def calculate(self, koef, alpha):\n",
    "        return class_A.calculate(self, koef*alpha)\n",
    "        \n",
    "\n",
    "a = class_A(10)\n",
    "print(a.calculate(1.2))\n",
    "\n",
    "b = class_B()\n",
    "print(b.calculate(1.2, 2))"
   ]
  },
  {
   "cell_type": "markdown",
   "id": "0451bbcc",
   "metadata": {},
   "source": [
    "> *Расширение дочернего класса новым методом.*"
   ]
  },
  {
   "cell_type": "code",
   "execution_count": 8,
   "id": "edcd1252",
   "metadata": {},
   "outputs": [
    {
     "name": "stdout",
     "output_type": "stream",
     "text": [
      "5.0\n"
     ]
    },
    {
     "ename": "AttributeError",
     "evalue": "'class_A' object has no attribute 'some_new_method'",
     "output_type": "error",
     "traceback": [
      "\u001b[1;31m---------------------------------------------------------------------------\u001b[0m",
      "\u001b[1;31mAttributeError\u001b[0m                            Traceback (most recent call last)",
      "\u001b[1;32m~\\AppData\\Local\\Temp\\ipykernel_14980\\1411520411.py\u001b[0m in \u001b[0;36m<module>\u001b[1;34m\u001b[0m\n\u001b[0;32m     14\u001b[0m \u001b[1;33m\u001b[0m\u001b[0m\n\u001b[0;32m     15\u001b[0m \u001b[0ma\u001b[0m \u001b[1;33m=\u001b[0m \u001b[0mclass_A\u001b[0m\u001b[1;33m(\u001b[0m\u001b[1;36m20\u001b[0m\u001b[1;33m)\u001b[0m\u001b[1;33m\u001b[0m\u001b[1;33m\u001b[0m\u001b[0m\n\u001b[1;32m---> 16\u001b[1;33m \u001b[0mprint\u001b[0m\u001b[1;33m(\u001b[0m\u001b[0ma\u001b[0m\u001b[1;33m.\u001b[0m\u001b[0msome_new_method\u001b[0m\u001b[1;33m(\u001b[0m\u001b[1;36m2\u001b[0m\u001b[1;33m)\u001b[0m\u001b[1;33m)\u001b[0m  \u001b[1;31m# AttributeError: 'class_A' object has no attribute 'some_new_method'\u001b[0m\u001b[1;33m\u001b[0m\u001b[1;33m\u001b[0m\u001b[0m\n\u001b[0m",
      "\u001b[1;31mAttributeError\u001b[0m: 'class_A' object has no attribute 'some_new_method'"
     ]
    }
   ],
   "source": [
    "class class_A:\n",
    "    def __init__(self, var):\n",
    "        self.var = var\n",
    "    \n",
    "    def calculate(self, koef):\n",
    "        return self.var*koef\n",
    "    \n",
    "class class_B(class_A):\n",
    "    def some_new_method(self, div):\n",
    "        return self.var / div\n",
    "    \n",
    "b = class_B(10)\n",
    "print(b.some_new_method(2))\n",
    "\n",
    "a = class_A(20)\n",
    "print(a.some_new_method(2))  # AttributeError: 'class_A' object has no attribute 'some_new_method'"
   ]
  },
  {
   "cell_type": "markdown",
   "id": "1fbe6d05",
   "metadata": {},
   "source": [
    "> *Замещение метода суперкласса в дочернем классе.*"
   ]
  },
  {
   "cell_type": "code",
   "execution_count": 9,
   "id": "9c0d7da0",
   "metadata": {},
   "outputs": [
    {
     "name": "stdout",
     "output_type": "stream",
     "text": [
      "5\n",
      "7\n"
     ]
    },
    {
     "ename": "AttributeError",
     "evalue": "'class_B' object has no attribute 'var'",
     "output_type": "error",
     "traceback": [
      "\u001b[1;31m---------------------------------------------------------------------------\u001b[0m",
      "\u001b[1;31mAttributeError\u001b[0m                            Traceback (most recent call last)",
      "\u001b[1;32m~\\AppData\\Local\\Temp\\ipykernel_14980\\4052453546.py\u001b[0m in \u001b[0;36m<module>\u001b[1;34m\u001b[0m\n\u001b[0;32m     12\u001b[0m \u001b[0mprint\u001b[0m\u001b[1;33m(\u001b[0m\u001b[0mb\u001b[0m\u001b[1;33m.\u001b[0m\u001b[0mvar2\u001b[0m\u001b[1;33m)\u001b[0m\u001b[1;33m\u001b[0m\u001b[1;33m\u001b[0m\u001b[0m\n\u001b[0;32m     13\u001b[0m \u001b[1;31m# но\u001b[0m\u001b[1;33m\u001b[0m\u001b[1;33m\u001b[0m\u001b[0m\n\u001b[1;32m---> 14\u001b[1;33m \u001b[0mprint\u001b[0m\u001b[1;33m(\u001b[0m\u001b[0mb\u001b[0m\u001b[1;33m.\u001b[0m\u001b[0mvar\u001b[0m\u001b[1;33m)\u001b[0m   \u001b[1;31m# AttributeError: 'class_B' object has no attribute 'var'\u001b[0m\u001b[1;33m\u001b[0m\u001b[1;33m\u001b[0m\u001b[0m\n\u001b[0m",
      "\u001b[1;31mAttributeError\u001b[0m: 'class_B' object has no attribute 'var'"
     ]
    }
   ],
   "source": [
    "class class_A:\n",
    "    def __init__(self, var):\n",
    "        self.var = var\n",
    "    \n",
    "class class_B(class_A):\n",
    "    def __init__(self, var1, var2):\n",
    "        self.var1 = var1\n",
    "        self.var2 = var2\n",
    "\n",
    "b = class_B(5, 7)\n",
    "print(b.var1)\n",
    "print(b.var2)\n",
    "# но\n",
    "print(b.var)   # AttributeError: 'class_B' object has no attribute 'var'"
   ]
  },
  {
   "cell_type": "markdown",
   "id": "dfea3f18",
   "metadata": {},
   "source": [
    "### Внедрение объекта класса в другой класс (комбинирование, делегирование). "
   ]
  },
  {
   "cell_type": "markdown",
   "id": "2d62c708",
   "metadata": {},
   "source": [
    "> *Делегирование — структура на основе составного объекта, которая управляет внедренным объектом и передает ему вызовы методов.*\n",
    ">\n",
    "> *В известном смысле делегирование является особой формой композиции с единственным внедренным объектом, управляемым классом оболочки (иногда называемого промежуточным классом), который предохраняет большую часть или весь интерфейс внедренного объекта. Понятие промежуточных классов временами применяется и к другим механизмам, таким как вызовы функций; при делегировании нас интересуют промежуточные классы для всех линий поведения объекта, включая вызовы методов и прочие операции.*"
   ]
  },
  {
   "cell_type": "code",
   "execution_count": 10,
   "id": "a982564c",
   "metadata": {},
   "outputs": [],
   "source": [
    "class class_A:\n",
    "    def __init__(self, var):\n",
    "        self.var = var\n",
    "        \n",
    "    def calculate(self, koef):\n",
    "        return self.var * koef\n",
    "    \n",
    "    \n",
    "class class_B:\n",
    "    def __init__(self, var):\n",
    "        self.classa = class_A(var)             # внедрение объекта\n",
    "        \n",
    "    def calculate(self, koef):\n",
    "        return self.classa.calculate(koef)    # перехват и делегирование\n",
    "    \n",
    "    def __getattr__(self, attr):\n",
    "        return getattr(self.classa, attr)     # делегирование всех остальных аттрибутов внедряемого объекта"
   ]
  },
  {
   "cell_type": "code",
   "execution_count": null,
   "id": "bce555cb",
   "metadata": {},
   "outputs": [],
   "source": [
    "class Wrapper:\n",
    "    def __init__ (self, object):\n",
    "        self.wrapped = object                    # Сохранить объект\n",
    "    def __getattr__ (self, attrname):\n",
    "        return getattr(self.wrapped, attrname)   # Делегировать извлечение"
   ]
  },
  {
   "cell_type": "markdown",
   "id": "8edc75a8",
   "metadata": {},
   "source": [
    "### Композиция."
   ]
  },
  {
   "cell_type": "markdown",
   "id": "a1e1b2db",
   "metadata": {},
   "source": [
    "> *Композиция затрагивает внедрение других объектов в объект контейнера и их активизацию для реализации методов контейнера.*"
   ]
  },
  {
   "cell_type": "code",
   "execution_count": 11,
   "id": "a04f37c5",
   "metadata": {},
   "outputs": [
    {
     "name": "stdout",
     "output_type": "stream",
     "text": [
      "Maks make an order to seller Jack\n",
      "Jack works ...\n",
      "Maks pay an order to seller Jack\n"
     ]
    }
   ],
   "source": [
    "class Seller:\n",
    "    def __init__(self, name):\n",
    "        self.name = name\n",
    "    def work(self):\n",
    "        print(f'{self.name} works ...')\n",
    "\n",
    "    \n",
    "class Customer:\n",
    "    def __init__(self, name):\n",
    "        self.name = name\n",
    "    \n",
    "    def order(self, seller):\n",
    "        print(f'{self.name} make an order to seller {seller.name}')\n",
    "    \n",
    "    def pay(self, seller):\n",
    "        print(f'{self.name} pay an order to seller {seller.name}')\n",
    "\n",
    "    \n",
    "class Shop: # класс Shop является контейнером\n",
    "    def __init__ (self) :\n",
    "        self.seller = Seller('Jack')        # внедрение объекта продавца, у магазина он один !\n",
    "        \n",
    "    def order(self, name):\n",
    "        customer = Customer(name)           # внедрение объекта покупателя, для каждого заказа отдельный покупатель\n",
    "        customer.order(self.seller)\n",
    "        self.seller.work()\n",
    "        customer.pay(self.seller)\n",
    "\n",
    "        \n",
    "new_shop = Shop()\n",
    "new_shop.order('Maks')"
   ]
  },
  {
   "cell_type": "markdown",
   "id": "dd54636d",
   "metadata": {},
   "source": [
    "### Методика Provider."
   ]
  },
  {
   "cell_type": "code",
   "execution_count": 12,
   "id": "c0a6c463",
   "metadata": {},
   "outputs": [
    {
     "name": "stdout",
     "output_type": "stream",
     "text": [
      "Instance class B. Method Action().\n"
     ]
    },
    {
     "ename": "NotImplementedError",
     "evalue": "action must be defined!",
     "output_type": "error",
     "traceback": [
      "\u001b[1;31m---------------------------------------------------------------------------\u001b[0m",
      "\u001b[1;31mNotImplementedError\u001b[0m                       Traceback (most recent call last)",
      "\u001b[1;32m~\\AppData\\Local\\Temp\\ipykernel_14980\\1328633034.py\u001b[0m in \u001b[0;36m<module>\u001b[1;34m\u001b[0m\n\u001b[0;32m     19\u001b[0m \u001b[1;31m# но\u001b[0m\u001b[1;33m\u001b[0m\u001b[1;33m\u001b[0m\u001b[0m\n\u001b[0;32m     20\u001b[0m \u001b[0ma\u001b[0m \u001b[1;33m=\u001b[0m \u001b[0mclass_A\u001b[0m\u001b[1;33m(\u001b[0m\u001b[1;33m)\u001b[0m\u001b[1;33m\u001b[0m\u001b[1;33m\u001b[0m\u001b[0m\n\u001b[1;32m---> 21\u001b[1;33m \u001b[0ma\u001b[0m\u001b[1;33m.\u001b[0m\u001b[0mdelegate\u001b[0m\u001b[1;33m(\u001b[0m\u001b[1;33m)\u001b[0m   \u001b[1;31m# NotImplementedError: action must be defined!\u001b[0m\u001b[1;33m\u001b[0m\u001b[1;33m\u001b[0m\u001b[0m\n\u001b[0m",
      "\u001b[1;32m~\\AppData\\Local\\Temp\\ipykernel_14980\\1328633034.py\u001b[0m in \u001b[0;36mdelegate\u001b[1;34m(self)\u001b[0m\n\u001b[0;32m      7\u001b[0m \u001b[1;33m\u001b[0m\u001b[0m\n\u001b[0;32m      8\u001b[0m     \u001b[1;32mdef\u001b[0m \u001b[0mdelegate\u001b[0m\u001b[1;33m(\u001b[0m\u001b[0mself\u001b[0m\u001b[1;33m)\u001b[0m\u001b[1;33m:\u001b[0m\u001b[1;33m\u001b[0m\u001b[1;33m\u001b[0m\u001b[0m\n\u001b[1;32m----> 9\u001b[1;33m         \u001b[0mprint\u001b[0m\u001b[1;33m(\u001b[0m\u001b[0mself\u001b[0m\u001b[1;33m.\u001b[0m\u001b[0maction\u001b[0m\u001b[1;33m(\u001b[0m\u001b[1;33m)\u001b[0m\u001b[1;33m)\u001b[0m\u001b[1;33m\u001b[0m\u001b[1;33m\u001b[0m\u001b[0m\n\u001b[0m\u001b[0;32m     10\u001b[0m \u001b[1;33m\u001b[0m\u001b[0m\n\u001b[0;32m     11\u001b[0m \u001b[1;33m\u001b[0m\u001b[0m\n",
      "\u001b[1;32m~\\AppData\\Local\\Temp\\ipykernel_14980\\1328633034.py\u001b[0m in \u001b[0;36maction\u001b[1;34m(self)\u001b[0m\n\u001b[0;32m      4\u001b[0m \u001b[1;33m\u001b[0m\u001b[0m\n\u001b[0;32m      5\u001b[0m     \u001b[1;32mdef\u001b[0m \u001b[0maction\u001b[0m\u001b[1;33m(\u001b[0m\u001b[0mself\u001b[0m\u001b[1;33m)\u001b[0m\u001b[1;33m:\u001b[0m\u001b[1;33m\u001b[0m\u001b[1;33m\u001b[0m\u001b[0m\n\u001b[1;32m----> 6\u001b[1;33m         \u001b[1;32mraise\u001b[0m \u001b[0mNotImplementedError\u001b[0m\u001b[1;33m(\u001b[0m\u001b[1;34m'action must be defined!'\u001b[0m\u001b[1;33m)\u001b[0m\u001b[1;33m\u001b[0m\u001b[1;33m\u001b[0m\u001b[0m\n\u001b[0m\u001b[0;32m      7\u001b[0m \u001b[1;33m\u001b[0m\u001b[0m\n\u001b[0;32m      8\u001b[0m     \u001b[1;32mdef\u001b[0m \u001b[0mdelegate\u001b[0m\u001b[1;33m(\u001b[0m\u001b[0mself\u001b[0m\u001b[1;33m)\u001b[0m\u001b[1;33m:\u001b[0m\u001b[1;33m\u001b[0m\u001b[1;33m\u001b[0m\u001b[0m\n",
      "\u001b[1;31mNotImplementedError\u001b[0m: action must be defined!"
     ]
    }
   ],
   "source": [
    "class class_A:\n",
    "    def __init__(self):\n",
    "        ...\n",
    "    \n",
    "    def action(self):\n",
    "        raise NotImplementedError('action must be defined!')\n",
    "    \n",
    "    def delegate(self):\n",
    "        print(self.action())\n",
    "\n",
    "        \n",
    "class class_B(class_A):\n",
    "    def action(self):\n",
    "        return 'Instance class B. Method Action().'\n",
    "    \n",
    "    \n",
    "b = class_B()\n",
    "b.delegate()\n",
    "# но\n",
    "a = class_A()\n",
    "a.delegate()   # NotImplementedError: action must be defined!"
   ]
  },
  {
   "cell_type": "markdown",
   "id": "4e0cee72",
   "metadata": {},
   "source": [
    "### Абстрактный класс."
   ]
  },
  {
   "cell_type": "markdown",
   "id": "93b4c61c",
   "metadata": {},
   "source": [
    "> *При такой реализации создавать экземпляры класса с абстрактным методом нельзя, пока в подклассах не будут определены все его абстрактные методы!*"
   ]
  },
  {
   "cell_type": "code",
   "execution_count": 13,
   "id": "e5dd22af",
   "metadata": {},
   "outputs": [
    {
     "name": "stdout",
     "output_type": "stream",
     "text": [
      "Abstractmethod Action()\n"
     ]
    },
    {
     "ename": "TypeError",
     "evalue": "Can't instantiate abstract class class_A with abstract method action",
     "output_type": "error",
     "traceback": [
      "\u001b[1;31m---------------------------------------------------------------------------\u001b[0m",
      "\u001b[1;31mTypeError\u001b[0m                                 Traceback (most recent call last)",
      "\u001b[1;32m~\\AppData\\Local\\Temp\\ipykernel_14980\\996693506.py\u001b[0m in \u001b[0;36m<module>\u001b[1;34m\u001b[0m\n\u001b[0;32m     21\u001b[0m \u001b[0mb\u001b[0m\u001b[1;33m.\u001b[0m\u001b[0mdelegate\u001b[0m\u001b[1;33m(\u001b[0m\u001b[1;33m)\u001b[0m\u001b[1;33m\u001b[0m\u001b[1;33m\u001b[0m\u001b[0m\n\u001b[0;32m     22\u001b[0m \u001b[1;31m# но\u001b[0m\u001b[1;33m\u001b[0m\u001b[1;33m\u001b[0m\u001b[0m\n\u001b[1;32m---> 23\u001b[1;33m \u001b[0ma\u001b[0m \u001b[1;33m=\u001b[0m \u001b[0mclass_A\u001b[0m\u001b[1;33m(\u001b[0m\u001b[1;33m)\u001b[0m         \u001b[1;31m# TypeError: Can't instantiate abstract class class_Abstract with abstract method action\u001b[0m\u001b[1;33m\u001b[0m\u001b[1;33m\u001b[0m\u001b[0m\n\u001b[0m\u001b[0;32m     24\u001b[0m \u001b[1;31m# и\u001b[0m\u001b[1;33m\u001b[0m\u001b[1;33m\u001b[0m\u001b[0m\n\u001b[0;32m     25\u001b[0m \u001b[0mabstr\u001b[0m \u001b[1;33m=\u001b[0m \u001b[0mclass_Abstract\u001b[0m\u001b[1;33m(\u001b[0m\u001b[1;33m)\u001b[0m     \u001b[1;31m# TypeError: Can't instantiate abstract class class_Abstract with abstract method action\u001b[0m\u001b[1;33m\u001b[0m\u001b[1;33m\u001b[0m\u001b[0m\n",
      "\u001b[1;31mTypeError\u001b[0m: Can't instantiate abstract class class_A with abstract method action"
     ]
    }
   ],
   "source": [
    "from abc import ABCMeta, abstractmethod\n",
    "\n",
    "class class_Abstract(metaclass=ABCMeta):\n",
    "    def delegate(self):\n",
    "        print(self.action())\n",
    "    \n",
    "    @abstractmethod\n",
    "    def action(self):\n",
    "        ...\n",
    "\n",
    "class class_A(class_Abstract):\n",
    "    ...\n",
    "\n",
    "\n",
    "class class_B(class_Abstract):\n",
    "    def action(self):\n",
    "        return \"Abstractmethod Action()\"\n",
    "    \n",
    "    \n",
    "b = class_B()\n",
    "b.delegate()\n",
    "# но\n",
    "a = class_A()         # TypeError: Can't instantiate abstract class class_Abstract with abstract method action\n",
    "# и\n",
    "abstr = class_Abstract()     # TypeError: Can't instantiate abstract class class_Abstract with abstract method action"
   ]
  },
  {
   "cell_type": "markdown",
   "id": "00c4c5a5",
   "metadata": {},
   "source": [
    "### Перегрузка операций. Методы перегрузки операций."
   ]
  },
  {
   "attachments": {
    "image-2.png": {
     "image/png": "[encoded data removed]"
    },
    "image-3.png": {
     "image/png": "[encoded data removed]"
    }
   },
   "cell_type": "markdown",
   "id": "67ee1fab",
   "metadata": {},
   "source": [
    "![image-3.png](attachment:image-3.png) ![image-2.png](attachment:image-2.png)"
   ]
  },
  {
   "cell_type": "markdown",
   "id": "ad7056a8",
   "metadata": {},
   "source": [
    "### \\_\\_getattr\\_\\_, \\_\\_setattr\\_\\_, \\_\\_getattribute\\_\\_"
   ]
  },
  {
   "cell_type": "markdown",
   "id": "ba6d6ef1",
   "metadata": {},
   "source": [
    "> *\\_\\_setattr\\_\\_(self, attr, value) – автоматически вызывается при изменении атрибута attr класса новым значением value;*\n",
    ">\n",
    "> *\\_\\_getattribute\\_\\_(self, attr) – автоматически вызывается при получении атрибута класса с именем attr;*\n",
    ">\n",
    "> *\\_\\_getattr\\_\\_(self, attr) – автоматически вызывается при получении несуществующего атрибута attr класса;*"
   ]
  },
  {
   "cell_type": "markdown",
   "id": "e17f3d24",
   "metadata": {},
   "source": [
    "> *С этими методами связан сложный аспект — возможность зацикливания (т.е. рекурсии). Из-за того, что метод **\\_\\_getattr\\_\\_** вызывается только для неопределенных атрибутов, в своем коде он может свободно извлекать другие атрибуты. Однако поскольку **\\_\\_getattribute\\_\\_** и **\\_\\_setattr\\_\\_** запускаются для всех атрибутов, при доступе к другим атрибутам в их коде потребуется проявлять осмотрительность, чтобы избежать повторного вызова самих себя и образования рекурсивного цикла. Например, извлечение еще одного атрибута внутри кода метода **\\_\\_getattribute\\_\\_** снова запустит **\\_\\_getattribute\\_\\_** и в коде обычно происходит зацикливание до тех пор, пока не будет исчерпана доступная память.*"
   ]
  },
  {
   "cell_type": "code",
   "execution_count": null,
   "id": "ef3edd1c",
   "metadata": {},
   "outputs": [],
   "source": [
    "def __getattribute__(self, name):\n",
    "    x = self.other                 # ЗАЦИКЛИВАНИЕ!"
   ]
  },
  {
   "cell_type": "markdown",
   "id": "76f6570f",
   "metadata": {},
   "source": [
    "> *Во избежание рекурсии реализация метода не должна пытаться присвоить атрибут объекту обычным путём: **self.name = value**. \n",
    "Вместо этого следует добавить атрибут в словарь атрибутов объекта, например: **self.\\_\\_dict\\_\\_[name] = value**. \n",
    "При этом для классов нового стиля предпочтительно обратиться к методу базового класса: **object.\\_\\_setattr\\_\\_(self, name, value)**.*"
   ]
  },
  {
   "cell_type": "code",
   "execution_count": null,
   "id": "0dfb84bf",
   "metadata": {},
   "outputs": [],
   "source": [
    "def __getattribute__ (self, name):\n",
    "    x = object.__getattribute__ (self, 'other')"
   ]
  },
  {
   "cell_type": "code",
   "execution_count": 14,
   "id": "a7c9b1cb",
   "metadata": {},
   "outputs": [
    {
     "name": "stdout",
     "output_type": "stream",
     "text": [
      "5\n"
     ]
    },
    {
     "ename": "AttributeError",
     "evalue": "Attribute error!",
     "output_type": "error",
     "traceback": [
      "\u001b[1;31m---------------------------------------------------------------------------\u001b[0m",
      "\u001b[1;31mAttributeError\u001b[0m                            Traceback (most recent call last)",
      "\u001b[1;32m~\\AppData\\Local\\Temp\\ipykernel_14980\\3512438508.py\u001b[0m in \u001b[0;36m<module>\u001b[1;34m\u001b[0m\n\u001b[0;32m     13\u001b[0m \u001b[0mprint\u001b[0m\u001b[1;33m(\u001b[0m\u001b[0mex\u001b[0m\u001b[1;33m.\u001b[0m\u001b[0ma\u001b[0m\u001b[1;33m)\u001b[0m\u001b[1;33m\u001b[0m\u001b[1;33m\u001b[0m\u001b[0m\n\u001b[0;32m     14\u001b[0m \u001b[1;31m# но\u001b[0m\u001b[1;33m\u001b[0m\u001b[1;33m\u001b[0m\u001b[0m\n\u001b[1;32m---> 15\u001b[1;33m \u001b[0mex\u001b[0m\u001b[1;33m.\u001b[0m\u001b[0mb\u001b[0m \u001b[1;33m=\u001b[0m \u001b[1;34m'5'\u001b[0m  \u001b[1;31m# AttributeError: Attribute error!\u001b[0m\u001b[1;33m\u001b[0m\u001b[1;33m\u001b[0m\u001b[0m\n\u001b[0m",
      "\u001b[1;32m~\\AppData\\Local\\Temp\\ipykernel_14980\\3512438508.py\u001b[0m in \u001b[0;36m__setattr__\u001b[1;34m(self, attr, val)\u001b[0m\n\u001b[0;32m      7\u001b[0m             \u001b[0mobject\u001b[0m\u001b[1;33m.\u001b[0m\u001b[0m__setattr__\u001b[0m\u001b[1;33m(\u001b[0m\u001b[0mself\u001b[0m\u001b[1;33m,\u001b[0m \u001b[0mattr\u001b[0m\u001b[1;33m,\u001b[0m \u001b[0mval\u001b[0m\u001b[1;33m)\u001b[0m\u001b[1;33m\u001b[0m\u001b[1;33m\u001b[0m\u001b[0m\n\u001b[0;32m      8\u001b[0m         \u001b[1;32melse\u001b[0m\u001b[1;33m:\u001b[0m\u001b[1;33m\u001b[0m\u001b[1;33m\u001b[0m\u001b[0m\n\u001b[1;32m----> 9\u001b[1;33m             \u001b[1;32mraise\u001b[0m \u001b[0mAttributeError\u001b[0m\u001b[1;33m(\u001b[0m\u001b[1;34m\"Attribute error!\"\u001b[0m\u001b[1;33m)\u001b[0m\u001b[1;33m\u001b[0m\u001b[1;33m\u001b[0m\u001b[0m\n\u001b[0m\u001b[0;32m     10\u001b[0m \u001b[1;33m\u001b[0m\u001b[0m\n\u001b[0;32m     11\u001b[0m \u001b[0mex\u001b[0m \u001b[1;33m=\u001b[0m \u001b[0mA\u001b[0m\u001b[1;33m(\u001b[0m\u001b[1;33m)\u001b[0m\u001b[1;33m\u001b[0m\u001b[1;33m\u001b[0m\u001b[0m\n",
      "\u001b[1;31mAttributeError\u001b[0m: Attribute error!"
     ]
    }
   ],
   "source": [
    "class A:\n",
    "    def __setattr__(self, attr, val):\n",
    "        if isinstance(val, int):\n",
    "            object.__setattr__(self, attr, val)\n",
    "        else:\n",
    "            raise AttributeError(\"Attribute error!\")\n",
    "            \n",
    "ex = A()\n",
    "ex.a = 5\n",
    "print(ex.a)\n",
    "# но\n",
    "ex.b = '5'  # AttributeError: Attribute error!"
   ]
  },
  {
   "cell_type": "code",
   "execution_count": 15,
   "id": "6cde4059",
   "metadata": {},
   "outputs": [
    {
     "name": "stdout",
     "output_type": "stream",
     "text": [
      "5\n",
      "New attribute - b\n"
     ]
    }
   ],
   "source": [
    "class A:\n",
    "    def __init__(self):\n",
    "        self.a = 5\n",
    "        \n",
    "    def __getattr__(self, attr):\n",
    "        return f'New attribute - {attr}'\n",
    "\n",
    "ex = A()\n",
    "print(ex.a) # Метод не вызывается, если значение удалось получить обычным способом.\n",
    "# но\n",
    "print(ex.b)"
   ]
  },
  {
   "cell_type": "code",
   "execution_count": 16,
   "id": "788dedd0",
   "metadata": {},
   "outputs": [
    {
     "name": "stdout",
     "output_type": "stream",
     "text": [
      "10\n"
     ]
    },
    {
     "ename": "AttributeError",
     "evalue": "Attribute error!",
     "output_type": "error",
     "traceback": [
      "\u001b[1;31m---------------------------------------------------------------------------\u001b[0m",
      "\u001b[1;31mAttributeError\u001b[0m                            Traceback (most recent call last)",
      "\u001b[1;32m~\\AppData\\Local\\Temp\\ipykernel_14980\\3445374416.py\u001b[0m in \u001b[0;36m<module>\u001b[1;34m\u001b[0m\n\u001b[0;32m     13\u001b[0m \u001b[0mprint\u001b[0m\u001b[1;33m(\u001b[0m\u001b[0mex\u001b[0m\u001b[1;33m.\u001b[0m\u001b[0mb_attr\u001b[0m\u001b[1;33m)\u001b[0m\u001b[1;33m\u001b[0m\u001b[1;33m\u001b[0m\u001b[0m\n\u001b[0;32m     14\u001b[0m \u001b[1;31m# но\u001b[0m\u001b[1;33m\u001b[0m\u001b[1;33m\u001b[0m\u001b[0m\n\u001b[1;32m---> 15\u001b[1;33m \u001b[0mprint\u001b[0m\u001b[1;33m(\u001b[0m\u001b[0mex\u001b[0m\u001b[1;33m.\u001b[0m\u001b[0ma_attr\u001b[0m\u001b[1;33m)\u001b[0m   \u001b[1;31m# AttributeError: Attribute error!\u001b[0m\u001b[1;33m\u001b[0m\u001b[1;33m\u001b[0m\u001b[0m\n\u001b[0m",
      "\u001b[1;32m~\\AppData\\Local\\Temp\\ipykernel_14980\\3445374416.py\u001b[0m in \u001b[0;36m__getattribute__\u001b[1;34m(self, attr)\u001b[0m\n\u001b[0;32m      6\u001b[0m     \u001b[1;32mdef\u001b[0m \u001b[0m__getattribute__\u001b[0m\u001b[1;33m(\u001b[0m\u001b[0mself\u001b[0m\u001b[1;33m,\u001b[0m \u001b[0mattr\u001b[0m\u001b[1;33m)\u001b[0m\u001b[1;33m:\u001b[0m\u001b[1;33m\u001b[0m\u001b[1;33m\u001b[0m\u001b[0m\n\u001b[0;32m      7\u001b[0m         \u001b[1;32mif\u001b[0m \u001b[0mattr\u001b[0m\u001b[1;33m.\u001b[0m\u001b[0mstartswith\u001b[0m\u001b[1;33m(\u001b[0m\u001b[1;34m'a'\u001b[0m\u001b[1;33m)\u001b[0m\u001b[1;33m:\u001b[0m\u001b[1;33m\u001b[0m\u001b[1;33m\u001b[0m\u001b[0m\n\u001b[1;32m----> 8\u001b[1;33m             \u001b[1;32mraise\u001b[0m \u001b[0mAttributeError\u001b[0m\u001b[1;33m(\u001b[0m\u001b[1;34m\"Attribute error!\"\u001b[0m\u001b[1;33m)\u001b[0m\u001b[1;33m\u001b[0m\u001b[1;33m\u001b[0m\u001b[0m\n\u001b[0m\u001b[0;32m      9\u001b[0m         \u001b[1;32melse\u001b[0m\u001b[1;33m:\u001b[0m\u001b[1;33m\u001b[0m\u001b[1;33m\u001b[0m\u001b[0m\n\u001b[0;32m     10\u001b[0m             \u001b[1;32mreturn\u001b[0m \u001b[0mobject\u001b[0m\u001b[1;33m.\u001b[0m\u001b[0m__getattribute__\u001b[0m\u001b[1;33m(\u001b[0m\u001b[0mself\u001b[0m\u001b[1;33m,\u001b[0m \u001b[0mattr\u001b[0m\u001b[1;33m)\u001b[0m\u001b[1;33m\u001b[0m\u001b[1;33m\u001b[0m\u001b[0m\n",
      "\u001b[1;31mAttributeError\u001b[0m: Attribute error!"
     ]
    }
   ],
   "source": [
    "class A:\n",
    "    def __init__(self):\n",
    "        self.a_attr = 5\n",
    "        self.b_attr = 10\n",
    "        \n",
    "    def __getattribute__(self, attr):\n",
    "        if attr.startswith('a'):\n",
    "            raise AttributeError(\"Attribute error!\")\n",
    "        else:\n",
    "            return object.__getattribute__(self, attr)\n",
    "\n",
    "ex = A()\n",
    "print(ex.b_attr)\n",
    "# но\n",
    "print(ex.a_attr)   # AttributeError: Attribute error!"
   ]
  },
  {
   "cell_type": "markdown",
   "id": "0c5fde9f",
   "metadata": {},
   "source": [
    "### Итерация. Итерируемый объект."
   ]
  },
  {
   "cell_type": "markdown",
   "id": "d27d22f4",
   "metadata": {},
   "source": [
    "> *Итерация - процедура взятия элементов объекта по очереди.*\n",
    ">\n",
    "> *Итерируемый объект (iterable) - объект, который способен возвращать элементы по одному. Это объект из которого можно получить итератор (т.е этот объект имеет метод **\\_\\_iter\\_\\_** или **\\_\\_getitem\\_\\_**). За получение итератора отвечает функция **iter()**. Функция **iter()** отработает на любом объекте, у которого есть метод **\\_\\_iter\\_\\_** или метод **\\_\\_getitem\\_\\_**. Метод **\\_\\_iter\\_\\_** возвращает итератор!* \n",
    ">\n",
    "> *Итератор (iterator) - это объект, который возвращает свои элементы по одному за раз. Объект итератор имеет метод **\\_\\_next\\_\\_**. Этот метод возвращает следующий элемент, если он есть, или возвращает исключение StopIteration, когда элементы закончились. Для того, чтобы итератор снова начал возвращать элементы, его надо заново создать. Итерационные контексты (цикл for, in, функция map() и т.д.) создают новый итератор.*\n",
    ">\n",
    "> *В качестве удобства для выполнения итерации вручную доступна также встроенная функция next — вызов **next(I)** представляет собой то же самое, что и **I.\\_\\_ next\\_\\_()**.*"
   ]
  },
  {
   "cell_type": "code",
   "execution_count": 17,
   "id": "17bdda6d",
   "metadata": {},
   "outputs": [
    {
     "name": "stdout",
     "output_type": "stream",
     "text": [
      "[0, 9, 36, 81]\n",
      "[9, 16, 25, 36, 49, 64, 81, 100, 121]\n",
      "[0, 1, 4, 9, 16, 25, 36]\n",
      "[1, 9, 25, 49, 81]\n"
     ]
    },
    {
     "ename": "StopIteration",
     "evalue": "",
     "output_type": "error",
     "traceback": [
      "\u001b[1;31m---------------------------------------------------------------------------\u001b[0m",
      "\u001b[1;31mStopIteration\u001b[0m                             Traceback (most recent call last)",
      "\u001b[1;32m~\\AppData\\Local\\Temp\\ipykernel_14980\\55547634.py\u001b[0m in \u001b[0;36m<module>\u001b[1;34m\u001b[0m\n\u001b[0;32m     34\u001b[0m \u001b[0ma\u001b[0m \u001b[1;33m=\u001b[0m \u001b[0mMyRange\u001b[0m\u001b[1;33m(\u001b[0m\u001b[1;36m1\u001b[0m\u001b[1;33m,\u001b[0m \u001b[1;36m11\u001b[0m\u001b[1;33m,\u001b[0m \u001b[1;36m2\u001b[0m\u001b[1;33m)\u001b[0m\u001b[1;33m\u001b[0m\u001b[1;33m\u001b[0m\u001b[0m\n\u001b[0;32m     35\u001b[0m \u001b[0mprint\u001b[0m\u001b[1;33m(\u001b[0m\u001b[1;33m[\u001b[0m\u001b[0m_\u001b[0m \u001b[1;32mfor\u001b[0m \u001b[0m_\u001b[0m \u001b[1;32min\u001b[0m \u001b[0ma\u001b[0m\u001b[1;33m]\u001b[0m\u001b[1;33m)\u001b[0m\u001b[1;33m\u001b[0m\u001b[1;33m\u001b[0m\u001b[0m\n\u001b[1;32m---> 36\u001b[1;33m \u001b[0mprint\u001b[0m\u001b[1;33m(\u001b[0m\u001b[0mnext\u001b[0m\u001b[1;33m(\u001b[0m\u001b[0ma\u001b[0m\u001b[1;33m)\u001b[0m\u001b[1;33m)\u001b[0m    \u001b[1;31m# StopIteration  - одиночная итерация\u001b[0m\u001b[1;33m\u001b[0m\u001b[1;33m\u001b[0m\u001b[0m\n\u001b[0m",
      "\u001b[1;32m~\\AppData\\Local\\Temp\\ipykernel_14980\\55547634.py\u001b[0m in \u001b[0;36m__next__\u001b[1;34m(self)\u001b[0m\n\u001b[0;32m     23\u001b[0m         \u001b[0mself\u001b[0m\u001b[1;33m.\u001b[0m\u001b[0mval\u001b[0m \u001b[1;33m+=\u001b[0m \u001b[0mself\u001b[0m\u001b[1;33m.\u001b[0m\u001b[0mstep\u001b[0m\u001b[1;33m\u001b[0m\u001b[1;33m\u001b[0m\u001b[0m\n\u001b[0;32m     24\u001b[0m         \u001b[1;32mif\u001b[0m \u001b[0mself\u001b[0m\u001b[1;33m.\u001b[0m\u001b[0mval\u001b[0m \u001b[1;33m>\u001b[0m \u001b[0mself\u001b[0m\u001b[1;33m.\u001b[0m\u001b[0mstop\u001b[0m\u001b[1;33m:\u001b[0m\u001b[1;33m\u001b[0m\u001b[1;33m\u001b[0m\u001b[0m\n\u001b[1;32m---> 25\u001b[1;33m             \u001b[1;32mraise\u001b[0m \u001b[0mStopIteration\u001b[0m\u001b[1;33m\u001b[0m\u001b[1;33m\u001b[0m\u001b[0m\n\u001b[0m\u001b[0;32m     26\u001b[0m         \u001b[1;32mreturn\u001b[0m \u001b[0mself\u001b[0m\u001b[1;33m.\u001b[0m\u001b[0mval\u001b[0m\u001b[1;33m**\u001b[0m\u001b[1;36m2\u001b[0m\u001b[1;33m\u001b[0m\u001b[1;33m\u001b[0m\u001b[0m\n\u001b[0;32m     27\u001b[0m \u001b[1;33m\u001b[0m\u001b[0m\n",
      "\u001b[1;31mStopIteration\u001b[0m: "
     ]
    }
   ],
   "source": [
    "class MyRange:\n",
    "    def __init__(self, *args):\n",
    "        lr = len(args)\n",
    "        if lr == 3:\n",
    "            self.val = args[0]-args[2]\n",
    "            self.stop = args[1]-1\n",
    "            self.step = args[2]\n",
    "        elif lr == 2:\n",
    "            self.val = args[0]-1\n",
    "            self.stop = args[1]-1\n",
    "            self.step = 1\n",
    "        elif lr == 1:\n",
    "            self.val = -1\n",
    "            self.stop = args[0]-1\n",
    "            self.step = 1\n",
    "        else:\n",
    "            raise TypeError\n",
    "        \n",
    "    def __iter__(self):\n",
    "        return self\n",
    "    \n",
    "    def __next__(self):  \n",
    "        self.val += self.step\n",
    "        if self.val > self.stop:\n",
    "            raise StopIteration\n",
    "        return self.val**2\n",
    "    \n",
    "    \n",
    "print([_ for _ in MyRange(0, 10, 3)])\n",
    "print([_ for _ in MyRange(3, 12)])\n",
    "print([_ for _ in MyRange(7)])\n",
    "\n",
    "# но !\n",
    "a = MyRange(1, 11, 2)\n",
    "print([_ for _ in a])\n",
    "print(next(a))    # StopIteration  - одиночная итерация"
   ]
  },
  {
   "cell_type": "code",
   "execution_count": 18,
   "id": "755b54af",
   "metadata": {},
   "outputs": [
    {
     "name": "stdout",
     "output_type": "stream",
     "text": [
      "[0, 9, 36, 81]\n",
      "[9, 16, 25, 36, 49, 64, 81, 100, 121]\n",
      "[0, 1, 4, 9, 16, 25, 36]\n",
      "2 10 26 50 82 \n",
      "\n",
      "10 18 34 58 90 \n",
      "\n",
      "26 34 50 74 106 \n",
      "\n",
      "50 58 74 98 130 \n",
      "\n",
      "82 90 106 130 162 \n",
      "\n"
     ]
    }
   ],
   "source": [
    "# Множественная итерация\n",
    "class MyRange:\n",
    "    def __init__(self, *args):\n",
    "        lr = len(args)\n",
    "        if lr == 3:\n",
    "            self.val = args[0]-args[2]\n",
    "            self.stop = args[1]-1\n",
    "            self.step = args[2]\n",
    "        elif lr == 2:\n",
    "            self.val = args[0]-1\n",
    "            self.stop = args[1]-1\n",
    "            self.step = 1\n",
    "        elif lr == 1:\n",
    "            self.val = -1\n",
    "            self.stop = args[0]-1\n",
    "            self.step = 1\n",
    "        else:\n",
    "            raise TypeError\n",
    "        \n",
    "    def __iter__(self):\n",
    "        return MyRangeIterator(self.val, self.stop, self.step)\n",
    "\n",
    "# класс итератор\n",
    "class MyRangeIterator:\n",
    "    def __init__(self, *args):\n",
    "        self.val = args[0]\n",
    "        self.stop = args[1]\n",
    "        self.step = args[2]\n",
    "    \n",
    "    def __next__(self):  \n",
    "        self.val += self.step\n",
    "        if self.val > self.stop:\n",
    "            raise StopIteration\n",
    "        return self.val**2\n",
    "    \n",
    "    \n",
    "print([_ for _ in MyRange(0, 10, 3)])\n",
    "print([_ for _ in MyRange(3, 12)])\n",
    "print([_ for _ in MyRange(7)])\n",
    "\n",
    "# здесь уже можно использовать множественную итерацию !\n",
    "a = MyRange(1, 11, 2)\n",
    "for i in a:\n",
    "    for j in a:\n",
    "        print(i+j, end=' ')\n",
    "    print('\\n')"
   ]
  },
  {
   "cell_type": "code",
   "execution_count": 19,
   "id": "09726700",
   "metadata": {},
   "outputs": [
    {
     "name": "stdout",
     "output_type": "stream",
     "text": [
      "[9, 16, 25, 36, 49, 64, 81, 100, 121]\n",
      "(1, 1) (1, 9) (1, 25) (1, 49) (1, 81) (9, 1) (9, 9) (9, 25) (9, 49) (9, 81) (25, 1) (25, 9) (25, 25) (25, 49) (25, 81) (49, 1) (49, 9) (49, 25) (49, 49) (49, 81) (81, 1) (81, 9) (81, 25) (81, 49) (81, 81) "
     ]
    }
   ],
   "source": [
    "# Комбинирование метода __iter__ и оператора генераторных функций yield\n",
    "# Также есть поддержка множественных активных итераторов\n",
    "class MyRange:\n",
    "    def __init__(self, *args):\n",
    "        self.args = args\n",
    "        \n",
    "    def __iter__(self):\n",
    "        for v in range(*self.args):\n",
    "            yield v**2\n",
    "    \n",
    "print([_ for _ in MyRange(3, 12)])\n",
    "\n",
    "# также !\n",
    "a = MyRange(1, 11, 2)\n",
    "for i in a:\n",
    "    for j in a:\n",
    "        print((i,j), end=' ')"
   ]
  },
  {
   "cell_type": "markdown",
   "id": "e2e372bb",
   "metadata": {},
   "source": [
    "### \\_\\_add\\_\\_, \\_\\_radd\\_\\_ (правосторонее сложение, объект в операции находится с правой стороны)"
   ]
  },
  {
   "cell_type": "code",
   "execution_count": 20,
   "id": "31ef7a69",
   "metadata": {},
   "outputs": [
    {
     "name": "stdout",
     "output_type": "stream",
     "text": [
      "add (4)\n",
      "radd (4)\n",
      "add (radd (5))\n"
     ]
    }
   ],
   "source": [
    "class Base:\n",
    "    def __init__(self, val):\n",
    "        self.val = val\n",
    "    \n",
    "    def __add__(self, other):\n",
    "        return f'add ({self.val + other})'\n",
    "    \n",
    "    def __radd__(self, other):\n",
    "        return f'radd ({other + self.val})'\n",
    "    \n",
    "    \n",
    "a = Base(3)\n",
    "b = Base(2)\n",
    "print(a+1)\n",
    "print(1+a)\n",
    "# !\n",
    "print(a+b) \n",
    "# a и b здесь являются экземплярами того же самого класса; когда в выражении смешиваются экземпляры разных классов, \n",
    "# предпочтение отдается классу экземпляра с левой стороны. При сложении двух экземпляров выполняется метод __add__,\n",
    "# который в свою очередь запускает __radd__, упрощая левый операнд."
   ]
  },
  {
   "cell_type": "code",
   "execution_count": 21,
   "id": "dcb7e799",
   "metadata": {},
   "outputs": [
    {
     "name": "stdout",
     "output_type": "stream",
     "text": [
      "(Base_t: 4)\n",
      "(Base_t: 4)\n",
      "(Base_t: 5)\n"
     ]
    }
   ],
   "source": [
    "class Base_t:\n",
    "    def __init__(self, val):\n",
    "        self.val = val\n",
    "    \n",
    "    def __add__(self, other):\n",
    "        if isinstance(other, Base_t):    # Проверка типа во избежания вложенности объектов\n",
    "            other = other.val\n",
    "        return Base_t(self.val + other)\n",
    "    \n",
    "    def __radd__(self, other):\n",
    "        return Base_t(other+self.val)\n",
    "    \n",
    "    def __str__(self):\n",
    "        return f'({self.__class__.__name__}: {self.val})'\n",
    "    \n",
    "a = Base_t(3)\n",
    "b = Base_t(2)\n",
    "print(a+1)\n",
    "print(1+a)\n",
    "# !\n",
    "print(a+b) # He вложенный объект: не вызывает рекурсивно __radd__"
   ]
  },
  {
   "cell_type": "markdown",
   "id": "59f7dcd9",
   "metadata": {},
   "source": [
    "### Псевдозакрытые атрибуты.\n",
    ">*Псевдозакрытые атрибуты - атрибуты начинающиеся с двух символов подчеркивания.*\n",
    ">\n",
    ">*Корректировка имен происходит только для имен, появляющихся внутри кода оператора **class**, и затем только для имен, которые начинаются с двух символов подчеркивания. Тем не менее, она работает для каждого имени, предваренного двумя\n",
    "символами подчеркивания — атрибутов классов (в том числе имен методов) и атрибутов экземпляров, присвоенных в **self**.*\n",
    ">\n",
    ">*Скажем, в классе Base метод по имени **\\_\\_meth** после корректировки превращается в **\\_Base\\_\\_meth**, а ссылка на атрибут экземпляра **self.\\_\\_X** видоизменяется на **self.\\_Base\\_\\_X**.*"
   ]
  },
  {
   "cell_type": "code",
   "execution_count": 22,
   "id": "87e857f8",
   "metadata": {},
   "outputs": [
    {
     "name": "stdout",
     "output_type": "stream",
     "text": [
      "_Base__some, __class__, __delattr__, __dict__, __dir__, __doc__, __eq__, __format__, __ge__, __getattribute__, __gt__, __hash__, __init__, __init_subclass__, __le__, __lt__, __module__, __ne__, __new__, __reduce__, __reduce_ex__, __repr__, __setattr__, __sizeof__, __str__, __subclasshook__, __weakref__, "
     ]
    }
   ],
   "source": [
    "class Base:\n",
    "    ...\n",
    "    def __some(self):\n",
    "        ...\n",
    "\n",
    "        \n",
    "a = Base()\n",
    "for _ in dir(a):\n",
    "    print(_, end=', ')"
   ]
  },
  {
   "cell_type": "markdown",
   "id": "b52d65c8",
   "metadata": {},
   "source": [
    ">*При множественном наследовании если атрибут указан без двух символов подчеркивания в каждом классе одним именем то экземпляр будет содержать значение атрибута последнего класса в наследовании. Если указать в каждом классе\\-родителе атрибут с двумя символами подчеркивания то экземпляр будет содержать два атрибута, а в их именах будет фигурировать имена классов.*"
   ]
  },
  {
   "cell_type": "code",
   "execution_count": 23,
   "id": "92475e3c",
   "metadata": {},
   "outputs": [
    {
     "name": "stdout",
     "output_type": "stream",
     "text": [
      "{'X': 'B1', '_class_A__X': 'A2', '_class_B__X': 'B2'}\n"
     ]
    }
   ],
   "source": [
    "class class_A:\n",
    "    def ma1(self): self.X = 'A1'\n",
    "    def ma2(self): self.__X = 'A2' \n",
    "\n",
    "class class_B:\n",
    "    def mb1(self): self.X = 'B1' \n",
    "    def mb2(self) : self.__X = 'B2'\n",
    "\n",
    "class Base(class_A, class_B): pass\n",
    "\n",
    "ex = Base()\n",
    "ex.ma1()\n",
    "ex.ma2()\n",
    "ex.mb1()\n",
    "ex.mb2()\n",
    "print(ex.__dict__)"
   ]
  },
  {
   "cell_type": "markdown",
   "id": "11081348",
   "metadata": {},
   "source": [
    "### Несвязанные и связанные методы"
   ]
  },
  {
   "cell_type": "code",
   "execution_count": 24,
   "id": "89ca1672",
   "metadata": {},
   "outputs": [
    {
     "name": "stdout",
     "output_type": "stream",
     "text": [
      "Some\n",
      "Some\n",
      "Some\n",
      "<bound method Base.some of <__main__.Base object at 0x0000016E808A1B20>>\n"
     ]
    }
   ],
   "source": [
    "class Base:\n",
    "    def some(self):\n",
    "        return 'Some'\n",
    "    \n",
    "ex = Base()\n",
    "print(Base.some(ex))   # несвязанный метод\n",
    "print(ex.some())       # связанный метод\n",
    "\n",
    "obj = Base.some        # объект не связанного метода\n",
    "print(obj(ex))\n",
    "\n",
    "obj1 = ex.some         # объект связанного метода\n",
    "print(obj1)             "
   ]
  },
  {
   "cell_type": "markdown",
   "id": "ef06197b",
   "metadata": {},
   "source": [
    "### Множественное наследование. Подмешивание (mixin)."
   ]
  },
  {
   "cell_type": "code",
   "execution_count": 25,
   "id": "2fd43dbe",
   "metadata": {},
   "outputs": [
    {
     "name": "stdout",
     "output_type": "stream",
     "text": [
      "<__main__.Child_1 object at 0x0000016E807EE1F0>\n",
      "mixin str method\n"
     ]
    }
   ],
   "source": [
    "class Parent:\n",
    "    def __init__(self):\n",
    "        self.a = 10\n",
    "        \n",
    "class Mixin:\n",
    "    def __str__(self):\n",
    "        return \"mixin str method\"\n",
    "\n",
    "    \n",
    "class Child_1(Parent): ...    \n",
    "class Child_2(Parent, Mixin): ...\n",
    "    \n",
    "    \n",
    "ex1 = Child_1()\n",
    "print(ex1)\n",
    "# но\n",
    "ex2 = Child_2()\n",
    "print(ex2)"
   ]
  },
  {
   "cell_type": "markdown",
   "id": "f4ea0699",
   "metadata": {},
   "source": [
    "### MRO"
   ]
  },
  {
   "cell_type": "markdown",
   "id": "37ce28a2",
   "metadata": {},
   "source": [
    "> *Классы нового стиля (т.е. все классы в Python З.Х) имеют атрибут **класс.\\_\\_ mro\\_\\_**. Указанный атрибут представляет собой кортеж, который дает линейный порядок поиска, используемый Python при просмотре атрибутов в суперклассах. В действительности этот атрибут является порядком наследования в классах нового стиля.*"
   ]
  },
  {
   "cell_type": "code",
   "execution_count": 26,
   "id": "4f693f56",
   "metadata": {},
   "outputs": [
    {
     "name": "stdout",
     "output_type": "stream",
     "text": [
      "(<class '__main__.D'>, <class '__main__.B'>, <class '__main__.C'>, <class '__main__.A'>, <class 'object'>)\n"
     ]
    }
   ],
   "source": [
    "# ! при ромбовидной схеме\n",
    "class A: pass\n",
    "\n",
    "class B(A): pass\n",
    "\n",
    "class C(A): pass\n",
    "\n",
    "class D(B, C): pass\n",
    "    \n",
    "print(D.__mro__)"
   ]
  },
  {
   "cell_type": "code",
   "execution_count": 27,
   "id": "7734f5cb",
   "metadata": {},
   "outputs": [
    {
     "name": "stdout",
     "output_type": "stream",
     "text": [
      "(<class '__main__.E'>, <class '__main__.C'>, <class '__main__.A'>, <class '__main__.D'>, <class '__main__.B'>, <class 'object'>)\n"
     ]
    }
   ],
   "source": [
    "# ! при НЕ ромбовидной схеме, наследование производится классически (сначала в глубину, затем слева направо) \n",
    "class A: pass\n",
    "class B: pass\n",
    "class C(A): pass\n",
    "class D(B): pass\n",
    "class E(C, D): pass\n",
    "print(E.__mro__)"
   ]
  },
  {
   "cell_type": "markdown",
   "id": "ee78d692",
   "metadata": {},
   "source": [
    "### \\_\\_slots\\_\\_"
   ]
  },
  {
   "cell_type": "markdown",
   "id": "efb10032",
   "metadata": {},
   "source": [
    "> *Для экземпляра определенны только аттрибуты с именами в списке **\\_\\_slots\\_\\_**. Именам атрибутов экземпляров должны присваиваться значения, прежде чем на них можно будет ссылаться.*\n",
    ">\n",
    "> *Слоты трудно использовать корректно и, как указано в руководстве, их лучше всего оставлять для тех редких случаев, когда имеется большое количество экземпляров в приложении, критичном к потреблению памяти.*"
   ]
  },
  {
   "cell_type": "code",
   "execution_count": 28,
   "id": "624ba0cc",
   "metadata": {},
   "outputs": [
    {
     "ename": "AttributeError",
     "evalue": "var2",
     "output_type": "error",
     "traceback": [
      "\u001b[1;31m---------------------------------------------------------------------------\u001b[0m",
      "\u001b[1;31mAttributeError\u001b[0m                            Traceback (most recent call last)",
      "\u001b[1;32m~\\AppData\\Local\\Temp\\ipykernel_14980\\3187687973.py\u001b[0m in \u001b[0;36m<module>\u001b[1;34m\u001b[0m\n\u001b[0;32m      5\u001b[0m \u001b[0ma\u001b[0m\u001b[1;33m.\u001b[0m\u001b[0mvar1\u001b[0m \u001b[1;33m=\u001b[0m \u001b[1;36m1\u001b[0m\u001b[1;33m\u001b[0m\u001b[1;33m\u001b[0m\u001b[0m\n\u001b[0;32m      6\u001b[0m \u001b[1;31m# но\u001b[0m\u001b[1;33m\u001b[0m\u001b[1;33m\u001b[0m\u001b[0m\n\u001b[1;32m----> 7\u001b[1;33m \u001b[0mprint\u001b[0m\u001b[1;33m(\u001b[0m\u001b[0ma\u001b[0m\u001b[1;33m.\u001b[0m\u001b[0mvar2\u001b[0m\u001b[1;33m)\u001b[0m  \u001b[1;31m# AttributeError: var2  - не присвоено значение\u001b[0m\u001b[1;33m\u001b[0m\u001b[1;33m\u001b[0m\u001b[0m\n\u001b[0m\u001b[0;32m      8\u001b[0m \u001b[1;31m# также ошибка\u001b[0m\u001b[1;33m\u001b[0m\u001b[1;33m\u001b[0m\u001b[0m\n\u001b[0;32m      9\u001b[0m \u001b[0ma\u001b[0m\u001b[1;33m.\u001b[0m\u001b[0mvar3\u001b[0m \u001b[1;33m=\u001b[0m \u001b[1;36m3\u001b[0m      \u001b[1;31m# AttributeError: 'A' object has no attribute 'var3'. ! var3  не определена в списке __slots__\u001b[0m\u001b[1;33m\u001b[0m\u001b[1;33m\u001b[0m\u001b[0m\n",
      "\u001b[1;31mAttributeError\u001b[0m: var2"
     ]
    }
   ],
   "source": [
    "class A:\n",
    "    __slots__ = ['var1', 'var2']\n",
    "           \n",
    "a = A()\n",
    "a.var1 = 1\n",
    "# но\n",
    "print(a.var2)  # AttributeError: var2  - не присвоено значение\n",
    "# также ошибка\n",
    "a.var3 = 3      # AttributeError: 'A' object has no attribute 'var3'. ! var3  не определена в списке __slots__     "
   ]
  },
  {
   "cell_type": "markdown",
   "id": "dd5f213d",
   "metadata": {},
   "source": [
    "> *Когда применяются слоты, экземпляры обычно не имеют словаря атрибутов — взамен интерпретатор Python использует\n",
    "представляемое позже средство дескрипторов класса для выделения и управления пространством, зарезервированным под слотовые атрибуты в экземпляре.*"
   ]
  },
  {
   "cell_type": "markdown",
   "id": "b3318bee",
   "metadata": {},
   "source": [
    "> *Множество списков **\\_\\_slots\\_\\_** в суперклассах.*"
   ]
  },
  {
   "cell_type": "code",
   "execution_count": 29,
   "id": "b844299a",
   "metadata": {},
   "outputs": [
    {
     "name": "stdout",
     "output_type": "stream",
     "text": [
      "1\n",
      "2\n",
      "3\n",
      "4\n"
     ]
    }
   ],
   "source": [
    "class A:\n",
    "    __slots__ = ['a', 'b']\n",
    "class B(A):\n",
    "    __slots__ = ['c', 'd']\n",
    "    \n",
    "ex = B()\n",
    "ex.a = 1\n",
    "ex.b = 2\n",
    "ex.c = 3\n",
    "ex.d = 4\n",
    "for r in map(lambda v: getattr(ex, v), ['a', 'b', 'c', 'd']):\n",
    "    print(r)"
   ]
  },
  {
   "cell_type": "markdown",
   "id": "655aa87b",
   "metadata": {},
   "source": [
    "> *Список **\\_\\_slots\\_\\_** предотвращает существование **\\_\\_dict\\_\\_** экземпляра и присваивание значений именам, отсутствующим в списке, если **\\_\\_dict\\_\\_** явно не включен в список.*"
   ]
  },
  {
   "cell_type": "code",
   "execution_count": 30,
   "id": "0c347e54",
   "metadata": {},
   "outputs": [
    {
     "name": "stdout",
     "output_type": "stream",
     "text": [
      "{'c': 3}\n",
      "['__class__', '__delattr__', '__dict__', '__dir__', '__doc__', '__eq__', '__format__', '__ge__', '__getattribute__', '__gt__', '__hash__', '__init__', '__init_subclass__', '__le__', '__lt__', '__module__', '__ne__', '__new__', '__reduce__', '__reduce_ex__', '__repr__', '__setattr__', '__sizeof__', '__slots__', '__str__', '__subclasshook__', 'a', 'b', 'c']\n"
     ]
    }
   ],
   "source": [
    "class A:\n",
    "    __slots__ = ['a', 'b',  '__dict__'] # __dict__ включен в список __slots__\n",
    "    \n",
    "ex = A()\n",
    "ex.a = 1\n",
    "ex.b = 2\n",
    "# также\n",
    "ex.c = 3\n",
    "print(ex.__dict__)\n",
    "print(dir(ex))"
   ]
  },
  {
   "cell_type": "markdown",
   "id": "51e3cf40",
   "metadata": {},
   "source": [
    "### Свойства."
   ]
  },
  {
   "cell_type": "markdown",
   "id": "c526356c",
   "metadata": {},
   "source": [
    "> *Свойства позволяют получить атрибут, значение которого вычисляется динамически, то есть во время обращения к атрибуту.*\n",
    ">\n",
    "> *Протокол свойств позволяет направлять операции извлечения, установки и удаления конкретного атрибута предоставляемым функциям или методам, что дает возможность вставлять код, подлежащий автоматическому выполнению при доступе к атрибуту, перехватывать операции удаления атрибута и обеспечивать документацией по атрибутам.*\n",
    ">\n",
    "> *Свойство управляет одним конкретным атрибутом.*\n",
    ">\n",
    "> *Свойства наследуются экземплярами и подклассами на более низких уровнях.*"
   ]
  },
  {
   "cell_type": "markdown",
   "id": "df7ab763",
   "metadata": {},
   "source": [
    "> *Синтаксис функции*\n",
    ">\n",
    "> *__атрибут = property(getter=None, setter=None, deleter=None, doc_string=None)__*\n",
    ">\n",
    "> *Ни один из аргументов встроенной функции property не является обязательным, и все они получают стандартное значение None, если не передается иное. Для первых трех аргументов None означает, что соответствующая операция не поддерживается, и попытка ее выполнить приведет к генерации исключения AttributeError.*"
   ]
  },
  {
   "cell_type": "code",
   "execution_count": 67,
   "id": "da211c4a",
   "metadata": {},
   "outputs": [
    {
     "name": "stdout",
     "output_type": "stream",
     "text": [
      "Maks\n",
      "John\n",
      "doc string\n"
     ]
    },
    {
     "ename": "AttributeError",
     "evalue": "'Prop' object has no attribute '_name'",
     "output_type": "error",
     "traceback": [
      "\u001b[1;31m---------------------------------------------------------------------------\u001b[0m",
      "\u001b[1;31mAttributeError\u001b[0m                            Traceback (most recent call last)",
      "\u001b[1;32m~\\AppData\\Local\\Temp\\ipykernel_15504\\1230623943.py\u001b[0m in \u001b[0;36m<module>\u001b[1;34m\u001b[0m\n\u001b[0;32m     17\u001b[0m \u001b[0mprint\u001b[0m\u001b[1;33m(\u001b[0m\u001b[0mProp\u001b[0m\u001b[1;33m.\u001b[0m\u001b[0mname\u001b[0m\u001b[1;33m.\u001b[0m\u001b[0m__doc__\u001b[0m\u001b[1;33m)\u001b[0m\u001b[1;33m\u001b[0m\u001b[1;33m\u001b[0m\u001b[0m\n\u001b[0;32m     18\u001b[0m \u001b[1;32mdel\u001b[0m \u001b[0mex\u001b[0m\u001b[1;33m.\u001b[0m\u001b[0mname\u001b[0m\u001b[1;33m\u001b[0m\u001b[1;33m\u001b[0m\u001b[0m\n\u001b[1;32m---> 19\u001b[1;33m \u001b[0mprint\u001b[0m\u001b[1;33m(\u001b[0m\u001b[0mex\u001b[0m\u001b[1;33m.\u001b[0m\u001b[0mname\u001b[0m\u001b[1;33m)\u001b[0m\u001b[1;33m\u001b[0m\u001b[1;33m\u001b[0m\u001b[0m\n\u001b[0m",
      "\u001b[1;32m~\\AppData\\Local\\Temp\\ipykernel_15504\\1230623943.py\u001b[0m in \u001b[0;36mfget\u001b[1;34m(self)\u001b[0m\n\u001b[0;32m      3\u001b[0m         \u001b[0mself\u001b[0m\u001b[1;33m.\u001b[0m\u001b[0m_name\u001b[0m \u001b[1;33m=\u001b[0m \u001b[0mname\u001b[0m\u001b[1;33m\u001b[0m\u001b[1;33m\u001b[0m\u001b[0m\n\u001b[0;32m      4\u001b[0m     \u001b[1;32mdef\u001b[0m \u001b[0mfget\u001b[0m\u001b[1;33m(\u001b[0m\u001b[0mself\u001b[0m\u001b[1;33m)\u001b[0m\u001b[1;33m:\u001b[0m\u001b[1;33m\u001b[0m\u001b[1;33m\u001b[0m\u001b[0m\n\u001b[1;32m----> 5\u001b[1;33m         \u001b[1;32mreturn\u001b[0m \u001b[0mself\u001b[0m\u001b[1;33m.\u001b[0m\u001b[0m_name\u001b[0m\u001b[1;33m\u001b[0m\u001b[1;33m\u001b[0m\u001b[0m\n\u001b[0m\u001b[0;32m      6\u001b[0m     \u001b[1;32mdef\u001b[0m \u001b[0mfset\u001b[0m\u001b[1;33m(\u001b[0m\u001b[0mself\u001b[0m\u001b[1;33m,\u001b[0m \u001b[0mnew_name\u001b[0m\u001b[1;33m)\u001b[0m\u001b[1;33m:\u001b[0m\u001b[1;33m\u001b[0m\u001b[1;33m\u001b[0m\u001b[0m\n\u001b[0;32m      7\u001b[0m         \u001b[0mself\u001b[0m\u001b[1;33m.\u001b[0m\u001b[0m_name\u001b[0m \u001b[1;33m=\u001b[0m \u001b[0mnew_name\u001b[0m\u001b[1;33m\u001b[0m\u001b[1;33m\u001b[0m\u001b[0m\n",
      "\u001b[1;31mAttributeError\u001b[0m: 'Prop' object has no attribute '_name'"
     ]
    }
   ],
   "source": [
    "class Prop:\n",
    "    def __init__(self, name):\n",
    "        self._name = name\n",
    "    def fget(self):\n",
    "        return self._name\n",
    "    def fset(self, new_name):\n",
    "        self._name = new_name\n",
    "        return self._name\n",
    "    def fdel(self):\n",
    "        del self._name\n",
    "    name = property(fget, fset, fdel, 'doc string') \n",
    "\n",
    "ex = Prop('Maks')\n",
    "print(ex.name)\n",
    "ex.name = 'John'\n",
    "print(ex.name)\n",
    "print(Prop.name.__doc__)\n",
    "del ex.name\n",
    "print(ex.name)"
   ]
  },
  {
   "cell_type": "code",
   "execution_count": 31,
   "id": "2cc284a9",
   "metadata": {},
   "outputs": [
    {
     "name": "stdout",
     "output_type": "stream",
     "text": [
      "Maks - 21\n",
      "John - 35\n"
     ]
    }
   ],
   "source": [
    "class A:\n",
    "    def __init__(self, name, age):\n",
    "        self.name = name\n",
    "        self.age = age\n",
    "        \n",
    "    def getter_info(self):\n",
    "        return f'{self.name} - {self.age}'\n",
    "    \n",
    "    def setter_info(self, new_info):\n",
    "        self.name, self.age = new_info.split(' ')\n",
    "    \n",
    "    info = property(getter_info, setter_info, None, None)       \n",
    "    \n",
    "ex = A('Maks', 21)\n",
    "print(ex.info)\n",
    "# ! info выглядит как атрибут, вычисляется динамически\n",
    "\n",
    "ex.info = 'John 35'   # ! setter\n",
    "print(ex.info)"
   ]
  },
  {
   "cell_type": "markdown",
   "id": "f9f70406",
   "metadata": {},
   "source": [
    "> *Встроенная функция **property** может использоваться в качестве декоратора для определения функции, которая будет запускаться автоматически при извлечении атрибута.*"
   ]
  },
  {
   "cell_type": "code",
   "execution_count": 32,
   "id": "7bd6d87b",
   "metadata": {},
   "outputs": [
    {
     "name": "stdout",
     "output_type": "stream",
     "text": [
      "Maks - 21\n",
      "John - 35\n"
     ]
    }
   ],
   "source": [
    "class A:\n",
    "    def __init__(self, name, age):\n",
    "        self.name = name\n",
    "        self.age = age\n",
    "        \n",
    "    @property\n",
    "    def info(self):\n",
    "        return f'{self.name} - {self.age}'\n",
    "    \n",
    "    @info.setter\n",
    "    def info(self, new_info):\n",
    "        self.name, self.age = new_info.split(' ')\n",
    "        \n",
    "    @info.deleter\n",
    "    def info(self):\n",
    "        del self.name\n",
    "        del self.age\n",
    "    \n",
    "ex = A('Maks', 21)\n",
    "print(ex.info)  # getter\n",
    "ex.info = 'John 35'   # setter\n",
    "print(ex.info)"
   ]
  },
  {
   "cell_type": "markdown",
   "id": "87cbcef0",
   "metadata": {},
   "source": [
    "### Дескрипторы."
   ]
  },
  {
   "cell_type": "markdown",
   "id": "afeee808",
   "metadata": {},
   "source": [
    "> *Дескрипторы атрибутов — это классы с методами **\\_\\_get\\_\\_** и **\\_\\_set\\_\\_**, которые присваиваются атрибутам класса, наследуются экземплярами и предназначены для перехвата доступа по чтению и записи к специфическим атрибутам.*\n",
    ">\n",
    "> *Дескрипторы имеют доступ к состоянию в экземплярах самих себя, а также своего клиентского класса, и в некотором смысле являются более универсальной формой свойств.*\n",
    ">\n",
    "> *Дескрипторы создаются в виде независимых классов, имеют собственное состояние, и присваиваются атрибутам классов в точности как функции методов. Подобно любым другим атрибутам классов они наследуются подклассами и экземплярами. Как и свойство, дескриптор управляет одним конкретным атрибутом.*\n",
    ">\n",
    "> *Классы с любым таким методом как **\\_\\_get\\_\\_**, **\\_\\_set\\_\\_**, **\\_\\_delete\\_\\_** считаются дескрипторами.*"
   ]
  },
  {
   "cell_type": "code",
   "execution_count": null,
   "id": "384b83b0",
   "metadata": {},
   "outputs": [],
   "source": [
    "class Descriptor:\n",
    "    \"\"\"docstring goes here\"\"\"                   # Строка документации\n",
    "    def __get__(self, instance, owner): ...     # Возвращает значение атрибута\n",
    "    def __set__(self, instance, value): ...     # Ничего не возвращает (None)\n",
    "    def __delete__ (self, instance): ...        # Ничего не возвращает (None)"
   ]
  },
  {
   "cell_type": "markdown",
   "id": "3662e302",
   "metadata": {},
   "source": [
    "> *Всем трем методам дескриптора, передаются экземпляр класса дескриптора **(self)** и экземпляр клиентского класса **(instance)**, к которому присоединен экземпляр дескриптора. Метод доступа **\\_\\_get\\_\\_** также принимает аргумент **(owner)**, указывающий класс, к которому присоединен экземпляр дескриптора.*"
   ]
  },
  {
   "cell_type": "code",
   "execution_count": 72,
   "id": "f702aa6b",
   "metadata": {
    "scrolled": true
   },
   "outputs": [
    {
     "name": "stdout",
     "output_type": "stream",
     "text": [
      "Self: <__main__.Descriptor object at 0x0000026FA9481460>\n",
      "Instance: <__main__.A object at 0x0000026FA9481850>\n",
      "Owner: <class '__main__.A'>\n",
      "\n",
      "Self: <__main__.Descriptor object at 0x0000026FA9481460>\n",
      "Instance: None\n",
      "Owner: <class '__main__.A'>\n",
      "\n"
     ]
    }
   ],
   "source": [
    "class Descriptor:\n",
    "    def __get__(self, instance, owner):\n",
    "        print(f'Self: {self}\\nInstance: {instance}\\nOwner: {owner}\\n')\n",
    "            \n",
    "class A:\n",
    "    a = Descriptor()\n",
    "\n",
    "ex = A()\n",
    "ex.a\n",
    "A.a"
   ]
  },
  {
   "cell_type": "markdown",
   "id": "a78eed6f",
   "metadata": {},
   "source": [
    "> *В отличие от свойств простого отсутствия метода **\\_\\_set\\_\\_** в дескрипторе недостаточно для того, чтобы сделать атрибут допускающим только чтение, т.к. имени дескриптора может быть присвоено значение в экземпляре!*\n",
    ">\n",
    "> *Чтобы сделать основанный на дескрипторе атрибут допускающим только чтение, необходимо перехватить операцию присваивания в классе дескриптора и сгенерировать исключение для предотвращения присваивания атрибуту.*"
   ]
  },
  {
   "cell_type": "code",
   "execution_count": 74,
   "id": "4a4fedc1",
   "metadata": {},
   "outputs": [
    {
     "name": "stdout",
     "output_type": "stream",
     "text": [
      "get\n"
     ]
    },
    {
     "ename": "AttributeError",
     "evalue": "cannot set",
     "output_type": "error",
     "traceback": [
      "\u001b[1;31m---------------------------------------------------------------------------\u001b[0m",
      "\u001b[1;31mAttributeError\u001b[0m                            Traceback (most recent call last)",
      "\u001b[1;32m~\\AppData\\Local\\Temp\\ipykernel_15504\\1263490902.py\u001b[0m in \u001b[0;36m<module>\u001b[1;34m\u001b[0m\n\u001b[0;32m      7\u001b[0m \u001b[0mX\u001b[0m \u001b[1;33m=\u001b[0m \u001b[0mC\u001b[0m\u001b[1;33m(\u001b[0m\u001b[1;33m)\u001b[0m\u001b[1;33m\u001b[0m\u001b[1;33m\u001b[0m\u001b[0m\n\u001b[0;32m      8\u001b[0m \u001b[0mX\u001b[0m\u001b[1;33m.\u001b[0m\u001b[0ma\u001b[0m              \u001b[1;31m# Направляется C.a.__get__\u001b[0m\u001b[1;33m\u001b[0m\u001b[1;33m\u001b[0m\u001b[0m\n\u001b[1;32m----> 9\u001b[1;33m \u001b[0mX\u001b[0m\u001b[1;33m.\u001b[0m\u001b[0ma\u001b[0m \u001b[1;33m=\u001b[0m \u001b[1;36m99\u001b[0m         \u001b[1;31m# Направляется C.a.__set__\u001b[0m\u001b[1;33m\u001b[0m\u001b[1;33m\u001b[0m\u001b[0m\n\u001b[0m",
      "\u001b[1;32m~\\AppData\\Local\\Temp\\ipykernel_15504\\1263490902.py\u001b[0m in \u001b[0;36m__set__\u001b[1;34m(*args)\u001b[0m\n\u001b[0;32m      1\u001b[0m \u001b[1;32mclass\u001b[0m \u001b[0mD\u001b[0m\u001b[1;33m:\u001b[0m\u001b[1;33m\u001b[0m\u001b[1;33m\u001b[0m\u001b[0m\n\u001b[0;32m      2\u001b[0m     \u001b[1;32mdef\u001b[0m \u001b[0m__get__\u001b[0m\u001b[1;33m(\u001b[0m\u001b[1;33m*\u001b[0m\u001b[0margs\u001b[0m\u001b[1;33m)\u001b[0m \u001b[1;33m:\u001b[0m \u001b[0mprint\u001b[0m\u001b[1;33m(\u001b[0m\u001b[1;34m'get'\u001b[0m\u001b[1;33m)\u001b[0m\u001b[1;33m\u001b[0m\u001b[1;33m\u001b[0m\u001b[0m\n\u001b[1;32m----> 3\u001b[1;33m     \u001b[1;32mdef\u001b[0m \u001b[0m__set__\u001b[0m\u001b[1;33m(\u001b[0m\u001b[1;33m*\u001b[0m\u001b[0margs\u001b[0m\u001b[1;33m)\u001b[0m \u001b[1;33m:\u001b[0m \u001b[1;32mraise\u001b[0m \u001b[0mAttributeError\u001b[0m\u001b[1;33m(\u001b[0m\u001b[1;34m'cannot set'\u001b[0m\u001b[1;33m)\u001b[0m\u001b[1;33m\u001b[0m\u001b[1;33m\u001b[0m\u001b[0m\n\u001b[0m\u001b[0;32m      4\u001b[0m \u001b[1;33m\u001b[0m\u001b[0m\n\u001b[0;32m      5\u001b[0m \u001b[1;32mclass\u001b[0m \u001b[0mC\u001b[0m\u001b[1;33m:\u001b[0m\u001b[1;33m\u001b[0m\u001b[1;33m\u001b[0m\u001b[0m\n",
      "\u001b[1;31mAttributeError\u001b[0m: cannot set"
     ]
    }
   ],
   "source": [
    "class D:\n",
    "    def __get__(*args) : print('get')\n",
    "    def __set__(*args) : raise AttributeError('cannot set')\n",
    "\n",
    "class C:\n",
    "    a = D()\n",
    "X = C()\n",
    "X.a              # Направляется C.a.__get__\n",
    "X.a = 99         # Направляется C.a.__set__"
   ]
  },
  {
   "cell_type": "code",
   "execution_count": 76,
   "id": "158703ba",
   "metadata": {},
   "outputs": [
    {
     "name": "stdout",
     "output_type": "stream",
     "text": [
      "Maks\n",
      "John\n"
     ]
    }
   ],
   "source": [
    "# Пример\n",
    "class Name:\n",
    "    \"name descriptor docs\"\n",
    "    def __get__(self, instance, owner): # self-экземпляр класса Name, instance-экземпляр класса Person, owner-класс Person\n",
    "        return instance._name\n",
    "    \n",
    "    def __set__(self, instance, value):\n",
    "        instance._name = value\n",
    "    \n",
    "    def __delete__(self, instance):\n",
    "        del instance._name\n",
    "\n",
    "        \n",
    "class Person:\n",
    "    def __init__(self, name):\n",
    "        self._name = name\n",
    "    name = Name()\n",
    "\n",
    "p = Person('Maks')\n",
    "print(p.name)\n",
    "p.name = 'John'\n",
    "print(p.name)"
   ]
  },
  {
   "cell_type": "markdown",
   "id": "4ae4aa9c",
   "metadata": {},
   "source": [
    "> *Дескрипторы могут использовать состояние экземпляра и состояние дескриптора, а также любое их сочетание. Состояние дескриптора применяется для управления либо данными, используемыми при внутренней работе дескриптора, либо данными, которые охватывают все экземпляры. Состояние экземпляра хранит информацию, связанную и возможно созданную клиентским классом.*"
   ]
  },
  {
   "cell_type": "code",
   "execution_count": 77,
   "id": "398231be",
   "metadata": {},
   "outputs": [
    {
     "name": "stdout",
     "output_type": "stream",
     "text": [
      "20 10\n"
     ]
    }
   ],
   "source": [
    "class Desc:\n",
    "    def __init__(self, val):\n",
    "        self.val = val\n",
    "        \n",
    "    def __get__(self, instance, owner):\n",
    "        return self.val\n",
    "    \n",
    "    ...\n",
    "    \n",
    "class A:\n",
    "    x = Desc(20)\n",
    "    def __init__(self):\n",
    "        self.a = 10\n",
    "\n",
    "ex = A()\n",
    "print(ex.x, ex.a)"
   ]
  },
  {
   "cell_type": "markdown",
   "id": "04f6055d",
   "metadata": {},
   "source": [
    "> *Операции присваивания значений атрибутам внутри метода конструктора **\\_\\_init\\_\\_** запускают методы **\\_\\_set\\_\\_** дескриптора.*"
   ]
  },
  {
   "cell_type": "markdown",
   "id": "af948af2",
   "metadata": {},
   "source": [
    " ### Статические методы (staticmethod) и методы класса (classmethod)"
   ]
  },
  {
   "cell_type": "markdown",
   "id": "49dc9056",
   "metadata": {},
   "source": [
    "> *Метод экземпляра должен всегда вызываться с объектом экземпляра. Когда метод вызывается через экземпляр, интерпретатор Python автоматически передает объект экземпляра в первом (крайнем слева) аргументе; при вызове метода экземпляра через класс экземпляр потребуется передавать вручную.*\n",
    ">\n",
    "> *По контрасту статические методы вызываются без аргумента экземпляра. Использование встроенной функции staticmethod позволяет методам подобного рода вызываться также через экземпляр или через класс.*\n",
    ">\n",
    "> *Интерпретатор Python автоматически передает методу класса в первом аргументе класс (не экземпляр). Может вызыватся через класс или через экземпляр.*"
   ]
  },
  {
   "cell_type": "code",
   "execution_count": 22,
   "id": "7ae0f830",
   "metadata": {},
   "outputs": [
    {
     "name": "stdout",
     "output_type": "stream",
     "text": [
      "base method\n",
      "base method\n",
      "class method Base\n",
      "class method Base\n",
      "static method\n",
      "static method\n"
     ]
    }
   ],
   "source": [
    "class Base:\n",
    "    def meth(self):\n",
    "        return 'base method'\n",
    "    \n",
    "    @classmethod\n",
    "    def cmeth(cls):\n",
    "        return f'class method {cls.__name__}'\n",
    "    \n",
    "    @staticmethod\n",
    "    def smeth():\n",
    "        return 'static method'\n",
    "    \n",
    "    \n",
    "a = Base()\n",
    "# метод экземпляра\n",
    "print(a.meth())\n",
    "print(Base.meth(a))\n",
    "\n",
    "# метод класса \n",
    "print(a.cmeth())\n",
    "print(Base.cmeth())\n",
    "\n",
    "# статический метод\n",
    "print(a.smeth())\n",
    "print(Base.smeth())"
   ]
  },
  {
   "cell_type": "code",
   "execution_count": 23,
   "id": "7689beb6",
   "metadata": {},
   "outputs": [],
   "source": [
    "# подсчет количества экземпляров класса с помощью метода класса\n",
    "class class_MC:\n",
    "    count = 0\n",
    "    \n",
    "    @classmethod\n",
    "    def count_objects(cls):\n",
    "        return cls.count\n",
    "    \n",
    "    def __init__(self):\n",
    "        class_MC.count += 1\n",
    "\n",
    "    def __del__(self):\n",
    "        class_MC.count -= 1"
   ]
  },
  {
   "cell_type": "code",
   "execution_count": 24,
   "id": "b6946db3",
   "metadata": {},
   "outputs": [
    {
     "name": "stdout",
     "output_type": "stream",
     "text": [
      "1\n",
      "2\n",
      "1\n"
     ]
    }
   ],
   "source": [
    "# вызов метода класса осуществляется через объект экземпляра\n",
    "ax = class_MC()\n",
    "print(ax.count_objects())\n",
    "bx = class_MC()\n",
    "print(bx.count_objects())\n",
    "del(ax)\n",
    "print(bx.count_objects())"
   ]
  },
  {
   "cell_type": "code",
   "execution_count": 32,
   "id": "a11f265a",
   "metadata": {},
   "outputs": [],
   "source": [
    "# подсчет количества экземпляров класса с помощью статического метода\n",
    "class class_MS:\n",
    "    count = 0\n",
    "    \n",
    "    @staticmethod\n",
    "    def count_objects():\n",
    "        return class_MS.count\n",
    "    \n",
    "    def __init__(self):\n",
    "        class_MS.count += 1\n",
    "\n",
    "    def __del__(self):\n",
    "        class_MS.count -= 1"
   ]
  },
  {
   "cell_type": "code",
   "execution_count": 35,
   "id": "e64aec90",
   "metadata": {},
   "outputs": [
    {
     "name": "stdout",
     "output_type": "stream",
     "text": [
      "1\n",
      "2\n",
      "1\n"
     ]
    }
   ],
   "source": [
    "# вызов метода класса осуществляется через объект экземпляра\n",
    "axs = class_MS()\n",
    "print(axs.count_objects())\n",
    "bxs = class_MS()\n",
    "print(bxs.count_objects())\n",
    "del(axs)\n",
    "print(bxs.count_objects())"
   ]
  },
  {
   "cell_type": "markdown",
   "id": "8d0f7aab",
   "metadata": {},
   "source": [
    "> *Всякий раз, когда запускается метод класса, передается самый нижний класс, даже для подклассов, которые не имеют собственных методов классов.*"
   ]
  },
  {
   "cell_type": "code",
   "execution_count": 48,
   "id": "f6f3eae5",
   "metadata": {},
   "outputs": [],
   "source": [
    "class Base:\n",
    "    count = 0\n",
    "    \n",
    "    @classmethod\n",
    "    def count_objects(cls):\n",
    "        return f'{cls.count} at {cls.__name__}'\n",
    "    \n",
    "    def __init__(self):\n",
    "        Base.count += 1\n",
    "        \n",
    "class Other(Base):\n",
    "    ..."
   ]
  },
  {
   "cell_type": "code",
   "execution_count": 49,
   "id": "48e50d28",
   "metadata": {},
   "outputs": [
    {
     "name": "stdout",
     "output_type": "stream",
     "text": [
      "2 at Base\n",
      "2 at Other\n"
     ]
    }
   ],
   "source": [
    "a = Base()\n",
    "b = Other()\n",
    "print(a.count_objects())\n",
    "print(b.count_objects())"
   ]
  },
  {
   "cell_type": "markdown",
   "id": "de169b27",
   "metadata": {},
   "source": [
    "### Декораторы"
   ]
  },
  {
   "cell_type": "markdown",
   "id": "b6b084fc",
   "metadata": {},
   "source": [
    "> *Синтаксис декорирования*"
   ]
  },
  {
   "cell_type": "code",
   "execution_count": null,
   "id": "1257caa1",
   "metadata": {},
   "outputs": [],
   "source": [
    "# Функция декоратор\n",
    "def dec_func(func): ...\n",
    "def dec_func_cl(aClass): ...\n",
    "    \n",
    "# декорирование функции\n",
    "    # с помощью повторной привязки к имени\n",
    "    def func(): ...\n",
    "    \n",
    "    func = dec_func(func)\n",
    "    \n",
    "    # с помощью декорирования\n",
    "    @dec_func\n",
    "    def func(): ...\n",
    "    \n",
    "\n",
    "# декорирование метода класса\n",
    "    # с помощью повторной привязки к имени\n",
    "    class Base:\n",
    "        def meth(): ...\n",
    "\n",
    "        meth = dec_func(meth)\n",
    "\n",
    "    # с помощью декорирования\n",
    "    class Two:\n",
    "        @dec_func\n",
    "        def meth(): ...\n",
    "            \n",
    "            \n",
    "# декорирование класса\n",
    "    # с помощью повторной привязки к имени\n",
    "    class Base: ...\n",
    "    \n",
    "    Base = dec_func_cl(Base)\n",
    "    \n",
    "    # с помощью декорирования\n",
    "    @dec_func_cl\n",
    "    class Base: ..."
   ]
  },
  {
   "cell_type": "code",
   "execution_count": null,
   "id": "c7dbcb29",
   "metadata": {},
   "outputs": [],
   "source": [
    "# Класс декоратор\n",
    "class dec_class:\n",
    "    ...\n",
    "\n",
    "    \n",
    "# декорирование функции\n",
    "    # с помощью повторной привязки к имени\n",
    "    def func(): ...\n",
    "    \n",
    "    func = dec_class(func)\n",
    "    \n",
    "    # с помощью декорирования\n",
    "    @dec_class\n",
    "    def func(): ...\n",
    "    \n",
    "\n",
    "# ! Декорирование метода класса терпит неудачу.\n",
    "# Проблема заключается в том, что аргумент self в методе __call__ декоратора получает экземпляр класса декоратора, \n",
    "# когда метод вызывается позже, и экземпляр класса декорируемого метода никогда не помещается в *args. В результате \n",
    "# направление вызова исходному методу становится невозможным — объект декоратора хранит исходную функцию метода, но не \n",
    "# располагает экземпляром, чтобы ей передать.\n",
    "# Решение - использовать дескриптор с методом __get__.\n",
    "# Декорированные функции вызывают только метод __call__ и никогда метод __get__.\n",
    "# Декорированные методы вызывают сначала метод __get__, чтобы выполнить извлечение имени метода (для I.метод); \n",
    "# возвращенный методом __get__ объект хранит экземпляр целевого класса и затем вызывается с целью завершения\n",
    "# выражения вызова, тем самым запуская метод __call__ декоратора.\n",
    "\n",
    "class dec_desc() :               # декоратор + дескриптор\n",
    "    def __init__ (self, func):   \n",
    "        self.calls = 0           # Сохранение функции для вызова в будущем\n",
    "        self.func = func\n",
    "    def __call__ (self, *args, **kwargs):         # При обращении к исходной функции\n",
    "        self.calls += 1\n",
    "        print('call %s to %s' % (self.calls, self.func.__name__ ))\n",
    "        return self.func(*args, **kwargs)\n",
    "    def __get__ (self, instance, owner) :            # При извлечении метода\n",
    "        def wrapper(*args, **kwargs):                # Сохранение обоих экземпляров\n",
    "            return self(instance, *args, **kwargs)   # Запускается __call__\n",
    "        return wrapper\n",
    "    \n",
    "    \n",
    "    \n",
    "# декорирование класса\n",
    "    # с помощью повторной привязки к имени\n",
    "    class Base: ...\n",
    "    \n",
    "    Base = dec_class(Base)\n",
    "    \n",
    "    # с помощью декорирования\n",
    "    @dec_class\n",
    "    class Base: ..."
   ]
  },
  {
   "cell_type": "markdown",
   "id": "f5c420b1",
   "metadata": {},
   "source": [
    "> *Примеры декорирования*"
   ]
  },
  {
   "cell_type": "code",
   "execution_count": 79,
   "id": "b670fdbc",
   "metadata": {},
   "outputs": [
    {
     "name": "stdout",
     "output_type": "stream",
     "text": [
      "spam\n"
     ]
    }
   ],
   "source": [
    "# Функция декоратор со вложенным классом\n",
    "def decorator(cls) :                 \n",
    "    class Wrapper:\n",
    "        def __init__(self, *args) :     # При создании экземпляров\n",
    "            self.wrapped = cls(*args)\n",
    "        def __getattr__(self, name) :   # При извлечении атрибутов\n",
    "            return getattr(self.wrapped, name)\n",
    "    return Wrapper\n",
    "\n",
    "@decorator\n",
    "class C:                         # C = decorator(C)\n",
    "    def __init__ (self, x, у) :  # Запускается методом Wrapper,__init__\n",
    "        self.attr = 'spam'\n",
    "\n",
    "x = C(6, 1)                      # ! В действительности вызывается Wrapper(6 , 1)\n",
    "print (x.attr)"
   ]
  },
  {
   "cell_type": "code",
   "execution_count": 53,
   "id": "699e3111",
   "metadata": {},
   "outputs": [
    {
     "name": "stdout",
     "output_type": "stream",
     "text": [
      "2\n",
      "3\n",
      "4\n",
      "9\n"
     ]
    }
   ],
   "source": [
    "# класс декоратор\n",
    "class caller:\n",
    "    def __init__(self, func):\n",
    "        self.func = func\n",
    "        \n",
    "    def __call__(self, *args):\n",
    "        for arg in args:\n",
    "            print(arg)\n",
    "        return self.func(*args)\n",
    "\n",
    "# декорирование функции  \n",
    "# !!! sum_args = caller(sum_args) --> sum_args берет роль экземпляра\n",
    "@caller\n",
    "def sum_args(a, b, c):\n",
    "    return a + b + c\n",
    "\n",
    "# по факту вызов экземпляра класса caller\n",
    "print(sum_args(2, 3, 4))"
   ]
  },
  {
   "cell_type": "code",
   "execution_count": 52,
   "id": "b876d451",
   "metadata": {},
   "outputs": [
    {
     "name": "stdout",
     "output_type": "stream",
     "text": [
      "2\n",
      "3\n",
      "4\n",
      "9\n"
     ]
    }
   ],
   "source": [
    "# функция декоратор\n",
    "def caller(func):\n",
    "    def call(*args):\n",
    "        for arg in args:\n",
    "            print(arg)\n",
    "        return func(*args)\n",
    "    return call\n",
    "\n",
    "# sum_args = caller(sum_args)\n",
    "@caller\n",
    "def sum_args(a, b, c):\n",
    "    return a + b + c\n",
    "\n",
    "print(sum_args(2, 3, 4))"
   ]
  },
  {
   "cell_type": "code",
   "execution_count": null,
   "id": "f8cbf7da",
   "metadata": {},
   "outputs": [],
   "source": [
    "# Пример подсчета времени выполнения функции\n",
    "import time\n",
    "import random\n",
    "\n",
    "def duration(func):\n",
    "    def wrap(*args):\n",
    "        start = time.monotonic_ns()\n",
    "        result = func(*args)\n",
    "        print(f'{(time.monotonic_ns() - start) // 1000000}ms')\n",
    "        return result\n",
    "    return wrap\n",
    "\n",
    "@duration\n",
    "def new(l):\n",
    "    return sum(l)\n",
    "\n",
    "print(new([random.randrange(0, 100000) for i in range(1, 1000000)]))"
   ]
  },
  {
   "cell_type": "code",
   "execution_count": null,
   "id": "ef67bbb9",
   "metadata": {},
   "outputs": [],
   "source": [
    "# Пример подсчета времени выполнения функции через класс\n",
    "class duration_cl:\n",
    "    def __init__(self, func):\n",
    "        self.func = func\n",
    "\n",
    "    def __call__(self, *args):\n",
    "        start = time.monotonic_ns()\n",
    "        result = self.func(*args)\n",
    "        print(f'{(time.monotonic_ns() - start) // 1000000}ms')\n",
    "        return result\n",
    "\n",
    "@duration_cl\n",
    "def new(l):\n",
    "    return sum(l)\n",
    "\n",
    "print(new([random.randrange(0, 100000) for i in range(1, 1000000)]))"
   ]
  },
  {
   "cell_type": "markdown",
   "id": "f377a025",
   "metadata": {},
   "source": [
    "> *Вложенность декораторов. Каждый декоратор обрабатывает результат предыдущего декоратора, который может быть исходной функцией или вставленным объектом-оболочкой. Декоратор, указанный последним, применяется первым и является наиболее\n",
    "глубоко вложенным декоратором, когда позже происходит вызов имени исходной функции.*"
   ]
  },
  {
   "cell_type": "code",
   "execution_count": null,
   "id": "b0dd3e97",
   "metadata": {},
   "outputs": [],
   "source": [
    "@second\n",
    "@first\n",
    "def func(): ..."
   ]
  },
  {
   "cell_type": "markdown",
   "id": "39c0d7e4",
   "metadata": {},
   "source": [
    "> *Аргументы декоратора.* "
   ]
  },
  {
   "cell_type": "code",
   "execution_count": 85,
   "id": "e4d56fa8",
   "metadata": {},
   "outputs": [
    {
     "name": "stdout",
     "output_type": "stream",
     "text": [
      "14\n"
     ]
    }
   ],
   "source": [
    "def decor_ext(a, b):\n",
    "    def decor_int(func):\n",
    "        def wrap(*args):            \n",
    "            return func(*args)+(a+b)\n",
    "        return wrap\n",
    "    return decor_int\n",
    "\n",
    "@decor_ext(4, 5)\n",
    "def sm(x, y):\n",
    "    return x + y\n",
    "\n",
    "print(sm(2, 3))"
   ]
  },
  {
   "cell_type": "code",
   "execution_count": null,
   "id": "ae0bf486",
   "metadata": {},
   "outputs": [],
   "source": [
    "# Пример подсчета вызовов функции через декоратор функции и декоратор класса.\n",
    "def decor(func):\n",
    "    d = {}\n",
    "    def wrap(*args):\n",
    "        nonlocal d                   # переменная d в объемлющей области видимости\n",
    "        if func.__name__ not in d:\n",
    "            d[func.__name__] = 0\n",
    "        d[func.__name__] += 1\n",
    "        print(f'{func.__name__}: {d[func.__name__]}')\n",
    "        return func(*args)\n",
    "    return wrap\n",
    "\n",
    "\n",
    "class decor_cl:\n",
    "    cnt = 0\n",
    "    def __init__(self, func):\n",
    "        self.cnt = 0\n",
    "        self.func = func\n",
    "    def __call__(self, *args):\n",
    "        self.cnt += 1\n",
    "        print(f'{self.func.__name__}: {self.cnt}')\n",
    "        return self.func(*args) \n"
   ]
  },
  {
   "cell_type": "code",
   "execution_count": null,
   "id": "f92d34f1",
   "metadata": {},
   "outputs": [],
   "source": [
    "# Комбинация декоратора класса и декоратора функции\n",
    "def decorateAll(dec):\n",
    "    def DecoDecorate(aClass):\n",
    "        for el in aClass.__dict__:\n",
    "            if callable(aClass.__dict__[el]):\n",
    "                setattr(aClass, el, dec(aClass.__dict__[el]))\n",
    "        return aClass\n",
    "    return DecoDecorate\n",
    "\n",
    "\n",
    "def dec(func):\n",
    "    def wrap(*args):\n",
    "        print('dec_func')\n",
    "        return func(*args)\n",
    "    return wrap\n",
    " \n",
    "\n",
    "@decorateAll(dec) # Использование декоратора классов\n",
    "class Person: # Применение декоратора функций к методам\n",
    "    def __init__ (self, name, pay): # Person = decorateAll (,,) (Person)\n",
    "        self.name = name # Person = DecoDecorate(Person)\n",
    "        self.pay = pay\n",
    "    def giveRaise(self, percent):\n",
    "        self.pay *= (1.0 + percent)\n",
    "    def lastName(self):\n",
    "        return self.name.split()[-1]\n",
    "\n",
    "bob = Person('Bob Smith', 50000)\n",
    "sue = Person('Sue Jones', 100000)\n",
    "print(bob.name, sue.name)\n",
    "sue.giveRaise(.10)\n",
    "print('%.2f' % sue.pay)"
   ]
  },
  {
   "cell_type": "markdown",
   "id": "76d7548b",
   "metadata": {},
   "source": [
    "### super()"
   ]
  },
  {
   "cell_type": "markdown",
   "id": "83d4fd48",
   "metadata": {},
   "source": [
    "> *Функция **super()**, применяется для вызова методов суперкласса обобщенным образом.*"
   ]
  },
  {
   "cell_type": "code",
   "execution_count": 54,
   "id": "b7756422",
   "metadata": {},
   "outputs": [
    {
     "name": "stdout",
     "output_type": "stream",
     "text": [
      "A\n",
      "B\n"
     ]
    }
   ],
   "source": [
    "class A:\n",
    "    def action(self):\n",
    "        print('A')\n",
    "        \n",
    "class B(A):\n",
    "    def action(self):\n",
    "        super().action()\n",
    "        print('B')\n",
    "\n",
    "ex = B()\n",
    "ex.action()"
   ]
  },
  {
   "cell_type": "markdown",
   "id": "8ae708e3",
   "metadata": {},
   "source": [
    ">*При множественном наследовании при ромбовидной схеме функция super выбирать только крайний слева суперкласс,\n",
    "имеющий выполняемый метод (формально первый согласно MRO).*"
   ]
  },
  {
   "cell_type": "code",
   "execution_count": 57,
   "id": "e210590e",
   "metadata": {},
   "outputs": [
    {
     "name": "stdout",
     "output_type": "stream",
     "text": [
      "A\n",
      "B\n"
     ]
    }
   ],
   "source": [
    "class A:\n",
    "    def action(self):\n",
    "        print('A')\n",
    "        \n",
    "class B:\n",
    "    def action(self):\n",
    "        print('B')\n",
    "        \n",
    "class C(A, B):\n",
    "    def action(self):\n",
    "        super().action()\n",
    "\n",
    "class D(B, A):\n",
    "    def action(self):\n",
    "        super().action()\n",
    "        \n",
    "ex = C()\n",
    "ex.action()\n",
    "# и\n",
    "ex2 = D()\n",
    "ex2.action()"
   ]
  },
  {
   "cell_type": "markdown",
   "id": "edcd56cb",
   "metadata": {},
   "source": [
    "> *Традиционная форма указания суперклассов в классах при глубоком множественном наследовании. Особенности наследования в ромбовидной схеме не применяются!* "
   ]
  },
  {
   "cell_type": "code",
   "execution_count": 63,
   "id": "42ba1790",
   "metadata": {},
   "outputs": [
    {
     "name": "stdout",
     "output_type": "stream",
     "text": [
      "(<class '__main__.D'>, <class '__main__.B'>, <class '__main__.C'>, <class '__main__.A'>, <class 'object'>)\n",
      "meth D\n",
      "meth B\n",
      "meth A\n",
      "meth C\n",
      "meth A\n"
     ]
    }
   ],
   "source": [
    "class A:\n",
    "    def meth(self): print('meth A')\n",
    "        \n",
    "class B(A):\n",
    "    def meth(self): print('meth B'), A.meth(self)\n",
    "        \n",
    "class C(A):\n",
    "    def meth(self): print('meth C'), A.meth(self)\n",
    "        \n",
    "class D(B, C):\n",
    "    def meth(self): print('meth D'), B.meth(self), C.meth(self)\n",
    "\n",
    "print(D.__mro__)\n",
    "D().meth()"
   ]
  },
  {
   "cell_type": "markdown",
   "id": "67ee5805",
   "metadata": {},
   "source": [
    "> *Указание суперклассов в классах с помощью функции **super()** при глубоком множественном наследовании. Особенности наследования в ромбовидной схеме применяются!*"
   ]
  },
  {
   "cell_type": "code",
   "execution_count": 65,
   "id": "a9a785e0",
   "metadata": {},
   "outputs": [
    {
     "name": "stdout",
     "output_type": "stream",
     "text": [
      "(<class '__main__.D'>, <class '__main__.B'>, <class '__main__.C'>, <class '__main__.A'>, <class 'object'>)\n",
      "meth D\n",
      "meth B\n",
      "meth C\n",
      "meth A\n"
     ]
    }
   ],
   "source": [
    "class A:\n",
    "    def meth(self): print('meth A')\n",
    "        \n",
    "class B(A):\n",
    "    def meth(self): print('meth B'), super().meth()\n",
    "        \n",
    "class C(A):\n",
    "    def meth(self): print('meth C'), super().meth()\n",
    "        \n",
    "class D(B, C):\n",
    "    def meth(self): print('meth D'), super().meth()\n",
    "\n",
    "print(D.__mro__)\n",
    "D().meth()"
   ]
  },
  {
   "cell_type": "markdown",
   "id": "57028b5e",
   "metadata": {},
   "source": [
    "### Метаклассы"
   ]
  },
  {
   "cell_type": "markdown",
   "id": "fdbb77ea",
   "metadata": {},
   "source": [
    "> *Метаклассы дают возможность перехватывать и дополнять создание классов — они предоставляют API-интерфейс для вставки дополнительной логики, подлежащей выполнению в завершение оператора class.*\n",
    ">\n",
    "> *Метаклассы позволяют вставлять логику, подлежащую автоматическому выполнению в конце оператора class, когда создается объект класса. Механизм метаклассов поручает процедуру создания самого класса специализированной логике.*\n",
    ">\n",
    "> *По контрасту с декораторами классов метаклассы запускаются во время создания классов, чтобы создать и возвратить новый клиентский класс.*"
   ]
  },
  {
   "cell_type": "markdown",
   "id": "0b4a7714",
   "metadata": {},
   "source": [
    "> *Объявляя метакласс, интерпретатору Python сообщается о том, что процесс создания объекта класса должен быть направлен указанному нами другому классу.*"
   ]
  },
  {
   "cell_type": "code",
   "execution_count": null,
   "id": "9ababa80",
   "metadata": {},
   "outputs": [],
   "source": [
    "def extra(self, arg): ...\n",
    "\n",
    "class Extras(type):\n",
    "    def __init__ (Class, classname, superclasses, attributedict):\n",
    "        if required():               # некая проверка\n",
    "            Class.extra = extra\n",
    "\n",
    "class Clientl(metaclass=Extras): ... # Только объявление метакласса\n",
    "\n",
    "class Client2(metaclass=Extras): ... # Клиентский класс является экземпляром метакласса\n",
    "    \n",
    "class Client3(metaclass=Extras): ...\n",
    "X = Clientl()                        # X - экземпляр Clientl\n",
    "X.extra()"
   ]
  },
  {
   "cell_type": "markdown",
   "id": "3c3decfc",
   "metadata": {},
   "source": [
    "> *Объекты классов, определяемых пользователей, представляют собой экземпляры объекта по имени __type__, который сам по себе является классом.*\n",
    "> *Классы являются типами, а типы - классами. То есть:*\n",
    ">   + *типы определяются классами, которые унаследованы от __type__;*\n",
    ">   + *определяемые пользователем классы являются экземплярами класса __type__;*\n",
    ">   + *определяемые пользователем классы представляют собой типы, которые генерируют собственные экземпляры.*"
   ]
  },
  {
   "cell_type": "markdown",
   "id": "ef5e4674",
   "metadata": {},
   "source": [
    "> *Все определяемые пользователем классы являются экземплярами класса __type__, а объекты экземпляров — экземплярами своих классов. В действительности классы имеют атрибут **\\_\\_class\\_\\_** , ссылающийся на __type__, точно так же, как экземпляр имеет атрибут **\\_\\_class\\_\\_** , ссылающийся на класс, из которого он был создан.*"
   ]
  },
  {
   "cell_type": "code",
   "execution_count": 4,
   "id": "864a86d5",
   "metadata": {},
   "outputs": [
    {
     "name": "stdout",
     "output_type": "stream",
     "text": [
      "<class 'type'>\n",
      "<class 'type'>\n",
      "<class '__main__.Base'>\n",
      "<class '__main__.Base'>\n",
      "<class 'type'>\n"
     ]
    }
   ],
   "source": [
    "class Base():\n",
    "    ...\n",
    "\n",
    "print(Base.__class__)\n",
    "print(type(Base))\n",
    "ex = Base()\n",
    "print(ex.__class__)\n",
    "print(type(ex))\n",
    "# но !\n",
    "print(type.__class__)"
   ]
  },
  {
   "cell_type": "markdown",
   "id": "0f16b630",
   "metadata": {},
   "source": [
    "> + *__type__ является классом, который генерирует классы, определяемые пользователем;*\n",
    "> + *метаклассы представляют собой подклассы класса __type__;*\n",
    "> + *объекты классов являются экземплярами класса __type__ или какого-то из его подклассов;*\n",
    "> + *объекты экземпляров генерируются из класса.*"
   ]
  },
  {
   "cell_type": "code",
   "execution_count": null,
   "id": "fd69640e",
   "metadata": {},
   "outputs": [],
   "source": [
    "class Base(SuperClass, metaclass=Meta):\n",
    "    data = 5\n",
    "    def meth(self, val):\n",
    "        self.data = val\n",
    "# Вызов для создания объекта class, выполняемый в конце оператора class, модифицируется так, \n",
    "# чтобы обращаться к метаклассу, а не к type:\n",
    "# класс = Meta(имя_класса, суперклассы, словарь_атрибутов)\n",
    "# Base = Meta(’Base', (SuperClass,), {'data': 5, 'meth': meth, '__module__': '__ main__'})"
   ]
  },
  {
   "cell_type": "markdown",
   "id": "b279da18",
   "metadata": {},
   "source": [
    "> *Будучи подклассами __type__, они могут переопределять методы объекта __type__, настраивая их должным образом. Метаклассы, как правило, переопределяют методы **\\_\\_new\\_\\_** и **\\_\\_init\\_\\_** класса __type__ для настройки создания и инициализации классов. Хотя и реже, они могут переопределять также метод **\\_\\_call\\_\\_**, если требуется напрямую перехватывать вызов создания класса в конце.*\n",
    "> *Метакласс является подклассом **type**, метод **\\_\\_call\\_\\_** класса **type** делегирует вызовы для создания и инициализации нового объекта класса метаклассу, если в нем определены специальные версии следующих методов:*\n",
    "> + *__Meta.\\_\\_new\\_\\_(Meta, имя_класса, суперклассы, словарь_атрибутов)__*\n",
    "> + *__Meta.\\_\\_init\\_\\_(класс, имя_класса, суперклассы, словарь_атрибутов)__*"
   ]
  },
  {
   "cell_type": "code",
   "execution_count": 6,
   "id": "dd562182",
   "metadata": {},
   "outputs": [
    {
     "name": "stdout",
     "output_type": "stream",
     "text": [
      "<class '__main__.MetaOne'>\n",
      "...Base\n",
      "...()\n",
      "...{'__module__': '__main__', '__qualname__': 'Base'}\n"
     ]
    }
   ],
   "source": [
    "class MetaOne(type):\n",
    "    def __new__ (meta, classname, supers, classdict):\n",
    "        print(meta, classname, supers, classdict, sep='\\n...')\n",
    "        return type.__new__(meta, classname, supers, classdict)\n",
    "\n",
    "class Base(metaclass=MetaOne): ...\n",
    "\n",
    "ex = Base()     # при создании класса Base отрабатывает метод __new__ метакласса"
   ]
  },
  {
   "cell_type": "markdown",
   "id": "649a3c19",
   "metadata": {},
   "source": [
    "> *В общем случае метод **\\_\\_new\\_\\_** создает и возвращает объект класса, а метод **\\_\\_init\\_\\_** инициализирует уже созданный класс, передаваемый в качестве аргумента. Метаклассы могут применять любую из двух или обе привязки для управления классом на стадии создания.*"
   ]
  },
  {
   "cell_type": "code",
   "execution_count": 7,
   "id": "0d163ab0",
   "metadata": {},
   "outputs": [
    {
     "name": "stdout",
     "output_type": "stream",
     "text": [
      "__new__\n",
      "...<class '__main__.MetaTwo'>\n",
      "...Base\n",
      "...()\n",
      "...{'__module__': '__main__', '__qualname__': 'Base', 'data': 5}\n",
      "__init__\n",
      "...<class '__main__.Base'>\n",
      "...Base\n",
      "...()\n",
      "...{'__module__': '__main__', '__qualname__': 'Base', 'data': 5}\n",
      "['__module__', 'data', '__dict__', '__weakref__', '__doc__']\n"
     ]
    }
   ],
   "source": [
    "class MetaTwo(type):\n",
    "    def __new__ (meta, classname, supers, classdict):\n",
    "        print('__new__', meta, classname, supers, classdict, sep='\\n...')\n",
    "        return type.__new__(meta, classname, supers, classdict)\n",
    "    def __init__ (Class, classname, supers, classdict) :\n",
    "        print('__init__', Class, classname, supers, classdict, sep='\\n...')\n",
    "        print(list(Class.__dict__.keys()))\n",
    "        \n",
    "class Base(metaclass=MetaTwo):\n",
    "    data = 5\n",
    "    \n",
    "ex = Base()"
   ]
  },
  {
   "cell_type": "code",
   "execution_count": 8,
   "id": "7d4aae68",
   "metadata": {},
   "outputs": [
    {
     "name": "stdout",
     "output_type": "stream",
     "text": [
      "Base\n",
      "...()\n",
      "...{'__module__': '__main__', '__qualname__': 'Base'}\n"
     ]
    }
   ],
   "source": [
    "# Простая функция тоже может служить в качестве метакласса\n",
    "def MetaFunc(classname, supers, classdict):\n",
    "    print(classname, supers, classdict, sep='\\n...')\n",
    "    return type(classname, supers, classdict)\n",
    "\n",
    "class Base(metaclass=MetaFunc): ...\n",
    "    \n",
    "ex = Base()"
   ]
  },
  {
   "cell_type": "markdown",
   "id": "1d53d0e1",
   "metadata": {},
   "source": [
    "> *Атрибуты метаклассов не наследуются экземплярами классов!*"
   ]
  },
  {
   "cell_type": "code",
   "execution_count": 11,
   "id": "148444fe",
   "metadata": {},
   "outputs": [
    {
     "name": "stdout",
     "output_type": "stream",
     "text": [
      "1\n"
     ]
    },
    {
     "ename": "AttributeError",
     "evalue": "'Base' object has no attribute 'attr'",
     "output_type": "error",
     "traceback": [
      "\u001b[1;31m---------------------------------------------------------------------------\u001b[0m",
      "\u001b[1;31mAttributeError\u001b[0m                            Traceback (most recent call last)",
      "\u001b[1;32m~\\AppData\\Local\\Temp\\ipykernel_10244\\432346311.py\u001b[0m in \u001b[0;36m<module>\u001b[1;34m\u001b[0m\n\u001b[0;32m      7\u001b[0m \u001b[1;31m# ! но\u001b[0m\u001b[1;33m\u001b[0m\u001b[1;33m\u001b[0m\u001b[0m\n\u001b[0;32m      8\u001b[0m \u001b[0mex\u001b[0m \u001b[1;33m=\u001b[0m \u001b[0mBase\u001b[0m\u001b[1;33m(\u001b[0m\u001b[1;33m)\u001b[0m\u001b[1;33m\u001b[0m\u001b[1;33m\u001b[0m\u001b[0m\n\u001b[1;32m----> 9\u001b[1;33m \u001b[0mprint\u001b[0m\u001b[1;33m(\u001b[0m\u001b[0mex\u001b[0m\u001b[1;33m.\u001b[0m\u001b[0mattr\u001b[0m\u001b[1;33m)\u001b[0m\u001b[1;33m\u001b[0m\u001b[1;33m\u001b[0m\u001b[0m\n\u001b[0m",
      "\u001b[1;31mAttributeError\u001b[0m: 'Base' object has no attribute 'attr'"
     ]
    }
   ],
   "source": [
    "class Meta(type): attr = 1\n",
    "    \n",
    "class Base(metaclass=Meta):\n",
    "    ...\n",
    "    \n",
    "print(Base.attr)\n",
    "# ! но\n",
    "ex = Base()\n",
    "print(ex.attr)"
   ]
  },
  {
   "cell_type": "markdown",
   "id": "a1c564e0",
   "metadata": {},
   "source": [
    "#### Перегрузка операций в методах метаклассов"
   ]
  },
  {
   "cell_type": "code",
   "execution_count": 15,
   "id": "60b960c1",
   "metadata": {},
   "outputs": [
    {
     "name": "stdout",
     "output_type": "stream",
     "text": [
      "3\n",
      "[1, 2, 3, 4, 5]\n"
     ]
    }
   ],
   "source": [
    "class Meta(type):\n",
    "    def __getitem__(cls, i):\n",
    "        return cls.data[i]\n",
    "    \n",
    "    def __getattr__(cls, name_attr):\n",
    "        return getattr(cls.data, name_attr)\n",
    "    \n",
    "class Base(metaclass=Meta): data = [1, 2, 3, 4]\n",
    "    \n",
    "print(Base[2])\n",
    "Base.append(5)\n",
    "print(Base.data)"
   ]
  }
 ],
 "metadata": {
  "celltoolbar": "Отсутствует",
  "kernelspec": {
   "display_name": "Python 3 (ipykernel)",
   "language": "python",
   "name": "python3"
  },
  "language_info": {
   "codemirror_mode": {
    "name": "ipython",
    "version": 3
   },
   "file_extension": ".py",
   "mimetype": "text/x-python",
   "name": "python",
   "nbconvert_exporter": "python",
   "pygments_lexer": "ipython3",
   "version": "3.9.13"
  }
 },
 "nbformat": 4,
 "nbformat_minor": 5
}
