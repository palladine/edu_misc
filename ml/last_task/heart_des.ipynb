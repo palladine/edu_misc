{
 "cells": [
  {
   "cell_type": "markdown",
   "metadata": {
    "_cell_guid": "b1076dfc-b9ad-4769-8c92-a6c4dae69d19",
    "_uuid": "8f2839f25d086af736a60e9eeb907d3b93b6e0e5",
    "papermill": {
     "duration": 0.036759,
     "end_time": "2020-09-25T13:48:44.138634",
     "exception": false,
     "start_time": "2020-09-25T13:48:44.101875",
     "status": "completed"
    },
    "tags": []
   },
   "source": [
    "# Разработка моделей предсказания возникновения сердечно-сосудистых заболеваний\n",
    "## Данные UCI о болезнях сердца\n",
    "\n",
    "Каждый день сердце среднестатистического человека бьется около 100 000 раз, перекачивая по телу 7600 литров крови. Длина всех кровеносных сосудов взрослого человека имеет протяжённость приблизительно 100 000 км. Все кровеносные сосуды образуют вместе с сердцем анатомическую основу для системы кровообращения и тем самым, транспорт кислорода и питательных веществ во всё тело.\n",
    "\n",
    "## Сердечные заболевания\n",
    "\n",
    "Заболевание сердца описываются - состояние, влияющее на сердце и кровяные сосуды сердца. Это может быть заболевание коронарной артерии, недостаточность сердца или аритмия сердца.\n",
    "\n",
    "Сердечный приступ может случиться внезапно, а также происходить в течение нескольких часов, дней или даже недель до приступа. Хотя заболевание сердца не имеет симптомов, как таковых, все же должны существовать какие-либо признаки. У мужчин и женщин боль в грудной клетке или руке или дискомфорт могут указывать на заболевание сердца. Боль может быть резкой или умеренной, она может длиться от нескольких минут и возвращаться опять. Также боль может стать потенциальным сигналом для сердечного приступа.\n"
   ]
  },
  {
   "cell_type": "markdown",
   "metadata": {
    "_cell_guid": "79c7e3d0-c299-4dcb-8224-4455121ee9b0",
    "_uuid": "d629ff2d2480ee46fbb7e2d37f6b5fab8052498a",
    "collapsed": true,
    "papermill": {
     "duration": 0.035775,
     "end_time": "2020-09-25T13:48:44.211409",
     "exception": false,
     "start_time": "2020-09-25T13:48:44.175634",
     "status": "completed"
    },
    "tags": []
   },
   "source": [
    "## Описания столбцов:\n",
    "* id (Уникальный идентификатор для каждого пациента)\n",
    "* age (возраст пациента в годах)\n",
    "* origin (место сбора данных)\n",
    "* sex (мужской/женский)\n",
    "* cp chest pain type (тип боли в груди - [типичная стенокардия, атипичная стенокардия, неангинальная, бессимптомная])\n",
    "* trestbps resting blood pressure (артериальное давление в состоянии покоя (в мм рт. ст. при поступлении в больницу))\n",
    "* chol (холестерин в сыворотке крови в мг/дл)\n",
    "* fbs (если уровень сахара в крови натощак > 120 мг/дл)\n",
    "* restecg (результаты электрокардиографии в состоянии покоя - [норма, аномалия stt, гипертрофия lv])\n",
    "* thalach (максимальная частота сердечных сокращений)\n",
    "* exang (стенокардия, вызванная физической нагрузкой (правда/ложь))\n",
    "* oldpeak (Депрессия ST-сегмента, вызванная физической нагрузкой по сравнению с покоем)\n",
    "* slope (наклон сегмента ST пика физической нагрузки)\n",
    "* ca (количество крупных сосудов (0-3), окрашенных при рентгеноскопии)\n",
    "* thal (талассемии  - [норма; фиксированный дефект; обратимый дефект])\n",
    "* num (прогнозируемый признак - [0=нет сердечных заболеваний; 1,2,3,4 = какое-то сердечное заболевание])"
   ]
  },
  {
   "cell_type": "markdown",
   "metadata": {
    "papermill": {
     "duration": 0.035056,
     "end_time": "2020-09-25T13:48:44.282692",
     "exception": false,
     "start_time": "2020-09-25T13:48:44.247636",
     "status": "completed"
    },
    "tags": []
   },
   "source": [
    "### Загружаем необходимые библиотеки и датасет\n"
   ]
  },
  {
   "cell_type": "code",
   "execution_count": 47,
   "metadata": {
    "execution": {
     "iopub.execute_input": "2020-09-25T13:48:44.364344Z",
     "iopub.status.busy": "2020-09-25T13:48:44.363520Z",
     "iopub.status.idle": "2020-09-25T13:48:47.673949Z",
     "shell.execute_reply": "2020-09-25T13:48:47.673120Z"
    },
    "papermill": {
     "duration": 3.355939,
     "end_time": "2020-09-25T13:48:47.674078",
     "exception": false,
     "start_time": "2020-09-25T13:48:44.318139",
     "status": "completed"
    },
    "tags": []
   },
   "outputs": [],
   "source": [
    "import numpy as np\n",
    "import pandas as pd\n",
    "\n",
    "import seaborn as sns\n",
    "import matplotlib.pyplot as plt\n",
    "\n",
    "%matplotlib inline\n"
   ]
  },
  {
   "cell_type": "code",
   "execution_count": 48,
   "metadata": {},
   "outputs": [
    {
     "data": {
      "text/html": [
       "<div>\n",
       "<style scoped>\n",
       "    .dataframe tbody tr th:only-of-type {\n",
       "        vertical-align: middle;\n",
       "    }\n",
       "\n",
       "    .dataframe tbody tr th {\n",
       "        vertical-align: top;\n",
       "    }\n",
       "\n",
       "    .dataframe thead th {\n",
       "        text-align: right;\n",
       "    }\n",
       "</style>\n",
       "<table border=\"1\" class=\"dataframe\">\n",
       "  <thead>\n",
       "    <tr style=\"text-align: right;\">\n",
       "      <th></th>\n",
       "      <th>id</th>\n",
       "      <th>age</th>\n",
       "      <th>sex</th>\n",
       "      <th>dataset</th>\n",
       "      <th>cp</th>\n",
       "      <th>trestbps</th>\n",
       "      <th>chol</th>\n",
       "      <th>fbs</th>\n",
       "      <th>restecg</th>\n",
       "      <th>thalch</th>\n",
       "      <th>exang</th>\n",
       "      <th>oldpeak</th>\n",
       "      <th>slope</th>\n",
       "      <th>ca</th>\n",
       "      <th>thal</th>\n",
       "      <th>num</th>\n",
       "    </tr>\n",
       "  </thead>\n",
       "  <tbody>\n",
       "    <tr>\n",
       "      <th>0</th>\n",
       "      <td>1</td>\n",
       "      <td>63</td>\n",
       "      <td>Male</td>\n",
       "      <td>Cleveland</td>\n",
       "      <td>typical angina</td>\n",
       "      <td>145.0</td>\n",
       "      <td>233.0</td>\n",
       "      <td>True</td>\n",
       "      <td>lv hypertrophy</td>\n",
       "      <td>150.0</td>\n",
       "      <td>False</td>\n",
       "      <td>2.3</td>\n",
       "      <td>downsloping</td>\n",
       "      <td>0.0</td>\n",
       "      <td>fixed defect</td>\n",
       "      <td>0</td>\n",
       "    </tr>\n",
       "    <tr>\n",
       "      <th>1</th>\n",
       "      <td>2</td>\n",
       "      <td>67</td>\n",
       "      <td>Male</td>\n",
       "      <td>Cleveland</td>\n",
       "      <td>asymptomatic</td>\n",
       "      <td>160.0</td>\n",
       "      <td>286.0</td>\n",
       "      <td>False</td>\n",
       "      <td>lv hypertrophy</td>\n",
       "      <td>108.0</td>\n",
       "      <td>True</td>\n",
       "      <td>1.5</td>\n",
       "      <td>flat</td>\n",
       "      <td>3.0</td>\n",
       "      <td>normal</td>\n",
       "      <td>2</td>\n",
       "    </tr>\n",
       "    <tr>\n",
       "      <th>2</th>\n",
       "      <td>3</td>\n",
       "      <td>67</td>\n",
       "      <td>Male</td>\n",
       "      <td>Cleveland</td>\n",
       "      <td>asymptomatic</td>\n",
       "      <td>120.0</td>\n",
       "      <td>229.0</td>\n",
       "      <td>False</td>\n",
       "      <td>lv hypertrophy</td>\n",
       "      <td>129.0</td>\n",
       "      <td>True</td>\n",
       "      <td>2.6</td>\n",
       "      <td>flat</td>\n",
       "      <td>2.0</td>\n",
       "      <td>reversable defect</td>\n",
       "      <td>1</td>\n",
       "    </tr>\n",
       "    <tr>\n",
       "      <th>3</th>\n",
       "      <td>4</td>\n",
       "      <td>37</td>\n",
       "      <td>Male</td>\n",
       "      <td>Cleveland</td>\n",
       "      <td>non-anginal</td>\n",
       "      <td>130.0</td>\n",
       "      <td>250.0</td>\n",
       "      <td>False</td>\n",
       "      <td>normal</td>\n",
       "      <td>187.0</td>\n",
       "      <td>False</td>\n",
       "      <td>3.5</td>\n",
       "      <td>downsloping</td>\n",
       "      <td>0.0</td>\n",
       "      <td>normal</td>\n",
       "      <td>0</td>\n",
       "    </tr>\n",
       "    <tr>\n",
       "      <th>4</th>\n",
       "      <td>5</td>\n",
       "      <td>41</td>\n",
       "      <td>Female</td>\n",
       "      <td>Cleveland</td>\n",
       "      <td>atypical angina</td>\n",
       "      <td>130.0</td>\n",
       "      <td>204.0</td>\n",
       "      <td>False</td>\n",
       "      <td>lv hypertrophy</td>\n",
       "      <td>172.0</td>\n",
       "      <td>False</td>\n",
       "      <td>1.4</td>\n",
       "      <td>upsloping</td>\n",
       "      <td>0.0</td>\n",
       "      <td>normal</td>\n",
       "      <td>0</td>\n",
       "    </tr>\n",
       "  </tbody>\n",
       "</table>\n",
       "</div>"
      ],
      "text/plain": [
       "   id  age     sex    dataset               cp  trestbps   chol    fbs  \\\n",
       "0   1   63    Male  Cleveland   typical angina     145.0  233.0   True   \n",
       "1   2   67    Male  Cleveland     asymptomatic     160.0  286.0  False   \n",
       "2   3   67    Male  Cleveland     asymptomatic     120.0  229.0  False   \n",
       "3   4   37    Male  Cleveland      non-anginal     130.0  250.0  False   \n",
       "4   5   41  Female  Cleveland  atypical angina     130.0  204.0  False   \n",
       "\n",
       "          restecg  thalch  exang  oldpeak        slope   ca  \\\n",
       "0  lv hypertrophy   150.0  False      2.3  downsloping  0.0   \n",
       "1  lv hypertrophy   108.0   True      1.5         flat  3.0   \n",
       "2  lv hypertrophy   129.0   True      2.6         flat  2.0   \n",
       "3          normal   187.0  False      3.5  downsloping  0.0   \n",
       "4  lv hypertrophy   172.0  False      1.4    upsloping  0.0   \n",
       "\n",
       "                thal  num  \n",
       "0       fixed defect    0  \n",
       "1             normal    2  \n",
       "2  reversable defect    1  \n",
       "3             normal    0  \n",
       "4             normal    0  "
      ]
     },
     "execution_count": 48,
     "metadata": {},
     "output_type": "execute_result"
    }
   ],
   "source": [
    "# Загружаем данные\n",
    "data = pd.read_csv('heart_disease_uci.csv')\n",
    "data.head()"
   ]
  },
  {
   "cell_type": "code",
   "execution_count": 49,
   "metadata": {},
   "outputs": [
    {
     "name": "stdout",
     "output_type": "stream",
     "text": [
      "<class 'pandas.core.frame.DataFrame'>\n",
      "RangeIndex: 920 entries, 0 to 919\n",
      "Data columns (total 16 columns):\n",
      " #   Column    Non-Null Count  Dtype  \n",
      "---  ------    --------------  -----  \n",
      " 0   id        920 non-null    int64  \n",
      " 1   age       920 non-null    int64  \n",
      " 2   sex       920 non-null    object \n",
      " 3   dataset   920 non-null    object \n",
      " 4   cp        920 non-null    object \n",
      " 5   trestbps  861 non-null    float64\n",
      " 6   chol      890 non-null    float64\n",
      " 7   fbs       830 non-null    object \n",
      " 8   restecg   918 non-null    object \n",
      " 9   thalch    865 non-null    float64\n",
      " 10  exang     865 non-null    object \n",
      " 11  oldpeak   858 non-null    float64\n",
      " 12  slope     611 non-null    object \n",
      " 13  ca        309 non-null    float64\n",
      " 14  thal      434 non-null    object \n",
      " 15  num       920 non-null    int64  \n",
      "dtypes: float64(5), int64(3), object(8)\n",
      "memory usage: 115.1+ KB\n"
     ]
    }
   ],
   "source": [
    "data.info()"
   ]
  },
  {
   "cell_type": "code",
   "execution_count": 50,
   "metadata": {},
   "outputs": [
    {
     "name": "stdout",
     "output_type": "stream",
     "text": [
      "Количество наблюдений: 920\n",
      "Пропусков в данных: 1759\n",
      "Количество повторяющихся строк: 0\n"
     ]
    }
   ],
   "source": [
    "print(\"Количество наблюдений:\", data.shape[0])\n",
    "print(\"Пропусков в данных:\", data.isna().sum().sum())\n",
    "print(\"Количество повторяющихся строк:\", data.duplicated().sum())"
   ]
  },
  {
   "cell_type": "markdown",
   "metadata": {
    "papermill": {
     "duration": 0.035642,
     "end_time": "2020-09-25T13:48:47.746714",
     "exception": false,
     "start_time": "2020-09-25T13:48:47.711072",
     "status": "completed"
    },
    "tags": []
   },
   "source": [
    "### Обработка  данных:\n",
    "\n",
    "Если в записи какого-либо пациента есть недостающие значения, мы полностью удалим эту запись. \n",
    "\n",
    "Удалим столбец dataset, который просто информирует нас о месте сбора данных."
   ]
  },
  {
   "cell_type": "code",
   "execution_count": 51,
   "metadata": {
    "execution": {
     "iopub.execute_input": "2020-09-25T13:48:47.829665Z",
     "iopub.status.busy": "2020-09-25T13:48:47.828795Z",
     "iopub.status.idle": "2020-09-25T13:48:47.898823Z",
     "shell.execute_reply": "2020-09-25T13:48:47.899629Z"
    },
    "papermill": {
     "duration": 0.116978,
     "end_time": "2020-09-25T13:48:47.899944",
     "exception": false,
     "start_time": "2020-09-25T13:48:47.782966",
     "status": "completed"
    },
    "tags": []
   },
   "outputs": [
    {
     "name": "stdout",
     "output_type": "stream",
     "text": [
      "<class 'pandas.core.frame.DataFrame'>\n",
      "Int64Index: 299 entries, 0 to 748\n",
      "Data columns (total 14 columns):\n",
      " #   Column    Non-Null Count  Dtype  \n",
      "---  ------    --------------  -----  \n",
      " 0   age       299 non-null    int64  \n",
      " 1   sex       299 non-null    object \n",
      " 2   cp        299 non-null    object \n",
      " 3   trestbps  299 non-null    float64\n",
      " 4   chol      299 non-null    float64\n",
      " 5   fbs       299 non-null    object \n",
      " 6   restecg   299 non-null    object \n",
      " 7   thalch    299 non-null    float64\n",
      " 8   exang     299 non-null    object \n",
      " 9   oldpeak   299 non-null    float64\n",
      " 10  slope     299 non-null    object \n",
      " 11  ca        299 non-null    float64\n",
      " 12  thal      299 non-null    object \n",
      " 13  num       299 non-null    int64  \n",
      "dtypes: float64(5), int64(2), object(7)\n",
      "memory usage: 35.0+ KB\n"
     ]
    }
   ],
   "source": [
    "data.dropna(inplace=True, axis=0)\n",
    "data.drop([\"id\", \"dataset\"], inplace=True, axis=1)\n",
    "data.info()"
   ]
  },
  {
   "cell_type": "code",
   "execution_count": 52,
   "metadata": {},
   "outputs": [
    {
     "name": "stdout",
     "output_type": "stream",
     "text": [
      "Категориальные атрибуты:\n"
     ]
    },
    {
     "data": {
      "text/plain": [
       "['sex', 'cp', 'fbs', 'restecg', 'exang', 'slope', 'thal']"
      ]
     },
     "execution_count": 52,
     "metadata": {},
     "output_type": "execute_result"
    }
   ],
   "source": [
    "print(\"Категориальные атрибуты:\")\n",
    "kategorial = data.select_dtypes(include='object').columns.to_list()\n",
    "kategorial"
   ]
  },
  {
   "cell_type": "markdown",
   "metadata": {},
   "source": [
    "ВАЖНО! \n",
    "\n",
    "sex, fbs, exang бинарные признаки. Необходимо их перекодировать."
   ]
  },
  {
   "cell_type": "code",
   "execution_count": 53,
   "metadata": {},
   "outputs": [],
   "source": [
    "data['sex'] = (data['sex'] == 'Male')*1\n",
    "data['fbs'] = (data['fbs'] == 'True')*1\n",
    "data['exang'] = (data['exang'] == 'True')*1"
   ]
  },
  {
   "cell_type": "markdown",
   "metadata": {},
   "source": [
    "Теперь:"
   ]
  },
  {
   "cell_type": "code",
   "execution_count": 54,
   "metadata": {},
   "outputs": [
    {
     "name": "stdout",
     "output_type": "stream",
     "text": [
      "Категориальные атрибуты:\n"
     ]
    },
    {
     "data": {
      "text/plain": [
       "['cp', 'restecg', 'slope', 'thal']"
      ]
     },
     "execution_count": 54,
     "metadata": {},
     "output_type": "execute_result"
    }
   ],
   "source": [
    "print(\"Категориальные атрибуты:\")\n",
    "kategorial = data.select_dtypes(include='object').columns.to_list()\n",
    "kategorial"
   ]
  },
  {
   "cell_type": "markdown",
   "metadata": {},
   "source": [
    "Преобразуем имеющиеся категориальные признаки\n",
    "\n"
   ]
  },
  {
   "cell_type": "code",
   "execution_count": 55,
   "metadata": {},
   "outputs": [
    {
     "name": "stdout",
     "output_type": "stream",
     "text": [
      "Столбец - cp \n",
      " уникальные значения - ['typical angina' 'asymptomatic' 'non-anginal' 'atypical angina']\n",
      "Столбец - restecg \n",
      " уникальные значения - ['lv hypertrophy' 'normal' 'st-t abnormality']\n",
      "Столбец - slope \n",
      " уникальные значения - ['downsloping' 'flat' 'upsloping']\n",
      "Столбец - thal \n",
      " уникальные значения - ['fixed defect' 'normal' 'reversable defect']\n"
     ]
    }
   ],
   "source": [
    "for kat in kategorial:\n",
    "    print(\"Столбец -\", kat, \"\\n уникальные значения -\", data[kat].unique())"
   ]
  },
  {
   "cell_type": "code",
   "execution_count": 56,
   "metadata": {},
   "outputs": [],
   "source": [
    "data = pd.get_dummies(data)"
   ]
  },
  {
   "cell_type": "code",
   "execution_count": 57,
   "metadata": {},
   "outputs": [
    {
     "data": {
      "text/html": [
       "<div>\n",
       "<style scoped>\n",
       "    .dataframe tbody tr th:only-of-type {\n",
       "        vertical-align: middle;\n",
       "    }\n",
       "\n",
       "    .dataframe tbody tr th {\n",
       "        vertical-align: top;\n",
       "    }\n",
       "\n",
       "    .dataframe thead th {\n",
       "        text-align: right;\n",
       "    }\n",
       "</style>\n",
       "<table border=\"1\" class=\"dataframe\">\n",
       "  <thead>\n",
       "    <tr style=\"text-align: right;\">\n",
       "      <th></th>\n",
       "      <th>age</th>\n",
       "      <th>sex</th>\n",
       "      <th>trestbps</th>\n",
       "      <th>chol</th>\n",
       "      <th>fbs</th>\n",
       "      <th>thalch</th>\n",
       "      <th>exang</th>\n",
       "      <th>oldpeak</th>\n",
       "      <th>ca</th>\n",
       "      <th>num</th>\n",
       "      <th>...</th>\n",
       "      <th>cp_typical angina</th>\n",
       "      <th>restecg_lv hypertrophy</th>\n",
       "      <th>restecg_normal</th>\n",
       "      <th>restecg_st-t abnormality</th>\n",
       "      <th>slope_downsloping</th>\n",
       "      <th>slope_flat</th>\n",
       "      <th>slope_upsloping</th>\n",
       "      <th>thal_fixed defect</th>\n",
       "      <th>thal_normal</th>\n",
       "      <th>thal_reversable defect</th>\n",
       "    </tr>\n",
       "  </thead>\n",
       "  <tbody>\n",
       "    <tr>\n",
       "      <th>0</th>\n",
       "      <td>63</td>\n",
       "      <td>1</td>\n",
       "      <td>145.0</td>\n",
       "      <td>233.0</td>\n",
       "      <td>0</td>\n",
       "      <td>150.0</td>\n",
       "      <td>0</td>\n",
       "      <td>2.3</td>\n",
       "      <td>0.0</td>\n",
       "      <td>0</td>\n",
       "      <td>...</td>\n",
       "      <td>1</td>\n",
       "      <td>1</td>\n",
       "      <td>0</td>\n",
       "      <td>0</td>\n",
       "      <td>1</td>\n",
       "      <td>0</td>\n",
       "      <td>0</td>\n",
       "      <td>1</td>\n",
       "      <td>0</td>\n",
       "      <td>0</td>\n",
       "    </tr>\n",
       "    <tr>\n",
       "      <th>1</th>\n",
       "      <td>67</td>\n",
       "      <td>1</td>\n",
       "      <td>160.0</td>\n",
       "      <td>286.0</td>\n",
       "      <td>0</td>\n",
       "      <td>108.0</td>\n",
       "      <td>0</td>\n",
       "      <td>1.5</td>\n",
       "      <td>3.0</td>\n",
       "      <td>2</td>\n",
       "      <td>...</td>\n",
       "      <td>0</td>\n",
       "      <td>1</td>\n",
       "      <td>0</td>\n",
       "      <td>0</td>\n",
       "      <td>0</td>\n",
       "      <td>1</td>\n",
       "      <td>0</td>\n",
       "      <td>0</td>\n",
       "      <td>1</td>\n",
       "      <td>0</td>\n",
       "    </tr>\n",
       "    <tr>\n",
       "      <th>2</th>\n",
       "      <td>67</td>\n",
       "      <td>1</td>\n",
       "      <td>120.0</td>\n",
       "      <td>229.0</td>\n",
       "      <td>0</td>\n",
       "      <td>129.0</td>\n",
       "      <td>0</td>\n",
       "      <td>2.6</td>\n",
       "      <td>2.0</td>\n",
       "      <td>1</td>\n",
       "      <td>...</td>\n",
       "      <td>0</td>\n",
       "      <td>1</td>\n",
       "      <td>0</td>\n",
       "      <td>0</td>\n",
       "      <td>0</td>\n",
       "      <td>1</td>\n",
       "      <td>0</td>\n",
       "      <td>0</td>\n",
       "      <td>0</td>\n",
       "      <td>1</td>\n",
       "    </tr>\n",
       "    <tr>\n",
       "      <th>3</th>\n",
       "      <td>37</td>\n",
       "      <td>1</td>\n",
       "      <td>130.0</td>\n",
       "      <td>250.0</td>\n",
       "      <td>0</td>\n",
       "      <td>187.0</td>\n",
       "      <td>0</td>\n",
       "      <td>3.5</td>\n",
       "      <td>0.0</td>\n",
       "      <td>0</td>\n",
       "      <td>...</td>\n",
       "      <td>0</td>\n",
       "      <td>0</td>\n",
       "      <td>1</td>\n",
       "      <td>0</td>\n",
       "      <td>1</td>\n",
       "      <td>0</td>\n",
       "      <td>0</td>\n",
       "      <td>0</td>\n",
       "      <td>1</td>\n",
       "      <td>0</td>\n",
       "    </tr>\n",
       "    <tr>\n",
       "      <th>4</th>\n",
       "      <td>41</td>\n",
       "      <td>0</td>\n",
       "      <td>130.0</td>\n",
       "      <td>204.0</td>\n",
       "      <td>0</td>\n",
       "      <td>172.0</td>\n",
       "      <td>0</td>\n",
       "      <td>1.4</td>\n",
       "      <td>0.0</td>\n",
       "      <td>0</td>\n",
       "      <td>...</td>\n",
       "      <td>0</td>\n",
       "      <td>1</td>\n",
       "      <td>0</td>\n",
       "      <td>0</td>\n",
       "      <td>0</td>\n",
       "      <td>0</td>\n",
       "      <td>1</td>\n",
       "      <td>0</td>\n",
       "      <td>1</td>\n",
       "      <td>0</td>\n",
       "    </tr>\n",
       "    <tr>\n",
       "      <th>...</th>\n",
       "      <td>...</td>\n",
       "      <td>...</td>\n",
       "      <td>...</td>\n",
       "      <td>...</td>\n",
       "      <td>...</td>\n",
       "      <td>...</td>\n",
       "      <td>...</td>\n",
       "      <td>...</td>\n",
       "      <td>...</td>\n",
       "      <td>...</td>\n",
       "      <td>...</td>\n",
       "      <td>...</td>\n",
       "      <td>...</td>\n",
       "      <td>...</td>\n",
       "      <td>...</td>\n",
       "      <td>...</td>\n",
       "      <td>...</td>\n",
       "      <td>...</td>\n",
       "      <td>...</td>\n",
       "      <td>...</td>\n",
       "      <td>...</td>\n",
       "    </tr>\n",
       "    <tr>\n",
       "      <th>299</th>\n",
       "      <td>68</td>\n",
       "      <td>1</td>\n",
       "      <td>144.0</td>\n",
       "      <td>193.0</td>\n",
       "      <td>0</td>\n",
       "      <td>141.0</td>\n",
       "      <td>0</td>\n",
       "      <td>3.4</td>\n",
       "      <td>2.0</td>\n",
       "      <td>2</td>\n",
       "      <td>...</td>\n",
       "      <td>0</td>\n",
       "      <td>0</td>\n",
       "      <td>1</td>\n",
       "      <td>0</td>\n",
       "      <td>0</td>\n",
       "      <td>1</td>\n",
       "      <td>0</td>\n",
       "      <td>0</td>\n",
       "      <td>0</td>\n",
       "      <td>1</td>\n",
       "    </tr>\n",
       "    <tr>\n",
       "      <th>300</th>\n",
       "      <td>57</td>\n",
       "      <td>1</td>\n",
       "      <td>130.0</td>\n",
       "      <td>131.0</td>\n",
       "      <td>0</td>\n",
       "      <td>115.0</td>\n",
       "      <td>0</td>\n",
       "      <td>1.2</td>\n",
       "      <td>1.0</td>\n",
       "      <td>3</td>\n",
       "      <td>...</td>\n",
       "      <td>0</td>\n",
       "      <td>0</td>\n",
       "      <td>1</td>\n",
       "      <td>0</td>\n",
       "      <td>0</td>\n",
       "      <td>1</td>\n",
       "      <td>0</td>\n",
       "      <td>0</td>\n",
       "      <td>0</td>\n",
       "      <td>1</td>\n",
       "    </tr>\n",
       "    <tr>\n",
       "      <th>301</th>\n",
       "      <td>57</td>\n",
       "      <td>0</td>\n",
       "      <td>130.0</td>\n",
       "      <td>236.0</td>\n",
       "      <td>0</td>\n",
       "      <td>174.0</td>\n",
       "      <td>0</td>\n",
       "      <td>0.0</td>\n",
       "      <td>1.0</td>\n",
       "      <td>1</td>\n",
       "      <td>...</td>\n",
       "      <td>0</td>\n",
       "      <td>1</td>\n",
       "      <td>0</td>\n",
       "      <td>0</td>\n",
       "      <td>0</td>\n",
       "      <td>1</td>\n",
       "      <td>0</td>\n",
       "      <td>0</td>\n",
       "      <td>1</td>\n",
       "      <td>0</td>\n",
       "    </tr>\n",
       "    <tr>\n",
       "      <th>508</th>\n",
       "      <td>47</td>\n",
       "      <td>1</td>\n",
       "      <td>150.0</td>\n",
       "      <td>226.0</td>\n",
       "      <td>0</td>\n",
       "      <td>98.0</td>\n",
       "      <td>0</td>\n",
       "      <td>1.5</td>\n",
       "      <td>0.0</td>\n",
       "      <td>1</td>\n",
       "      <td>...</td>\n",
       "      <td>0</td>\n",
       "      <td>0</td>\n",
       "      <td>1</td>\n",
       "      <td>0</td>\n",
       "      <td>0</td>\n",
       "      <td>1</td>\n",
       "      <td>0</td>\n",
       "      <td>0</td>\n",
       "      <td>0</td>\n",
       "      <td>1</td>\n",
       "    </tr>\n",
       "    <tr>\n",
       "      <th>748</th>\n",
       "      <td>56</td>\n",
       "      <td>1</td>\n",
       "      <td>120.0</td>\n",
       "      <td>100.0</td>\n",
       "      <td>0</td>\n",
       "      <td>120.0</td>\n",
       "      <td>0</td>\n",
       "      <td>1.5</td>\n",
       "      <td>0.0</td>\n",
       "      <td>1</td>\n",
       "      <td>...</td>\n",
       "      <td>0</td>\n",
       "      <td>0</td>\n",
       "      <td>1</td>\n",
       "      <td>0</td>\n",
       "      <td>0</td>\n",
       "      <td>1</td>\n",
       "      <td>0</td>\n",
       "      <td>0</td>\n",
       "      <td>0</td>\n",
       "      <td>1</td>\n",
       "    </tr>\n",
       "  </tbody>\n",
       "</table>\n",
       "<p>299 rows × 23 columns</p>\n",
       "</div>"
      ],
      "text/plain": [
       "     age  sex  trestbps   chol  fbs  thalch  exang  oldpeak   ca  num  ...  \\\n",
       "0     63    1     145.0  233.0    0   150.0      0      2.3  0.0    0  ...   \n",
       "1     67    1     160.0  286.0    0   108.0      0      1.5  3.0    2  ...   \n",
       "2     67    1     120.0  229.0    0   129.0      0      2.6  2.0    1  ...   \n",
       "3     37    1     130.0  250.0    0   187.0      0      3.5  0.0    0  ...   \n",
       "4     41    0     130.0  204.0    0   172.0      0      1.4  0.0    0  ...   \n",
       "..   ...  ...       ...    ...  ...     ...    ...      ...  ...  ...  ...   \n",
       "299   68    1     144.0  193.0    0   141.0      0      3.4  2.0    2  ...   \n",
       "300   57    1     130.0  131.0    0   115.0      0      1.2  1.0    3  ...   \n",
       "301   57    0     130.0  236.0    0   174.0      0      0.0  1.0    1  ...   \n",
       "508   47    1     150.0  226.0    0    98.0      0      1.5  0.0    1  ...   \n",
       "748   56    1     120.0  100.0    0   120.0      0      1.5  0.0    1  ...   \n",
       "\n",
       "     cp_typical angina  restecg_lv hypertrophy  restecg_normal  \\\n",
       "0                    1                       1               0   \n",
       "1                    0                       1               0   \n",
       "2                    0                       1               0   \n",
       "3                    0                       0               1   \n",
       "4                    0                       1               0   \n",
       "..                 ...                     ...             ...   \n",
       "299                  0                       0               1   \n",
       "300                  0                       0               1   \n",
       "301                  0                       1               0   \n",
       "508                  0                       0               1   \n",
       "748                  0                       0               1   \n",
       "\n",
       "     restecg_st-t abnormality  slope_downsloping  slope_flat  slope_upsloping  \\\n",
       "0                           0                  1           0                0   \n",
       "1                           0                  0           1                0   \n",
       "2                           0                  0           1                0   \n",
       "3                           0                  1           0                0   \n",
       "4                           0                  0           0                1   \n",
       "..                        ...                ...         ...              ...   \n",
       "299                         0                  0           1                0   \n",
       "300                         0                  0           1                0   \n",
       "301                         0                  0           1                0   \n",
       "508                         0                  0           1                0   \n",
       "748                         0                  0           1                0   \n",
       "\n",
       "     thal_fixed defect  thal_normal  thal_reversable defect  \n",
       "0                    1            0                       0  \n",
       "1                    0            1                       0  \n",
       "2                    0            0                       1  \n",
       "3                    0            1                       0  \n",
       "4                    0            1                       0  \n",
       "..                 ...          ...                     ...  \n",
       "299                  0            0                       1  \n",
       "300                  0            0                       1  \n",
       "301                  0            1                       0  \n",
       "508                  0            0                       1  \n",
       "748                  0            0                       1  \n",
       "\n",
       "[299 rows x 23 columns]"
      ]
     },
     "execution_count": 57,
     "metadata": {},
     "output_type": "execute_result"
    }
   ],
   "source": [
    "data"
   ]
  },
  {
   "cell_type": "markdown",
   "metadata": {},
   "source": [
    "Будем рассматривать задачу \"предсказание возникновения сердечно-сосудистых заболеваний\" как задачу бинарной классификации, т.е. 1 - у пациента полезнь сердца, 0 - нет сердечных заболеваний."
   ]
  },
  {
   "cell_type": "code",
   "execution_count": 58,
   "metadata": {},
   "outputs": [
    {
     "data": {
      "text/plain": [
       "array([0, 2, 1, 3, 4], dtype=int64)"
      ]
     },
     "execution_count": 58,
     "metadata": {},
     "output_type": "execute_result"
    }
   ],
   "source": [
    "# Уникальные значения для num\n",
    "data['num'].unique()"
   ]
  },
  {
   "cell_type": "code",
   "execution_count": 59,
   "metadata": {},
   "outputs": [
    {
     "name": "stdout",
     "output_type": "stream",
     "text": [
      "<class 'pandas.core.frame.DataFrame'>\n",
      "Int64Index: 299 entries, 0 to 748\n",
      "Data columns (total 23 columns):\n",
      " #   Column                    Non-Null Count  Dtype  \n",
      "---  ------                    --------------  -----  \n",
      " 0   age                       299 non-null    int64  \n",
      " 1   sex                       299 non-null    int32  \n",
      " 2   trestbps                  299 non-null    float64\n",
      " 3   chol                      299 non-null    float64\n",
      " 4   fbs                       299 non-null    int32  \n",
      " 5   thalch                    299 non-null    float64\n",
      " 6   exang                     299 non-null    int32  \n",
      " 7   oldpeak                   299 non-null    float64\n",
      " 8   ca                        299 non-null    float64\n",
      " 9   num                       299 non-null    int64  \n",
      " 10  cp_asymptomatic           299 non-null    uint8  \n",
      " 11  cp_atypical angina        299 non-null    uint8  \n",
      " 12  cp_non-anginal            299 non-null    uint8  \n",
      " 13  cp_typical angina         299 non-null    uint8  \n",
      " 14  restecg_lv hypertrophy    299 non-null    uint8  \n",
      " 15  restecg_normal            299 non-null    uint8  \n",
      " 16  restecg_st-t abnormality  299 non-null    uint8  \n",
      " 17  slope_downsloping         299 non-null    uint8  \n",
      " 18  slope_flat                299 non-null    uint8  \n",
      " 19  slope_upsloping           299 non-null    uint8  \n",
      " 20  thal_fixed defect         299 non-null    uint8  \n",
      " 21  thal_normal               299 non-null    uint8  \n",
      " 22  thal_reversable defect    299 non-null    uint8  \n",
      "dtypes: float64(5), int32(3), int64(2), uint8(13)\n",
      "memory usage: 26.0 KB\n"
     ]
    }
   ],
   "source": [
    "data['num'].replace({2: 1, 3: 1, 4: 1}, inplace =True)\n",
    "\n",
    "data.info()"
   ]
  },
  {
   "cell_type": "markdown",
   "metadata": {},
   "source": [
    "### Подготовка данных для обучения моделей"
   ]
  },
  {
   "cell_type": "code",
   "execution_count": 61,
   "metadata": {
    "execution": {
     "iopub.execute_input": "2020-09-25T13:48:50.038130Z",
     "iopub.status.busy": "2020-09-25T13:48:50.030477Z",
     "iopub.status.idle": "2020-09-25T13:48:50.044296Z",
     "shell.execute_reply": "2020-09-25T13:48:50.043533Z"
    },
    "papermill": {
     "duration": 0.097599,
     "end_time": "2020-09-25T13:48:50.044428",
     "exception": false,
     "start_time": "2020-09-25T13:48:49.946829",
     "status": "completed"
    },
    "tags": []
   },
   "outputs": [],
   "source": [
    "# Признаки\n",
    "X = data.drop([\"num\"], axis=1)\n",
    "# Ответы\n",
    "y = data[\"num\"]"
   ]
  }
 ],
 "metadata": {
  "kernelspec": {
   "display_name": "Python 3",
   "language": "python",
   "name": "python3"
  },
  "language_info": {
   "codemirror_mode": {
    "name": "ipython",
    "version": 3
   },
   "file_extension": ".py",
   "mimetype": "text/x-python",
   "name": "python",
   "nbconvert_exporter": "python",
   "pygments_lexer": "ipython3",
   "version": "3.8.8"
  },
  "papermill": {
   "duration": 15.650971,
   "end_time": "2020-09-25T13:48:54.882881",
   "environment_variables": {},
   "exception": null,
   "input_path": "__notebook__.ipynb",
   "output_path": "__notebook__.ipynb",
   "parameters": {},
   "start_time": "2020-09-25T13:48:39.231910",
   "version": "2.1.0"
  },
  "vscode": {
   "interpreter": {
    "hash": "d5c9dfa53a803a152464de0b9f1fef7ef6a38b16cd5003fff1f88e93fbf9c044"
   }
  }
 },
 "nbformat": 4,
 "nbformat_minor": 4
}
