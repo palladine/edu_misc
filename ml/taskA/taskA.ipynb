{
 "cells": [
  {
   "cell_type": "code",
   "execution_count": 1224,
   "metadata": {},
   "outputs": [],
   "source": [
    "import pandas as pd\n",
    "from sklearn.model_selection import train_test_split\n",
    "from sklearn.neighbors import KNeighborsClassifier\n",
    "from sklearn.tree import DecisionTreeClassifier\n",
    "from sklearn.svm import SVC\n",
    "from sklearn.ensemble import RandomForestClassifier, ExtraTreesClassifier\n",
    "from sklearn.preprocessing import StandardScaler\n",
    "from sklearn.model_selection import GridSearchCV\n",
    "from sklearn.metrics import classification_report\n",
    "from sklearn.metrics import accuracy_score"
   ]
  },
  {
   "cell_type": "code",
   "execution_count": 1225,
   "metadata": {},
   "outputs": [
    {
     "data": {
      "text/html": [
       "<div>\n",
       "<style scoped>\n",
       "    .dataframe tbody tr th:only-of-type {\n",
       "        vertical-align: middle;\n",
       "    }\n",
       "\n",
       "    .dataframe tbody tr th {\n",
       "        vertical-align: top;\n",
       "    }\n",
       "\n",
       "    .dataframe thead th {\n",
       "        text-align: right;\n",
       "    }\n",
       "</style>\n",
       "<table border=\"1\" class=\"dataframe\">\n",
       "  <thead>\n",
       "    <tr style=\"text-align: right;\">\n",
       "      <th></th>\n",
       "      <th>Tectonic regime</th>\n",
       "      <th>Onshore/Offshore</th>\n",
       "      <th>Hydrocarbon type</th>\n",
       "      <th>Reservoir status</th>\n",
       "      <th>Structural setting</th>\n",
       "      <th>Depth</th>\n",
       "      <th>Period</th>\n",
       "      <th>Lithology</th>\n",
       "      <th>Gross</th>\n",
       "      <th>Netpay</th>\n",
       "      <th>Porosity</th>\n",
       "      <th>Permeability</th>\n",
       "    </tr>\n",
       "  </thead>\n",
       "  <tbody>\n",
       "    <tr>\n",
       "      <th>0</th>\n",
       "      <td>STRIKE-SLIP/TRANSPRESSION/BASEMENT-I</td>\n",
       "      <td>OFFSHORE</td>\n",
       "      <td>OIL</td>\n",
       "      <td>DEVELOPING</td>\n",
       "      <td>INVERSION/WRENCH</td>\n",
       "      <td>3520</td>\n",
       "      <td>NEOGENE</td>\n",
       "      <td>SANDSTONE</td>\n",
       "      <td>2460.0</td>\n",
       "      <td>220.0</td>\n",
       "      <td>20.0</td>\n",
       "      <td>45.0</td>\n",
       "    </tr>\n",
       "    <tr>\n",
       "      <th>1</th>\n",
       "      <td>GRAVITY/EXTENSION/EVAPORITE</td>\n",
       "      <td>OFFSHORE</td>\n",
       "      <td>OIL</td>\n",
       "      <td>MATURE PRODUCTION</td>\n",
       "      <td>SALT/PASSIVE MARGIN</td>\n",
       "      <td>9967</td>\n",
       "      <td>CRETACEOUS</td>\n",
       "      <td>LIMESTONE</td>\n",
       "      <td>427.0</td>\n",
       "      <td>160.0</td>\n",
       "      <td>19.0</td>\n",
       "      <td>175.0</td>\n",
       "    </tr>\n",
       "    <tr>\n",
       "      <th>2</th>\n",
       "      <td>GRAVITY/EXTENSION/EVAPORITE</td>\n",
       "      <td>ONSHORE</td>\n",
       "      <td>OIL</td>\n",
       "      <td>MATURE PRODUCTION</td>\n",
       "      <td>PASSIVE MARGIN</td>\n",
       "      <td>8700</td>\n",
       "      <td>CRETACEOUS</td>\n",
       "      <td>LIMESTONE</td>\n",
       "      <td>95.0</td>\n",
       "      <td>15.0</td>\n",
       "      <td>12.0</td>\n",
       "      <td>20.0</td>\n",
       "    </tr>\n",
       "    <tr>\n",
       "      <th>3</th>\n",
       "      <td>COMPRESSION</td>\n",
       "      <td>ONSHORE</td>\n",
       "      <td>OIL</td>\n",
       "      <td>DECLINING PRODUCTION</td>\n",
       "      <td>THRUST</td>\n",
       "      <td>5084</td>\n",
       "      <td>CRETACEOUS</td>\n",
       "      <td>SANDSTONE</td>\n",
       "      <td>328.0</td>\n",
       "      <td>300.0</td>\n",
       "      <td>13.0</td>\n",
       "      <td>600.0</td>\n",
       "    </tr>\n",
       "    <tr>\n",
       "      <th>4</th>\n",
       "      <td>INVERSION/COMPRESSION/EXTENSION</td>\n",
       "      <td>ONSHORE</td>\n",
       "      <td>OIL</td>\n",
       "      <td>DECLINING PRODUCTION</td>\n",
       "      <td>INVERSION/RIFT</td>\n",
       "      <td>1030</td>\n",
       "      <td>CRETACEOUS</td>\n",
       "      <td>SANDSTONE</td>\n",
       "      <td>260.0</td>\n",
       "      <td>33.0</td>\n",
       "      <td>24.0</td>\n",
       "      <td>182.0</td>\n",
       "    </tr>\n",
       "    <tr>\n",
       "      <th>...</th>\n",
       "      <td>...</td>\n",
       "      <td>...</td>\n",
       "      <td>...</td>\n",
       "      <td>...</td>\n",
       "      <td>...</td>\n",
       "      <td>...</td>\n",
       "      <td>...</td>\n",
       "      <td>...</td>\n",
       "      <td>...</td>\n",
       "      <td>...</td>\n",
       "      <td>...</td>\n",
       "      <td>...</td>\n",
       "    </tr>\n",
       "    <tr>\n",
       "      <th>128</th>\n",
       "      <td>EXTENSION/EROSION</td>\n",
       "      <td>NaN</td>\n",
       "      <td>OIL</td>\n",
       "      <td>DECLINING PRODUCTION</td>\n",
       "      <td>RIFT</td>\n",
       "      <td>5520</td>\n",
       "      <td>TRIASSIC-JURASSIC</td>\n",
       "      <td>SANDSTONE</td>\n",
       "      <td>630.0</td>\n",
       "      <td>394.0</td>\n",
       "      <td>26.0</td>\n",
       "      <td>1000.0</td>\n",
       "    </tr>\n",
       "    <tr>\n",
       "      <th>129</th>\n",
       "      <td>COMPRESSION/EROSION</td>\n",
       "      <td>NaN</td>\n",
       "      <td>BITUMEN</td>\n",
       "      <td>CONTINUING DEVELOPMENT</td>\n",
       "      <td>FORELAND</td>\n",
       "      <td>1500</td>\n",
       "      <td>CRETACEOUS</td>\n",
       "      <td>SANDSTONE</td>\n",
       "      <td>100.0</td>\n",
       "      <td>82.0</td>\n",
       "      <td>28.0</td>\n",
       "      <td>440.0</td>\n",
       "    </tr>\n",
       "    <tr>\n",
       "      <th>130</th>\n",
       "      <td>COMPRESSION/STRIKE-SLIP/TRANSPRESSION/BASEMENT-I</td>\n",
       "      <td>NaN</td>\n",
       "      <td>OIL</td>\n",
       "      <td>NEARLY DEPLETED</td>\n",
       "      <td>WRENCH/FOREARC</td>\n",
       "      <td>11100</td>\n",
       "      <td>NEOGENE</td>\n",
       "      <td>THINLY-BEDDED SANDSTONE</td>\n",
       "      <td>200.0</td>\n",
       "      <td>150.0</td>\n",
       "      <td>20.0</td>\n",
       "      <td>75.0</td>\n",
       "    </tr>\n",
       "    <tr>\n",
       "      <th>131</th>\n",
       "      <td>INVERSION/COMPRESSION/EXTENSION</td>\n",
       "      <td>NaN</td>\n",
       "      <td>OIL</td>\n",
       "      <td>SECOND PLATEAU PRODUTION</td>\n",
       "      <td>RIFT/INVERSION</td>\n",
       "      <td>3939</td>\n",
       "      <td>PALEOGENE</td>\n",
       "      <td>SANDSTONE</td>\n",
       "      <td>410.0</td>\n",
       "      <td>20.0</td>\n",
       "      <td>28.0</td>\n",
       "      <td>1000.0</td>\n",
       "    </tr>\n",
       "    <tr>\n",
       "      <th>132</th>\n",
       "      <td>COMPRESSION/EVAPORITE</td>\n",
       "      <td>NaN</td>\n",
       "      <td>OIL</td>\n",
       "      <td>NEARLY DEPLETED</td>\n",
       "      <td>FORELAND</td>\n",
       "      <td>5381</td>\n",
       "      <td>CARBONIFEROUS</td>\n",
       "      <td>LIMESTONE</td>\n",
       "      <td>330.0</td>\n",
       "      <td>75.0</td>\n",
       "      <td>18.0</td>\n",
       "      <td>195.0</td>\n",
       "    </tr>\n",
       "  </tbody>\n",
       "</table>\n",
       "<p>442 rows × 12 columns</p>\n",
       "</div>"
      ],
      "text/plain": [
       "                                      Tectonic regime Onshore/Offshore  \\\n",
       "0                STRIKE-SLIP/TRANSPRESSION/BASEMENT-I         OFFSHORE   \n",
       "1                         GRAVITY/EXTENSION/EVAPORITE         OFFSHORE   \n",
       "2                         GRAVITY/EXTENSION/EVAPORITE          ONSHORE   \n",
       "3                                         COMPRESSION          ONSHORE   \n",
       "4                     INVERSION/COMPRESSION/EXTENSION          ONSHORE   \n",
       "..                                                ...              ...   \n",
       "128                                 EXTENSION/EROSION              NaN   \n",
       "129                               COMPRESSION/EROSION              NaN   \n",
       "130  COMPRESSION/STRIKE-SLIP/TRANSPRESSION/BASEMENT-I              NaN   \n",
       "131                   INVERSION/COMPRESSION/EXTENSION              NaN   \n",
       "132                             COMPRESSION/EVAPORITE              NaN   \n",
       "\n",
       "    Hydrocarbon type          Reservoir status   Structural setting  Depth  \\\n",
       "0                OIL                DEVELOPING     INVERSION/WRENCH   3520   \n",
       "1                OIL         MATURE PRODUCTION  SALT/PASSIVE MARGIN   9967   \n",
       "2                OIL         MATURE PRODUCTION       PASSIVE MARGIN   8700   \n",
       "3                OIL      DECLINING PRODUCTION               THRUST   5084   \n",
       "4                OIL      DECLINING PRODUCTION       INVERSION/RIFT   1030   \n",
       "..               ...                       ...                  ...    ...   \n",
       "128              OIL      DECLINING PRODUCTION                 RIFT   5520   \n",
       "129          BITUMEN    CONTINUING DEVELOPMENT             FORELAND   1500   \n",
       "130              OIL           NEARLY DEPLETED       WRENCH/FOREARC  11100   \n",
       "131              OIL  SECOND PLATEAU PRODUTION       RIFT/INVERSION   3939   \n",
       "132              OIL           NEARLY DEPLETED             FORELAND   5381   \n",
       "\n",
       "                Period                Lithology   Gross  Netpay  Porosity  \\\n",
       "0              NEOGENE                SANDSTONE  2460.0   220.0      20.0   \n",
       "1           CRETACEOUS                LIMESTONE   427.0   160.0      19.0   \n",
       "2           CRETACEOUS                LIMESTONE    95.0    15.0      12.0   \n",
       "3           CRETACEOUS                SANDSTONE   328.0   300.0      13.0   \n",
       "4           CRETACEOUS                SANDSTONE   260.0    33.0      24.0   \n",
       "..                 ...                      ...     ...     ...       ...   \n",
       "128  TRIASSIC-JURASSIC                SANDSTONE   630.0   394.0      26.0   \n",
       "129         CRETACEOUS                SANDSTONE   100.0    82.0      28.0   \n",
       "130            NEOGENE  THINLY-BEDDED SANDSTONE   200.0   150.0      20.0   \n",
       "131          PALEOGENE                SANDSTONE   410.0    20.0      28.0   \n",
       "132      CARBONIFEROUS                LIMESTONE   330.0    75.0      18.0   \n",
       "\n",
       "     Permeability  \n",
       "0            45.0  \n",
       "1           175.0  \n",
       "2            20.0  \n",
       "3           600.0  \n",
       "4           182.0  \n",
       "..            ...  \n",
       "128        1000.0  \n",
       "129         440.0  \n",
       "130          75.0  \n",
       "131        1000.0  \n",
       "132         195.0  \n",
       "\n",
       "[442 rows x 12 columns]"
      ]
     },
     "execution_count": 1225,
     "metadata": {},
     "output_type": "execute_result"
    }
   ],
   "source": [
    "df_tr = pd.read_csv('train.csv')\n",
    "df_ts = pd.read_csv('test.csv')\n",
    "df = pd.concat([df_tr, df_ts])\n",
    "df"
   ]
  },
  {
   "cell_type": "code",
   "execution_count": 1226,
   "metadata": {},
   "outputs": [],
   "source": [
    "# подготовка данных\n",
    "aX = df.drop('Onshore/Offshore', axis=1)\n",
    "ay = df['Onshore/Offshore']\n",
    "X_transform = pd.get_dummies(aX, drop_first=True)\n",
    "X_transform\n",
    "df = pd.concat([X_transform, ay], axis=1)\n",
    "df_mod_tr = df.dropna()\n",
    "df_mod_ts = df[df['Onshore/Offshore'].isnull()]\n",
    "df_mod_ts = df_mod_ts.drop('Onshore/Offshore', axis=1)"
   ]
  },
  {
   "cell_type": "code",
   "execution_count": 1227,
   "metadata": {},
   "outputs": [
    {
     "data": {
      "text/plain": [
       "ONSHORE             211\n",
       "OFFSHORE             93\n",
       "ONSHORE-OFFSHORE      5\n",
       "Name: Onshore/Offshore, dtype: int64"
      ]
     },
     "execution_count": 1227,
     "metadata": {},
     "output_type": "execute_result"
    }
   ],
   "source": [
    "df_mod_tr['Onshore/Offshore'].value_counts()"
   ]
  },
  {
   "cell_type": "markdown",
   "metadata": {},
   "source": [
    "Данные плохо сбалансированны, accuracy не точна."
   ]
  },
  {
   "cell_type": "code",
   "execution_count": 1228,
   "metadata": {},
   "outputs": [],
   "source": [
    "X = df_mod_tr.drop('Onshore/Offshore', axis=1)\n",
    "y = df_mod_tr['Onshore/Offshore']"
   ]
  },
  {
   "cell_type": "code",
   "execution_count": 1229,
   "metadata": {},
   "outputs": [],
   "source": [
    "X_train, X_test, y_train, y_test = train_test_split(X, y, test_size=0.1, random_state = 61)"
   ]
  },
  {
   "cell_type": "code",
   "execution_count": 1230,
   "metadata": {},
   "outputs": [
    {
     "name": "stdout",
     "output_type": "stream",
     "text": [
      "              precision    recall  f1-score   support\n",
      "\n",
      "    OFFSHORE       0.83      0.50      0.62        10\n",
      "     ONSHORE       0.80      0.95      0.87        21\n",
      "\n",
      "    accuracy                           0.81        31\n",
      "   macro avg       0.82      0.73      0.75        31\n",
      "weighted avg       0.81      0.81      0.79        31\n",
      "\n"
     ]
    },
    {
     "name": "stderr",
     "output_type": "stream",
     "text": [
      "c:\\Users\\dms\\Anaconda3\\lib\\site-packages\\sklearn\\neighbors\\_classification.py:228: FutureWarning: Unlike other reduction functions (e.g. `skew`, `kurtosis`), the default behavior of `mode` typically preserves the axis it acts along. In SciPy 1.11.0, this behavior will change: the default value of `keepdims` will become False, the `axis` over which the statistic is taken will be eliminated, and the value None will no longer be accepted. Set `keepdims` to True or False to avoid this warning.\n",
      "  mode, _ = stats.mode(_y[neigh_ind, k], axis=1)\n"
     ]
    }
   ],
   "source": [
    "# KNN модель\n",
    "knc = KNeighborsClassifier(n_neighbors=7)\n",
    "knc.fit(X_train, y_train)\n",
    "y_pred = knc.predict(X_test)\n",
    "print(classification_report(y_test, y_pred))"
   ]
  },
  {
   "cell_type": "code",
   "execution_count": 1231,
   "metadata": {},
   "outputs": [
    {
     "name": "stdout",
     "output_type": "stream",
     "text": [
      "              precision    recall  f1-score   support\n",
      "\n",
      "    OFFSHORE       0.75      0.30      0.43        10\n",
      "     ONSHORE       0.74      0.95      0.83        21\n",
      "\n",
      "    accuracy                           0.74        31\n",
      "   macro avg       0.75      0.63      0.63        31\n",
      "weighted avg       0.74      0.74      0.70        31\n",
      "\n"
     ]
    }
   ],
   "source": [
    "# SVC модель + стандартизация данных \n",
    "scaler = StandardScaler()\n",
    "X_scale = scaler.fit_transform(X)\n",
    "X_train_s, X_test_s, y_train_s, y_test_s = train_test_split(X_scale, y, test_size=0.1, random_state=61)\n",
    "\n",
    "svc_model = SVC(kernel='rbf', degree=5)\n",
    "svc_model.fit(X_train_s, y_train_s)\n",
    "y_pred = svc_model.predict(X_test_s)\n",
    "print(classification_report(y_test_s, y_pred))"
   ]
  },
  {
   "cell_type": "code",
   "execution_count": 1232,
   "metadata": {},
   "outputs": [
    {
     "name": "stdout",
     "output_type": "stream",
     "text": [
      "              precision    recall  f1-score   support\n",
      "\n",
      "    OFFSHORE       0.75      0.60      0.67        10\n",
      "     ONSHORE       0.83      0.90      0.86        21\n",
      "\n",
      "    accuracy                           0.81        31\n",
      "   macro avg       0.79      0.75      0.77        31\n",
      "weighted avg       0.80      0.81      0.80        31\n",
      "\n"
     ]
    }
   ],
   "source": [
    "# модель дерева решений\n",
    "#parameters = {'max_depth': range(1, 100, 1)}\n",
    "#dtcp = DecisionTreeClassifier()\n",
    "#grid = GridSearchCV(dtcp, parameters)\n",
    "#grid.fit(X_train, y_train)\n",
    "#print(grid.best_estimator_ ) # --> 14+\n",
    "dtc = DecisionTreeClassifier(max_depth=15)\n",
    "dtc.fit(X_train, y_train)\n",
    "y_pred = dtc.predict(X_test)\n",
    "print(classification_report(y_test, y_pred))"
   ]
  },
  {
   "cell_type": "code",
   "execution_count": 1233,
   "metadata": {},
   "outputs": [
    {
     "name": "stdout",
     "output_type": "stream",
     "text": [
      "Mean: 0.8565  Median: 1.0  Mode: 0    1.0\n",
      "dtype: float64\n"
     ]
    }
   ],
   "source": [
    "# ансамблевый метод ExtraTrees\n",
    "#parameters = {'n_estimators': range(1, 200, 10)}\n",
    "#rfcp = RandomForestClassifier()\n",
    "#grid = GridSearchCV(rfcp, parameters)\n",
    "#grid.fit(X_train, y_train)\n",
    "#print(grid.best_estimator_ )\n",
    "accs = []\n",
    "# среднее и мода по показателям accuracy\n",
    "for _ in range(1000):\n",
    "    X_train_r, X_test_r, y_train_r, y_test_r = train_test_split(X, y, test_size=0.01, random_state = None)\n",
    "    rfc = ExtraTreesClassifier(n_estimators=20, max_depth=None)\n",
    "    rfc.fit(X_train_r, y_train_r)\n",
    "    y_pred_r = rfc.predict(X_test_r)\n",
    "    accs.append(accuracy_score(y_test_r, y_pred_r))\n",
    "ser = pd.Series(accs)\n",
    "print(f'Mean: {ser.mean()}  Median: {ser.median()}  Mode: {ser.mode()}')"
   ]
  },
  {
   "cell_type": "code",
   "execution_count": 1234,
   "metadata": {},
   "outputs": [],
   "source": [
    "# предикт на основных тестовых данных\n",
    "y_pred_ans = rfc.predict(df_mod_ts)"
   ]
  },
  {
   "cell_type": "code",
   "execution_count": 1235,
   "metadata": {},
   "outputs": [],
   "source": [
    "# результат в файл\n",
    "with open('answer.txt', 'w') as f:\n",
    "  for res in list(y_pred_ans):\n",
    "    f.write(res + '\\n')"
   ]
  }
 ],
 "metadata": {
  "kernelspec": {
   "display_name": "base",
   "language": "python",
   "name": "python3"
  },
  "language_info": {
   "codemirror_mode": {
    "name": "ipython",
    "version": 3
   },
   "file_extension": ".py",
   "mimetype": "text/x-python",
   "name": "python",
   "nbconvert_exporter": "python",
   "pygments_lexer": "ipython3",
   "version": "3.9.13"
  }
 },
 "nbformat": 4,
 "nbformat_minor": 2
}
